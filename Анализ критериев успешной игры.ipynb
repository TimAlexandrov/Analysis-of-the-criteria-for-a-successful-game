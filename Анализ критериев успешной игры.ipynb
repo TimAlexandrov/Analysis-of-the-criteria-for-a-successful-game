{
 "cells": [
  {
   "cell_type": "markdown",
   "metadata": {},
   "source": [
    "# Анализ критериев  успешной игры"
   ]
  },
  {
   "cell_type": "markdown",
   "metadata": {},
   "source": [
    "***Описание проекта:*** \n",
    "Мы являемся аналитиками в интернет-магазине \"Стримчик\" (продажа игр по всему миру). У нас есть данные такие как: суммарная прибыль от подаж по играм в регионах, оценки пользователей и экспертов, жанры и платформы,  из открытых источников за предыдущий период (... - 2016 год). Наша задача понять и определить какие закономерности и зависимости могут привести к успеху игры. Для чего? Чтбы понять какой их наших продкутов будет более популярным в будующем и спланировать рекламные кампании по нему.\n",
    "\n",
    "***Цель:*** \n",
    "Главной задачей данной работы является поиск и описание закономерностей или же \"формулы\" успешной игры на основе некоторых параметров игр, которые выпускались в 2016 году.\n",
    "\n",
    "\n",
    "***План работы:***\n",
    "1) В нашем распоряжении есть датасет с играми за 2016 год и раньше. Для начала откроем его и просмотрим общую инофрмацию по нему.\n",
    "\n",
    "2) Далее скорректируем наши данные там, где это необходимо и подготовим их для дальнейшего анализа. Взглянем на пропуски, поищем дубликаты, преобразуем типы данных к необходимым у столбцов, где это нужно, а также скорректируем названия столбцов. Возможно, нам потребуется добавить несколько столбцов для дальнейших задач.\n",
    "\n",
    "3) На этом шаге просмотрим определенные характеристики и построим по ним графики, а также опишем их. Взглянем на графики распределения, ну и возможно на этом шаге уже будут видны некоторые закономерности.\n",
    "\n",
    "4) Просмотрим параметры по регионам, опишем и сделаем портрет пользователя по топовым параметрам у разных характеристик.\n",
    "\n",
    "5) Кульминацией нашего проекта будет статистический анализ. Сформулируем гипотезы и проведем по ним тестирование.\n",
    "\n",
    "Уверен, будет интересно и позновательно, так что начнем! 🚀"
   ]
  },
  {
   "cell_type": "markdown",
   "metadata": {},
   "source": [
    "Но для начала, конечно же импортируем необходимые нам библиотеки!"
   ]
  },
  {
   "cell_type": "code",
   "execution_count": 1,
   "metadata": {},
   "outputs": [],
   "source": [
    "import pandas as pd \n",
    "import numpy as np\n",
    "import matplotlib.pyplot as plt\n",
    "from scipy import stats as st"
   ]
  },
  {
   "cell_type": "markdown",
   "metadata": {},
   "source": [
    "## Загрузка данных"
   ]
  },
  {
   "cell_type": "markdown",
   "metadata": {},
   "source": [
    "### Считываем CSV-файл с данными и сохраняем датафрейм"
   ]
  },
  {
   "cell_type": "code",
   "execution_count": 2,
   "metadata": {},
   "outputs": [],
   "source": [
    "df = pd.read_csv('/datasets/games.csv')"
   ]
  },
  {
   "cell_type": "code",
   "execution_count": 3,
   "metadata": {
    "scrolled": true
   },
   "outputs": [
    {
     "data": {
      "text/html": [
       "<div>\n",
       "<style scoped>\n",
       "    .dataframe tbody tr th:only-of-type {\n",
       "        vertical-align: middle;\n",
       "    }\n",
       "\n",
       "    .dataframe tbody tr th {\n",
       "        vertical-align: top;\n",
       "    }\n",
       "\n",
       "    .dataframe thead th {\n",
       "        text-align: right;\n",
       "    }\n",
       "</style>\n",
       "<table border=\"1\" class=\"dataframe\">\n",
       "  <thead>\n",
       "    <tr style=\"text-align: right;\">\n",
       "      <th></th>\n",
       "      <th>Name</th>\n",
       "      <th>Platform</th>\n",
       "      <th>Year_of_Release</th>\n",
       "      <th>Genre</th>\n",
       "      <th>NA_sales</th>\n",
       "      <th>EU_sales</th>\n",
       "      <th>JP_sales</th>\n",
       "      <th>Other_sales</th>\n",
       "      <th>Critic_Score</th>\n",
       "      <th>User_Score</th>\n",
       "      <th>Rating</th>\n",
       "    </tr>\n",
       "  </thead>\n",
       "  <tbody>\n",
       "    <tr>\n",
       "      <th>0</th>\n",
       "      <td>Wii Sports</td>\n",
       "      <td>Wii</td>\n",
       "      <td>2006.0</td>\n",
       "      <td>Sports</td>\n",
       "      <td>41.36</td>\n",
       "      <td>28.96</td>\n",
       "      <td>3.77</td>\n",
       "      <td>8.45</td>\n",
       "      <td>76.0</td>\n",
       "      <td>8</td>\n",
       "      <td>E</td>\n",
       "    </tr>\n",
       "    <tr>\n",
       "      <th>1</th>\n",
       "      <td>Super Mario Bros.</td>\n",
       "      <td>NES</td>\n",
       "      <td>1985.0</td>\n",
       "      <td>Platform</td>\n",
       "      <td>29.08</td>\n",
       "      <td>3.58</td>\n",
       "      <td>6.81</td>\n",
       "      <td>0.77</td>\n",
       "      <td>NaN</td>\n",
       "      <td>NaN</td>\n",
       "      <td>NaN</td>\n",
       "    </tr>\n",
       "    <tr>\n",
       "      <th>2</th>\n",
       "      <td>Mario Kart Wii</td>\n",
       "      <td>Wii</td>\n",
       "      <td>2008.0</td>\n",
       "      <td>Racing</td>\n",
       "      <td>15.68</td>\n",
       "      <td>12.76</td>\n",
       "      <td>3.79</td>\n",
       "      <td>3.29</td>\n",
       "      <td>82.0</td>\n",
       "      <td>8.3</td>\n",
       "      <td>E</td>\n",
       "    </tr>\n",
       "    <tr>\n",
       "      <th>3</th>\n",
       "      <td>Wii Sports Resort</td>\n",
       "      <td>Wii</td>\n",
       "      <td>2009.0</td>\n",
       "      <td>Sports</td>\n",
       "      <td>15.61</td>\n",
       "      <td>10.93</td>\n",
       "      <td>3.28</td>\n",
       "      <td>2.95</td>\n",
       "      <td>80.0</td>\n",
       "      <td>8</td>\n",
       "      <td>E</td>\n",
       "    </tr>\n",
       "    <tr>\n",
       "      <th>4</th>\n",
       "      <td>Pokemon Red/Pokemon Blue</td>\n",
       "      <td>GB</td>\n",
       "      <td>1996.0</td>\n",
       "      <td>Role-Playing</td>\n",
       "      <td>11.27</td>\n",
       "      <td>8.89</td>\n",
       "      <td>10.22</td>\n",
       "      <td>1.00</td>\n",
       "      <td>NaN</td>\n",
       "      <td>NaN</td>\n",
       "      <td>NaN</td>\n",
       "    </tr>\n",
       "  </tbody>\n",
       "</table>\n",
       "</div>"
      ],
      "text/plain": [
       "                       Name Platform  Year_of_Release         Genre  NA_sales  \\\n",
       "0                Wii Sports      Wii           2006.0        Sports     41.36   \n",
       "1         Super Mario Bros.      NES           1985.0      Platform     29.08   \n",
       "2            Mario Kart Wii      Wii           2008.0        Racing     15.68   \n",
       "3         Wii Sports Resort      Wii           2009.0        Sports     15.61   \n",
       "4  Pokemon Red/Pokemon Blue       GB           1996.0  Role-Playing     11.27   \n",
       "\n",
       "   EU_sales  JP_sales  Other_sales  Critic_Score User_Score Rating  \n",
       "0     28.96      3.77         8.45          76.0          8      E  \n",
       "1      3.58      6.81         0.77           NaN        NaN    NaN  \n",
       "2     12.76      3.79         3.29          82.0        8.3      E  \n",
       "3     10.93      3.28         2.95          80.0          8      E  \n",
       "4      8.89     10.22         1.00           NaN        NaN    NaN  "
      ]
     },
     "execution_count": 3,
     "metadata": {},
     "output_type": "execute_result"
    }
   ],
   "source": [
    "df.head()"
   ]
  },
  {
   "cell_type": "markdown",
   "metadata": {},
   "source": [
    "Сразу бросаются в глаза пропуски как по количественным переменным, так и по категориальным переменным, но зато повезло с сепаратором."
   ]
  },
  {
   "cell_type": "markdown",
   "metadata": {},
   "source": [
    "### Просматриваем инфо о таблице"
   ]
  },
  {
   "cell_type": "code",
   "execution_count": 4,
   "metadata": {},
   "outputs": [
    {
     "name": "stdout",
     "output_type": "stream",
     "text": [
      "<class 'pandas.core.frame.DataFrame'>\n",
      "RangeIndex: 16715 entries, 0 to 16714\n",
      "Data columns (total 11 columns):\n",
      " #   Column           Non-Null Count  Dtype  \n",
      "---  ------           --------------  -----  \n",
      " 0   Name             16713 non-null  object \n",
      " 1   Platform         16715 non-null  object \n",
      " 2   Year_of_Release  16446 non-null  float64\n",
      " 3   Genre            16713 non-null  object \n",
      " 4   NA_sales         16715 non-null  float64\n",
      " 5   EU_sales         16715 non-null  float64\n",
      " 6   JP_sales         16715 non-null  float64\n",
      " 7   Other_sales      16715 non-null  float64\n",
      " 8   Critic_Score     8137 non-null   float64\n",
      " 9   User_Score       10014 non-null  object \n",
      " 10  Rating           9949 non-null   object \n",
      "dtypes: float64(6), object(5)\n",
      "memory usage: 1.4+ MB\n"
     ]
    }
   ],
   "source": [
    "df.info()"
   ]
  },
  {
   "cell_type": "markdown",
   "metadata": {},
   "source": [
    "Здесь можно сразу заметить, что в некоторых столбцах есть пропуски (genre, Critic_Score и др.), также некорректные типы данных у некоторых столбцов(Year_of_Release, User_Score)"
   ]
  },
  {
   "cell_type": "markdown",
   "metadata": {},
   "source": [
    "### Итоги\n",
    "В ходе первого шага: \n",
    "\n",
    "    1) Считали исходные данные с csv-файла и сохранили в датафрейм;\n",
    "    2) Ознакомились с общей информацией по данным;\n",
    "    3) Выявили, что некоторые столбцы содержат пропуски, некорректные типы данных."
   ]
  },
  {
   "cell_type": "markdown",
   "metadata": {},
   "source": [
    "## Предобработка и подготовка данных"
   ]
  },
  {
   "cell_type": "markdown",
   "metadata": {},
   "source": [
    "### Скорректируем названия столбцов"
   ]
  },
  {
   "cell_type": "code",
   "execution_count": 5,
   "metadata": {},
   "outputs": [],
   "source": [
    "df.columns = df.columns.str.lower()"
   ]
  },
  {
   "cell_type": "code",
   "execution_count": 6,
   "metadata": {
    "scrolled": true
   },
   "outputs": [
    {
     "data": {
      "text/html": [
       "<div>\n",
       "<style scoped>\n",
       "    .dataframe tbody tr th:only-of-type {\n",
       "        vertical-align: middle;\n",
       "    }\n",
       "\n",
       "    .dataframe tbody tr th {\n",
       "        vertical-align: top;\n",
       "    }\n",
       "\n",
       "    .dataframe thead th {\n",
       "        text-align: right;\n",
       "    }\n",
       "</style>\n",
       "<table border=\"1\" class=\"dataframe\">\n",
       "  <thead>\n",
       "    <tr style=\"text-align: right;\">\n",
       "      <th></th>\n",
       "      <th>name</th>\n",
       "      <th>platform</th>\n",
       "      <th>year_of_release</th>\n",
       "      <th>genre</th>\n",
       "      <th>na_sales</th>\n",
       "      <th>eu_sales</th>\n",
       "      <th>jp_sales</th>\n",
       "      <th>other_sales</th>\n",
       "      <th>critic_score</th>\n",
       "      <th>user_score</th>\n",
       "      <th>rating</th>\n",
       "    </tr>\n",
       "  </thead>\n",
       "  <tbody>\n",
       "    <tr>\n",
       "      <th>0</th>\n",
       "      <td>Wii Sports</td>\n",
       "      <td>Wii</td>\n",
       "      <td>2006.0</td>\n",
       "      <td>Sports</td>\n",
       "      <td>41.36</td>\n",
       "      <td>28.96</td>\n",
       "      <td>3.77</td>\n",
       "      <td>8.45</td>\n",
       "      <td>76.0</td>\n",
       "      <td>8</td>\n",
       "      <td>E</td>\n",
       "    </tr>\n",
       "    <tr>\n",
       "      <th>1</th>\n",
       "      <td>Super Mario Bros.</td>\n",
       "      <td>NES</td>\n",
       "      <td>1985.0</td>\n",
       "      <td>Platform</td>\n",
       "      <td>29.08</td>\n",
       "      <td>3.58</td>\n",
       "      <td>6.81</td>\n",
       "      <td>0.77</td>\n",
       "      <td>NaN</td>\n",
       "      <td>NaN</td>\n",
       "      <td>NaN</td>\n",
       "    </tr>\n",
       "    <tr>\n",
       "      <th>2</th>\n",
       "      <td>Mario Kart Wii</td>\n",
       "      <td>Wii</td>\n",
       "      <td>2008.0</td>\n",
       "      <td>Racing</td>\n",
       "      <td>15.68</td>\n",
       "      <td>12.76</td>\n",
       "      <td>3.79</td>\n",
       "      <td>3.29</td>\n",
       "      <td>82.0</td>\n",
       "      <td>8.3</td>\n",
       "      <td>E</td>\n",
       "    </tr>\n",
       "    <tr>\n",
       "      <th>3</th>\n",
       "      <td>Wii Sports Resort</td>\n",
       "      <td>Wii</td>\n",
       "      <td>2009.0</td>\n",
       "      <td>Sports</td>\n",
       "      <td>15.61</td>\n",
       "      <td>10.93</td>\n",
       "      <td>3.28</td>\n",
       "      <td>2.95</td>\n",
       "      <td>80.0</td>\n",
       "      <td>8</td>\n",
       "      <td>E</td>\n",
       "    </tr>\n",
       "    <tr>\n",
       "      <th>4</th>\n",
       "      <td>Pokemon Red/Pokemon Blue</td>\n",
       "      <td>GB</td>\n",
       "      <td>1996.0</td>\n",
       "      <td>Role-Playing</td>\n",
       "      <td>11.27</td>\n",
       "      <td>8.89</td>\n",
       "      <td>10.22</td>\n",
       "      <td>1.00</td>\n",
       "      <td>NaN</td>\n",
       "      <td>NaN</td>\n",
       "      <td>NaN</td>\n",
       "    </tr>\n",
       "  </tbody>\n",
       "</table>\n",
       "</div>"
      ],
      "text/plain": [
       "                       name platform  year_of_release         genre  na_sales  \\\n",
       "0                Wii Sports      Wii           2006.0        Sports     41.36   \n",
       "1         Super Mario Bros.      NES           1985.0      Platform     29.08   \n",
       "2            Mario Kart Wii      Wii           2008.0        Racing     15.68   \n",
       "3         Wii Sports Resort      Wii           2009.0        Sports     15.61   \n",
       "4  Pokemon Red/Pokemon Blue       GB           1996.0  Role-Playing     11.27   \n",
       "\n",
       "   eu_sales  jp_sales  other_sales  critic_score user_score rating  \n",
       "0     28.96      3.77         8.45          76.0          8      E  \n",
       "1      3.58      6.81         0.77           NaN        NaN    NaN  \n",
       "2     12.76      3.79         3.29          82.0        8.3      E  \n",
       "3     10.93      3.28         2.95          80.0          8      E  \n",
       "4      8.89     10.22         1.00           NaN        NaN    NaN  "
      ]
     },
     "execution_count": 6,
     "metadata": {},
     "output_type": "execute_result"
    }
   ],
   "source": [
    "df.head()"
   ]
  },
  {
   "cell_type": "markdown",
   "metadata": {},
   "source": [
    "### Изменим тип данных"
   ]
  },
  {
   "cell_type": "markdown",
   "metadata": {},
   "source": [
    "Так как в столбце year_of_release у нас только год релиза, то преобразуем тип данных с float на int."
   ]
  },
  {
   "cell_type": "code",
   "execution_count": 7,
   "metadata": {},
   "outputs": [],
   "source": [
    "df = df.astype({'year_of_release': 'Int64'}) "
   ]
  },
  {
   "cell_type": "markdown",
   "metadata": {},
   "source": [
    "Далее столбец user_score"
   ]
  },
  {
   "cell_type": "code",
   "execution_count": 8,
   "metadata": {},
   "outputs": [
    {
     "data": {
      "text/plain": [
       "array(['8', nan, '8.3', '8.5', '6.6', '8.4', '8.6', '7.7', '6.3', '7.4',\n",
       "       '8.2', '9', '7.9', '8.1', '8.7', '7.1', '3.4', '5.3', '4.8', '3.2',\n",
       "       '8.9', '6.4', '7.8', '7.5', '2.6', '7.2', '9.2', '7', '7.3', '4.3',\n",
       "       '7.6', '5.7', '5', '9.1', '6.5', 'tbd', '8.8', '6.9', '9.4', '6.8',\n",
       "       '6.1', '6.7', '5.4', '4', '4.9', '4.5', '9.3', '6.2', '4.2', '6',\n",
       "       '3.7', '4.1', '5.8', '5.6', '5.5', '4.4', '4.6', '5.9', '3.9',\n",
       "       '3.1', '2.9', '5.2', '3.3', '4.7', '5.1', '3.5', '2.5', '1.9', '3',\n",
       "       '2.7', '2.2', '2', '9.5', '2.1', '3.6', '2.8', '1.8', '3.8', '0',\n",
       "       '1.6', '9.6', '2.4', '1.7', '1.1', '0.3', '1.5', '0.7', '1.2',\n",
       "       '2.3', '0.5', '1.3', '0.2', '0.6', '1.4', '0.9', '1', '9.7'],\n",
       "      dtype=object)"
      ]
     },
     "execution_count": 8,
     "metadata": {},
     "output_type": "execute_result"
    }
   ],
   "source": [
    "df['user_score'].unique()"
   ]
  },
  {
   "cell_type": "markdown",
   "metadata": {},
   "source": [
    "Так как в столбце user_score у нас числовые данные c оценкой игры до 10, то сменим тип данных на float. Аббревиатурра tbd значит, что на момент сбора исходных данных, оценка еще не была выставлена. При переводе столбца в целочисленный тип данных, укажем, что неопознанные объекты принудительно менять на NaN."
   ]
  },
  {
   "cell_type": "code",
   "execution_count": 9,
   "metadata": {},
   "outputs": [],
   "source": [
    "df['user_score'] = pd.to_numeric(df['user_score'], errors ='coerce')"
   ]
  },
  {
   "cell_type": "code",
   "execution_count": 10,
   "metadata": {},
   "outputs": [
    {
     "name": "stdout",
     "output_type": "stream",
     "text": [
      "<class 'pandas.core.frame.DataFrame'>\n",
      "RangeIndex: 16715 entries, 0 to 16714\n",
      "Data columns (total 11 columns):\n",
      " #   Column           Non-Null Count  Dtype  \n",
      "---  ------           --------------  -----  \n",
      " 0   name             16713 non-null  object \n",
      " 1   platform         16715 non-null  object \n",
      " 2   year_of_release  16446 non-null  Int64  \n",
      " 3   genre            16713 non-null  object \n",
      " 4   na_sales         16715 non-null  float64\n",
      " 5   eu_sales         16715 non-null  float64\n",
      " 6   jp_sales         16715 non-null  float64\n",
      " 7   other_sales      16715 non-null  float64\n",
      " 8   critic_score     8137 non-null   float64\n",
      " 9   user_score       7590 non-null   float64\n",
      " 10  rating           9949 non-null   object \n",
      "dtypes: Int64(1), float64(6), object(4)\n",
      "memory usage: 1.4+ MB\n"
     ]
    }
   ],
   "source": [
    "df.info()"
   ]
  },
  {
   "cell_type": "markdown",
   "metadata": {},
   "source": [
    "### Обработка пропусков"
   ]
  },
  {
   "cell_type": "code",
   "execution_count": 11,
   "metadata": {},
   "outputs": [
    {
     "data": {
      "text/plain": [
       "name                  2\n",
       "platform              0\n",
       "year_of_release     269\n",
       "genre                 2\n",
       "na_sales              0\n",
       "eu_sales              0\n",
       "jp_sales              0\n",
       "other_sales           0\n",
       "critic_score       8578\n",
       "user_score         9125\n",
       "rating             6766\n",
       "dtype: int64"
      ]
     },
     "execution_count": 11,
     "metadata": {},
     "output_type": "execute_result"
    }
   ],
   "source": [
    "df.isna().sum()"
   ]
  },
  {
   "cell_type": "markdown",
   "metadata": {},
   "source": [
    "Начнем обрабатывать пропуски по порядку. \n",
    "В столбце name всего два пропущенных значения, поэтому просто удалим их"
   ]
  },
  {
   "cell_type": "code",
   "execution_count": 12,
   "metadata": {},
   "outputs": [],
   "source": [
    "df = df.dropna(subset=['name'])"
   ]
  },
  {
   "cell_type": "markdown",
   "metadata": {},
   "source": [
    "Далее столбец year_of_release. Можно попробовать заменить пропущенные значения в данном столбце по медианному значению по соответствующим жанрам, однако не думаю, что это будет корректно, а так как пропусков всего 269, то удалим их."
   ]
  },
  {
   "cell_type": "code",
   "execution_count": 13,
   "metadata": {},
   "outputs": [],
   "source": [
    "df = df.dropna(subset=['year_of_release'])"
   ]
  },
  {
   "cell_type": "code",
   "execution_count": 14,
   "metadata": {},
   "outputs": [
    {
     "data": {
      "text/plain": [
       "name                  0\n",
       "platform              0\n",
       "year_of_release       0\n",
       "genre                 0\n",
       "na_sales              0\n",
       "eu_sales              0\n",
       "jp_sales              0\n",
       "other_sales           0\n",
       "critic_score       8461\n",
       "user_score         8981\n",
       "rating             6676\n",
       "dtype: int64"
      ]
     },
     "execution_count": 14,
     "metadata": {},
     "output_type": "execute_result"
    }
   ],
   "source": [
    "df.isna().sum()"
   ]
  },
  {
   "cell_type": "markdown",
   "metadata": {},
   "source": [
    "Так как оценки пользователей и критиков сугубо индвидуальные, поэтому заменить пропуски по какой-либо зависимости не представляется возможным. Оставим пропуски как есть в столбцах critic_score и user_score."
   ]
  },
  {
   "cell_type": "markdown",
   "metadata": {},
   "source": [
    "Перед началом заменой пропусков в столбце rating разберемся в обозначениях"
   ]
  },
  {
   "cell_type": "code",
   "execution_count": 15,
   "metadata": {},
   "outputs": [
    {
     "data": {
      "text/plain": [
       "array(['E', nan, 'M', 'T', 'E10+', 'K-A', 'AO', 'EC', 'RP'], dtype=object)"
      ]
     },
     "execution_count": 15,
     "metadata": {},
     "output_type": "execute_result"
    }
   ],
   "source": [
    "df.rating.unique()"
   ]
  },
  {
   "cell_type": "markdown",
   "metadata": {},
   "source": [
    "Аббревиатуры рейтинга:\n",
    "\n",
    "1) E (Everyone) - Содержание вполне подходит для всех возрастов;\n",
    "\n",
    "2) M (Mature) - Материалы игры не подходят для лиц младше 17 лет;\n",
    "\n",
    "3) T (Teen) - Игра подходит для лиц от 13 лет;\n",
    "\n",
    "4) E10+ (Everyone 10 and older)  - Игра подходит для лиц от 10 лет;\n",
    "\n",
    "5) K-A (Kids and Adults) - Игры, содержащие контент, подходящий для широкой аудитории\n",
    "\n",
    "6) AO - (Adults Only 18+) Содержание игры только для взрослых старше 18 лет;\n",
    "\n",
    "7) EC (Early childhood) - Игра подходит для детей от 3 лет и не содержит материалов, которые родители могли бы счесть неподходящими;\n",
    "\n",
    "8) RP (Rating Pending) - Рейтинг ожидается."
   ]
  },
  {
   "cell_type": "markdown",
   "metadata": {},
   "source": [
    "В данном случае предлагаю сделать замену на категорию \"Other\", так как пропусков слишком много, а рейтинги внутри как одного жанра, так и других параметров могут сильно разниться, то заменить пропуски по какой то зависимости нельзя."
   ]
  },
  {
   "cell_type": "code",
   "execution_count": 16,
   "metadata": {},
   "outputs": [],
   "source": [
    "df.loc[df['rating'].isna(), 'rating'] = 'Other'"
   ]
  },
  {
   "cell_type": "code",
   "execution_count": 17,
   "metadata": {},
   "outputs": [
    {
     "data": {
      "text/plain": [
       "array(['E', 'Other', 'M', 'T', 'E10+', 'K-A', 'AO', 'EC', 'RP'],\n",
       "      dtype=object)"
      ]
     },
     "execution_count": 17,
     "metadata": {},
     "output_type": "execute_result"
    }
   ],
   "source": [
    "df['rating'].unique()"
   ]
  },
  {
   "cell_type": "code",
   "execution_count": 18,
   "metadata": {
    "scrolled": true
   },
   "outputs": [
    {
     "data": {
      "text/plain": [
       "name                  0\n",
       "platform              0\n",
       "year_of_release       0\n",
       "genre                 0\n",
       "na_sales              0\n",
       "eu_sales              0\n",
       "jp_sales              0\n",
       "other_sales           0\n",
       "critic_score       8461\n",
       "user_score         8981\n",
       "rating                0\n",
       "dtype: int64"
      ]
     },
     "execution_count": 18,
     "metadata": {},
     "output_type": "execute_result"
    }
   ],
   "source": [
    "df.isna().sum()"
   ]
  },
  {
   "cell_type": "markdown",
   "metadata": {},
   "source": [
    "Отлично! Все пропуски исправлены."
   ]
  },
  {
   "cell_type": "markdown",
   "metadata": {},
   "source": [
    "### Дубликаты"
   ]
  },
  {
   "cell_type": "markdown",
   "metadata": {},
   "source": [
    "С пропущенными значениями мы справились, проверим датафрейм на полные и неявные дубликаты"
   ]
  },
  {
   "cell_type": "code",
   "execution_count": 19,
   "metadata": {},
   "outputs": [
    {
     "data": {
      "text/plain": [
       "0"
      ]
     },
     "execution_count": 19,
     "metadata": {},
     "output_type": "execute_result"
    }
   ],
   "source": [
    "df.duplicated().sum()"
   ]
  },
  {
   "cell_type": "markdown",
   "metadata": {},
   "source": [
    "Проверим игры у которых индентичное название, год выпуска и жанр"
   ]
  },
  {
   "cell_type": "code",
   "execution_count": 20,
   "metadata": {},
   "outputs": [
    {
     "data": {
      "text/plain": [
       "4248"
      ]
     },
     "execution_count": 20,
     "metadata": {},
     "output_type": "execute_result"
    }
   ],
   "source": [
    "df[{'name', 'genre','year_of_release'}].duplicated().sum()"
   ]
  },
  {
   "cell_type": "markdown",
   "metadata": {},
   "source": [
    "Вот здесь то и есть дубликаты. Удалим их."
   ]
  },
  {
   "cell_type": "code",
   "execution_count": 21,
   "metadata": {},
   "outputs": [],
   "source": [
    "df = df.drop_duplicates(subset={'name', 'genre','year_of_release'},keep='first')"
   ]
  },
  {
   "cell_type": "code",
   "execution_count": 22,
   "metadata": {},
   "outputs": [
    {
     "data": {
      "text/plain": [
       "0"
      ]
     },
     "execution_count": 22,
     "metadata": {},
     "output_type": "execute_result"
    }
   ],
   "source": [
    "df[{'name', 'genre','year_of_release'}].duplicated().sum()"
   ]
  },
  {
   "cell_type": "code",
   "execution_count": 23,
   "metadata": {
    "scrolled": true
   },
   "outputs": [
    {
     "data": {
      "text/plain": [
       "array(['Wii Sports', 'Super Mario Bros.', 'Mario Kart Wii', ...,\n",
       "       'Woody Woodpecker in Crazy Castle 5', 'LMA Manager 2007',\n",
       "       'Haitaka no Psychedelica'], dtype=object)"
      ]
     },
     "execution_count": 23,
     "metadata": {},
     "output_type": "execute_result"
    }
   ],
   "source": [
    "df.name.unique()"
   ]
  },
  {
   "cell_type": "code",
   "execution_count": 24,
   "metadata": {},
   "outputs": [
    {
     "data": {
      "text/plain": [
       "array(['Wii', 'NES', 'GB', 'DS', 'X360', 'PS3', 'PS2', 'SNES', 'GBA',\n",
       "       'PS4', '3DS', 'N64', 'PS', 'XB', 'PC', '2600', 'PSP', 'WiiU', 'GC',\n",
       "       'GEN', 'XOne', 'DC', 'SAT', 'PSV', 'SCD', 'WS', 'NG', 'TG16',\n",
       "       '3DO', 'GG', 'PCFX'], dtype=object)"
      ]
     },
     "execution_count": 24,
     "metadata": {},
     "output_type": "execute_result"
    }
   ],
   "source": [
    "df.platform.unique()"
   ]
  },
  {
   "cell_type": "markdown",
   "metadata": {},
   "source": [
    "Wii и WiiU - разные приставки Nintendo"
   ]
  },
  {
   "cell_type": "code",
   "execution_count": 25,
   "metadata": {},
   "outputs": [
    {
     "data": {
      "text/plain": [
       "array(['Sports', 'Platform', 'Racing', 'Role-Playing', 'Puzzle', 'Misc',\n",
       "       'Shooter', 'Simulation', 'Action', 'Fighting', 'Adventure',\n",
       "       'Strategy'], dtype=object)"
      ]
     },
     "execution_count": 25,
     "metadata": {},
     "output_type": "execute_result"
    }
   ],
   "source": [
    "df['genre'].unique()"
   ]
  },
  {
   "cell_type": "markdown",
   "metadata": {},
   "source": [
    "Отлично! Дубликатов в исходном датафрейме нет. Проверим кол-во строк"
   ]
  },
  {
   "cell_type": "code",
   "execution_count": 26,
   "metadata": {},
   "outputs": [
    {
     "name": "stdout",
     "output_type": "stream",
     "text": [
      "<class 'pandas.core.frame.DataFrame'>\n",
      "Int64Index: 12196 entries, 0 to 16712\n",
      "Data columns (total 11 columns):\n",
      " #   Column           Non-Null Count  Dtype  \n",
      "---  ------           --------------  -----  \n",
      " 0   name             12196 non-null  object \n",
      " 1   platform         12196 non-null  object \n",
      " 2   year_of_release  12196 non-null  Int64  \n",
      " 3   genre            12196 non-null  object \n",
      " 4   na_sales         12196 non-null  float64\n",
      " 5   eu_sales         12196 non-null  float64\n",
      " 6   jp_sales         12196 non-null  float64\n",
      " 7   other_sales      12196 non-null  float64\n",
      " 8   critic_score     5174 non-null   float64\n",
      " 9   user_score       4736 non-null   float64\n",
      " 10  rating           12196 non-null  object \n",
      "dtypes: Int64(1), float64(6), object(4)\n",
      "memory usage: 1.1+ MB\n"
     ]
    }
   ],
   "source": [
    "df.info()"
   ]
  },
  {
   "cell_type": "markdown",
   "metadata": {},
   "source": [
    "Кол-во строк совпадает с учетом удаления пропусков в столбцах: name(2) и year_of_release(269) и сбросом дубликатов. Обновим индексы"
   ]
  },
  {
   "cell_type": "code",
   "execution_count": 27,
   "metadata": {},
   "outputs": [
    {
     "data": {
      "text/html": [
       "<div>\n",
       "<style scoped>\n",
       "    .dataframe tbody tr th:only-of-type {\n",
       "        vertical-align: middle;\n",
       "    }\n",
       "\n",
       "    .dataframe tbody tr th {\n",
       "        vertical-align: top;\n",
       "    }\n",
       "\n",
       "    .dataframe thead th {\n",
       "        text-align: right;\n",
       "    }\n",
       "</style>\n",
       "<table border=\"1\" class=\"dataframe\">\n",
       "  <thead>\n",
       "    <tr style=\"text-align: right;\">\n",
       "      <th></th>\n",
       "      <th>name</th>\n",
       "      <th>platform</th>\n",
       "      <th>year_of_release</th>\n",
       "      <th>genre</th>\n",
       "      <th>na_sales</th>\n",
       "      <th>eu_sales</th>\n",
       "      <th>jp_sales</th>\n",
       "      <th>other_sales</th>\n",
       "      <th>critic_score</th>\n",
       "      <th>user_score</th>\n",
       "      <th>rating</th>\n",
       "    </tr>\n",
       "  </thead>\n",
       "  <tbody>\n",
       "    <tr>\n",
       "      <th>0</th>\n",
       "      <td>Wii Sports</td>\n",
       "      <td>Wii</td>\n",
       "      <td>2006</td>\n",
       "      <td>Sports</td>\n",
       "      <td>41.36</td>\n",
       "      <td>28.96</td>\n",
       "      <td>3.77</td>\n",
       "      <td>8.45</td>\n",
       "      <td>76.0</td>\n",
       "      <td>8.0</td>\n",
       "      <td>E</td>\n",
       "    </tr>\n",
       "    <tr>\n",
       "      <th>1</th>\n",
       "      <td>Super Mario Bros.</td>\n",
       "      <td>NES</td>\n",
       "      <td>1985</td>\n",
       "      <td>Platform</td>\n",
       "      <td>29.08</td>\n",
       "      <td>3.58</td>\n",
       "      <td>6.81</td>\n",
       "      <td>0.77</td>\n",
       "      <td>NaN</td>\n",
       "      <td>NaN</td>\n",
       "      <td>Other</td>\n",
       "    </tr>\n",
       "    <tr>\n",
       "      <th>2</th>\n",
       "      <td>Mario Kart Wii</td>\n",
       "      <td>Wii</td>\n",
       "      <td>2008</td>\n",
       "      <td>Racing</td>\n",
       "      <td>15.68</td>\n",
       "      <td>12.76</td>\n",
       "      <td>3.79</td>\n",
       "      <td>3.29</td>\n",
       "      <td>82.0</td>\n",
       "      <td>8.3</td>\n",
       "      <td>E</td>\n",
       "    </tr>\n",
       "    <tr>\n",
       "      <th>3</th>\n",
       "      <td>Wii Sports Resort</td>\n",
       "      <td>Wii</td>\n",
       "      <td>2009</td>\n",
       "      <td>Sports</td>\n",
       "      <td>15.61</td>\n",
       "      <td>10.93</td>\n",
       "      <td>3.28</td>\n",
       "      <td>2.95</td>\n",
       "      <td>80.0</td>\n",
       "      <td>8.0</td>\n",
       "      <td>E</td>\n",
       "    </tr>\n",
       "    <tr>\n",
       "      <th>4</th>\n",
       "      <td>Pokemon Red/Pokemon Blue</td>\n",
       "      <td>GB</td>\n",
       "      <td>1996</td>\n",
       "      <td>Role-Playing</td>\n",
       "      <td>11.27</td>\n",
       "      <td>8.89</td>\n",
       "      <td>10.22</td>\n",
       "      <td>1.00</td>\n",
       "      <td>NaN</td>\n",
       "      <td>NaN</td>\n",
       "      <td>Other</td>\n",
       "    </tr>\n",
       "    <tr>\n",
       "      <th>...</th>\n",
       "      <td>...</td>\n",
       "      <td>...</td>\n",
       "      <td>...</td>\n",
       "      <td>...</td>\n",
       "      <td>...</td>\n",
       "      <td>...</td>\n",
       "      <td>...</td>\n",
       "      <td>...</td>\n",
       "      <td>...</td>\n",
       "      <td>...</td>\n",
       "      <td>...</td>\n",
       "    </tr>\n",
       "    <tr>\n",
       "      <th>12191</th>\n",
       "      <td>Men in Black II: Alien Escape</td>\n",
       "      <td>GC</td>\n",
       "      <td>2003</td>\n",
       "      <td>Shooter</td>\n",
       "      <td>0.01</td>\n",
       "      <td>0.00</td>\n",
       "      <td>0.00</td>\n",
       "      <td>0.00</td>\n",
       "      <td>NaN</td>\n",
       "      <td>NaN</td>\n",
       "      <td>T</td>\n",
       "    </tr>\n",
       "    <tr>\n",
       "      <th>12192</th>\n",
       "      <td>Aiyoku no Eustia</td>\n",
       "      <td>PSV</td>\n",
       "      <td>2014</td>\n",
       "      <td>Misc</td>\n",
       "      <td>0.00</td>\n",
       "      <td>0.00</td>\n",
       "      <td>0.01</td>\n",
       "      <td>0.00</td>\n",
       "      <td>NaN</td>\n",
       "      <td>NaN</td>\n",
       "      <td>Other</td>\n",
       "    </tr>\n",
       "    <tr>\n",
       "      <th>12193</th>\n",
       "      <td>Woody Woodpecker in Crazy Castle 5</td>\n",
       "      <td>GBA</td>\n",
       "      <td>2002</td>\n",
       "      <td>Platform</td>\n",
       "      <td>0.01</td>\n",
       "      <td>0.00</td>\n",
       "      <td>0.00</td>\n",
       "      <td>0.00</td>\n",
       "      <td>NaN</td>\n",
       "      <td>NaN</td>\n",
       "      <td>Other</td>\n",
       "    </tr>\n",
       "    <tr>\n",
       "      <th>12194</th>\n",
       "      <td>LMA Manager 2007</td>\n",
       "      <td>X360</td>\n",
       "      <td>2006</td>\n",
       "      <td>Sports</td>\n",
       "      <td>0.00</td>\n",
       "      <td>0.01</td>\n",
       "      <td>0.00</td>\n",
       "      <td>0.00</td>\n",
       "      <td>NaN</td>\n",
       "      <td>NaN</td>\n",
       "      <td>Other</td>\n",
       "    </tr>\n",
       "    <tr>\n",
       "      <th>12195</th>\n",
       "      <td>Haitaka no Psychedelica</td>\n",
       "      <td>PSV</td>\n",
       "      <td>2016</td>\n",
       "      <td>Adventure</td>\n",
       "      <td>0.00</td>\n",
       "      <td>0.00</td>\n",
       "      <td>0.01</td>\n",
       "      <td>0.00</td>\n",
       "      <td>NaN</td>\n",
       "      <td>NaN</td>\n",
       "      <td>Other</td>\n",
       "    </tr>\n",
       "  </tbody>\n",
       "</table>\n",
       "<p>12196 rows × 11 columns</p>\n",
       "</div>"
      ],
      "text/plain": [
       "                                     name platform  year_of_release  \\\n",
       "0                              Wii Sports      Wii             2006   \n",
       "1                       Super Mario Bros.      NES             1985   \n",
       "2                          Mario Kart Wii      Wii             2008   \n",
       "3                       Wii Sports Resort      Wii             2009   \n",
       "4                Pokemon Red/Pokemon Blue       GB             1996   \n",
       "...                                   ...      ...              ...   \n",
       "12191       Men in Black II: Alien Escape       GC             2003   \n",
       "12192                    Aiyoku no Eustia      PSV             2014   \n",
       "12193  Woody Woodpecker in Crazy Castle 5      GBA             2002   \n",
       "12194                    LMA Manager 2007     X360             2006   \n",
       "12195             Haitaka no Psychedelica      PSV             2016   \n",
       "\n",
       "              genre  na_sales  eu_sales  jp_sales  other_sales  critic_score  \\\n",
       "0            Sports     41.36     28.96      3.77         8.45          76.0   \n",
       "1          Platform     29.08      3.58      6.81         0.77           NaN   \n",
       "2            Racing     15.68     12.76      3.79         3.29          82.0   \n",
       "3            Sports     15.61     10.93      3.28         2.95          80.0   \n",
       "4      Role-Playing     11.27      8.89     10.22         1.00           NaN   \n",
       "...             ...       ...       ...       ...          ...           ...   \n",
       "12191       Shooter      0.01      0.00      0.00         0.00           NaN   \n",
       "12192          Misc      0.00      0.00      0.01         0.00           NaN   \n",
       "12193      Platform      0.01      0.00      0.00         0.00           NaN   \n",
       "12194        Sports      0.00      0.01      0.00         0.00           NaN   \n",
       "12195     Adventure      0.00      0.00      0.01         0.00           NaN   \n",
       "\n",
       "       user_score rating  \n",
       "0             8.0      E  \n",
       "1             NaN  Other  \n",
       "2             8.3      E  \n",
       "3             8.0      E  \n",
       "4             NaN  Other  \n",
       "...           ...    ...  \n",
       "12191         NaN      T  \n",
       "12192         NaN  Other  \n",
       "12193         NaN  Other  \n",
       "12194         NaN  Other  \n",
       "12195         NaN  Other  \n",
       "\n",
       "[12196 rows x 11 columns]"
      ]
     },
     "execution_count": 27,
     "metadata": {},
     "output_type": "execute_result"
    }
   ],
   "source": [
    "df.reset_index(drop=True)"
   ]
  },
  {
   "cell_type": "code",
   "execution_count": 28,
   "metadata": {
    "scrolled": true
   },
   "outputs": [
    {
     "name": "stdout",
     "output_type": "stream",
     "text": [
      "<class 'pandas.core.frame.DataFrame'>\n",
      "Int64Index: 12196 entries, 0 to 16712\n",
      "Data columns (total 11 columns):\n",
      " #   Column           Non-Null Count  Dtype  \n",
      "---  ------           --------------  -----  \n",
      " 0   name             12196 non-null  object \n",
      " 1   platform         12196 non-null  object \n",
      " 2   year_of_release  12196 non-null  Int64  \n",
      " 3   genre            12196 non-null  object \n",
      " 4   na_sales         12196 non-null  float64\n",
      " 5   eu_sales         12196 non-null  float64\n",
      " 6   jp_sales         12196 non-null  float64\n",
      " 7   other_sales      12196 non-null  float64\n",
      " 8   critic_score     5174 non-null   float64\n",
      " 9   user_score       4736 non-null   float64\n",
      " 10  rating           12196 non-null  object \n",
      "dtypes: Int64(1), float64(6), object(4)\n",
      "memory usage: 1.1+ MB\n"
     ]
    }
   ],
   "source": [
    "df.info()"
   ]
  },
  {
   "cell_type": "markdown",
   "metadata": {},
   "source": [
    "### Добавляем столбец с суммарными продажами"
   ]
  },
  {
   "cell_type": "code",
   "execution_count": 29,
   "metadata": {},
   "outputs": [],
   "source": [
    "df['total_income'] = df['na_sales'] + df['eu_sales'] + df['other_sales'] + df['other_sales']"
   ]
  },
  {
   "cell_type": "code",
   "execution_count": 30,
   "metadata": {},
   "outputs": [
    {
     "data": {
      "text/html": [
       "<div>\n",
       "<style scoped>\n",
       "    .dataframe tbody tr th:only-of-type {\n",
       "        vertical-align: middle;\n",
       "    }\n",
       "\n",
       "    .dataframe tbody tr th {\n",
       "        vertical-align: top;\n",
       "    }\n",
       "\n",
       "    .dataframe thead th {\n",
       "        text-align: right;\n",
       "    }\n",
       "</style>\n",
       "<table border=\"1\" class=\"dataframe\">\n",
       "  <thead>\n",
       "    <tr style=\"text-align: right;\">\n",
       "      <th></th>\n",
       "      <th>name</th>\n",
       "      <th>platform</th>\n",
       "      <th>year_of_release</th>\n",
       "      <th>genre</th>\n",
       "      <th>na_sales</th>\n",
       "      <th>eu_sales</th>\n",
       "      <th>jp_sales</th>\n",
       "      <th>other_sales</th>\n",
       "      <th>critic_score</th>\n",
       "      <th>user_score</th>\n",
       "      <th>rating</th>\n",
       "      <th>total_income</th>\n",
       "    </tr>\n",
       "  </thead>\n",
       "  <tbody>\n",
       "    <tr>\n",
       "      <th>0</th>\n",
       "      <td>Wii Sports</td>\n",
       "      <td>Wii</td>\n",
       "      <td>2006</td>\n",
       "      <td>Sports</td>\n",
       "      <td>41.36</td>\n",
       "      <td>28.96</td>\n",
       "      <td>3.77</td>\n",
       "      <td>8.45</td>\n",
       "      <td>76.0</td>\n",
       "      <td>8.0</td>\n",
       "      <td>E</td>\n",
       "      <td>87.22</td>\n",
       "    </tr>\n",
       "    <tr>\n",
       "      <th>1</th>\n",
       "      <td>Super Mario Bros.</td>\n",
       "      <td>NES</td>\n",
       "      <td>1985</td>\n",
       "      <td>Platform</td>\n",
       "      <td>29.08</td>\n",
       "      <td>3.58</td>\n",
       "      <td>6.81</td>\n",
       "      <td>0.77</td>\n",
       "      <td>NaN</td>\n",
       "      <td>NaN</td>\n",
       "      <td>Other</td>\n",
       "      <td>34.20</td>\n",
       "    </tr>\n",
       "    <tr>\n",
       "      <th>2</th>\n",
       "      <td>Mario Kart Wii</td>\n",
       "      <td>Wii</td>\n",
       "      <td>2008</td>\n",
       "      <td>Racing</td>\n",
       "      <td>15.68</td>\n",
       "      <td>12.76</td>\n",
       "      <td>3.79</td>\n",
       "      <td>3.29</td>\n",
       "      <td>82.0</td>\n",
       "      <td>8.3</td>\n",
       "      <td>E</td>\n",
       "      <td>35.02</td>\n",
       "    </tr>\n",
       "    <tr>\n",
       "      <th>3</th>\n",
       "      <td>Wii Sports Resort</td>\n",
       "      <td>Wii</td>\n",
       "      <td>2009</td>\n",
       "      <td>Sports</td>\n",
       "      <td>15.61</td>\n",
       "      <td>10.93</td>\n",
       "      <td>3.28</td>\n",
       "      <td>2.95</td>\n",
       "      <td>80.0</td>\n",
       "      <td>8.0</td>\n",
       "      <td>E</td>\n",
       "      <td>32.44</td>\n",
       "    </tr>\n",
       "    <tr>\n",
       "      <th>4</th>\n",
       "      <td>Pokemon Red/Pokemon Blue</td>\n",
       "      <td>GB</td>\n",
       "      <td>1996</td>\n",
       "      <td>Role-Playing</td>\n",
       "      <td>11.27</td>\n",
       "      <td>8.89</td>\n",
       "      <td>10.22</td>\n",
       "      <td>1.00</td>\n",
       "      <td>NaN</td>\n",
       "      <td>NaN</td>\n",
       "      <td>Other</td>\n",
       "      <td>22.16</td>\n",
       "    </tr>\n",
       "  </tbody>\n",
       "</table>\n",
       "</div>"
      ],
      "text/plain": [
       "                       name platform  year_of_release         genre  na_sales  \\\n",
       "0                Wii Sports      Wii             2006        Sports     41.36   \n",
       "1         Super Mario Bros.      NES             1985      Platform     29.08   \n",
       "2            Mario Kart Wii      Wii             2008        Racing     15.68   \n",
       "3         Wii Sports Resort      Wii             2009        Sports     15.61   \n",
       "4  Pokemon Red/Pokemon Blue       GB             1996  Role-Playing     11.27   \n",
       "\n",
       "   eu_sales  jp_sales  other_sales  critic_score  user_score rating  \\\n",
       "0     28.96      3.77         8.45          76.0         8.0      E   \n",
       "1      3.58      6.81         0.77           NaN         NaN  Other   \n",
       "2     12.76      3.79         3.29          82.0         8.3      E   \n",
       "3     10.93      3.28         2.95          80.0         8.0      E   \n",
       "4      8.89     10.22         1.00           NaN         NaN  Other   \n",
       "\n",
       "   total_income  \n",
       "0         87.22  \n",
       "1         34.20  \n",
       "2         35.02  \n",
       "3         32.44  \n",
       "4         22.16  "
      ]
     },
     "execution_count": 30,
     "metadata": {},
     "output_type": "execute_result"
    }
   ],
   "source": [
    "df.head()"
   ]
  },
  {
   "cell_type": "markdown",
   "metadata": {},
   "source": [
    "### Итоги\n",
    "\n",
    "В ходе подготовки данных к анализу: \n",
    "\n",
    "1) Скорректировали названия столбцов, сделали их строчными;\n",
    "\n",
    "2) Изменили типы данных в таких столбцах как: year_of_release, user_score (в user_score значение tbd изменили на NaN);\n",
    "\n",
    "3) Удалили пропуски в таких столбцах как: name, year_of_release ( также по столбцу name удалились и пропуски в столбцу genre), так как строк слишком мало, а также нет логичного присваивания значений;\n",
    "\n",
    "4) Пропуски в столбцах user_score и critic_score заменили средним значением по соответствующим жанрам; \n",
    "\n",
    "5) Пропуски в столбце rating заменили на 'Other' для игр, выпущенных раньше 1994 года, для всех остальных наиболее популярным значением столбца rating по соответсвующему genre;\n",
    "\n",
    "6) Также просмотрели дубликаты, как явные, так и не явные. В исходном датафрейме их не оказалось;\n",
    "\n",
    "7) Добавили столбец с суммарной выручкой по всем регионам, включая столбец other_sales."
   ]
  },
  {
   "cell_type": "markdown",
   "metadata": {},
   "source": [
    "## Исследовательский анализ"
   ]
  },
  {
   "cell_type": "markdown",
   "metadata": {},
   "source": [
    "###  Кол-во игр в разные годы"
   ]
  },
  {
   "cell_type": "code",
   "execution_count": 31,
   "metadata": {
    "scrolled": true
   },
   "outputs": [
    {
     "data": {
      "image/png": "[encoded data removed]",
      "text/plain": [
       "<Figure size 864x360 with 1 Axes>"
      ]
     },
     "metadata": {
      "needs_background": "light"
     },
     "output_type": "display_data"
    }
   ],
   "source": [
    "df.pivot_table(index='year_of_release', values = 'name', aggfunc ='count').plot(figsize=(12,5),legend=False,grid=True, title='Динамика выпускаемых игр по годам')\n",
    "plt.xlabel('Год релиза')\n",
    "plt.ylabel('Кол-во игр')\n",
    "plt.show()\n"
   ]
  },
  {
   "cell_type": "markdown",
   "metadata": {},
   "source": [
    "На графике видим, что игры до 1990-1991 года почти не выпускались, однако в последующие 19 лет был необычайный \"бум\" на игровой индустрии, что характеризуется довольно резким ростом выпускаемых игр. После пика в 2008 году (1400 игр) происходит начало стагнации выпуска игр, начиная с 2009 года кол-во выпускаемых игр начало падать (2015 год - 600 игр). Для более корректного анализа опустим игры выпускающиеся до 1991 года, но перед этип посмотрим на их долю в исходном датафрейме."
   ]
  },
  {
   "cell_type": "code",
   "execution_count": 32,
   "metadata": {},
   "outputs": [
    {
     "name": "stdout",
     "output_type": "stream",
     "text": [
      "Процент игр до до 1991(включительно): 2.140045916693998\n"
     ]
    }
   ],
   "source": [
    "print('Процент игр до до 1991(включительно):',(len(df.loc[df['year_of_release'] <= 1991])/len(df))*100)"
   ]
  },
  {
   "cell_type": "markdown",
   "metadata": {},
   "source": [
    "Т.к. процент всего ~1.6, то опустим эти значения"
   ]
  },
  {
   "cell_type": "code",
   "execution_count": 33,
   "metadata": {},
   "outputs": [],
   "source": [
    "df = df.loc[df['year_of_release'] > 1991]"
   ]
  },
  {
   "cell_type": "markdown",
   "metadata": {},
   "source": [
    "### Анализ продаж по платформам"
   ]
  },
  {
   "cell_type": "markdown",
   "metadata": {},
   "source": [
    "Взглянем на топовые продажи по платформам"
   ]
  },
  {
   "cell_type": "code",
   "execution_count": 34,
   "metadata": {},
   "outputs": [
    {
     "data": {
      "text/html": [
       "<div>\n",
       "<style scoped>\n",
       "    .dataframe tbody tr th:only-of-type {\n",
       "        vertical-align: middle;\n",
       "    }\n",
       "\n",
       "    .dataframe tbody tr th {\n",
       "        vertical-align: top;\n",
       "    }\n",
       "\n",
       "    .dataframe thead th {\n",
       "        text-align: right;\n",
       "    }\n",
       "</style>\n",
       "<table border=\"1\" class=\"dataframe\">\n",
       "  <thead>\n",
       "    <tr style=\"text-align: right;\">\n",
       "      <th></th>\n",
       "      <th>total_income</th>\n",
       "    </tr>\n",
       "    <tr>\n",
       "      <th>platform</th>\n",
       "      <th></th>\n",
       "    </tr>\n",
       "  </thead>\n",
       "  <tbody>\n",
       "    <tr>\n",
       "      <th>PS2</th>\n",
       "      <td>1171.33</td>\n",
       "    </tr>\n",
       "    <tr>\n",
       "      <th>Wii</th>\n",
       "      <td>788.44</td>\n",
       "    </tr>\n",
       "    <tr>\n",
       "      <th>X360</th>\n",
       "      <td>626.41</td>\n",
       "    </tr>\n",
       "    <tr>\n",
       "      <th>PS</th>\n",
       "      <td>615.56</td>\n",
       "    </tr>\n",
       "    <tr>\n",
       "      <th>DS</th>\n",
       "      <td>594.41</td>\n",
       "    </tr>\n",
       "  </tbody>\n",
       "</table>\n",
       "</div>"
      ],
      "text/plain": [
       "          total_income\n",
       "platform              \n",
       "PS2            1171.33\n",
       "Wii             788.44\n",
       "X360            626.41\n",
       "PS              615.56\n",
       "DS              594.41"
      ]
     },
     "execution_count": 34,
     "metadata": {},
     "output_type": "execute_result"
    }
   ],
   "source": [
    "df.pivot_table(index={'platform'}, values='total_income', aggfunc='sum').sort_values(by='total_income',ascending=False)[0:5]\n"
   ]
  },
  {
   "cell_type": "markdown",
   "metadata": {},
   "source": [
    "Т.к. самые топовые продажи у таких платформ как: PS2, X360, PS3, Wii и DS. Построим для них графики по годам и опишем их."
   ]
  },
  {
   "cell_type": "code",
   "execution_count": 35,
   "metadata": {},
   "outputs": [
    {
     "data": {
      "image/png": "[encoded data removed]",
      "text/plain": [
       "<Figure size 864x360 with 1 Axes>"
      ]
     },
     "metadata": {
      "needs_background": "light"
     },
     "output_type": "display_data"
    },
    {
     "data": {
      "image/png": "[encoded data removed]",
      "text/plain": [
       "<Figure size 864x360 with 1 Axes>"
      ]
     },
     "metadata": {
      "needs_background": "light"
     },
     "output_type": "display_data"
    },
    {
     "data": {
      "image/png": "[encoded data removed]",
      "text/plain": [
       "<Figure size 864x360 with 1 Axes>"
      ]
     },
     "metadata": {
      "needs_background": "light"
     },
     "output_type": "display_data"
    },
    {
     "data": {
      "image/png": "[encoded data removed]",
      "text/plain": [
       "<Figure size 864x360 with 1 Axes>"
      ]
     },
     "metadata": {
      "needs_background": "light"
     },
     "output_type": "display_data"
    },
    {
     "data": {
      "image/png": "[encoded data removed]",
      "text/plain": [
       "<Figure size 864x360 with 1 Axes>"
      ]
     },
     "metadata": {
      "needs_background": "light"
     },
     "output_type": "display_data"
    }
   ],
   "source": [
    "top_list = [\"DS\",\"Wii\",\"PS3\", \"X360\",\"PS2\"]\n",
    "for w in top_list:\n",
    "    df.loc[df['platform']== w].pivot_table(index='year_of_release', values='total_income', aggfunc='sum').plot(figsize=(12,5),grid=True,legend=False, title=w)    \n",
    "plt.xlabel('Год')\n",
    "plt.ylabel('Продажи')\n",
    "plt.show()\n",
    "# Не удалось подписать оси на всех графиках"
   ]
  },
  {
   "cell_type": "markdown",
   "metadata": {},
   "source": [
    "- Мы видим, что все топовые платформы, которые принесли наибольшую прибыль, больше не активны, т.к. их продажи упали до 0 или близки к нему;\n",
    "\n",
    "- в 2010 году было две наиболее популярных платформы - X360 и PS3, которые приносили свою пиковую прибыль в 175 и 160 млн. соответсвенно.\n",
    "\n",
    "- За все время наибольшую пиковую прибыль показала платформа PS2 ~230 млн., однако после этого последовал резкий скачок вниз;\n",
    "\n",
    "- Также можно предположить на примере платформ PS3, PS2, X360, что средняя продолжительность активности платформы составляет около 10 лет, но так ли это, мы еще проверим.\n"
   ]
  },
  {
   "cell_type": "markdown",
   "metadata": {},
   "source": [
    "### Актуализируем данные\n",
    "Рассмотрим за какой характерный период появляются и исчезают старые платформы.\n",
    "\n",
    "Формируем датафрейм, куда добавляем столбцы с максимальный и минимальным годом релиза игр, далее вычтем два столбца и получим период, в котором выпускались игры на данную платформу. Год, когда на платформу начали выпускаться игры будем считать выходом платформы, в то же время, год, когда вышли последние игры на платформу, будем считать концом активности данной платформы."
   ]
  },
  {
   "cell_type": "code",
   "execution_count": 36,
   "metadata": {},
   "outputs": [
    {
     "data": {
      "text/plain": [
       "platform\n",
       "PC      24\n",
       "PS2     11\n",
       "X360    11\n",
       "PSP     11\n",
       "Wii     10\n",
       "DC      10\n",
       "PS3     10\n",
       "GB       9\n",
       "DS       9\n",
       "PS       9\n",
       "GBA      7\n",
       "XB       7\n",
       "SNES     7\n",
       "GC       5\n",
       "PSV      5\n",
       "3DS      5\n",
       "SAT      5\n",
       "N64      5\n",
       "WiiU     4\n",
       "XOne     3\n",
       "PS4      3\n",
       "NG       3\n",
       "WS       2\n",
       "NES      2\n",
       "GEN      2\n",
       "SCD      1\n",
       "3DO      1\n",
       "PCFX     0\n",
       "TG16     0\n",
       "GG       0\n",
       "Name: difference, dtype: object"
      ]
     },
     "execution_count": 36,
     "metadata": {},
     "output_type": "execute_result"
    }
   ],
   "source": [
    "common_period = pd.DataFrame(df.pivot_table(index={'platform'}, values=['year_of_release'], aggfunc=[max,min]))\n",
    "common_period['difference'] = common_period['max']-common_period['min']\n",
    "common_period['difference'].sort_values(ascending=False)"
   ]
  },
  {
   "cell_type": "markdown",
   "metadata": {},
   "source": [
    "Уберем нулевую разницу и разницу в год и сильно выбивающееся значение в 24 года у PC"
   ]
  },
  {
   "cell_type": "code",
   "execution_count": 37,
   "metadata": {},
   "outputs": [],
   "source": [
    "common_period = common_period.loc[(common_period['difference'] != 0) &\n",
    "                                  (common_period['difference'] != 1) &\n",
    "                                 (common_period['difference'] != 24)]"
   ]
  },
  {
   "cell_type": "code",
   "execution_count": 38,
   "metadata": {},
   "outputs": [
    {
     "data": {
      "image/png": "[encoded data removed]",
      "text/plain": [
       "<Figure size 864x360 with 1 Axes>"
      ]
     },
     "metadata": {
      "needs_background": "light"
     },
     "output_type": "display_data"
    }
   ],
   "source": [
    "common_period['difference'].plot(kind='hist', bins=5, figsize=(12,5), title='Характерный период \"жизни\" платформы')\n",
    "plt.xlabel('Кол-во лет')\n",
    "plt.ylabel('Кол-во платформ')\n",
    "plt.show()"
   ]
  },
  {
   "cell_type": "markdown",
   "metadata": {},
   "source": []
  },
  {
   "cell_type": "markdown",
   "metadata": {},
   "source": [
    "На гистограмме, мы видим, что в пределах 4-9 лет основная масса значений. Поэтому возьмем среднее значение."
   ]
  },
  {
   "cell_type": "code",
   "execution_count": 39,
   "metadata": {},
   "outputs": [
    {
     "name": "stdout",
     "output_type": "stream",
     "text": [
      "Медиана равна: 6.458333333333333\n",
      "Ср. значение равно: 6.0\n"
     ]
    }
   ],
   "source": [
    "print('Медиана равна:', common_period['difference'].mean())\n",
    "print('Ср. значение равно:', common_period['difference'].median())"
   ]
  },
  {
   "cell_type": "markdown",
   "metadata": {},
   "source": [
    "За характерный период \"жизни\" платформы будет брать среднее значение, в нашем случае это 6,5 из разницы макс. и мин. значения столбца year_of_release."
   ]
  },
  {
   "cell_type": "markdown",
   "metadata": {},
   "source": [
    "Так как характерным периодом жизни платформ является 6.5 лет, предлагаю взять чуть больше половины от этого значения - 4 года. За этот период активности платформы, можно предположить как будут вести себя вышедшие на рынок новые платформы, а также понять у каких платформ падают показатели и которые скоро уйдут с продаж, а какие только начали терять популярность, но возможно еще смогут принести прибыль."
   ]
  },
  {
   "cell_type": "markdown",
   "metadata": {},
   "source": [
    "Итак, так как мы решили каким  порогом является актуальность данных, то создадим новый датафрейм, куда добавим только данные от 2012 года."
   ]
  },
  {
   "cell_type": "code",
   "execution_count": 41,
   "metadata": {},
   "outputs": [
    {
     "data": {
      "text/html": [
       "<div>\n",
       "<style scoped>\n",
       "    .dataframe tbody tr th:only-of-type {\n",
       "        vertical-align: middle;\n",
       "    }\n",
       "\n",
       "    .dataframe tbody tr th {\n",
       "        vertical-align: top;\n",
       "    }\n",
       "\n",
       "    .dataframe thead th {\n",
       "        text-align: right;\n",
       "    }\n",
       "</style>\n",
       "<table border=\"1\" class=\"dataframe\">\n",
       "  <thead>\n",
       "    <tr style=\"text-align: right;\">\n",
       "      <th></th>\n",
       "      <th>name</th>\n",
       "      <th>platform</th>\n",
       "      <th>year_of_release</th>\n",
       "      <th>genre</th>\n",
       "      <th>na_sales</th>\n",
       "      <th>eu_sales</th>\n",
       "      <th>jp_sales</th>\n",
       "      <th>other_sales</th>\n",
       "      <th>critic_score</th>\n",
       "      <th>user_score</th>\n",
       "      <th>rating</th>\n",
       "      <th>total_income</th>\n",
       "    </tr>\n",
       "  </thead>\n",
       "  <tbody>\n",
       "    <tr>\n",
       "      <th>16</th>\n",
       "      <td>Grand Theft Auto V</td>\n",
       "      <td>PS3</td>\n",
       "      <td>2013</td>\n",
       "      <td>Action</td>\n",
       "      <td>7.02</td>\n",
       "      <td>9.09</td>\n",
       "      <td>0.98</td>\n",
       "      <td>3.96</td>\n",
       "      <td>97.0</td>\n",
       "      <td>8.2</td>\n",
       "      <td>M</td>\n",
       "      <td>24.03</td>\n",
       "    </tr>\n",
       "    <tr>\n",
       "      <th>31</th>\n",
       "      <td>Call of Duty: Black Ops 3</td>\n",
       "      <td>PS4</td>\n",
       "      <td>2015</td>\n",
       "      <td>Shooter</td>\n",
       "      <td>6.03</td>\n",
       "      <td>5.86</td>\n",
       "      <td>0.36</td>\n",
       "      <td>2.38</td>\n",
       "      <td>NaN</td>\n",
       "      <td>NaN</td>\n",
       "      <td>Other</td>\n",
       "      <td>16.65</td>\n",
       "    </tr>\n",
       "    <tr>\n",
       "      <th>33</th>\n",
       "      <td>Pokemon X/Pokemon Y</td>\n",
       "      <td>3DS</td>\n",
       "      <td>2013</td>\n",
       "      <td>Role-Playing</td>\n",
       "      <td>5.28</td>\n",
       "      <td>4.19</td>\n",
       "      <td>4.35</td>\n",
       "      <td>0.78</td>\n",
       "      <td>NaN</td>\n",
       "      <td>NaN</td>\n",
       "      <td>Other</td>\n",
       "      <td>11.03</td>\n",
       "    </tr>\n",
       "    <tr>\n",
       "      <th>34</th>\n",
       "      <td>Call of Duty: Black Ops II</td>\n",
       "      <td>PS3</td>\n",
       "      <td>2012</td>\n",
       "      <td>Shooter</td>\n",
       "      <td>4.99</td>\n",
       "      <td>5.73</td>\n",
       "      <td>0.65</td>\n",
       "      <td>2.42</td>\n",
       "      <td>83.0</td>\n",
       "      <td>5.3</td>\n",
       "      <td>M</td>\n",
       "      <td>15.56</td>\n",
       "    </tr>\n",
       "    <tr>\n",
       "      <th>42</th>\n",
       "      <td>Grand Theft Auto V</td>\n",
       "      <td>PS4</td>\n",
       "      <td>2014</td>\n",
       "      <td>Action</td>\n",
       "      <td>3.96</td>\n",
       "      <td>6.31</td>\n",
       "      <td>0.38</td>\n",
       "      <td>1.97</td>\n",
       "      <td>97.0</td>\n",
       "      <td>8.3</td>\n",
       "      <td>M</td>\n",
       "      <td>14.21</td>\n",
       "    </tr>\n",
       "  </tbody>\n",
       "</table>\n",
       "</div>"
      ],
      "text/plain": [
       "                          name platform  year_of_release         genre  \\\n",
       "16          Grand Theft Auto V      PS3             2013        Action   \n",
       "31   Call of Duty: Black Ops 3      PS4             2015       Shooter   \n",
       "33         Pokemon X/Pokemon Y      3DS             2013  Role-Playing   \n",
       "34  Call of Duty: Black Ops II      PS3             2012       Shooter   \n",
       "42          Grand Theft Auto V      PS4             2014        Action   \n",
       "\n",
       "    na_sales  eu_sales  jp_sales  other_sales  critic_score  user_score  \\\n",
       "16      7.02      9.09      0.98         3.96          97.0         8.2   \n",
       "31      6.03      5.86      0.36         2.38           NaN         NaN   \n",
       "33      5.28      4.19      4.35         0.78           NaN         NaN   \n",
       "34      4.99      5.73      0.65         2.42          83.0         5.3   \n",
       "42      3.96      6.31      0.38         1.97          97.0         8.3   \n",
       "\n",
       "   rating  total_income  \n",
       "16      M         24.03  \n",
       "31  Other         16.65  \n",
       "33  Other         11.03  \n",
       "34      M         15.56  \n",
       "42      M         14.21  "
      ]
     },
     "execution_count": 41,
     "metadata": {},
     "output_type": "execute_result"
    }
   ],
   "source": [
    "actual_df.reset_index(drop=True)\n",
    "actual_df.head()"
   ]
  },
  {
   "cell_type": "markdown",
   "metadata": {},
   "source": [
    "### Лидеры и аутсайдеры продаж"
   ]
  },
  {
   "cell_type": "markdown",
   "metadata": {},
   "source": [
    "Построим график с продажами платформ по годам"
   ]
  },
  {
   "cell_type": "code",
   "execution_count": 42,
   "metadata": {},
   "outputs": [
    {
     "data": {
      "image/png": "[encoded data removed]",
      "text/plain": [
       "<Figure size 1224x864 with 1 Axes>"
      ]
     },
     "metadata": {
      "needs_background": "light"
     },
     "output_type": "display_data"
    }
   ],
   "source": [
    "import seaborn as sns\n",
    "x = pd.DataFrame(actual_df.pivot_table(index=('year_of_release','platform'), values='total_income', aggfunc='sum'))\n",
    "#plt.style.use(\"fivethirtyeight\")\n",
    "#platform_list = actual_df['platform'].unique()\n",
    "plt.figure(figsize=(17,12))\n",
    "plt.xlabel('Прибыль')\n",
    "plt.ylabel('Год')\n",
    "plt.title('Динамика продаж с 2012 по 2016 по платформам')\n",
    "sns.lineplot(x='year_of_release', y='total_income', hue='platform', data=x.reset_index())\n",
    "plt.show()"
   ]
  },
  {
   "cell_type": "markdown",
   "metadata": {},
   "source": [
    "На графике, видно, что продажи таких платформ как DS, PSP, Wii, PS3, X360 утратили свою популярность и перестали приносить прибыль. В лидерах можно отметить PS4 и XOne, однако у них начали снижаться показатели прибыли."
   ]
  },
  {
   "cell_type": "markdown",
   "metadata": {},
   "source": [
    "### Диграммы размаха по продажам для платформ"
   ]
  },
  {
   "cell_type": "code",
   "execution_count": 43,
   "metadata": {},
   "outputs": [
    {
     "data": {
      "image/png": "[encoded data removed]",
      "text/plain": [
       "<Figure size 1080x720 with 1 Axes>"
      ]
     },
     "metadata": {
      "needs_background": "light"
     },
     "output_type": "display_data"
    }
   ],
   "source": [
    "actual_df.boxplot(column='total_income', by='platform',figsize=(15,10))\n",
    "plt.xlabel('Платформы')\n",
    "plt.ylabel('Прибыль')\n",
    "plt.show()"
   ]
  },
  {
   "cell_type": "markdown",
   "metadata": {},
   "source": [
    "На графике видно, что наиболее высокие продажи игр у таких платформ как: Wii и серии платформ Xbox (оно и понятно). Также можно отметить наиболее низкие продажи у 3DS, DS, PC, PSP, PSV. Однако отдельного внимания заслуживает огромное кол-во аномалий. Предполоижм, что скорее всего это выпуски игр, которые обрели небывалую популярность среди игроков или возможно даже \"успешные года\", в период которых выпускались популярные игры, особенно это заметно у таких платформы как 3DS, PC, PS3, PS4 и PSV."
   ]
  },
  {
   "cell_type": "markdown",
   "metadata": {},
   "source": [
    "### Поиск корреляций"
   ]
  },
  {
   "cell_type": "markdown",
   "metadata": {},
   "source": [
    "Рассмотрим корреляцию между отзывами игроков/критиков  и продажами на примере PS3 с самым высоким медианным значением."
   ]
  },
  {
   "cell_type": "code",
   "execution_count": 44,
   "metadata": {},
   "outputs": [],
   "source": [
    "actual_df_ps3 = actual_df.query('platform == \"PS3\"')[{'name','na_sales','eu_sales','jp_sales','other_sales','total_income','critic_score','user_score'}]"
   ]
  },
  {
   "cell_type": "code",
   "execution_count": 45,
   "metadata": {},
   "outputs": [
    {
     "data": {
      "text/html": [
       "<div>\n",
       "<style scoped>\n",
       "    .dataframe tbody tr th:only-of-type {\n",
       "        vertical-align: middle;\n",
       "    }\n",
       "\n",
       "    .dataframe tbody tr th {\n",
       "        vertical-align: top;\n",
       "    }\n",
       "\n",
       "    .dataframe thead th {\n",
       "        text-align: right;\n",
       "    }\n",
       "</style>\n",
       "<table border=\"1\" class=\"dataframe\">\n",
       "  <thead>\n",
       "    <tr style=\"text-align: right;\">\n",
       "      <th></th>\n",
       "      <th>jp_sales</th>\n",
       "      <th>na_sales</th>\n",
       "      <th>user_score</th>\n",
       "      <th>other_sales</th>\n",
       "      <th>critic_score</th>\n",
       "      <th>eu_sales</th>\n",
       "      <th>total_income</th>\n",
       "    </tr>\n",
       "  </thead>\n",
       "  <tbody>\n",
       "    <tr>\n",
       "      <th>jp_sales</th>\n",
       "      <td>1.000000</td>\n",
       "      <td>0.410414</td>\n",
       "      <td>0.116749</td>\n",
       "      <td>0.399557</td>\n",
       "      <td>0.211440</td>\n",
       "      <td>0.390394</td>\n",
       "      <td>0.407214</td>\n",
       "    </tr>\n",
       "    <tr>\n",
       "      <th>na_sales</th>\n",
       "      <td>0.410414</td>\n",
       "      <td>1.000000</td>\n",
       "      <td>0.061926</td>\n",
       "      <td>0.926689</td>\n",
       "      <td>0.385995</td>\n",
       "      <td>0.893200</td>\n",
       "      <td>0.953706</td>\n",
       "    </tr>\n",
       "    <tr>\n",
       "      <th>user_score</th>\n",
       "      <td>0.116749</td>\n",
       "      <td>0.061926</td>\n",
       "      <td>1.000000</td>\n",
       "      <td>-0.000095</td>\n",
       "      <td>0.451596</td>\n",
       "      <td>-0.031918</td>\n",
       "      <td>0.005199</td>\n",
       "    </tr>\n",
       "    <tr>\n",
       "      <th>other_sales</th>\n",
       "      <td>0.399557</td>\n",
       "      <td>0.926689</td>\n",
       "      <td>-0.000095</td>\n",
       "      <td>1.000000</td>\n",
       "      <td>0.375815</td>\n",
       "      <td>0.992602</td>\n",
       "      <td>0.995847</td>\n",
       "    </tr>\n",
       "    <tr>\n",
       "      <th>critic_score</th>\n",
       "      <td>0.211440</td>\n",
       "      <td>0.385995</td>\n",
       "      <td>0.451596</td>\n",
       "      <td>0.375815</td>\n",
       "      <td>1.000000</td>\n",
       "      <td>0.379793</td>\n",
       "      <td>0.387847</td>\n",
       "    </tr>\n",
       "    <tr>\n",
       "      <th>eu_sales</th>\n",
       "      <td>0.390394</td>\n",
       "      <td>0.893200</td>\n",
       "      <td>-0.031918</td>\n",
       "      <td>0.992602</td>\n",
       "      <td>0.379793</td>\n",
       "      <td>1.000000</td>\n",
       "      <td>0.986534</td>\n",
       "    </tr>\n",
       "    <tr>\n",
       "      <th>total_income</th>\n",
       "      <td>0.407214</td>\n",
       "      <td>0.953706</td>\n",
       "      <td>0.005199</td>\n",
       "      <td>0.995847</td>\n",
       "      <td>0.387847</td>\n",
       "      <td>0.986534</td>\n",
       "      <td>1.000000</td>\n",
       "    </tr>\n",
       "  </tbody>\n",
       "</table>\n",
       "</div>"
      ],
      "text/plain": [
       "              jp_sales  na_sales  user_score  other_sales  critic_score  \\\n",
       "jp_sales      1.000000  0.410414    0.116749     0.399557      0.211440   \n",
       "na_sales      0.410414  1.000000    0.061926     0.926689      0.385995   \n",
       "user_score    0.116749  0.061926    1.000000    -0.000095      0.451596   \n",
       "other_sales   0.399557  0.926689   -0.000095     1.000000      0.375815   \n",
       "critic_score  0.211440  0.385995    0.451596     0.375815      1.000000   \n",
       "eu_sales      0.390394  0.893200   -0.031918     0.992602      0.379793   \n",
       "total_income  0.407214  0.953706    0.005199     0.995847      0.387847   \n",
       "\n",
       "              eu_sales  total_income  \n",
       "jp_sales      0.390394      0.407214  \n",
       "na_sales      0.893200      0.953706  \n",
       "user_score   -0.031918      0.005199  \n",
       "other_sales   0.992602      0.995847  \n",
       "critic_score  0.379793      0.387847  \n",
       "eu_sales      1.000000      0.986534  \n",
       "total_income  0.986534      1.000000  "
      ]
     },
     "execution_count": 45,
     "metadata": {},
     "output_type": "execute_result"
    }
   ],
   "source": [
    "actual_df_ps3.corr()"
   ]
  },
  {
   "cell_type": "code",
   "execution_count": 46,
   "metadata": {},
   "outputs": [
    {
     "data": {
      "image/png": "[encoded data removed]",
      "text/plain": [
       "<Figure size 864x288 with 1 Axes>"
      ]
     },
     "metadata": {
      "needs_background": "light"
     },
     "output_type": "display_data"
    }
   ],
   "source": [
    "actual_df_ps3.plot(x='critic_score', y='total_income', kind='scatter',figsize=(12,4),title='Зависимость отзывов критиков от продажигр на PS3')\n",
    "plt.show()"
   ]
  },
  {
   "cell_type": "code",
   "execution_count": 47,
   "metadata": {},
   "outputs": [
    {
     "data": {
      "image/png": "[encoded data removed]",
      "text/plain": [
       "<Figure size 864x288 with 1 Axes>"
      ]
     },
     "metadata": {
      "needs_background": "light"
     },
     "output_type": "display_data"
    }
   ],
   "source": [
    "actual_df_ps3.plot(x='user_score', y='total_income', kind='scatter',figsize=(12,4),title='Зависимость отзывов игроков от продаж на PS3')\n",
    "plt.show()"
   ]
  },
  {
   "cell_type": "markdown",
   "metadata": {},
   "source": [
    "Внутри платформы PS3 отзывы пользователей никак не влияют на продажи. Между отзывами критиков и продажами уже наблюдается слабая связь. Из интересного, есть связь между отзывами критиков и отзывами пользователей (критики же тоже люди)."
   ]
  },
  {
   "cell_type": "markdown",
   "metadata": {},
   "source": [
    "Также взглянем на конкурента PS3 - X360."
   ]
  },
  {
   "cell_type": "code",
   "execution_count": 48,
   "metadata": {},
   "outputs": [],
   "source": [
    "actual_df_x360 = actual_df.query('platform == \"X360\"')[{'name','na_sales','eu_sales','jp_sales','other_sales','total_income','critic_score','user_score'}]"
   ]
  },
  {
   "cell_type": "code",
   "execution_count": 49,
   "metadata": {
    "scrolled": true
   },
   "outputs": [
    {
     "data": {
      "text/html": [
       "<div>\n",
       "<style scoped>\n",
       "    .dataframe tbody tr th:only-of-type {\n",
       "        vertical-align: middle;\n",
       "    }\n",
       "\n",
       "    .dataframe tbody tr th {\n",
       "        vertical-align: top;\n",
       "    }\n",
       "\n",
       "    .dataframe thead th {\n",
       "        text-align: right;\n",
       "    }\n",
       "</style>\n",
       "<table border=\"1\" class=\"dataframe\">\n",
       "  <thead>\n",
       "    <tr style=\"text-align: right;\">\n",
       "      <th></th>\n",
       "      <th>jp_sales</th>\n",
       "      <th>na_sales</th>\n",
       "      <th>user_score</th>\n",
       "      <th>other_sales</th>\n",
       "      <th>critic_score</th>\n",
       "      <th>eu_sales</th>\n",
       "      <th>total_income</th>\n",
       "    </tr>\n",
       "  </thead>\n",
       "  <tbody>\n",
       "    <tr>\n",
       "      <th>jp_sales</th>\n",
       "      <td>1.000000</td>\n",
       "      <td>0.552005</td>\n",
       "      <td>0.087920</td>\n",
       "      <td>0.584347</td>\n",
       "      <td>0.312463</td>\n",
       "      <td>0.632173</td>\n",
       "      <td>0.586946</td>\n",
       "    </tr>\n",
       "    <tr>\n",
       "      <th>na_sales</th>\n",
       "      <td>0.552005</td>\n",
       "      <td>1.000000</td>\n",
       "      <td>0.022222</td>\n",
       "      <td>0.977639</td>\n",
       "      <td>0.378376</td>\n",
       "      <td>0.897549</td>\n",
       "      <td>0.990532</td>\n",
       "    </tr>\n",
       "    <tr>\n",
       "      <th>user_score</th>\n",
       "      <td>0.087920</td>\n",
       "      <td>0.022222</td>\n",
       "      <td>1.000000</td>\n",
       "      <td>0.032533</td>\n",
       "      <td>0.656500</td>\n",
       "      <td>0.126155</td>\n",
       "      <td>0.048636</td>\n",
       "    </tr>\n",
       "    <tr>\n",
       "      <th>other_sales</th>\n",
       "      <td>0.584347</td>\n",
       "      <td>0.977639</td>\n",
       "      <td>0.032533</td>\n",
       "      <td>1.000000</td>\n",
       "      <td>0.360675</td>\n",
       "      <td>0.960880</td>\n",
       "      <td>0.995521</td>\n",
       "    </tr>\n",
       "    <tr>\n",
       "      <th>critic_score</th>\n",
       "      <td>0.312463</td>\n",
       "      <td>0.378376</td>\n",
       "      <td>0.656500</td>\n",
       "      <td>0.360675</td>\n",
       "      <td>1.000000</td>\n",
       "      <td>0.348579</td>\n",
       "      <td>0.377961</td>\n",
       "    </tr>\n",
       "    <tr>\n",
       "      <th>eu_sales</th>\n",
       "      <td>0.632173</td>\n",
       "      <td>0.897549</td>\n",
       "      <td>0.126155</td>\n",
       "      <td>0.960880</td>\n",
       "      <td>0.348579</td>\n",
       "      <td>1.000000</td>\n",
       "      <td>0.949252</td>\n",
       "    </tr>\n",
       "    <tr>\n",
       "      <th>total_income</th>\n",
       "      <td>0.586946</td>\n",
       "      <td>0.990532</td>\n",
       "      <td>0.048636</td>\n",
       "      <td>0.995521</td>\n",
       "      <td>0.377961</td>\n",
       "      <td>0.949252</td>\n",
       "      <td>1.000000</td>\n",
       "    </tr>\n",
       "  </tbody>\n",
       "</table>\n",
       "</div>"
      ],
      "text/plain": [
       "              jp_sales  na_sales  user_score  other_sales  critic_score  \\\n",
       "jp_sales      1.000000  0.552005    0.087920     0.584347      0.312463   \n",
       "na_sales      0.552005  1.000000    0.022222     0.977639      0.378376   \n",
       "user_score    0.087920  0.022222    1.000000     0.032533      0.656500   \n",
       "other_sales   0.584347  0.977639    0.032533     1.000000      0.360675   \n",
       "critic_score  0.312463  0.378376    0.656500     0.360675      1.000000   \n",
       "eu_sales      0.632173  0.897549    0.126155     0.960880      0.348579   \n",
       "total_income  0.586946  0.990532    0.048636     0.995521      0.377961   \n",
       "\n",
       "              eu_sales  total_income  \n",
       "jp_sales      0.632173      0.586946  \n",
       "na_sales      0.897549      0.990532  \n",
       "user_score    0.126155      0.048636  \n",
       "other_sales   0.960880      0.995521  \n",
       "critic_score  0.348579      0.377961  \n",
       "eu_sales      1.000000      0.949252  \n",
       "total_income  0.949252      1.000000  "
      ]
     },
     "execution_count": 49,
     "metadata": {},
     "output_type": "execute_result"
    }
   ],
   "source": [
    "actual_df_x360.corr()"
   ]
  },
  {
   "cell_type": "code",
   "execution_count": 50,
   "metadata": {},
   "outputs": [
    {
     "data": {
      "image/png": "[encoded data removed]",
      "text/plain": [
       "<Figure size 864x288 with 1 Axes>"
      ]
     },
     "metadata": {
      "needs_background": "light"
     },
     "output_type": "display_data"
    }
   ],
   "source": [
    "actual_df_x360.plot(x='critic_score', y='total_income', kind='scatter',figsize=(12,4),title='Зависимость отзывов критиков от продаж на X360')\n",
    "plt.show()"
   ]
  },
  {
   "cell_type": "code",
   "execution_count": 51,
   "metadata": {},
   "outputs": [
    {
     "data": {
      "image/png": "[encoded data removed]",
      "text/plain": [
       "<Figure size 864x288 with 1 Axes>"
      ]
     },
     "metadata": {
      "needs_background": "light"
     },
     "output_type": "display_data"
    }
   ],
   "source": [
    "actual_df_x360.plot(x='user_score', y='total_income', kind='scatter',figsize=(12,4),title='Зависимость отзывов игроков от продаж на X360')\n",
    "plt.show()"
   ]
  },
  {
   "cell_type": "markdown",
   "metadata": {},
   "source": [
    "Аналогичная картина, свзяь между отзывами пользователей и продажаи игр на X360 нет, но пристуствует слабая связь между отзывами критиков и продажами."
   ]
  },
  {
   "cell_type": "markdown",
   "metadata": {},
   "source": [
    "Чтобы точно убедиться, что связи между оценками пользователей и продажами нет, рассмотрим корреляцию на примере PS4."
   ]
  },
  {
   "cell_type": "code",
   "execution_count": 52,
   "metadata": {},
   "outputs": [],
   "source": [
    "actual_df_ps4 = actual_df.query('platform == \"PS4\"')[{'name','na_sales','eu_sales','jp_sales','other_sales','total_income','critic_score','user_score'}]"
   ]
  },
  {
   "cell_type": "code",
   "execution_count": 53,
   "metadata": {},
   "outputs": [
    {
     "data": {
      "text/html": [
       "<div>\n",
       "<style scoped>\n",
       "    .dataframe tbody tr th:only-of-type {\n",
       "        vertical-align: middle;\n",
       "    }\n",
       "\n",
       "    .dataframe tbody tr th {\n",
       "        vertical-align: top;\n",
       "    }\n",
       "\n",
       "    .dataframe thead th {\n",
       "        text-align: right;\n",
       "    }\n",
       "</style>\n",
       "<table border=\"1\" class=\"dataframe\">\n",
       "  <thead>\n",
       "    <tr style=\"text-align: right;\">\n",
       "      <th></th>\n",
       "      <th>jp_sales</th>\n",
       "      <th>na_sales</th>\n",
       "      <th>user_score</th>\n",
       "      <th>other_sales</th>\n",
       "      <th>critic_score</th>\n",
       "      <th>eu_sales</th>\n",
       "      <th>total_income</th>\n",
       "    </tr>\n",
       "  </thead>\n",
       "  <tbody>\n",
       "    <tr>\n",
       "      <th>jp_sales</th>\n",
       "      <td>1.000000</td>\n",
       "      <td>0.493776</td>\n",
       "      <td>0.165725</td>\n",
       "      <td>0.512038</td>\n",
       "      <td>0.344006</td>\n",
       "      <td>0.474411</td>\n",
       "      <td>0.511050</td>\n",
       "    </tr>\n",
       "    <tr>\n",
       "      <th>na_sales</th>\n",
       "      <td>0.493776</td>\n",
       "      <td>1.000000</td>\n",
       "      <td>0.007968</td>\n",
       "      <td>0.943790</td>\n",
       "      <td>0.432037</td>\n",
       "      <td>0.781290</td>\n",
       "      <td>0.929172</td>\n",
       "    </tr>\n",
       "    <tr>\n",
       "      <th>user_score</th>\n",
       "      <td>0.165725</td>\n",
       "      <td>0.007968</td>\n",
       "      <td>1.000000</td>\n",
       "      <td>-0.021409</td>\n",
       "      <td>0.605664</td>\n",
       "      <td>-0.045701</td>\n",
       "      <td>-0.025309</td>\n",
       "    </tr>\n",
       "    <tr>\n",
       "      <th>other_sales</th>\n",
       "      <td>0.512038</td>\n",
       "      <td>0.943790</td>\n",
       "      <td>-0.021409</td>\n",
       "      <td>1.000000</td>\n",
       "      <td>0.426254</td>\n",
       "      <td>0.943358</td>\n",
       "      <td>0.999018</td>\n",
       "    </tr>\n",
       "    <tr>\n",
       "      <th>critic_score</th>\n",
       "      <td>0.344006</td>\n",
       "      <td>0.432037</td>\n",
       "      <td>0.605664</td>\n",
       "      <td>0.426254</td>\n",
       "      <td>1.000000</td>\n",
       "      <td>0.359688</td>\n",
       "      <td>0.420058</td>\n",
       "    </tr>\n",
       "    <tr>\n",
       "      <th>eu_sales</th>\n",
       "      <td>0.474411</td>\n",
       "      <td>0.781290</td>\n",
       "      <td>-0.045701</td>\n",
       "      <td>0.943358</td>\n",
       "      <td>0.359688</td>\n",
       "      <td>1.000000</td>\n",
       "      <td>0.956652</td>\n",
       "    </tr>\n",
       "    <tr>\n",
       "      <th>total_income</th>\n",
       "      <td>0.511050</td>\n",
       "      <td>0.929172</td>\n",
       "      <td>-0.025309</td>\n",
       "      <td>0.999018</td>\n",
       "      <td>0.420058</td>\n",
       "      <td>0.956652</td>\n",
       "      <td>1.000000</td>\n",
       "    </tr>\n",
       "  </tbody>\n",
       "</table>\n",
       "</div>"
      ],
      "text/plain": [
       "              jp_sales  na_sales  user_score  other_sales  critic_score  \\\n",
       "jp_sales      1.000000  0.493776    0.165725     0.512038      0.344006   \n",
       "na_sales      0.493776  1.000000    0.007968     0.943790      0.432037   \n",
       "user_score    0.165725  0.007968    1.000000    -0.021409      0.605664   \n",
       "other_sales   0.512038  0.943790   -0.021409     1.000000      0.426254   \n",
       "critic_score  0.344006  0.432037    0.605664     0.426254      1.000000   \n",
       "eu_sales      0.474411  0.781290   -0.045701     0.943358      0.359688   \n",
       "total_income  0.511050  0.929172   -0.025309     0.999018      0.420058   \n",
       "\n",
       "              eu_sales  total_income  \n",
       "jp_sales      0.474411      0.511050  \n",
       "na_sales      0.781290      0.929172  \n",
       "user_score   -0.045701     -0.025309  \n",
       "other_sales   0.943358      0.999018  \n",
       "critic_score  0.359688      0.420058  \n",
       "eu_sales      1.000000      0.956652  \n",
       "total_income  0.956652      1.000000  "
      ]
     },
     "execution_count": 53,
     "metadata": {},
     "output_type": "execute_result"
    }
   ],
   "source": [
    "actual_df_ps4.corr()"
   ]
  },
  {
   "cell_type": "markdown",
   "metadata": {},
   "source": [
    "У платформы PS4 зависимости между продажами и отзывами пользователей тоже нет."
   ]
  },
  {
   "cell_type": "markdown",
   "metadata": {},
   "source": [
    "Таким образом, на продажи у топовых платформ оценки пользователей никак не влияют, что не скажешь про оценки критиков. Люди больше просматривают оценки именно критиков перед покупкой, скорее всего это доверие более опытным и независмым экспертам. Возможно оценки пользователей не отражают реальную картину и не дают полноценное представление об игре, т.к. сколько людей столько и мнений, игроки оценивают игры перед покупкой по трейлерам, по концепции игры, а не по рекомендациям."
   ]
  },
  {
   "cell_type": "markdown",
   "metadata": {},
   "source": [
    "### Рассмотрим распределение игр по жанрам и продажам"
   ]
  },
  {
   "cell_type": "markdown",
   "metadata": {},
   "source": [
    "Для начала взглянем на общее распределение игр по жанрам"
   ]
  },
  {
   "cell_type": "code",
   "execution_count": 54,
   "metadata": {},
   "outputs": [
    {
     "data": {
      "image/png": "[encoded data removed]",
      "text/plain": [
       "<Figure size 864x360 with 1 Axes>"
      ]
     },
     "metadata": {
      "needs_background": "light"
     },
     "output_type": "display_data"
    }
   ],
   "source": [
    "game_genre = actual_df.groupby('genre')['name'].count().sort_values(ascending=False)\n",
    "game_genre.plot(kind='bar', figsize=(12,5), title='Кол-во выпущенных игр по жанрам')\n",
    "plt.xlabel('Жанр')\n",
    "plt.ylabel('Кол-во игр')\n",
    "plt.show()"
   ]
  },
  {
   "cell_type": "markdown",
   "metadata": {},
   "source": [
    "Сразу бросается в глаза, насколько игроки любят жанр Action, в два раза больше выпущенных игр от ближайшего соперника Role-Playing. И действительно, людям куда больше нравятся динамичные и веселые игры нежели чем игры головоломки (Puzzle),у которых наименьшее кол-во выпущенных игр. Также в топ-5 входят такие жанры как: Role-Playing, Adventure, Sports и Shooter у всех примерно одинковое кол-во игр."
   ]
  },
  {
   "cell_type": "markdown",
   "metadata": {},
   "source": [
    "Теперь глянем как продажи зависят от жанра"
   ]
  },
  {
   "cell_type": "code",
   "execution_count": 55,
   "metadata": {},
   "outputs": [
    {
     "data": {
      "image/png": "[encoded data removed]",
      "text/plain": [
       "<Figure size 864x360 with 1 Axes>"
      ]
     },
     "metadata": {
      "needs_background": "light"
     },
     "output_type": "display_data"
    }
   ],
   "source": [
    "genre_income = actual_df.groupby('genre')['total_income'].sum().sort_values(ascending=False)\n",
    "genre_income.plot(kind='bar', figsize=(12,5), title='Продажи игр по жанрам')\n",
    "plt.xlabel('Жанр')\n",
    "plt.ylabel('Суммарная прибыль в млн.')\n",
    "plt.show()"
   ]
  },
  {
   "cell_type": "markdown",
   "metadata": {},
   "source": [
    "Также построим график средних показателей продаж игр по жанрам"
   ]
  },
  {
   "cell_type": "code",
   "execution_count": 56,
   "metadata": {},
   "outputs": [
    {
     "data": {
      "image/png": "[encoded data removed]",
      "text/plain": [
       "<Figure size 864x360 with 1 Axes>"
      ]
     },
     "metadata": {
      "needs_background": "light"
     },
     "output_type": "display_data"
    }
   ],
   "source": [
    "genre_income_mean = actual_df.groupby('genre')['total_income'].mean().sort_values(ascending=False)\n",
    "genre_income_mean.plot(kind='bar', figsize=(12,5), title='Средние показатели продажи игр по жанрам')\n",
    "plt.xlabel('Жанр')\n",
    "plt.ylabel('Продажи')\n",
    "plt.show()"
   ]
  },
  {
   "cell_type": "markdown",
   "metadata": {},
   "source": [
    "Схожая картина: наиболее прибыльным жанром все также является Action. Shooter, Sports, Role-Playing поменяли свои места, но по прежнему входят в пятерку лучших, чего не скажешь про жанр Adventure, его заменил Misc. А вот у средних продаж игр по жанрам, ситуация в корне изменилась. Самые высокие средние показатели у Shooter, далее идут Platform, Sports и Racing, наиболее низкие же продажи у Adventure. Action же расположился на 5-ом месте. Возможно это связано с играми, которые обрели небывалую популярность - \"бестселлеры\"."
   ]
  },
  {
   "cell_type": "markdown",
   "metadata": {},
   "source": [
    "Просмотрев графики распределения прибыли и кол-ва выпущенных игр по жанрам, можно прийти к следующим выводы:\n",
    "    \n",
    "    1) Жанр Action является самым прибыльным делом, поэтому и большинство игр выпускаются именно в этом жанре\n",
    "    \n",
    "    2) Puzzle же напротив является самым низкоприбыльным жанром с наименьшим количеством выпущенных игр.\n",
    "    \n",
    "    3) Также популярными жанрами игр являюются: Shooter, Sports, Role-Playing они как хороши в показателе выпуска игр, так и в прибыле, которую приносят.\n",
    "        \n",
    "    4) А вот по жанру Adventure неоднозначные итоги, игр выходит достаточно, так как входит в пятерку лучших, однако продажи отстают от ближайшего соперника Misc, который и обогнал жанр по продажам, несмотря на меньше выпущенных игр.\n",
    "\n",
    "    5) Стоит отметить и игры \"бестселлеры\", которые могут приносить большую часть прибыли платформам, это особенно видно на графиках боксплот по продажам игр в разрезе платформ."
   ]
  },
  {
   "cell_type": "markdown",
   "metadata": {},
   "source": [
    "### Итоги \n",
    "В ходе данного шага:\n",
    "\n",
    "    -Просмотрели как выпускались по годам и выяснили, что в период до 1991, игровая индустрия не пользовалась популярностью, поэтому опустили игры, вышедшие до начала роста игровой индустрии;\n",
    "    \n",
    "    -Нашли наиболее прибыльные платформы за все время и посмотрели как вели себя их продажи в периоды активности платформ. Отобрали топ 5 платформ(PS2, X360, PS3, Wii, DS) и построили по ним графики;\n",
    "    \n",
    "    -Просмотрели периоды активности платформ (по выпускаемым по ним играм) и нашли среднее время \"жизни\" платформы - 6,5 лет. После чего, актуализировали данные, убрав предыдущие года до 2012 года актуальности. Взяли именно чуть больше половины среднего значения, чтобы посмотреть как ведут себя платформы только набирающие популярность, а также те, которые начинают терять выручку.\n",
    "    \n",
    "    -Просмотрели как ведут себя лидеры и отстающие платформы в актуальный период, а также построили 'ящик с усами' продаж по платформам, что подтвердило наши выводы о лидерах рынка;\n",
    "    \n",
    "    -Также выяснили, есть ли влияние других показателей на прибыль у топовых платформ, как оказалось только отзывы критиков могут повышать продажи игр. Также, есть связь между отзывами пользователей и критиков, однако корреляции между отзывами игроков и продажами нет.\n",
    "    \n",
    "    -Выяснили какие жанры являются наиболее популярными по кол-ву игр и наиболее прибыльными. В пятерке лучших по прибыли оказались Action, Shooter, Sports, Role-Playing и Misc. Но топ-5 по кол-ву выпускаемых игр немного другой: Action, Shooter, Sports, Role-Playing и Adventure."
   ]
  },
  {
   "cell_type": "markdown",
   "metadata": {},
   "source": [
    "## Портрет пользователя региона"
   ]
  },
  {
   "cell_type": "markdown",
   "metadata": {},
   "source": [
    "### Северная Америка\n",
    "Начнем с пользователей Северной Америки NA. Взглянем на самые популярные платформы среди игроков, а также на жанры."
   ]
  },
  {
   "cell_type": "markdown",
   "metadata": {},
   "source": [
    "Взглянем на  наиболее популярные платформы"
   ]
  },
  {
   "cell_type": "code",
   "execution_count": 57,
   "metadata": {},
   "outputs": [
    {
     "data": {
      "image/png": "[encoded data removed]",
      "text/plain": [
       "<Figure size 864x360 with 1 Axes>"
      ]
     },
     "metadata": {
      "needs_background": "light"
     },
     "output_type": "display_data"
    }
   ],
   "source": [
    "top_NA = pd.DataFrame(actual_df.pivot_table(index='name', values = ('na_sales', 'genre','platform', 'rating'), aggfunc=({\"na_sales\": 'first', 'genre': 'first','platform':'first','rating':'first'})))\n",
    "top_NA.groupby('platform')['na_sales'].sum().sort_values(ascending=False).head(5).plot(kind='bar',figsize=(12,5),color='purple', title='Топ-5 платформ по прибыли в Северной Америке')\n",
    "plt.xlabel('Платформы')\n",
    "plt.ylabel('Общая прибыль')\n",
    "plt.show()"
   ]
  },
  {
   "cell_type": "markdown",
   "metadata": {},
   "source": [
    "Мы видим, что приставка PS4  пользуются наибольшей популярностью среди игроков в Северной Америке (около 90 млн прибыли), далее идут X360 с чуть большими продажами чем у PS3 и 3DS (в районе 60 млн.). На последнем же месте расположилисись платформы WiiU(около 30 млн продаж)."
   ]
  },
  {
   "cell_type": "markdown",
   "metadata": {},
   "source": [
    "Посмотрим на самые популярные жанры"
   ]
  },
  {
   "cell_type": "code",
   "execution_count": 58,
   "metadata": {},
   "outputs": [
    {
     "data": {
      "image/png": "[encoded data removed]",
      "text/plain": [
       "<Figure size 864x360 with 1 Axes>"
      ]
     },
     "metadata": {
      "needs_background": "light"
     },
     "output_type": "display_data"
    }
   ],
   "source": [
    "top_NA.groupby('genre')['na_sales'].sum().sort_values(ascending=False).head(5).plot(kind='bar',figsize=(12,5),color='purple', title='Топ-5 жанров по прибыли в Северной Америке' )\n",
    "plt.xlabel('Жанры')\n",
    "plt.ylabel('Общая прибыль')\n",
    "plt.show()"
   ]
  },
  {
   "cell_type": "markdown",
   "metadata": {},
   "source": [
    "Для пользователей Северной Америки самым популярнымм жанром является Action, однако Shooter не сильно отстатет от него. Менее прибыльными оказались Role-Playing, Sports и Misc.\n",
    "Как у я уже говорил, динамичные игры выглядят более привлекательными и интересными для большинства людей."
   ]
  },
  {
   "cell_type": "markdown",
   "metadata": {},
   "source": [
    "### Европа"
   ]
  },
  {
   "cell_type": "code",
   "execution_count": 59,
   "metadata": {},
   "outputs": [],
   "source": [
    "top_EU = pd.DataFrame(actual_df.pivot_table(index='name', values = ('eu_sales', 'genre','platform', 'rating'), aggfunc=({\"eu_sales\": 'first', 'genre': 'first','platform':'first','rating':'first'})))"
   ]
  },
  {
   "cell_type": "markdown",
   "metadata": {},
   "source": [
    "Посмотрим на наиболее популярные платформы в Европе"
   ]
  },
  {
   "cell_type": "code",
   "execution_count": 60,
   "metadata": {},
   "outputs": [
    {
     "data": {
      "image/png": "[encoded data removed]",
      "text/plain": [
       "<Figure size 864x360 with 1 Axes>"
      ]
     },
     "metadata": {
      "needs_background": "light"
     },
     "output_type": "display_data"
    }
   ],
   "source": [
    "top_EU.groupby('platform')['eu_sales'].sum().sort_values(ascending=False).head(5).plot(kind='bar',figsize=(12,5),color='green', title='Топ-5 платформ по прибыли в Европе' )\n",
    "plt.xlabel('Платформы')\n",
    "plt.ylabel('Общая прибыль')\n",
    "plt.show()"
   ]
  },
  {
   "cell_type": "markdown",
   "metadata": {},
   "source": [
    "PS4 по прежнему занимает лидирующую позицию, однако дальше топ сменился. В Европе платформа WiiU не пользуется такой популярностью, как PC. Также люди отдают предпочтение больше PS3 чем X360. Также стоит отметить, что продажи игр на PS4 В Европе больше чем Северной Америке примерно на ~30 млн."
   ]
  },
  {
   "cell_type": "markdown",
   "metadata": {},
   "source": [
    "Взглянем на жанры"
   ]
  },
  {
   "cell_type": "code",
   "execution_count": 61,
   "metadata": {},
   "outputs": [
    {
     "data": {
      "image/png": "[encoded data removed]",
      "text/plain": [
       "<Figure size 864x360 with 1 Axes>"
      ]
     },
     "metadata": {
      "needs_background": "light"
     },
     "output_type": "display_data"
    }
   ],
   "source": [
    "top_EU.groupby('genre')['eu_sales'].sum().sort_values(ascending=False).head(5).plot(kind='bar',figsize=(12,5),color='green', title='Топ-5 жанров по прибыли в Европе' )\n",
    "plt.xlabel('Платформы')\n",
    "plt.ylabel('Общая прибыль')\n",
    "plt.show()"
   ]
  },
  {
   "cell_type": "markdown",
   "metadata": {},
   "source": [
    "Также как и с платформами, первые места у Европы и Северной Амеркии одинаковые, по прибыльности в жанрах лидирующую позицию занимает Action. Хоть и не на много Sports обошел Role-Playing, а закрывает список топ-5 жанр Racing."
   ]
  },
  {
   "cell_type": "markdown",
   "metadata": {},
   "source": [
    "### Япония"
   ]
  },
  {
   "cell_type": "code",
   "execution_count": 62,
   "metadata": {},
   "outputs": [],
   "source": [
    "top_JP = pd.DataFrame(actual_df.pivot_table(index='name', values = ('jp_sales', 'genre','platform', 'rating'), aggfunc=({\"jp_sales\": 'first', 'genre': 'first','platform':'first','rating':'first'})))"
   ]
  },
  {
   "cell_type": "markdown",
   "metadata": {},
   "source": [
    "Построим столбчатую диаграмму для прибыли по жанрам для игроков из Японии."
   ]
  },
  {
   "cell_type": "code",
   "execution_count": 63,
   "metadata": {},
   "outputs": [
    {
     "data": {
      "image/png": "[encoded data removed]",
      "text/plain": [
       "<Figure size 864x360 with 1 Axes>"
      ]
     },
     "metadata": {
      "needs_background": "light"
     },
     "output_type": "display_data"
    }
   ],
   "source": [
    "top_JP.groupby('platform')['jp_sales'].sum().sort_values(ascending=False).head(5).plot(kind='bar',figsize=(12,5),color='orange', title='Топ-5 платформ по прибыли в Японии' )\n",
    "plt.xlabel('Платформы')\n",
    "plt.ylabel('Общая прибыль')\n",
    "plt.show()"
   ]
  },
  {
   "cell_type": "markdown",
   "metadata": {},
   "source": [
    "В Японии с большим отрывом лидирующую строчку занимает платформа 3DS. Далее идут приставки от компании SONY, а замыкает топ WiiU. В пятерке лучших платформ по продажам игр только компании Японских производителей. Возможно, 3DS была прорывом в период её активности среди всех дургих платформ, так как в данной консоли была реализованная функция 3D изображения без использования вспомогательных инструментов (очки)."
   ]
  },
  {
   "cell_type": "code",
   "execution_count": 64,
   "metadata": {},
   "outputs": [
    {
     "data": {
      "image/png": "[encoded data removed]",
      "text/plain": [
       "<Figure size 864x360 with 1 Axes>"
      ]
     },
     "metadata": {
      "needs_background": "light"
     },
     "output_type": "display_data"
    }
   ],
   "source": [
    "top_JP.groupby('genre')['jp_sales'].sum().sort_values(ascending=False).head(5).plot(kind='bar',figsize=(12,5),color='orange', title='Топ-5 жанров по прибыли в Японии' )\n",
    "plt.xlabel('Платформы')\n",
    "plt.ylabel('Общая прибыль')\n",
    "plt.show()"
   ]
  },
  {
   "cell_type": "markdown",
   "metadata": {},
   "source": [
    "И тут Япония отличилась. Наиболее прибльным жанром среди японских игроков является Role-Playing, на втором же месте расположился Action. А вот у оставшихся трех жанров примерно одинаковые низкие показатели продаж на фоне первых двух. В чем же такой большой интерес к играм Role-Playing и Action среди японских игроков? Возможно именно аниме и комиксы привили любовь у японцев к данным жанрам. Играть за любимых и знакомых персонажей, быть участником и их товарищами в увлекательных историях, что может быть лучше?"
   ]
  },
  {
   "cell_type": "markdown",
   "metadata": {},
   "source": [
    "### Рейтинг ESRB"
   ]
  },
  {
   "cell_type": "markdown",
   "metadata": {},
   "source": [
    "Взглянем как ведут себя продажи у разных рейтингов в отдельных регионах"
   ]
  },
  {
   "cell_type": "markdown",
   "metadata": {},
   "source": [
    "#### Северная Америка"
   ]
  },
  {
   "cell_type": "code",
   "execution_count": 65,
   "metadata": {},
   "outputs": [
    {
     "data": {
      "image/png": "[encoded data removed]",
      "text/plain": [
       "<Figure size 360x360 with 1 Axes>"
      ]
     },
     "metadata": {},
     "output_type": "display_data"
    }
   ],
   "source": [
    "top_NA.groupby('rating')['na_sales'].sum().sort_values(ascending=False).plot(kind='pie',figsize=(5,5),title='Доли рейтингов по продажам в Северной Америке',autopct='%1.1f%%')\n",
    "plt.show()"
   ]
  },
  {
   "cell_type": "markdown",
   "metadata": {},
   "source": [
    "В Северной Америке за период с 2012 по 2016 год больше трети продаж были игры с рейтингом \"M\", в то время как наименьшим доходным рейтингом является \"E10+\". Также игры с рейтингом \"T\" и \"E\" занимают по ~25% от общих продаж в Северной Америке."
   ]
  },
  {
   "cell_type": "markdown",
   "metadata": {},
   "source": [
    "#### Европа"
   ]
  },
  {
   "cell_type": "code",
   "execution_count": 66,
   "metadata": {},
   "outputs": [
    {
     "data": {
      "image/png": "[encoded data removed]",
      "text/plain": [
       "<Figure size 360x360 with 1 Axes>"
      ]
     },
     "metadata": {},
     "output_type": "display_data"
    }
   ],
   "source": [
    "top_EU.groupby('rating')['eu_sales'].sum().sort_values(ascending=False).plot(kind='pie',figsize=(5,5),title='Доли рейтингов по продажам в Европе',autopct='%1.1f%%')\n",
    "plt.show()"
   ]
  },
  {
   "cell_type": "markdown",
   "metadata": {},
   "source": [
    "В Европе схожая ситуация, что и в Северной Америке. Наибольшая часть проданных игр имеет рейтинг \"M\", в то время как наименьшая \"E10+\". Однако в Европе игры с рейтингом \"E\" значимо более популярны чем игры рейтинга \"T\"."
   ]
  },
  {
   "cell_type": "markdown",
   "metadata": {},
   "source": [
    "#### Япония"
   ]
  },
  {
   "cell_type": "code",
   "execution_count": 67,
   "metadata": {},
   "outputs": [
    {
     "data": {
      "image/png": "[encoded data removed]",
      "text/plain": [
       "<Figure size 360x360 with 1 Axes>"
      ]
     },
     "metadata": {},
     "output_type": "display_data"
    }
   ],
   "source": [
    "top_JP.groupby('rating')['jp_sales'].sum().sort_values(ascending=False).plot(kind='pie',figsize=(5,5),title='Доли рейтингов по продажам в Японии',autopct='%1.1f%%')\n",
    "plt.show()"
   ]
  },
  {
   "cell_type": "markdown",
   "metadata": {},
   "source": [
    "Кардинальные различия, как и в топовых платформах и жанрах до этого. Больше половины проданных игр в Японии в период с 2012 по 2016 имеют рейтинг \"T\", наименьшая доля у \"E10+\". Далее десятая часть от продаж составляют игры рейтинга \"M\", и ~28% игры с рейтингом \"E\"."
   ]
  },
  {
   "cell_type": "markdown",
   "metadata": {},
   "source": [
    "### Итог\n",
    "\n",
    "По итогам анализа топовых продаж по жанрам и платформам, а также наиболее прибыльными рейтингами, можно сформулировать следующие выводы:\n",
    "\n",
    "1) Типичным игроком в Северной Америке является пользователь, который предпочитает платформу PS4, а также игры в жанре Action (реже Shooter), c рейтингом \"M\" . Так как рейтинг 17+, а значит в основном игроки являются совершеннолетними, возможно даже это люди среднего возраста.\n",
    "\n",
    "2) Для Европе же типичным игроком будет также обладатель PS4, который имеет схожие вкусы в жанрах, что и в Северном Америке (Action, Shooter). Здесь как и в Северной Америке аудитория взрослая, судя по популярному рейтингу в 17+.\n",
    "\n",
    "3) Япония же кардинально отличается игроками. Большая часть игроков это пользователи платформы 3DS, которе играют в Role-Playing игры (реже в Action) c рейтингом \"T\". В Японии скорее всего, больше игроков это подростков (от 13 до 18 лет), однако удтверждать, что это только подрости мы не можем, так как взрослые люди также могут играть в игры рейтинга \"T\" (13+)."
   ]
  },
  {
   "cell_type": "markdown",
   "metadata": {},
   "source": [
    "## Проверка гипотез"
   ]
  },
  {
   "cell_type": "markdown",
   "metadata": {},
   "source": [
    "Проверку гипотез будем осуществлять с применением t-теста. С пороговымм значением alpha = 0.05"
   ]
  },
  {
   "cell_type": "markdown",
   "metadata": {},
   "source": [
    "### Средний рейтинг пользователей платформ Xbox One и PC одинаковые."
   ]
  },
  {
   "cell_type": "markdown",
   "metadata": {},
   "source": [
    "H0 - Средний рейтинг пользователей платформ Xbox One = среднему рейтингу пользователей PC.\n",
    "\n",
    "H1 - Средний рейтинг пользователей платформ Xbox One != среднему рейтингу пользователей PC.\n",
    "\n",
    "В нашем случае альтернативная гипотеза двусторонняя. T-test будет проводится для двух независимых выборок, поэтому до начала теста проверим дисперсии выборок.\n"
   ]
  },
  {
   "cell_type": "code",
   "execution_count": 68,
   "metadata": {},
   "outputs": [
    {
     "name": "stdout",
     "output_type": "stream",
     "text": [
      "Дисперсия XOne: 1.2009686609686612\n",
      "Дисперсия PC: 2.6570502983802218\n"
     ]
    }
   ],
   "source": [
    "xone_score = actual_df.loc[actual_df['platform'] == 'XOne','user_score']\n",
    "pc_score = actual_df.loc[actual_df['platform'] == 'PC','user_score']\n",
    "print('Дисперсия XOne:',(xone_score.std())**2 )\n",
    "print('Дисперсия PC:',(pc_score.std())**2)"
   ]
  },
  {
   "cell_type": "markdown",
   "metadata": {},
   "source": [
    "Так как значения дисперсии не равны, то укажем False в параметре equal_var"
   ]
  },
  {
   "cell_type": "code",
   "execution_count": 69,
   "metadata": {},
   "outputs": [
    {
     "name": "stdout",
     "output_type": "stream",
     "text": [
      "среднее первой выборки: 6.7592592592592595\n",
      "среднее второй выборки:6.736231884057971\n",
      "p-значение: nan\n",
      "Не получилось отвергнуть нулевую гипотезу\n"
     ]
    }
   ],
   "source": [
    "alpha = 0.05\n",
    "print(f'среднее первой выборки: {np.mean(xone_score)}')\n",
    "print(f'среднее второй выборки:{np.mean(pc_score)}')\n",
    "result1 = st.ttest_ind(xone_score, pc_score, equal_var=False)\n",
    "print('p-значение:', result1.pvalue)\n",
    "if result1.pvalue < alpha:\n",
    "    print('Отвергаем нулевую гипотезу')\n",
    "else:\n",
    "    print('Не получилось отвергнуть нулевую гипотезу')"
   ]
  },
  {
   "cell_type": "markdown",
   "metadata": {},
   "source": [
    "Мы не можем отвергнуть нулевую гипотезу, значит скорее всего достоверно то, что средний рейтинг пользователей двух платформ одинаковый, при уровне значимости в 5%. "
   ]
  },
  {
   "cell_type": "markdown",
   "metadata": {},
   "source": [
    "### Средние пользовательские рейтинги жанров Action и Sports разные"
   ]
  },
  {
   "cell_type": "markdown",
   "metadata": {},
   "source": [
    "H0 - Средний рейтинг пользователей, играющих в жанр Action  = среднему рейтингу пользователей игр Sports.\n",
    "\n",
    "H1 - Средний рейтинг пользователей, играющих в жанр Action != среднему рейтингу пользователей игр Sports.\n",
    "\n",
    "В нашем случае альтернативная гипотеза двусторонняя. T-test будет проводится для двух независимых выборок, перед началом проверим дисперсии выборок.\n"
   ]
  },
  {
   "cell_type": "code",
   "execution_count": 70,
   "metadata": {},
   "outputs": [
    {
     "name": "stdout",
     "output_type": "stream",
     "text": [
      "Дисперсия Action: 1.7387686365782908\n",
      "Дисперсия Sports: 2.3760250391236304\n"
     ]
    }
   ],
   "source": [
    "action_score = actual_df.loc[actual_df['genre'] == 'Action','user_score']\n",
    "sports_score = actual_df.loc[actual_df['genre'] == 'Sports','user_score']\n",
    "action_score = action_score[action_score.notna()]\n",
    "sports_score = sports_score[sports_score.notna()]\n",
    "print('Дисперсия Action:',(action_score.std())**2 )\n",
    "print('Дисперсия Sports:',(sports_score.std())**2)"
   ]
  },
  {
   "cell_type": "code",
   "execution_count": 71,
   "metadata": {},
   "outputs": [
    {
     "name": "stdout",
     "output_type": "stream",
     "text": [
      "среднее первой выборки: 7.056147540983606\n",
      "среднее второй выборки:5.905555555555555\n",
      "p-значение: 9.343185645493527e-08\n",
      "Отвергаем нулевую гипотезу\n"
     ]
    }
   ],
   "source": [
    "print(f'среднее первой выборки: {np.mean(action_score)}')\n",
    "print(f'среднее второй выборки:{np.mean(sports_score)}')\n",
    "result2 = st.ttest_ind(action_score, sports_score, equal_var=False)\n",
    "print('p-значение:', result2.pvalue)\n",
    "if result2.pvalue < alpha:\n",
    "    print('Отвергаем нулевую гипотезу')\n",
    "else:\n",
    "    print('Не получилось отвергнуть нулевую гипотезу')"
   ]
  },
  {
   "cell_type": "markdown",
   "metadata": {},
   "source": [
    "По итогам теста с уровнем значимости в 5%, отвергаем нулевую гипотезу в пользу альтернативной. Это означает, что скорее всего наше предположение о том, что средние оценки пользователей у жанров Action и Sport разные - верное."
   ]
  },
  {
   "cell_type": "markdown",
   "metadata": {},
   "source": [
    "### Итоги\n",
    "По итогам проверки гипотез, обе нулевые гипотезы не удалось опровергнуть, что значит:\n",
    "\n",
    "- Предположительно средний рейтинг пользователей платформ XOne и PC одинаковый. При уровне значимости в 5%, мы можем сказать, что это истинное удтверждение.\n",
    "\n",
    "- В случае с равными пользовательскими рейтингами у жанров Action и Sports, есть основание удтверждать, что пользовательские рейтинги не равны, нулевая гипотеза опровергнута в пользу альтернативной. Поэтому исходное предположение скорее всего верное."
   ]
  },
  {
   "cell_type": "markdown",
   "metadata": {},
   "source": [
    "## Вывод\n",
    "По итогам данного исследования:\n",
    "- Исходные данные представляли из себя информацию о выпущенных играх с определенными параметрами (платформа, год релиза, выручка по регионам, рейтинг игры и др.). В датафрейме было довольно много пропусков, а также некорректные данные у некоторых столбцов;\n",
    "- В ходе предобработки данных, удалили явные дубликаты, к счастью их оказалось всего 2. Исправили тип данных у двух столбцов - year_of_release и critic_score, а также привели названия всех столбов к нижнему регистру. Пропущенные значения исправили только в столбце rating на other, в столбцах user_score и critic_score оставили пропуски как есть, так как оценки сугубо индивидуальны, а таже отследить какую либо зависимость с другим параметром невозомжно. Также не удалось исправить пропуски в столбце year_of_release, поэтому данные пришлось опустить, но так как кол-во пропусков состовляло всего 269, то критики нет;\n",
    "- Далее провели иследовательский анализ. Просмотрели как выпускались игры за весь период в исходных данных и отсеяли не информативные года (с 1985 по 1991). Просмотрели поведение по продажам игр наиболее популярных платформ, а также построили отдельно графики для пятерки самых прибыльных платформ за все время и посмотрели их периоды активности. Актуализировали данные: нашли средний период \"жизни\" платформы - 6,5 и оставили данные только за период 2012-2016 год (чуть больше половины от среднего периода \"жизни\" платформы). Построили \"ящик с усами\" по продажам игр для актуальных платформ и изучили лидеров рынка. Выявили, что отзывы критиков влияют на продажи, чем выше оцека, тем выше продажи. Также определили лидеров жанров по прибыли/кол-ву выпущенных игр. Основными претендентами были: Action, Shooter, Sports, Role-Playing, Adventure и Misc. Однако продажи сильно зависят от выбросов, так называемых \"бестселлеров\", которые могут составлять большую часть выручки.\n",
    "- Описали портреты типичных игроков в разных регионах. Для Северной Америки, характерны соверешеннолетние игроки с PS4, играющие в Action (реже Shooter). Для Европы также совершеннолетние игроки, предпочитающие PS4 и жанры Action, Shooter. Для Японии же основными игроками являются подростки (13+) с любимым жанром Role-Playing.\n",
    "- Провели проверки двух гипотез, одна из которых подвердилась, а другая опроверглась. Как итог,  можно предполагать, что средние оценки пользователей у платформ PC и XOne одинаковые, но рейтинги пользователей у двух жанров Action и Sports, скорее всего разные, что подтверждает наше предположение.\n",
    "\n",
    "В целом рекоммендации на 2017 год такие: В ближайшее время, а именно ~2-3 года, наиболее популярными платформами на рынках Европы и Северной Америки будут PS4 и XOne, также в этих регионах пользуются большим спросом игры таких жанров как Action и Shooter, поэтому упор рекламных кампаний следует делать именно на них. Также стоит обращать внимание на игры жанра выше 17 лет, так как именно они и приносят больше всего прибыли. Среди оставшегося списка, можно выбирать игры, где наиболее высокие оценки критиков, так как они напрямую влияют на продажи.\n",
    "\n",
    "Что касается Японского рынка, то тут ситуация отличается. Здесь же стоит присмотреться именно к играм на платформе 3DS, также к жанрам Role-Playing и Action. Большая часть пользователей это подростки (13+), поэтому стоит делать акцент именно на игры рейтинга \"T\", так как они приносят больше половины прибыли."
   ]
  },
  {
   "cell_type": "code",
   "execution_count": null,
   "metadata": {},
   "outputs": [],
   "source": []
  }
 ],
 "metadata": {
  "ExecuteTimeLog": [
   {
    "duration": 62,
    "start_time": "2024-03-25T21:45:31.241Z"
   },
   {
    "duration": 457,
    "start_time": "2024-03-25T22:11:10.074Z"
   },
   {
    "duration": 934,
    "start_time": "2024-03-25T22:11:18.030Z"
   },
   {
    "duration": 3,
    "start_time": "2024-03-25T22:11:20.606Z"
   },
   {
    "duration": 108,
    "start_time": "2024-03-25T22:13:50.305Z"
   },
   {
    "duration": 19,
    "start_time": "2024-03-25T22:13:54.627Z"
   },
   {
    "duration": 15,
    "start_time": "2024-03-25T22:15:19.660Z"
   },
   {
    "duration": 13,
    "start_time": "2024-03-25T22:17:03.422Z"
   },
   {
    "duration": 5,
    "start_time": "2024-03-25T23:14:32.985Z"
   },
   {
    "duration": 44,
    "start_time": "2024-03-25T23:14:39.944Z"
   },
   {
    "duration": 11,
    "start_time": "2024-03-25T23:14:48.535Z"
   },
   {
    "duration": 7,
    "start_time": "2024-03-25T23:15:20.870Z"
   },
   {
    "duration": 22,
    "start_time": "2024-03-25T23:17:04.253Z"
   },
   {
    "duration": 8,
    "start_time": "2024-03-25T23:17:14.958Z"
   },
   {
    "duration": 13,
    "start_time": "2024-03-25T23:17:25.212Z"
   },
   {
    "duration": 8,
    "start_time": "2024-03-25T23:20:34.715Z"
   },
   {
    "duration": 9,
    "start_time": "2024-03-25T23:21:32.672Z"
   },
   {
    "duration": 8,
    "start_time": "2024-03-25T23:22:13.634Z"
   },
   {
    "duration": 5,
    "start_time": "2024-03-25T23:22:24.156Z"
   },
   {
    "duration": 57,
    "start_time": "2024-03-25T23:22:28.170Z"
   },
   {
    "duration": 4,
    "start_time": "2024-03-25T23:22:31.251Z"
   },
   {
    "duration": 12,
    "start_time": "2024-03-25T23:22:36.624Z"
   },
   {
    "duration": 5,
    "start_time": "2024-03-25T23:22:40.876Z"
   },
   {
    "duration": 3,
    "start_time": "2024-03-25T23:22:43.868Z"
   },
   {
    "duration": 9,
    "start_time": "2024-03-25T23:22:47.747Z"
   },
   {
    "duration": 9,
    "start_time": "2024-03-25T23:22:55.522Z"
   },
   {
    "duration": 1100,
    "start_time": "2024-03-25T23:23:01.491Z"
   },
   {
    "duration": 56,
    "start_time": "2024-03-25T23:23:02.593Z"
   },
   {
    "duration": 20,
    "start_time": "2024-03-25T23:23:02.650Z"
   },
   {
    "duration": 38,
    "start_time": "2024-03-25T23:23:02.672Z"
   },
   {
    "duration": 9,
    "start_time": "2024-03-25T23:23:02.712Z"
   },
   {
    "duration": 13,
    "start_time": "2024-03-25T23:23:10.082Z"
   },
   {
    "duration": 3,
    "start_time": "2024-03-25T23:23:19.116Z"
   },
   {
    "duration": 13,
    "start_time": "2024-03-25T23:23:19.357Z"
   },
   {
    "duration": 4,
    "start_time": "2024-03-25T23:23:40.801Z"
   },
   {
    "duration": 5,
    "start_time": "2024-03-25T23:24:00.462Z"
   },
   {
    "duration": 6,
    "start_time": "2024-03-25T23:24:22.435Z"
   },
   {
    "duration": 60,
    "start_time": "2024-03-25T23:25:01.926Z"
   },
   {
    "duration": 66,
    "start_time": "2024-03-25T23:25:13.012Z"
   },
   {
    "duration": 96,
    "start_time": "2024-03-25T23:25:26.563Z"
   },
   {
    "duration": 15,
    "start_time": "2024-03-25T23:26:00.557Z"
   },
   {
    "duration": 6,
    "start_time": "2024-03-25T23:26:38.549Z"
   },
   {
    "duration": 63,
    "start_time": "2024-03-25T23:27:18.953Z"
   },
   {
    "duration": 16,
    "start_time": "2024-03-25T23:27:30.773Z"
   },
   {
    "duration": 465,
    "start_time": "2024-03-25T23:28:22.071Z"
   },
   {
    "duration": 4,
    "start_time": "2024-03-25T23:29:19.248Z"
   },
   {
    "duration": 8,
    "start_time": "2024-03-25T23:30:16.807Z"
   },
   {
    "duration": 19,
    "start_time": "2024-03-25T23:30:45.171Z"
   },
   {
    "duration": 16,
    "start_time": "2024-03-25T23:30:49.973Z"
   },
   {
    "duration": 16,
    "start_time": "2024-03-25T23:31:05.456Z"
   },
   {
    "duration": 8,
    "start_time": "2024-03-25T23:31:24.173Z"
   },
   {
    "duration": 5,
    "start_time": "2024-03-25T23:31:36.429Z"
   },
   {
    "duration": 50,
    "start_time": "2024-03-25T23:33:22.368Z"
   },
   {
    "duration": 4,
    "start_time": "2024-03-25T23:33:24.286Z"
   },
   {
    "duration": 17,
    "start_time": "2024-03-25T23:33:33.445Z"
   },
   {
    "duration": 72,
    "start_time": "2024-03-25T23:34:09.072Z"
   },
   {
    "duration": 4,
    "start_time": "2024-03-25T23:34:13.497Z"
   },
   {
    "duration": 14,
    "start_time": "2024-03-25T23:34:17.984Z"
   },
   {
    "duration": 16,
    "start_time": "2024-03-25T23:34:54.770Z"
   },
   {
    "duration": 8,
    "start_time": "2024-03-25T23:35:47.678Z"
   },
   {
    "duration": 15,
    "start_time": "2024-03-25T23:35:48.728Z"
   },
   {
    "duration": 7,
    "start_time": "2024-03-25T23:37:00.591Z"
   },
   {
    "duration": 18,
    "start_time": "2024-03-25T23:38:21.363Z"
   },
   {
    "duration": 10,
    "start_time": "2024-03-25T23:38:26.771Z"
   },
   {
    "duration": 5,
    "start_time": "2024-03-25T23:39:32.878Z"
   },
   {
    "duration": 6,
    "start_time": "2024-03-25T23:39:37.526Z"
   },
   {
    "duration": 672,
    "start_time": "2024-03-25T23:39:44.880Z"
   },
   {
    "duration": 5,
    "start_time": "2024-03-25T23:39:45.789Z"
   },
   {
    "duration": 1107,
    "start_time": "2024-03-25T23:39:52.091Z"
   },
   {
    "duration": 57,
    "start_time": "2024-03-25T23:39:53.200Z"
   },
   {
    "duration": 19,
    "start_time": "2024-03-25T23:39:53.261Z"
   },
   {
    "duration": 21,
    "start_time": "2024-03-25T23:39:53.283Z"
   },
   {
    "duration": 29,
    "start_time": "2024-03-25T23:39:53.306Z"
   },
   {
    "duration": 29,
    "start_time": "2024-03-25T23:39:53.337Z"
   },
   {
    "duration": 37,
    "start_time": "2024-03-25T23:39:53.367Z"
   },
   {
    "duration": 44,
    "start_time": "2024-03-25T23:39:53.406Z"
   },
   {
    "duration": 44,
    "start_time": "2024-03-25T23:39:53.451Z"
   },
   {
    "duration": 23,
    "start_time": "2024-03-25T23:39:53.498Z"
   },
   {
    "duration": 33,
    "start_time": "2024-03-25T23:39:53.523Z"
   },
   {
    "duration": 9,
    "start_time": "2024-03-25T23:40:05.271Z"
   },
   {
    "duration": 6,
    "start_time": "2024-03-25T23:40:05.727Z"
   },
   {
    "duration": 10,
    "start_time": "2024-03-25T23:40:06.492Z"
   },
   {
    "duration": 7,
    "start_time": "2024-03-25T23:40:18.167Z"
   },
   {
    "duration": 7,
    "start_time": "2024-03-25T23:40:25.168Z"
   },
   {
    "duration": 5,
    "start_time": "2024-03-25T23:40:53.960Z"
   },
   {
    "duration": 6,
    "start_time": "2024-03-25T23:40:59.520Z"
   },
   {
    "duration": 9,
    "start_time": "2024-03-25T23:41:15.912Z"
   },
   {
    "duration": 4,
    "start_time": "2024-03-25T23:41:24.517Z"
   },
   {
    "duration": 12,
    "start_time": "2024-03-25T23:41:24.910Z"
   },
   {
    "duration": 4,
    "start_time": "2024-03-25T23:41:29.315Z"
   },
   {
    "duration": 5,
    "start_time": "2024-03-25T23:41:29.607Z"
   },
   {
    "duration": 11,
    "start_time": "2024-03-25T23:41:29.864Z"
   },
   {
    "duration": 1110,
    "start_time": "2024-03-25T23:41:34.983Z"
   },
   {
    "duration": 56,
    "start_time": "2024-03-25T23:41:36.095Z"
   },
   {
    "duration": 20,
    "start_time": "2024-03-25T23:41:36.153Z"
   },
   {
    "duration": 13,
    "start_time": "2024-03-25T23:41:36.175Z"
   },
   {
    "duration": 3,
    "start_time": "2024-03-25T23:41:36.190Z"
   },
   {
    "duration": 10,
    "start_time": "2024-03-25T23:41:36.194Z"
   },
   {
    "duration": 25,
    "start_time": "2024-03-25T23:41:36.206Z"
   },
   {
    "duration": 28,
    "start_time": "2024-03-25T23:41:36.232Z"
   },
   {
    "duration": 9,
    "start_time": "2024-03-25T23:41:36.262Z"
   },
   {
    "duration": 5,
    "start_time": "2024-03-25T23:41:36.273Z"
   },
   {
    "duration": 9,
    "start_time": "2024-03-25T23:41:36.279Z"
   },
   {
    "duration": 11,
    "start_time": "2024-03-25T23:41:36.289Z"
   },
   {
    "duration": 1410,
    "start_time": "2024-03-27T21:08:53.344Z"
   },
   {
    "duration": 206,
    "start_time": "2024-03-27T21:08:54.756Z"
   },
   {
    "duration": 28,
    "start_time": "2024-03-27T21:08:54.964Z"
   },
   {
    "duration": 22,
    "start_time": "2024-03-27T21:08:54.994Z"
   },
   {
    "duration": 4,
    "start_time": "2024-03-27T21:08:55.018Z"
   },
   {
    "duration": 13,
    "start_time": "2024-03-27T21:08:55.023Z"
   },
   {
    "duration": 14,
    "start_time": "2024-03-27T21:08:55.037Z"
   },
   {
    "duration": 26,
    "start_time": "2024-03-27T21:08:55.053Z"
   },
   {
    "duration": 9,
    "start_time": "2024-03-27T21:08:55.080Z"
   },
   {
    "duration": 5,
    "start_time": "2024-03-27T21:08:55.091Z"
   },
   {
    "duration": 6,
    "start_time": "2024-03-27T21:08:55.098Z"
   },
   {
    "duration": 30,
    "start_time": "2024-03-27T21:08:55.106Z"
   },
   {
    "duration": 5,
    "start_time": "2024-03-27T21:09:04.464Z"
   },
   {
    "duration": 10,
    "start_time": "2024-03-27T21:09:04.986Z"
   },
   {
    "duration": 5,
    "start_time": "2024-03-27T21:09:14.348Z"
   },
   {
    "duration": 6,
    "start_time": "2024-03-27T21:09:20.201Z"
   },
   {
    "duration": 7,
    "start_time": "2024-03-27T21:09:20.777Z"
   },
   {
    "duration": 4,
    "start_time": "2024-03-27T21:09:36.543Z"
   },
   {
    "duration": 5,
    "start_time": "2024-03-27T21:09:37.131Z"
   },
   {
    "duration": 1099,
    "start_time": "2024-03-27T21:09:42.036Z"
   },
   {
    "duration": 58,
    "start_time": "2024-03-27T21:09:43.137Z"
   },
   {
    "duration": 19,
    "start_time": "2024-03-27T21:09:43.196Z"
   },
   {
    "duration": 15,
    "start_time": "2024-03-27T21:09:43.217Z"
   },
   {
    "duration": 3,
    "start_time": "2024-03-27T21:09:43.234Z"
   },
   {
    "duration": 15,
    "start_time": "2024-03-27T21:09:43.239Z"
   },
   {
    "duration": 20,
    "start_time": "2024-03-27T21:09:43.255Z"
   },
   {
    "duration": 33,
    "start_time": "2024-03-27T21:09:43.276Z"
   },
   {
    "duration": 21,
    "start_time": "2024-03-27T21:09:43.311Z"
   },
   {
    "duration": 4,
    "start_time": "2024-03-27T21:09:43.334Z"
   },
   {
    "duration": 14,
    "start_time": "2024-03-27T21:09:43.340Z"
   },
   {
    "duration": 1204,
    "start_time": "2024-03-27T21:09:51.041Z"
   },
   {
    "duration": 57,
    "start_time": "2024-03-27T21:09:52.247Z"
   },
   {
    "duration": 19,
    "start_time": "2024-03-27T21:09:52.305Z"
   },
   {
    "duration": 15,
    "start_time": "2024-03-27T21:09:52.326Z"
   },
   {
    "duration": 20,
    "start_time": "2024-03-27T21:09:52.343Z"
   },
   {
    "duration": 25,
    "start_time": "2024-03-27T21:09:52.365Z"
   },
   {
    "duration": 43,
    "start_time": "2024-03-27T21:09:52.392Z"
   },
   {
    "duration": 22,
    "start_time": "2024-03-27T21:09:52.436Z"
   },
   {
    "duration": 37,
    "start_time": "2024-03-27T21:09:52.460Z"
   },
   {
    "duration": 24,
    "start_time": "2024-03-27T21:09:52.500Z"
   },
   {
    "duration": 8,
    "start_time": "2024-03-27T21:09:52.526Z"
   },
   {
    "duration": 6,
    "start_time": "2024-03-27T21:10:10.416Z"
   },
   {
    "duration": 92,
    "start_time": "2024-03-27T21:10:47.504Z"
   },
   {
    "duration": 5,
    "start_time": "2024-03-27T21:10:51.296Z"
   },
   {
    "duration": 4,
    "start_time": "2024-03-27T21:10:55.444Z"
   },
   {
    "duration": 6,
    "start_time": "2024-03-27T21:11:20.052Z"
   },
   {
    "duration": 6,
    "start_time": "2024-03-27T21:11:43.388Z"
   },
   {
    "duration": 7,
    "start_time": "2024-03-27T21:11:57.716Z"
   },
   {
    "duration": 8,
    "start_time": "2024-03-27T21:15:04.845Z"
   },
   {
    "duration": 16,
    "start_time": "2024-03-27T21:15:11.633Z"
   },
   {
    "duration": 8,
    "start_time": "2024-03-27T21:15:32.441Z"
   },
   {
    "duration": 11,
    "start_time": "2024-03-27T21:15:42.263Z"
   },
   {
    "duration": 14,
    "start_time": "2024-03-27T21:18:06.542Z"
   },
   {
    "duration": 7,
    "start_time": "2024-03-27T21:19:03.663Z"
   },
   {
    "duration": 8,
    "start_time": "2024-03-27T21:19:09.947Z"
   },
   {
    "duration": 6,
    "start_time": "2024-03-27T21:19:12.932Z"
   },
   {
    "duration": 6,
    "start_time": "2024-03-27T21:19:18.840Z"
   },
   {
    "duration": 1211,
    "start_time": "2024-03-27T21:19:53.524Z"
   },
   {
    "duration": 66,
    "start_time": "2024-03-27T21:19:54.737Z"
   },
   {
    "duration": 19,
    "start_time": "2024-03-27T21:19:54.804Z"
   },
   {
    "duration": 16,
    "start_time": "2024-03-27T21:19:54.825Z"
   },
   {
    "duration": 3,
    "start_time": "2024-03-27T21:19:54.842Z"
   },
   {
    "duration": 25,
    "start_time": "2024-03-27T21:19:54.846Z"
   },
   {
    "duration": 7,
    "start_time": "2024-03-27T21:19:54.872Z"
   },
   {
    "duration": 12,
    "start_time": "2024-03-27T21:19:54.881Z"
   },
   {
    "duration": 16,
    "start_time": "2024-03-27T21:19:54.895Z"
   },
   {
    "duration": 16,
    "start_time": "2024-03-27T21:19:54.913Z"
   },
   {
    "duration": 8,
    "start_time": "2024-03-27T21:19:54.931Z"
   },
   {
    "duration": 9,
    "start_time": "2024-03-27T21:19:54.940Z"
   },
   {
    "duration": 116,
    "start_time": "2024-03-27T21:21:30.513Z"
   },
   {
    "duration": 23,
    "start_time": "2024-03-27T21:21:45.461Z"
   },
   {
    "duration": 79,
    "start_time": "2024-03-27T21:22:01.867Z"
   },
   {
    "duration": 9,
    "start_time": "2024-03-27T21:22:04.739Z"
   },
   {
    "duration": 15,
    "start_time": "2024-03-27T21:22:08.740Z"
   },
   {
    "duration": 20,
    "start_time": "2024-03-27T21:22:21.023Z"
   },
   {
    "duration": 60,
    "start_time": "2024-03-27T21:22:28.322Z"
   },
   {
    "duration": 15,
    "start_time": "2024-03-27T21:22:31.912Z"
   },
   {
    "duration": 11,
    "start_time": "2024-03-27T22:46:47.883Z"
   },
   {
    "duration": 83,
    "start_time": "2024-03-27T22:55:55.539Z"
   },
   {
    "duration": 327,
    "start_time": "2024-03-27T22:56:01.303Z"
   },
   {
    "duration": 6,
    "start_time": "2024-03-27T22:56:24.947Z"
   },
   {
    "duration": 1029,
    "start_time": "2024-03-27T22:56:41.503Z"
   },
   {
    "duration": 54,
    "start_time": "2024-03-27T22:56:42.533Z"
   },
   {
    "duration": 18,
    "start_time": "2024-03-27T22:56:42.588Z"
   },
   {
    "duration": 14,
    "start_time": "2024-03-27T22:56:42.608Z"
   },
   {
    "duration": 14,
    "start_time": "2024-03-27T22:56:42.624Z"
   },
   {
    "duration": 14,
    "start_time": "2024-03-27T22:56:42.639Z"
   },
   {
    "duration": 8,
    "start_time": "2024-03-27T22:56:42.654Z"
   },
   {
    "duration": 37,
    "start_time": "2024-03-27T22:56:42.663Z"
   },
   {
    "duration": 16,
    "start_time": "2024-03-27T22:56:42.702Z"
   },
   {
    "duration": 30,
    "start_time": "2024-03-27T22:56:42.719Z"
   },
   {
    "duration": 9,
    "start_time": "2024-03-27T22:56:42.751Z"
   },
   {
    "duration": 8,
    "start_time": "2024-03-27T22:56:42.761Z"
   },
   {
    "duration": 7,
    "start_time": "2024-03-27T22:56:42.771Z"
   },
   {
    "duration": 94,
    "start_time": "2024-03-27T22:57:06.905Z"
   },
   {
    "duration": 12,
    "start_time": "2024-03-27T22:59:29.275Z"
   },
   {
    "duration": 12,
    "start_time": "2024-03-27T22:59:35.742Z"
   },
   {
    "duration": 3,
    "start_time": "2024-03-27T22:59:40.259Z"
   },
   {
    "duration": 14,
    "start_time": "2024-03-27T22:59:41.544Z"
   },
   {
    "duration": 16,
    "start_time": "2024-03-27T22:59:45.444Z"
   },
   {
    "duration": 4,
    "start_time": "2024-03-27T22:59:50.330Z"
   },
   {
    "duration": 13,
    "start_time": "2024-03-27T22:59:50.752Z"
   },
   {
    "duration": 1041,
    "start_time": "2024-03-27T22:59:56.584Z"
   },
   {
    "duration": 54,
    "start_time": "2024-03-27T22:59:57.627Z"
   },
   {
    "duration": 19,
    "start_time": "2024-03-27T22:59:57.682Z"
   },
   {
    "duration": 15,
    "start_time": "2024-03-27T22:59:57.703Z"
   },
   {
    "duration": 3,
    "start_time": "2024-03-27T22:59:57.721Z"
   },
   {
    "duration": 7,
    "start_time": "2024-03-27T22:59:57.725Z"
   },
   {
    "duration": 7,
    "start_time": "2024-03-27T22:59:57.734Z"
   },
   {
    "duration": 27,
    "start_time": "2024-03-27T22:59:57.743Z"
   },
   {
    "duration": 4,
    "start_time": "2024-03-27T22:59:57.772Z"
   },
   {
    "duration": 20,
    "start_time": "2024-03-27T22:59:57.778Z"
   },
   {
    "duration": 11,
    "start_time": "2024-03-27T22:59:57.800Z"
   },
   {
    "duration": 10,
    "start_time": "2024-03-27T22:59:57.812Z"
   },
   {
    "duration": 9,
    "start_time": "2024-03-27T22:59:57.823Z"
   },
   {
    "duration": 1048,
    "start_time": "2024-03-27T23:00:44.394Z"
   },
   {
    "duration": 56,
    "start_time": "2024-03-27T23:00:45.444Z"
   },
   {
    "duration": 20,
    "start_time": "2024-03-27T23:00:45.501Z"
   },
   {
    "duration": 23,
    "start_time": "2024-03-27T23:00:45.523Z"
   },
   {
    "duration": 3,
    "start_time": "2024-03-27T23:00:45.549Z"
   },
   {
    "duration": 25,
    "start_time": "2024-03-27T23:00:45.553Z"
   },
   {
    "duration": 35,
    "start_time": "2024-03-27T23:00:45.579Z"
   },
   {
    "duration": 29,
    "start_time": "2024-03-27T23:00:45.615Z"
   },
   {
    "duration": 9,
    "start_time": "2024-03-27T23:00:45.646Z"
   },
   {
    "duration": 19,
    "start_time": "2024-03-27T23:00:45.656Z"
   },
   {
    "duration": 24,
    "start_time": "2024-03-27T23:00:45.676Z"
   },
   {
    "duration": 4,
    "start_time": "2024-03-27T23:05:19.092Z"
   },
   {
    "duration": 9,
    "start_time": "2024-03-27T23:05:24.174Z"
   },
   {
    "duration": 3,
    "start_time": "2024-03-27T23:05:31.024Z"
   },
   {
    "duration": 9,
    "start_time": "2024-03-27T23:05:31.922Z"
   },
   {
    "duration": 6,
    "start_time": "2024-03-27T23:05:56.970Z"
   },
   {
    "duration": 6,
    "start_time": "2024-03-27T23:05:57.239Z"
   },
   {
    "duration": 1064,
    "start_time": "2024-03-27T23:06:05.188Z"
   },
   {
    "duration": 54,
    "start_time": "2024-03-27T23:06:06.254Z"
   },
   {
    "duration": 17,
    "start_time": "2024-03-27T23:06:06.310Z"
   },
   {
    "duration": 14,
    "start_time": "2024-03-27T23:06:06.329Z"
   },
   {
    "duration": 3,
    "start_time": "2024-03-27T23:06:06.346Z"
   },
   {
    "duration": 24,
    "start_time": "2024-03-27T23:06:06.351Z"
   },
   {
    "duration": 15,
    "start_time": "2024-03-27T23:06:06.377Z"
   },
   {
    "duration": 26,
    "start_time": "2024-03-27T23:06:06.393Z"
   },
   {
    "duration": 10,
    "start_time": "2024-03-27T23:06:06.421Z"
   },
   {
    "duration": 17,
    "start_time": "2024-03-27T23:06:06.433Z"
   },
   {
    "duration": 13,
    "start_time": "2024-03-27T23:06:06.451Z"
   },
   {
    "duration": 9,
    "start_time": "2024-03-27T23:06:06.466Z"
   },
   {
    "duration": 1381,
    "start_time": "2024-03-27T23:08:15.460Z"
   },
   {
    "duration": 1243,
    "start_time": "2024-03-27T23:08:21.813Z"
   },
   {
    "duration": 645,
    "start_time": "2024-03-27T23:08:42.316Z"
   },
   {
    "duration": 7,
    "start_time": "2024-03-27T23:08:56.192Z"
   },
   {
    "duration": 5,
    "start_time": "2024-03-27T23:09:08.221Z"
   },
   {
    "duration": 86,
    "start_time": "2024-03-27T23:09:24.942Z"
   },
   {
    "duration": 11,
    "start_time": "2024-03-27T23:09:28.179Z"
   },
   {
    "duration": 20,
    "start_time": "2024-03-27T23:09:35.342Z"
   },
   {
    "duration": 12,
    "start_time": "2024-03-27T23:09:47.912Z"
   },
   {
    "duration": 12,
    "start_time": "2024-03-27T23:09:56.106Z"
   },
   {
    "duration": 13,
    "start_time": "2024-03-27T23:10:05.571Z"
   },
   {
    "duration": 11,
    "start_time": "2024-03-27T23:10:48.529Z"
   },
   {
    "duration": 45,
    "start_time": "2024-03-27T23:17:02.456Z"
   },
   {
    "duration": 9,
    "start_time": "2024-03-27T23:17:18.118Z"
   },
   {
    "duration": 10,
    "start_time": "2024-03-27T23:28:44.854Z"
   },
   {
    "duration": 9,
    "start_time": "2024-03-27T23:28:57.173Z"
   },
   {
    "duration": 10,
    "start_time": "2024-03-27T23:29:07.007Z"
   },
   {
    "duration": 1037,
    "start_time": "2024-03-27T23:29:37.413Z"
   },
   {
    "duration": 56,
    "start_time": "2024-03-27T23:29:38.452Z"
   },
   {
    "duration": 17,
    "start_time": "2024-03-27T23:29:38.510Z"
   },
   {
    "duration": 13,
    "start_time": "2024-03-27T23:29:38.529Z"
   },
   {
    "duration": 3,
    "start_time": "2024-03-27T23:29:38.544Z"
   },
   {
    "duration": 19,
    "start_time": "2024-03-27T23:29:38.548Z"
   },
   {
    "duration": 11,
    "start_time": "2024-03-27T23:29:38.569Z"
   },
   {
    "duration": 21,
    "start_time": "2024-03-27T23:29:38.581Z"
   },
   {
    "duration": 8,
    "start_time": "2024-03-27T23:29:38.605Z"
   },
   {
    "duration": 9,
    "start_time": "2024-03-27T23:29:38.616Z"
   },
   {
    "duration": 6,
    "start_time": "2024-03-27T23:29:38.627Z"
   },
   {
    "duration": 23,
    "start_time": "2024-03-27T23:29:38.634Z"
   },
   {
    "duration": 51,
    "start_time": "2024-03-27T23:29:38.658Z"
   },
   {
    "duration": 103,
    "start_time": "2024-03-27T23:29:38.710Z"
   },
   {
    "duration": 9,
    "start_time": "2024-03-27T23:31:21.190Z"
   },
   {
    "duration": 1087,
    "start_time": "2024-03-27T23:31:33.448Z"
   },
   {
    "duration": 56,
    "start_time": "2024-03-27T23:31:34.537Z"
   },
   {
    "duration": 18,
    "start_time": "2024-03-27T23:31:34.595Z"
   },
   {
    "duration": 14,
    "start_time": "2024-03-27T23:31:34.615Z"
   },
   {
    "duration": 3,
    "start_time": "2024-03-27T23:31:34.631Z"
   },
   {
    "duration": 10,
    "start_time": "2024-03-27T23:31:34.635Z"
   },
   {
    "duration": 25,
    "start_time": "2024-03-27T23:31:34.646Z"
   },
   {
    "duration": 22,
    "start_time": "2024-03-27T23:31:34.673Z"
   },
   {
    "duration": 9,
    "start_time": "2024-03-27T23:31:34.697Z"
   },
   {
    "duration": 15,
    "start_time": "2024-03-27T23:31:34.707Z"
   },
   {
    "duration": 6,
    "start_time": "2024-03-27T23:31:34.724Z"
   },
   {
    "duration": 10,
    "start_time": "2024-03-27T23:31:34.732Z"
   },
   {
    "duration": 65,
    "start_time": "2024-03-27T23:31:34.744Z"
   },
   {
    "duration": 108,
    "start_time": "2024-03-27T23:31:34.811Z"
   },
   {
    "duration": 78,
    "start_time": "2024-03-27T23:31:54.971Z"
   },
   {
    "duration": 3,
    "start_time": "2024-03-27T23:31:57.372Z"
   },
   {
    "duration": 11,
    "start_time": "2024-03-27T23:31:59.095Z"
   },
   {
    "duration": 9,
    "start_time": "2024-03-27T23:32:11.054Z"
   },
   {
    "duration": 21,
    "start_time": "2024-03-27T23:32:20.316Z"
   },
   {
    "duration": 6,
    "start_time": "2024-03-27T23:32:30.491Z"
   },
   {
    "duration": 8,
    "start_time": "2024-03-27T23:32:35.797Z"
   },
   {
    "duration": 5,
    "start_time": "2024-03-27T23:32:39.489Z"
   },
   {
    "duration": 1060,
    "start_time": "2024-03-27T23:32:56.601Z"
   },
   {
    "duration": 54,
    "start_time": "2024-03-27T23:32:57.663Z"
   },
   {
    "duration": 19,
    "start_time": "2024-03-27T23:32:57.719Z"
   },
   {
    "duration": 30,
    "start_time": "2024-03-27T23:32:57.740Z"
   },
   {
    "duration": 3,
    "start_time": "2024-03-27T23:32:57.772Z"
   },
   {
    "duration": 9,
    "start_time": "2024-03-27T23:32:57.777Z"
   },
   {
    "duration": 21,
    "start_time": "2024-03-27T23:32:57.788Z"
   },
   {
    "duration": 22,
    "start_time": "2024-03-27T23:32:57.811Z"
   },
   {
    "duration": 12,
    "start_time": "2024-03-27T23:32:57.834Z"
   },
   {
    "duration": 10,
    "start_time": "2024-03-27T23:32:57.847Z"
   },
   {
    "duration": 10,
    "start_time": "2024-03-27T23:32:57.859Z"
   },
   {
    "duration": 9,
    "start_time": "2024-03-27T23:32:57.871Z"
   },
   {
    "duration": 41,
    "start_time": "2024-03-27T23:32:57.881Z"
   },
   {
    "duration": 53,
    "start_time": "2024-03-27T23:32:57.924Z"
   },
   {
    "duration": 1104,
    "start_time": "2024-03-27T23:33:10.424Z"
   },
   {
    "duration": 54,
    "start_time": "2024-03-27T23:33:11.530Z"
   },
   {
    "duration": 18,
    "start_time": "2024-03-27T23:33:11.585Z"
   },
   {
    "duration": 14,
    "start_time": "2024-03-27T23:33:11.605Z"
   },
   {
    "duration": 3,
    "start_time": "2024-03-27T23:33:11.621Z"
   },
   {
    "duration": 11,
    "start_time": "2024-03-27T23:33:11.625Z"
   },
   {
    "duration": 9,
    "start_time": "2024-03-27T23:33:11.637Z"
   },
   {
    "duration": 36,
    "start_time": "2024-03-27T23:33:11.647Z"
   },
   {
    "duration": 8,
    "start_time": "2024-03-27T23:33:11.685Z"
   },
   {
    "duration": 8,
    "start_time": "2024-03-27T23:33:11.695Z"
   },
   {
    "duration": 6,
    "start_time": "2024-03-27T23:33:11.705Z"
   },
   {
    "duration": 10,
    "start_time": "2024-03-27T23:33:11.712Z"
   },
   {
    "duration": 73,
    "start_time": "2024-03-27T23:33:11.723Z"
   },
   {
    "duration": 43,
    "start_time": "2024-03-27T23:33:11.797Z"
   },
   {
    "duration": 42,
    "start_time": "2024-03-27T23:35:42.088Z"
   },
   {
    "duration": 41,
    "start_time": "2024-03-27T23:35:42.597Z"
   },
   {
    "duration": 1494,
    "start_time": "2024-03-27T23:42:19.637Z"
   },
   {
    "duration": 1353,
    "start_time": "2024-03-27T23:42:28.492Z"
   },
   {
    "duration": 12,
    "start_time": "2024-03-27T23:42:48.489Z"
   },
   {
    "duration": 12,
    "start_time": "2024-03-27T23:43:40.941Z"
   },
   {
    "duration": 12,
    "start_time": "2024-03-27T23:43:44.923Z"
   },
   {
    "duration": 13,
    "start_time": "2024-03-27T23:43:53.146Z"
   },
   {
    "duration": 11,
    "start_time": "2024-03-27T23:43:59.499Z"
   },
   {
    "duration": 13,
    "start_time": "2024-03-27T23:44:02.838Z"
   },
   {
    "duration": 59,
    "start_time": "2024-03-27T23:44:50.512Z"
   },
   {
    "duration": 5,
    "start_time": "2024-03-27T23:45:13.203Z"
   },
   {
    "duration": 1092,
    "start_time": "2024-03-27T23:48:41.944Z"
   },
   {
    "duration": 56,
    "start_time": "2024-03-27T23:48:43.038Z"
   },
   {
    "duration": 18,
    "start_time": "2024-03-27T23:48:43.095Z"
   },
   {
    "duration": 14,
    "start_time": "2024-03-27T23:48:43.115Z"
   },
   {
    "duration": 3,
    "start_time": "2024-03-27T23:48:43.131Z"
   },
   {
    "duration": 7,
    "start_time": "2024-03-27T23:48:43.135Z"
   },
   {
    "duration": 28,
    "start_time": "2024-03-27T23:48:43.143Z"
   },
   {
    "duration": 13,
    "start_time": "2024-03-27T23:48:43.173Z"
   },
   {
    "duration": 31,
    "start_time": "2024-03-27T23:48:43.187Z"
   },
   {
    "duration": 9,
    "start_time": "2024-03-27T23:48:43.219Z"
   },
   {
    "duration": 6,
    "start_time": "2024-03-27T23:48:43.229Z"
   },
   {
    "duration": 10,
    "start_time": "2024-03-27T23:48:43.236Z"
   },
   {
    "duration": 48,
    "start_time": "2024-03-27T23:48:43.247Z"
   },
   {
    "duration": 43,
    "start_time": "2024-03-27T23:48:43.297Z"
   },
   {
    "duration": 7,
    "start_time": "2024-03-27T23:52:34.384Z"
   },
   {
    "duration": 5,
    "start_time": "2024-03-27T23:53:35.005Z"
   },
   {
    "duration": 97,
    "start_time": "2024-03-28T00:09:50.803Z"
   },
   {
    "duration": 8,
    "start_time": "2024-03-28T00:13:49.781Z"
   },
   {
    "duration": 11,
    "start_time": "2024-03-28T00:13:54.545Z"
   },
   {
    "duration": 8,
    "start_time": "2024-03-28T00:14:10.117Z"
   },
   {
    "duration": 10,
    "start_time": "2024-03-28T00:14:30.867Z"
   },
   {
    "duration": 9,
    "start_time": "2024-03-28T00:14:34.593Z"
   },
   {
    "duration": 6,
    "start_time": "2024-03-28T00:14:39.881Z"
   },
   {
    "duration": 5,
    "start_time": "2024-03-28T00:14:47.575Z"
   },
   {
    "duration": 3,
    "start_time": "2024-03-28T00:16:44.564Z"
   },
   {
    "duration": 6,
    "start_time": "2024-03-28T00:16:50.587Z"
   },
   {
    "duration": 4,
    "start_time": "2024-03-28T00:16:59.975Z"
   },
   {
    "duration": 21,
    "start_time": "2024-03-28T00:17:04.860Z"
   },
   {
    "duration": 9,
    "start_time": "2024-03-28T00:17:39.464Z"
   },
   {
    "duration": 5,
    "start_time": "2024-03-28T00:18:09.351Z"
   },
   {
    "duration": 2,
    "start_time": "2024-03-28T00:18:14.096Z"
   },
   {
    "duration": 67,
    "start_time": "2024-03-28T00:18:14.100Z"
   },
   {
    "duration": 13,
    "start_time": "2024-03-28T00:18:14.169Z"
   },
   {
    "duration": 28,
    "start_time": "2024-03-28T00:18:14.183Z"
   },
   {
    "duration": 4,
    "start_time": "2024-03-28T00:18:14.214Z"
   },
   {
    "duration": 10,
    "start_time": "2024-03-28T00:18:14.219Z"
   },
   {
    "duration": 51,
    "start_time": "2024-03-28T00:18:14.230Z"
   },
   {
    "duration": 23,
    "start_time": "2024-03-28T00:18:14.282Z"
   },
   {
    "duration": 16,
    "start_time": "2024-03-28T00:18:14.306Z"
   },
   {
    "duration": 9,
    "start_time": "2024-03-28T00:18:14.325Z"
   },
   {
    "duration": 26,
    "start_time": "2024-03-28T00:18:14.335Z"
   },
   {
    "duration": 10,
    "start_time": "2024-03-28T00:18:14.363Z"
   },
   {
    "duration": 42,
    "start_time": "2024-03-28T00:18:14.375Z"
   },
   {
    "duration": 50,
    "start_time": "2024-03-28T00:18:14.419Z"
   },
   {
    "duration": 4,
    "start_time": "2024-03-28T00:18:14.471Z"
   },
   {
    "duration": 16,
    "start_time": "2024-03-28T00:18:14.477Z"
   },
   {
    "duration": 1188,
    "start_time": "2024-03-28T00:18:20.352Z"
   },
   {
    "duration": 55,
    "start_time": "2024-03-28T00:18:21.542Z"
   },
   {
    "duration": 18,
    "start_time": "2024-03-28T00:18:21.599Z"
   },
   {
    "duration": 14,
    "start_time": "2024-03-28T00:18:21.618Z"
   },
   {
    "duration": 3,
    "start_time": "2024-03-28T00:18:21.633Z"
   },
   {
    "duration": 12,
    "start_time": "2024-03-28T00:18:21.637Z"
   },
   {
    "duration": 27,
    "start_time": "2024-03-28T00:18:21.650Z"
   },
   {
    "duration": 27,
    "start_time": "2024-03-28T00:18:21.679Z"
   },
   {
    "duration": 9,
    "start_time": "2024-03-28T00:18:21.708Z"
   },
   {
    "duration": 12,
    "start_time": "2024-03-28T00:18:21.719Z"
   },
   {
    "duration": 5,
    "start_time": "2024-03-28T00:18:21.732Z"
   },
   {
    "duration": 15,
    "start_time": "2024-03-28T00:18:21.739Z"
   },
   {
    "duration": 65,
    "start_time": "2024-03-28T00:18:21.755Z"
   },
   {
    "duration": 44,
    "start_time": "2024-03-28T00:18:21.821Z"
   },
   {
    "duration": 5,
    "start_time": "2024-03-28T00:18:21.866Z"
   },
   {
    "duration": 9,
    "start_time": "2024-03-28T00:18:21.873Z"
   },
   {
    "duration": 9,
    "start_time": "2024-03-28T00:18:32.991Z"
   },
   {
    "duration": 9,
    "start_time": "2024-03-28T00:18:57.006Z"
   },
   {
    "duration": 1071,
    "start_time": "2024-03-28T00:19:00.805Z"
   },
   {
    "duration": 54,
    "start_time": "2024-03-28T00:19:01.878Z"
   },
   {
    "duration": 34,
    "start_time": "2024-03-28T00:19:01.934Z"
   },
   {
    "duration": 91,
    "start_time": "2024-03-28T00:19:01.970Z"
   },
   {
    "duration": 43,
    "start_time": "2024-03-28T00:19:02.063Z"
   },
   {
    "duration": 62,
    "start_time": "2024-03-28T00:19:02.107Z"
   },
   {
    "duration": 107,
    "start_time": "2024-03-28T00:19:02.171Z"
   },
   {
    "duration": 58,
    "start_time": "2024-03-28T00:19:02.280Z"
   },
   {
    "duration": 35,
    "start_time": "2024-03-28T00:19:02.340Z"
   },
   {
    "duration": 44,
    "start_time": "2024-03-28T00:19:02.376Z"
   },
   {
    "duration": 32,
    "start_time": "2024-03-28T00:19:02.422Z"
   },
   {
    "duration": 111,
    "start_time": "2024-03-28T00:19:02.455Z"
   },
   {
    "duration": 142,
    "start_time": "2024-03-28T00:19:02.568Z"
   },
   {
    "duration": 39,
    "start_time": "2024-03-28T00:19:02.712Z"
   },
   {
    "duration": 4,
    "start_time": "2024-03-28T00:19:02.753Z"
   },
   {
    "duration": 20,
    "start_time": "2024-03-28T00:19:02.758Z"
   },
   {
    "duration": 53,
    "start_time": "2024-03-28T00:19:02.779Z"
   },
   {
    "duration": 1053,
    "start_time": "2024-03-28T00:20:41.665Z"
   },
   {
    "duration": 54,
    "start_time": "2024-03-28T00:20:42.720Z"
   },
   {
    "duration": 19,
    "start_time": "2024-03-28T00:20:42.776Z"
   },
   {
    "duration": 26,
    "start_time": "2024-03-28T00:20:42.797Z"
   },
   {
    "duration": 4,
    "start_time": "2024-03-28T00:20:42.825Z"
   },
   {
    "duration": 6,
    "start_time": "2024-03-28T00:20:42.831Z"
   },
   {
    "duration": 7,
    "start_time": "2024-03-28T00:20:42.839Z"
   },
   {
    "duration": 32,
    "start_time": "2024-03-28T00:20:42.847Z"
   },
   {
    "duration": 9,
    "start_time": "2024-03-28T00:20:42.881Z"
   },
   {
    "duration": 8,
    "start_time": "2024-03-28T00:20:42.892Z"
   },
   {
    "duration": 6,
    "start_time": "2024-03-28T00:20:42.901Z"
   },
   {
    "duration": 8,
    "start_time": "2024-03-28T00:20:42.908Z"
   },
   {
    "duration": 65,
    "start_time": "2024-03-28T00:20:42.918Z"
   },
   {
    "duration": 38,
    "start_time": "2024-03-28T00:20:42.984Z"
   },
   {
    "duration": 4,
    "start_time": "2024-03-28T00:20:43.024Z"
   },
   {
    "duration": 8,
    "start_time": "2024-03-28T00:20:43.030Z"
   },
   {
    "duration": 11,
    "start_time": "2024-03-28T00:20:43.039Z"
   },
   {
    "duration": 5,
    "start_time": "2024-03-28T00:20:55.976Z"
   },
   {
    "duration": 8,
    "start_time": "2024-03-28T00:20:56.404Z"
   },
   {
    "duration": 4,
    "start_time": "2024-03-28T00:21:20.098Z"
   },
   {
    "duration": 5,
    "start_time": "2024-03-28T00:21:26.222Z"
   },
   {
    "duration": 5,
    "start_time": "2024-03-28T00:21:26.530Z"
   },
   {
    "duration": 99,
    "start_time": "2024-03-28T00:22:27.676Z"
   },
   {
    "duration": 5,
    "start_time": "2024-03-28T00:22:33.595Z"
   },
   {
    "duration": 5,
    "start_time": "2024-03-28T00:22:34.141Z"
   },
   {
    "duration": 95,
    "start_time": "2024-03-28T00:22:57.925Z"
   },
   {
    "duration": 5,
    "start_time": "2024-03-28T00:23:02.259Z"
   },
   {
    "duration": 1288,
    "start_time": "2024-03-28T00:23:03.687Z"
   },
   {
    "duration": 1162,
    "start_time": "2024-03-28T00:23:12.056Z"
   },
   {
    "duration": 1080,
    "start_time": "2024-03-28T00:23:16.337Z"
   },
   {
    "duration": 53,
    "start_time": "2024-03-28T00:23:17.419Z"
   },
   {
    "duration": 18,
    "start_time": "2024-03-28T00:23:17.474Z"
   },
   {
    "duration": 14,
    "start_time": "2024-03-28T00:23:17.493Z"
   },
   {
    "duration": 3,
    "start_time": "2024-03-28T00:23:17.509Z"
   },
   {
    "duration": 8,
    "start_time": "2024-03-28T00:23:17.513Z"
   },
   {
    "duration": 7,
    "start_time": "2024-03-28T00:23:17.523Z"
   },
   {
    "duration": 16,
    "start_time": "2024-03-28T00:23:17.531Z"
   },
   {
    "duration": 27,
    "start_time": "2024-03-28T00:23:17.549Z"
   },
   {
    "duration": 8,
    "start_time": "2024-03-28T00:23:17.578Z"
   },
   {
    "duration": 5,
    "start_time": "2024-03-28T00:23:17.588Z"
   },
   {
    "duration": 15,
    "start_time": "2024-03-28T00:23:17.594Z"
   },
   {
    "duration": 39,
    "start_time": "2024-03-28T00:23:17.610Z"
   },
   {
    "duration": 39,
    "start_time": "2024-03-28T00:23:17.669Z"
   },
   {
    "duration": 5,
    "start_time": "2024-03-28T00:23:17.709Z"
   },
   {
    "duration": 15,
    "start_time": "2024-03-28T00:23:17.715Z"
   },
   {
    "duration": 5,
    "start_time": "2024-03-28T00:23:17.731Z"
   },
   {
    "duration": 4,
    "start_time": "2024-03-28T00:24:43.705Z"
   },
   {
    "duration": 98,
    "start_time": "2024-03-28T00:24:55.409Z"
   },
   {
    "duration": 1082,
    "start_time": "2024-03-28T00:25:00.291Z"
   },
   {
    "duration": 54,
    "start_time": "2024-03-28T00:25:01.374Z"
   },
   {
    "duration": 56,
    "start_time": "2024-03-28T00:25:01.430Z"
   },
   {
    "duration": 133,
    "start_time": "2024-03-28T00:25:01.488Z"
   },
   {
    "duration": 108,
    "start_time": "2024-03-28T00:25:01.623Z"
   },
   {
    "duration": 177,
    "start_time": "2024-03-28T00:25:01.733Z"
   },
   {
    "duration": 86,
    "start_time": "2024-03-28T00:25:01.911Z"
   },
   {
    "duration": 51,
    "start_time": "2024-03-28T00:25:01.999Z"
   },
   {
    "duration": 46,
    "start_time": "2024-03-28T00:25:02.052Z"
   },
   {
    "duration": 34,
    "start_time": "2024-03-28T00:25:02.099Z"
   },
   {
    "duration": 52,
    "start_time": "2024-03-28T00:25:02.135Z"
   },
   {
    "duration": 57,
    "start_time": "2024-03-28T00:25:02.189Z"
   },
   {
    "duration": 73,
    "start_time": "2024-03-28T00:25:02.247Z"
   },
   {
    "duration": 39,
    "start_time": "2024-03-28T00:25:02.322Z"
   },
   {
    "duration": 5,
    "start_time": "2024-03-28T00:25:02.363Z"
   },
   {
    "duration": 128,
    "start_time": "2024-03-28T00:25:02.369Z"
   },
   {
    "duration": 0,
    "start_time": "2024-03-28T00:25:02.498Z"
   },
   {
    "duration": 12,
    "start_time": "2024-03-28T00:25:08.230Z"
   },
   {
    "duration": 20,
    "start_time": "2024-03-28T00:25:22.667Z"
   },
   {
    "duration": 102,
    "start_time": "2024-03-28T00:25:56.447Z"
   },
   {
    "duration": 20,
    "start_time": "2024-03-28T00:26:01.874Z"
   },
   {
    "duration": 9,
    "start_time": "2024-03-28T00:26:22.576Z"
   },
   {
    "duration": 24,
    "start_time": "2024-03-28T00:26:50.630Z"
   },
   {
    "duration": 105,
    "start_time": "2024-03-28T00:27:00.747Z"
   },
   {
    "duration": 21,
    "start_time": "2024-03-28T00:27:05.083Z"
   },
   {
    "duration": 21,
    "start_time": "2024-03-28T00:27:27.559Z"
   },
   {
    "duration": 20,
    "start_time": "2024-03-28T00:27:32.583Z"
   },
   {
    "duration": 19,
    "start_time": "2024-03-28T00:27:37.204Z"
   },
   {
    "duration": 20,
    "start_time": "2024-03-28T00:28:15.877Z"
   },
   {
    "duration": 7,
    "start_time": "2024-03-28T00:28:24.550Z"
   },
   {
    "duration": 5,
    "start_time": "2024-03-28T00:28:32.794Z"
   },
   {
    "duration": 5,
    "start_time": "2024-03-28T00:28:33.987Z"
   },
   {
    "duration": 1035,
    "start_time": "2024-03-28T00:28:43.382Z"
   },
   {
    "duration": 53,
    "start_time": "2024-03-28T00:28:44.418Z"
   },
   {
    "duration": 18,
    "start_time": "2024-03-28T00:28:44.472Z"
   },
   {
    "duration": 13,
    "start_time": "2024-03-28T00:28:44.491Z"
   },
   {
    "duration": 2,
    "start_time": "2024-03-28T00:28:44.506Z"
   },
   {
    "duration": 9,
    "start_time": "2024-03-28T00:28:44.509Z"
   },
   {
    "duration": 8,
    "start_time": "2024-03-28T00:28:44.520Z"
   },
   {
    "duration": 12,
    "start_time": "2024-03-28T00:28:44.529Z"
   },
   {
    "duration": 27,
    "start_time": "2024-03-28T00:28:44.543Z"
   },
   {
    "duration": 8,
    "start_time": "2024-03-28T00:28:44.572Z"
   },
   {
    "duration": 6,
    "start_time": "2024-03-28T00:28:44.581Z"
   },
   {
    "duration": 8,
    "start_time": "2024-03-28T00:28:44.588Z"
   },
   {
    "duration": 45,
    "start_time": "2024-03-28T00:28:44.597Z"
   },
   {
    "duration": 59,
    "start_time": "2024-03-28T00:28:44.644Z"
   },
   {
    "duration": 5,
    "start_time": "2024-03-28T00:28:44.704Z"
   },
   {
    "duration": 11,
    "start_time": "2024-03-28T00:28:44.710Z"
   },
   {
    "duration": 6,
    "start_time": "2024-03-28T00:28:44.723Z"
   },
   {
    "duration": 20,
    "start_time": "2024-03-28T00:29:12.257Z"
   },
   {
    "duration": 50,
    "start_time": "2024-03-28T00:29:48.792Z"
   },
   {
    "duration": 5,
    "start_time": "2024-03-28T00:30:09.566Z"
   },
   {
    "duration": 20,
    "start_time": "2024-03-28T00:30:34.068Z"
   },
   {
    "duration": 1085,
    "start_time": "2024-03-28T00:30:46.589Z"
   },
   {
    "duration": 53,
    "start_time": "2024-03-28T00:30:47.676Z"
   },
   {
    "duration": 18,
    "start_time": "2024-03-28T00:30:47.730Z"
   },
   {
    "duration": 14,
    "start_time": "2024-03-28T00:30:47.750Z"
   },
   {
    "duration": 4,
    "start_time": "2024-03-28T00:30:47.767Z"
   },
   {
    "duration": 13,
    "start_time": "2024-03-28T00:30:47.772Z"
   },
   {
    "duration": 8,
    "start_time": "2024-03-28T00:30:47.787Z"
   },
   {
    "duration": 12,
    "start_time": "2024-03-28T00:30:47.797Z"
   },
   {
    "duration": 9,
    "start_time": "2024-03-28T00:30:47.811Z"
   },
   {
    "duration": 9,
    "start_time": "2024-03-28T00:30:47.821Z"
   },
   {
    "duration": 8,
    "start_time": "2024-03-28T00:30:47.831Z"
   },
   {
    "duration": 30,
    "start_time": "2024-03-28T00:30:47.840Z"
   },
   {
    "duration": 40,
    "start_time": "2024-03-28T00:30:47.872Z"
   },
   {
    "duration": 39,
    "start_time": "2024-03-28T00:30:47.914Z"
   },
   {
    "duration": 18,
    "start_time": "2024-03-28T00:30:47.954Z"
   },
   {
    "duration": 15,
    "start_time": "2024-03-28T00:30:47.973Z"
   },
   {
    "duration": 56,
    "start_time": "2024-03-28T00:30:47.989Z"
   },
   {
    "duration": 52,
    "start_time": "2024-03-28T00:31:02.419Z"
   },
   {
    "duration": 5,
    "start_time": "2024-03-28T00:31:15.256Z"
   },
   {
    "duration": 9,
    "start_time": "2024-03-28T00:31:42.034Z"
   },
   {
    "duration": 5,
    "start_time": "2024-03-28T00:32:11.890Z"
   },
   {
    "duration": 1197,
    "start_time": "2024-03-28T12:04:54.875Z"
   },
   {
    "duration": 103,
    "start_time": "2024-03-28T12:04:56.074Z"
   },
   {
    "duration": 24,
    "start_time": "2024-03-28T12:04:56.178Z"
   },
   {
    "duration": 13,
    "start_time": "2024-03-28T12:04:56.205Z"
   },
   {
    "duration": 2,
    "start_time": "2024-03-28T12:04:56.220Z"
   },
   {
    "duration": 6,
    "start_time": "2024-03-28T12:04:56.224Z"
   },
   {
    "duration": 22,
    "start_time": "2024-03-28T12:04:56.232Z"
   },
   {
    "duration": 13,
    "start_time": "2024-03-28T12:04:56.256Z"
   },
   {
    "duration": 8,
    "start_time": "2024-03-28T12:04:56.270Z"
   },
   {
    "duration": 8,
    "start_time": "2024-03-28T12:04:56.280Z"
   },
   {
    "duration": 5,
    "start_time": "2024-03-28T12:04:56.290Z"
   },
   {
    "duration": 8,
    "start_time": "2024-03-28T12:04:56.297Z"
   },
   {
    "duration": 62,
    "start_time": "2024-03-28T12:04:56.306Z"
   },
   {
    "duration": 35,
    "start_time": "2024-03-28T12:04:56.370Z"
   },
   {
    "duration": 4,
    "start_time": "2024-03-28T12:04:56.406Z"
   },
   {
    "duration": 17,
    "start_time": "2024-03-28T12:04:56.412Z"
   },
   {
    "duration": 16,
    "start_time": "2024-03-28T12:04:56.431Z"
   },
   {
    "duration": 11,
    "start_time": "2024-03-28T12:04:56.449Z"
   },
   {
    "duration": 102,
    "start_time": "2024-03-28T12:06:09.415Z"
   },
   {
    "duration": 9,
    "start_time": "2024-03-28T12:06:20.535Z"
   },
   {
    "duration": 4,
    "start_time": "2024-03-28T12:06:22.680Z"
   },
   {
    "duration": 8,
    "start_time": "2024-03-28T12:06:56.906Z"
   },
   {
    "duration": 8,
    "start_time": "2024-03-28T12:07:07.378Z"
   },
   {
    "duration": 48,
    "start_time": "2024-03-28T12:07:10.386Z"
   },
   {
    "duration": 8,
    "start_time": "2024-03-28T12:07:10.938Z"
   },
   {
    "duration": 46,
    "start_time": "2024-03-28T12:07:13.656Z"
   },
   {
    "duration": 8,
    "start_time": "2024-03-28T12:07:13.874Z"
   },
   {
    "duration": 58451,
    "start_time": "2024-03-28T12:07:24.191Z"
   },
   {
    "duration": 9,
    "start_time": "2024-03-28T12:08:22.643Z"
   },
   {
    "duration": 57,
    "start_time": "2024-03-28T12:09:34.763Z"
   },
   {
    "duration": 9,
    "start_time": "2024-03-28T12:09:35.022Z"
   },
   {
    "duration": 770,
    "start_time": "2024-03-28T12:19:39.190Z"
   },
   {
    "duration": 1002,
    "start_time": "2024-03-28T12:20:08.860Z"
   },
   {
    "duration": 50,
    "start_time": "2024-03-28T12:20:09.866Z"
   },
   {
    "duration": 18,
    "start_time": "2024-03-28T12:20:09.918Z"
   },
   {
    "duration": 14,
    "start_time": "2024-03-28T12:20:09.938Z"
   },
   {
    "duration": 8,
    "start_time": "2024-03-28T12:20:09.955Z"
   },
   {
    "duration": 6,
    "start_time": "2024-03-28T12:20:09.964Z"
   },
   {
    "duration": 6,
    "start_time": "2024-03-28T12:20:09.972Z"
   },
   {
    "duration": 13,
    "start_time": "2024-03-28T12:20:09.979Z"
   },
   {
    "duration": 27,
    "start_time": "2024-03-28T12:20:09.993Z"
   },
   {
    "duration": 24,
    "start_time": "2024-03-28T12:20:10.021Z"
   },
   {
    "duration": 7,
    "start_time": "2024-03-28T12:20:10.046Z"
   },
   {
    "duration": 8,
    "start_time": "2024-03-28T12:20:10.054Z"
   },
   {
    "duration": 38,
    "start_time": "2024-03-28T12:20:10.063Z"
   },
   {
    "duration": 43,
    "start_time": "2024-03-28T12:20:10.103Z"
   },
   {
    "duration": 4,
    "start_time": "2024-03-28T12:20:10.147Z"
   },
   {
    "duration": 5,
    "start_time": "2024-03-28T12:20:10.152Z"
   },
   {
    "duration": 17,
    "start_time": "2024-03-28T12:20:10.159Z"
   },
   {
    "duration": 750,
    "start_time": "2024-03-28T12:20:10.177Z"
   },
   {
    "duration": 5,
    "start_time": "2024-03-28T12:20:46.086Z"
   },
   {
    "duration": 7,
    "start_time": "2024-03-28T12:21:01.447Z"
   },
   {
    "duration": 5,
    "start_time": "2024-03-28T12:21:19.236Z"
   },
   {
    "duration": 5,
    "start_time": "2024-03-28T12:23:32.475Z"
   },
   {
    "duration": 966,
    "start_time": "2024-03-28T12:38:13.299Z"
   },
   {
    "duration": 51,
    "start_time": "2024-03-28T12:38:14.267Z"
   },
   {
    "duration": 15,
    "start_time": "2024-03-28T12:38:14.320Z"
   },
   {
    "duration": 20,
    "start_time": "2024-03-28T12:38:14.336Z"
   },
   {
    "duration": 2,
    "start_time": "2024-03-28T12:38:14.358Z"
   },
   {
    "duration": 7,
    "start_time": "2024-03-28T12:38:14.361Z"
   },
   {
    "duration": 8,
    "start_time": "2024-03-28T12:38:14.369Z"
   },
   {
    "duration": 15,
    "start_time": "2024-03-28T12:38:14.378Z"
   },
   {
    "duration": 7,
    "start_time": "2024-03-28T12:38:14.394Z"
   },
   {
    "duration": 14,
    "start_time": "2024-03-28T12:38:14.402Z"
   },
   {
    "duration": 4,
    "start_time": "2024-03-28T12:38:14.417Z"
   },
   {
    "duration": 8,
    "start_time": "2024-03-28T12:38:14.422Z"
   },
   {
    "duration": 47,
    "start_time": "2024-03-28T12:38:14.431Z"
   },
   {
    "duration": 36,
    "start_time": "2024-03-28T12:38:14.480Z"
   },
   {
    "duration": 4,
    "start_time": "2024-03-28T12:38:14.517Z"
   },
   {
    "duration": 22,
    "start_time": "2024-03-28T12:38:14.523Z"
   },
   {
    "duration": 5,
    "start_time": "2024-03-28T12:38:14.546Z"
   },
   {
    "duration": 729,
    "start_time": "2024-03-28T12:38:14.552Z"
   },
   {
    "duration": 673,
    "start_time": "2024-03-28T12:38:20.778Z"
   },
   {
    "duration": 953,
    "start_time": "2024-03-28T12:41:10.903Z"
   },
   {
    "duration": 51,
    "start_time": "2024-03-28T12:41:11.858Z"
   },
   {
    "duration": 16,
    "start_time": "2024-03-28T12:41:11.910Z"
   },
   {
    "duration": 12,
    "start_time": "2024-03-28T12:41:11.927Z"
   },
   {
    "duration": 2,
    "start_time": "2024-03-28T12:41:11.941Z"
   },
   {
    "duration": 12,
    "start_time": "2024-03-28T12:41:11.945Z"
   },
   {
    "duration": 7,
    "start_time": "2024-03-28T12:41:11.958Z"
   },
   {
    "duration": 13,
    "start_time": "2024-03-28T12:41:11.966Z"
   },
   {
    "duration": 7,
    "start_time": "2024-03-28T12:41:11.980Z"
   },
   {
    "duration": 8,
    "start_time": "2024-03-28T12:41:11.988Z"
   },
   {
    "duration": 5,
    "start_time": "2024-03-28T12:41:11.997Z"
   },
   {
    "duration": 7,
    "start_time": "2024-03-28T12:41:12.003Z"
   },
   {
    "duration": 61,
    "start_time": "2024-03-28T12:41:12.011Z"
   },
   {
    "duration": 43,
    "start_time": "2024-03-28T12:41:12.074Z"
   },
   {
    "duration": 4,
    "start_time": "2024-03-28T12:41:12.119Z"
   },
   {
    "duration": 20,
    "start_time": "2024-03-28T12:41:12.125Z"
   },
   {
    "duration": 4,
    "start_time": "2024-03-28T12:41:12.146Z"
   },
   {
    "duration": 709,
    "start_time": "2024-03-28T12:41:12.151Z"
   },
   {
    "duration": 43,
    "start_time": "2024-03-28T19:33:57.429Z"
   },
   {
    "duration": 1153,
    "start_time": "2024-03-28T19:34:13.334Z"
   },
   {
    "duration": 101,
    "start_time": "2024-03-28T19:34:14.489Z"
   },
   {
    "duration": 16,
    "start_time": "2024-03-28T19:34:14.591Z"
   },
   {
    "duration": 12,
    "start_time": "2024-03-28T19:34:14.608Z"
   },
   {
    "duration": 4,
    "start_time": "2024-03-28T19:34:14.622Z"
   },
   {
    "duration": 11,
    "start_time": "2024-03-28T19:34:14.627Z"
   },
   {
    "duration": 7,
    "start_time": "2024-03-28T19:34:14.639Z"
   },
   {
    "duration": 20,
    "start_time": "2024-03-28T19:34:14.648Z"
   },
   {
    "duration": 7,
    "start_time": "2024-03-28T19:34:14.670Z"
   },
   {
    "duration": 14,
    "start_time": "2024-03-28T19:34:14.679Z"
   },
   {
    "duration": 6,
    "start_time": "2024-03-28T19:34:14.694Z"
   },
   {
    "duration": 10,
    "start_time": "2024-03-28T19:34:14.701Z"
   },
   {
    "duration": 61,
    "start_time": "2024-03-28T19:34:14.713Z"
   },
   {
    "duration": 36,
    "start_time": "2024-03-28T19:34:14.776Z"
   },
   {
    "duration": 4,
    "start_time": "2024-03-28T19:34:14.814Z"
   },
   {
    "duration": 7,
    "start_time": "2024-03-28T19:34:14.819Z"
   },
   {
    "duration": 18,
    "start_time": "2024-03-28T19:34:14.827Z"
   },
   {
    "duration": 866,
    "start_time": "2024-03-28T19:34:14.846Z"
   },
   {
    "duration": 55,
    "start_time": "2024-03-28T19:34:25.541Z"
   },
   {
    "duration": 5,
    "start_time": "2024-03-28T19:34:35.944Z"
   },
   {
    "duration": 5,
    "start_time": "2024-03-28T19:40:44.185Z"
   },
   {
    "duration": 1029,
    "start_time": "2024-03-28T19:40:54.154Z"
   },
   {
    "duration": 51,
    "start_time": "2024-03-28T19:40:55.185Z"
   },
   {
    "duration": 17,
    "start_time": "2024-03-28T19:40:55.237Z"
   },
   {
    "duration": 22,
    "start_time": "2024-03-28T19:40:55.255Z"
   },
   {
    "duration": 3,
    "start_time": "2024-03-28T19:40:55.279Z"
   },
   {
    "duration": 13,
    "start_time": "2024-03-28T19:40:55.283Z"
   },
   {
    "duration": 11,
    "start_time": "2024-03-28T19:40:55.297Z"
   },
   {
    "duration": 18,
    "start_time": "2024-03-28T19:40:55.309Z"
   },
   {
    "duration": 14,
    "start_time": "2024-03-28T19:40:55.328Z"
   },
   {
    "duration": 18,
    "start_time": "2024-03-28T19:40:55.344Z"
   },
   {
    "duration": 8,
    "start_time": "2024-03-28T19:40:55.363Z"
   },
   {
    "duration": 19,
    "start_time": "2024-03-28T19:40:55.372Z"
   },
   {
    "duration": 56,
    "start_time": "2024-03-28T19:40:55.393Z"
   },
   {
    "duration": 38,
    "start_time": "2024-03-28T19:40:55.452Z"
   },
   {
    "duration": 5,
    "start_time": "2024-03-28T19:40:55.492Z"
   },
   {
    "duration": 16,
    "start_time": "2024-03-28T19:40:55.498Z"
   },
   {
    "duration": 22,
    "start_time": "2024-03-28T19:40:55.516Z"
   },
   {
    "duration": 60,
    "start_time": "2024-03-28T19:40:55.540Z"
   },
   {
    "duration": 4,
    "start_time": "2024-03-28T19:40:55.601Z"
   },
   {
    "duration": 19,
    "start_time": "2024-03-28T19:40:55.607Z"
   },
   {
    "duration": 5,
    "start_time": "2024-03-28T19:41:33.748Z"
   },
   {
    "duration": 1019,
    "start_time": "2024-03-28T19:41:40.245Z"
   },
   {
    "duration": 50,
    "start_time": "2024-03-28T19:41:41.266Z"
   },
   {
    "duration": 16,
    "start_time": "2024-03-28T19:41:41.318Z"
   },
   {
    "duration": 13,
    "start_time": "2024-03-28T19:41:41.335Z"
   },
   {
    "duration": 2,
    "start_time": "2024-03-28T19:41:41.350Z"
   },
   {
    "duration": 4,
    "start_time": "2024-03-28T19:41:41.354Z"
   },
   {
    "duration": 15,
    "start_time": "2024-03-28T19:41:41.360Z"
   },
   {
    "duration": 17,
    "start_time": "2024-03-28T19:41:41.376Z"
   },
   {
    "duration": 8,
    "start_time": "2024-03-28T19:41:41.394Z"
   },
   {
    "duration": 8,
    "start_time": "2024-03-28T19:41:41.403Z"
   },
   {
    "duration": 6,
    "start_time": "2024-03-28T19:41:41.413Z"
   },
   {
    "duration": 25,
    "start_time": "2024-03-28T19:41:41.420Z"
   },
   {
    "duration": 43,
    "start_time": "2024-03-28T19:41:41.447Z"
   },
   {
    "duration": 36,
    "start_time": "2024-03-28T19:41:41.493Z"
   },
   {
    "duration": 14,
    "start_time": "2024-03-28T19:41:41.531Z"
   },
   {
    "duration": 5,
    "start_time": "2024-03-28T19:41:41.546Z"
   },
   {
    "duration": 12,
    "start_time": "2024-03-28T19:41:41.552Z"
   },
   {
    "duration": 47,
    "start_time": "2024-03-28T19:41:41.565Z"
   },
   {
    "duration": 5,
    "start_time": "2024-03-28T19:41:41.613Z"
   },
   {
    "duration": 6,
    "start_time": "2024-03-28T19:41:41.619Z"
   },
   {
    "duration": 4,
    "start_time": "2024-03-28T19:41:53.486Z"
   },
   {
    "duration": 6,
    "start_time": "2024-03-28T19:41:58.413Z"
   },
   {
    "duration": 977,
    "start_time": "2024-03-28T19:42:09.098Z"
   },
   {
    "duration": 51,
    "start_time": "2024-03-28T19:42:10.076Z"
   },
   {
    "duration": 16,
    "start_time": "2024-03-28T19:42:10.129Z"
   },
   {
    "duration": 13,
    "start_time": "2024-03-28T19:42:10.147Z"
   },
   {
    "duration": 3,
    "start_time": "2024-03-28T19:42:10.161Z"
   },
   {
    "duration": 5,
    "start_time": "2024-03-28T19:42:10.165Z"
   },
   {
    "duration": 7,
    "start_time": "2024-03-28T19:42:10.171Z"
   },
   {
    "duration": 12,
    "start_time": "2024-03-28T19:42:10.179Z"
   },
   {
    "duration": 8,
    "start_time": "2024-03-28T19:42:10.192Z"
   },
   {
    "duration": 8,
    "start_time": "2024-03-28T19:42:10.202Z"
   },
   {
    "duration": 34,
    "start_time": "2024-03-28T19:42:10.211Z"
   },
   {
    "duration": 8,
    "start_time": "2024-03-28T19:42:10.246Z"
   },
   {
    "duration": 36,
    "start_time": "2024-03-28T19:42:10.256Z"
   },
   {
    "duration": 57,
    "start_time": "2024-03-28T19:42:10.293Z"
   },
   {
    "duration": 5,
    "start_time": "2024-03-28T19:42:10.351Z"
   },
   {
    "duration": 5,
    "start_time": "2024-03-28T19:42:10.358Z"
   },
   {
    "duration": 5,
    "start_time": "2024-03-28T19:42:10.364Z"
   },
   {
    "duration": 47,
    "start_time": "2024-03-28T19:42:10.370Z"
   },
   {
    "duration": 29,
    "start_time": "2024-03-28T19:42:10.418Z"
   },
   {
    "duration": 6,
    "start_time": "2024-03-28T19:42:10.448Z"
   },
   {
    "duration": 880,
    "start_time": "2024-03-28T19:42:24.487Z"
   },
   {
    "duration": 4,
    "start_time": "2024-03-28T19:42:28.938Z"
   },
   {
    "duration": 9,
    "start_time": "2024-03-28T19:42:38.785Z"
   },
   {
    "duration": 19,
    "start_time": "2024-03-28T19:43:19.661Z"
   },
   {
    "duration": 47,
    "start_time": "2024-03-28T19:43:28.251Z"
   },
   {
    "duration": 9,
    "start_time": "2024-03-28T19:43:29.558Z"
   },
   {
    "duration": 6,
    "start_time": "2024-03-28T19:43:30.749Z"
   },
   {
    "duration": 6,
    "start_time": "2024-03-28T19:43:40.664Z"
   },
   {
    "duration": 64,
    "start_time": "2024-03-28T19:43:47.812Z"
   },
   {
    "duration": 18,
    "start_time": "2024-03-28T19:43:52.526Z"
   },
   {
    "duration": 9,
    "start_time": "2024-03-28T19:44:36.589Z"
   },
   {
    "duration": 1387,
    "start_time": "2024-03-28T19:45:35.179Z"
   },
   {
    "duration": 8,
    "start_time": "2024-03-28T19:45:41.991Z"
   },
   {
    "duration": 10,
    "start_time": "2024-03-28T19:46:17.528Z"
   },
   {
    "duration": 1235,
    "start_time": "2024-03-28T19:46:28.274Z"
   },
   {
    "duration": 1280,
    "start_time": "2024-03-28T19:47:36.099Z"
   },
   {
    "duration": 995,
    "start_time": "2024-03-28T19:47:41.575Z"
   },
   {
    "duration": 52,
    "start_time": "2024-03-28T19:47:42.572Z"
   },
   {
    "duration": 17,
    "start_time": "2024-03-28T19:47:42.626Z"
   },
   {
    "duration": 15,
    "start_time": "2024-03-28T19:47:42.644Z"
   },
   {
    "duration": 2,
    "start_time": "2024-03-28T19:47:42.661Z"
   },
   {
    "duration": 7,
    "start_time": "2024-03-28T19:47:42.665Z"
   },
   {
    "duration": 9,
    "start_time": "2024-03-28T19:47:42.673Z"
   },
   {
    "duration": 25,
    "start_time": "2024-03-28T19:47:42.683Z"
   },
   {
    "duration": 7,
    "start_time": "2024-03-28T19:47:42.709Z"
   },
   {
    "duration": 28,
    "start_time": "2024-03-28T19:47:42.717Z"
   },
   {
    "duration": 6,
    "start_time": "2024-03-28T19:47:42.746Z"
   },
   {
    "duration": 14,
    "start_time": "2024-03-28T19:47:42.754Z"
   },
   {
    "duration": 48,
    "start_time": "2024-03-28T19:47:42.770Z"
   },
   {
    "duration": 48,
    "start_time": "2024-03-28T19:47:42.820Z"
   },
   {
    "duration": 4,
    "start_time": "2024-03-28T19:47:42.869Z"
   },
   {
    "duration": 14,
    "start_time": "2024-03-28T19:47:42.874Z"
   },
   {
    "duration": 7,
    "start_time": "2024-03-28T19:47:42.889Z"
   },
   {
    "duration": 1510,
    "start_time": "2024-03-28T19:47:42.898Z"
   },
   {
    "duration": 47,
    "start_time": "2024-03-28T19:47:44.410Z"
   },
   {
    "duration": 101,
    "start_time": "2024-03-28T19:47:44.459Z"
   },
   {
    "duration": 0,
    "start_time": "2024-03-28T19:47:44.561Z"
   },
   {
    "duration": 0,
    "start_time": "2024-03-28T19:47:44.562Z"
   },
   {
    "duration": 1294,
    "start_time": "2024-03-28T19:50:27.286Z"
   },
   {
    "duration": 12,
    "start_time": "2024-03-28T19:50:39.905Z"
   },
   {
    "duration": 968,
    "start_time": "2024-03-28T19:52:32.994Z"
   },
   {
    "duration": 50,
    "start_time": "2024-03-28T19:52:33.964Z"
   },
   {
    "duration": 15,
    "start_time": "2024-03-28T19:52:34.016Z"
   },
   {
    "duration": 12,
    "start_time": "2024-03-28T19:52:34.033Z"
   },
   {
    "duration": 3,
    "start_time": "2024-03-28T19:52:34.046Z"
   },
   {
    "duration": 6,
    "start_time": "2024-03-28T19:52:34.050Z"
   },
   {
    "duration": 8,
    "start_time": "2024-03-28T19:52:34.057Z"
   },
   {
    "duration": 16,
    "start_time": "2024-03-28T19:52:34.066Z"
   },
   {
    "duration": 8,
    "start_time": "2024-03-28T19:52:34.083Z"
   },
   {
    "duration": 7,
    "start_time": "2024-03-28T19:52:34.092Z"
   },
   {
    "duration": 5,
    "start_time": "2024-03-28T19:52:34.101Z"
   },
   {
    "duration": 7,
    "start_time": "2024-03-28T19:52:34.107Z"
   },
   {
    "duration": 60,
    "start_time": "2024-03-28T19:52:34.115Z"
   },
   {
    "duration": 35,
    "start_time": "2024-03-28T19:52:34.177Z"
   },
   {
    "duration": 4,
    "start_time": "2024-03-28T19:52:34.213Z"
   },
   {
    "duration": 5,
    "start_time": "2024-03-28T19:52:34.218Z"
   },
   {
    "duration": 4,
    "start_time": "2024-03-28T19:52:34.245Z"
   },
   {
    "duration": 60,
    "start_time": "2024-03-28T19:52:34.250Z"
   },
   {
    "duration": 7,
    "start_time": "2024-03-28T19:52:34.311Z"
   },
   {
    "duration": 1389,
    "start_time": "2024-03-28T19:53:19.961Z"
   },
   {
    "duration": 8,
    "start_time": "2024-03-28T19:53:21.351Z"
   },
   {
    "duration": 5,
    "start_time": "2024-03-28T19:53:51.731Z"
   },
   {
    "duration": 1023,
    "start_time": "2024-03-28T19:54:49.946Z"
   },
   {
    "duration": 51,
    "start_time": "2024-03-28T19:54:50.971Z"
   },
   {
    "duration": 17,
    "start_time": "2024-03-28T19:54:51.023Z"
   },
   {
    "duration": 22,
    "start_time": "2024-03-28T19:54:51.041Z"
   },
   {
    "duration": 7,
    "start_time": "2024-03-28T19:54:51.065Z"
   },
   {
    "duration": 16,
    "start_time": "2024-03-28T19:54:51.074Z"
   },
   {
    "duration": 28,
    "start_time": "2024-03-28T19:54:51.091Z"
   },
   {
    "duration": 28,
    "start_time": "2024-03-28T19:54:51.120Z"
   },
   {
    "duration": 13,
    "start_time": "2024-03-28T19:54:51.149Z"
   },
   {
    "duration": 27,
    "start_time": "2024-03-28T19:54:51.163Z"
   },
   {
    "duration": 31,
    "start_time": "2024-03-28T19:54:51.191Z"
   },
   {
    "duration": 20,
    "start_time": "2024-03-28T19:54:51.223Z"
   },
   {
    "duration": 13,
    "start_time": "2024-03-28T19:54:51.244Z"
   },
   {
    "duration": 43,
    "start_time": "2024-03-28T19:54:51.259Z"
   },
   {
    "duration": 36,
    "start_time": "2024-03-28T19:54:51.303Z"
   },
   {
    "duration": 5,
    "start_time": "2024-03-28T19:54:51.340Z"
   },
   {
    "duration": 8,
    "start_time": "2024-03-28T19:54:51.346Z"
   },
   {
    "duration": 6,
    "start_time": "2024-03-28T19:54:51.355Z"
   },
   {
    "duration": 1383,
    "start_time": "2024-03-28T19:54:51.362Z"
   },
   {
    "duration": 8,
    "start_time": "2024-03-28T19:54:52.746Z"
   },
   {
    "duration": 5,
    "start_time": "2024-03-28T19:54:52.755Z"
   },
   {
    "duration": 1009,
    "start_time": "2024-03-28T19:55:46.460Z"
   },
   {
    "duration": 54,
    "start_time": "2024-03-28T19:55:47.470Z"
   },
   {
    "duration": 16,
    "start_time": "2024-03-28T19:55:47.525Z"
   },
   {
    "duration": 23,
    "start_time": "2024-03-28T19:55:47.542Z"
   },
   {
    "duration": 23,
    "start_time": "2024-03-28T19:55:47.567Z"
   },
   {
    "duration": 2,
    "start_time": "2024-03-28T19:55:47.591Z"
   },
   {
    "duration": 5,
    "start_time": "2024-03-28T19:55:47.595Z"
   },
   {
    "duration": 7,
    "start_time": "2024-03-28T19:55:47.601Z"
   },
   {
    "duration": 14,
    "start_time": "2024-03-28T19:55:47.609Z"
   },
   {
    "duration": 7,
    "start_time": "2024-03-28T19:55:47.625Z"
   },
   {
    "duration": 18,
    "start_time": "2024-03-28T19:55:47.633Z"
   },
   {
    "duration": 6,
    "start_time": "2024-03-28T19:55:47.652Z"
   },
   {
    "duration": 7,
    "start_time": "2024-03-28T19:55:47.659Z"
   },
   {
    "duration": 52,
    "start_time": "2024-03-28T19:55:47.667Z"
   },
   {
    "duration": 55,
    "start_time": "2024-03-28T19:55:47.720Z"
   },
   {
    "duration": 4,
    "start_time": "2024-03-28T19:55:47.776Z"
   },
   {
    "duration": 7,
    "start_time": "2024-03-28T19:55:47.782Z"
   },
   {
    "duration": 16,
    "start_time": "2024-03-28T19:55:47.790Z"
   },
   {
    "duration": 1395,
    "start_time": "2024-03-28T19:55:47.807Z"
   },
   {
    "duration": 8,
    "start_time": "2024-03-28T19:55:49.203Z"
   },
   {
    "duration": 5,
    "start_time": "2024-03-28T19:55:49.212Z"
   },
   {
    "duration": 83,
    "start_time": "2024-03-28T19:57:13.378Z"
   },
   {
    "duration": 11,
    "start_time": "2024-03-28T19:57:22.273Z"
   },
   {
    "duration": 1052,
    "start_time": "2024-03-28T19:58:17.343Z"
   },
   {
    "duration": 52,
    "start_time": "2024-03-28T19:58:18.397Z"
   },
   {
    "duration": 16,
    "start_time": "2024-03-28T19:58:18.453Z"
   },
   {
    "duration": 13,
    "start_time": "2024-03-28T19:58:18.471Z"
   },
   {
    "duration": 20,
    "start_time": "2024-03-28T19:58:18.485Z"
   },
   {
    "duration": 3,
    "start_time": "2024-03-28T19:58:18.506Z"
   },
   {
    "duration": 8,
    "start_time": "2024-03-28T19:58:18.510Z"
   },
   {
    "duration": 2,
    "start_time": "2024-03-28T19:58:18.546Z"
   },
   {
    "duration": 21,
    "start_time": "2024-03-28T19:58:18.551Z"
   },
   {
    "duration": 12,
    "start_time": "2024-03-28T19:58:18.574Z"
   },
   {
    "duration": 9,
    "start_time": "2024-03-28T19:58:18.588Z"
   },
   {
    "duration": 6,
    "start_time": "2024-03-28T19:58:18.599Z"
   },
   {
    "duration": 39,
    "start_time": "2024-03-28T19:58:18.607Z"
   },
   {
    "duration": 38,
    "start_time": "2024-03-28T19:58:18.648Z"
   },
   {
    "duration": 130,
    "start_time": "2024-03-28T19:58:18.687Z"
   },
   {
    "duration": 0,
    "start_time": "2024-03-28T19:58:18.818Z"
   },
   {
    "duration": 0,
    "start_time": "2024-03-28T19:58:18.819Z"
   },
   {
    "duration": 0,
    "start_time": "2024-03-28T19:58:18.820Z"
   },
   {
    "duration": 0,
    "start_time": "2024-03-28T19:58:18.821Z"
   },
   {
    "duration": 0,
    "start_time": "2024-03-28T19:58:18.822Z"
   },
   {
    "duration": 0,
    "start_time": "2024-03-28T19:58:18.823Z"
   },
   {
    "duration": 7,
    "start_time": "2024-03-28T19:58:36.733Z"
   },
   {
    "duration": 4,
    "start_time": "2024-03-28T19:58:53.817Z"
   },
   {
    "duration": 14,
    "start_time": "2024-03-28T19:58:54.169Z"
   },
   {
    "duration": 5,
    "start_time": "2024-03-28T20:00:38.858Z"
   },
   {
    "duration": 1029,
    "start_time": "2024-03-28T20:02:57.529Z"
   },
   {
    "duration": 50,
    "start_time": "2024-03-28T20:02:58.560Z"
   },
   {
    "duration": 16,
    "start_time": "2024-03-28T20:02:58.611Z"
   },
   {
    "duration": 13,
    "start_time": "2024-03-28T20:02:58.629Z"
   },
   {
    "duration": 20,
    "start_time": "2024-03-28T20:02:58.643Z"
   },
   {
    "duration": 3,
    "start_time": "2024-03-28T20:02:58.664Z"
   },
   {
    "duration": 7,
    "start_time": "2024-03-28T20:02:58.668Z"
   },
   {
    "duration": 4,
    "start_time": "2024-03-28T20:02:58.676Z"
   },
   {
    "duration": 7,
    "start_time": "2024-03-28T20:02:58.681Z"
   },
   {
    "duration": 11,
    "start_time": "2024-03-28T20:02:58.690Z"
   },
   {
    "duration": 13,
    "start_time": "2024-03-28T20:02:58.702Z"
   },
   {
    "duration": 7,
    "start_time": "2024-03-28T20:02:58.716Z"
   },
   {
    "duration": 4,
    "start_time": "2024-03-28T20:02:58.724Z"
   },
   {
    "duration": 8,
    "start_time": "2024-03-28T20:02:58.729Z"
   },
   {
    "duration": 38,
    "start_time": "2024-03-28T20:02:58.738Z"
   },
   {
    "duration": 37,
    "start_time": "2024-03-28T20:02:58.777Z"
   },
   {
    "duration": 4,
    "start_time": "2024-03-28T20:02:58.815Z"
   },
   {
    "duration": 10,
    "start_time": "2024-03-28T20:02:58.820Z"
   },
   {
    "duration": 4,
    "start_time": "2024-03-28T20:02:58.832Z"
   },
   {
    "duration": 1475,
    "start_time": "2024-03-28T20:02:58.838Z"
   },
   {
    "duration": 8,
    "start_time": "2024-03-28T20:03:00.314Z"
   },
   {
    "duration": 61,
    "start_time": "2024-03-28T20:03:00.324Z"
   },
   {
    "duration": 85,
    "start_time": "2024-03-28T20:05:13.087Z"
   },
   {
    "duration": 8,
    "start_time": "2024-03-28T20:05:15.614Z"
   },
   {
    "duration": 13,
    "start_time": "2024-03-28T20:05:19.326Z"
   },
   {
    "duration": 6,
    "start_time": "2024-03-28T20:05:37.657Z"
   },
   {
    "duration": 9,
    "start_time": "2024-03-28T20:06:19.870Z"
   },
   {
    "duration": 9,
    "start_time": "2024-03-28T20:06:27.406Z"
   },
   {
    "duration": 10,
    "start_time": "2024-03-28T20:06:41.575Z"
   },
   {
    "duration": 5,
    "start_time": "2024-03-28T20:06:49.826Z"
   },
   {
    "duration": 4,
    "start_time": "2024-03-28T20:07:19.067Z"
   },
   {
    "duration": 5,
    "start_time": "2024-03-28T20:09:41.820Z"
   },
   {
    "duration": 11,
    "start_time": "2024-03-28T20:10:27.892Z"
   },
   {
    "duration": 12,
    "start_time": "2024-03-28T20:11:23.962Z"
   },
   {
    "duration": 18,
    "start_time": "2024-03-28T20:13:42.691Z"
   },
   {
    "duration": 7,
    "start_time": "2024-03-28T20:13:54.409Z"
   },
   {
    "duration": 17,
    "start_time": "2024-03-28T20:14:48.160Z"
   },
   {
    "duration": 3,
    "start_time": "2024-03-28T20:15:34.434Z"
   },
   {
    "duration": 12,
    "start_time": "2024-03-28T20:16:02.261Z"
   },
   {
    "duration": 4,
    "start_time": "2024-03-28T20:17:31.043Z"
   },
   {
    "duration": 7,
    "start_time": "2024-03-28T20:17:51.233Z"
   },
   {
    "duration": 13,
    "start_time": "2024-03-28T20:17:56.361Z"
   },
   {
    "duration": 4,
    "start_time": "2024-03-28T20:18:30.528Z"
   },
   {
    "duration": 13,
    "start_time": "2024-03-28T20:18:31.108Z"
   },
   {
    "duration": 3,
    "start_time": "2024-03-28T20:18:59.393Z"
   },
   {
    "duration": 13,
    "start_time": "2024-03-28T20:18:59.933Z"
   },
   {
    "duration": 2,
    "start_time": "2024-03-28T20:27:50.121Z"
   },
   {
    "duration": 2,
    "start_time": "2024-03-28T20:55:18.842Z"
   },
   {
    "duration": 836,
    "start_time": "2024-03-28T20:57:04.224Z"
   },
   {
    "duration": 283,
    "start_time": "2024-03-28T20:57:15.386Z"
   },
   {
    "duration": 140,
    "start_time": "2024-03-28T20:57:33.849Z"
   },
   {
    "duration": 186,
    "start_time": "2024-03-28T20:57:46.290Z"
   },
   {
    "duration": 7,
    "start_time": "2024-03-28T20:57:55.439Z"
   },
   {
    "duration": 120,
    "start_time": "2024-03-28T20:58:08.145Z"
   },
   {
    "duration": 15,
    "start_time": "2024-03-28T21:01:10.040Z"
   },
   {
    "duration": 251,
    "start_time": "2024-03-28T21:02:28.968Z"
   },
   {
    "duration": 253,
    "start_time": "2024-03-28T21:03:03.092Z"
   },
   {
    "duration": 8,
    "start_time": "2024-03-28T21:03:08.071Z"
   },
   {
    "duration": 317,
    "start_time": "2024-03-28T21:03:16.138Z"
   },
   {
    "duration": 810,
    "start_time": "2024-03-28T21:04:15.969Z"
   },
   {
    "duration": 219,
    "start_time": "2024-03-28T21:04:25.485Z"
   },
   {
    "duration": 921,
    "start_time": "2024-03-28T21:04:30.379Z"
   },
   {
    "duration": 107,
    "start_time": "2024-03-28T21:04:36.522Z"
   },
   {
    "duration": 201,
    "start_time": "2024-03-28T21:04:52.945Z"
   },
   {
    "duration": 142,
    "start_time": "2024-03-28T21:05:17.206Z"
   },
   {
    "duration": 205,
    "start_time": "2024-03-28T21:05:22.969Z"
   },
   {
    "duration": 865,
    "start_time": "2024-03-28T21:06:10.633Z"
   },
   {
    "duration": 13,
    "start_time": "2024-03-28T21:06:16.612Z"
   },
   {
    "duration": 890,
    "start_time": "2024-03-28T21:06:37.121Z"
   },
   {
    "duration": 13,
    "start_time": "2024-03-28T21:06:46.604Z"
   },
   {
    "duration": 259,
    "start_time": "2024-03-28T21:06:52.407Z"
   },
   {
    "duration": 207,
    "start_time": "2024-03-28T21:07:06.243Z"
   },
   {
    "duration": 211,
    "start_time": "2024-03-28T21:07:16.151Z"
   },
   {
    "duration": 200,
    "start_time": "2024-03-28T21:08:24.057Z"
   },
   {
    "duration": 251,
    "start_time": "2024-03-28T21:09:03.308Z"
   },
   {
    "duration": 198,
    "start_time": "2024-03-28T21:09:21.282Z"
   },
   {
    "duration": 228,
    "start_time": "2024-03-28T21:14:11.365Z"
   },
   {
    "duration": 15,
    "start_time": "2024-03-28T21:14:27.378Z"
   },
   {
    "duration": 208,
    "start_time": "2024-03-28T21:14:41.815Z"
   },
   {
    "duration": 15,
    "start_time": "2024-03-28T21:17:36.053Z"
   },
   {
    "duration": 15,
    "start_time": "2024-03-28T21:17:55.250Z"
   },
   {
    "duration": 13,
    "start_time": "2024-03-28T21:18:13.231Z"
   },
   {
    "duration": 16,
    "start_time": "2024-03-28T21:20:41.932Z"
   },
   {
    "duration": 128,
    "start_time": "2024-03-28T21:20:51.274Z"
   },
   {
    "duration": 9,
    "start_time": "2024-03-28T21:23:45.024Z"
   },
   {
    "duration": 7,
    "start_time": "2024-03-28T21:23:53.187Z"
   },
   {
    "duration": 6,
    "start_time": "2024-03-28T21:23:55.857Z"
   },
   {
    "duration": 3,
    "start_time": "2024-03-28T21:24:10.553Z"
   },
   {
    "duration": 119,
    "start_time": "2024-03-28T21:24:13.144Z"
   },
   {
    "duration": 6,
    "start_time": "2024-03-28T21:24:55.432Z"
   },
   {
    "duration": 9,
    "start_time": "2024-03-28T21:25:03.995Z"
   },
   {
    "duration": 10,
    "start_time": "2024-03-28T21:25:14.773Z"
   },
   {
    "duration": 13,
    "start_time": "2024-03-28T21:25:20.955Z"
   },
   {
    "duration": 49,
    "start_time": "2024-03-28T21:26:36.667Z"
   },
   {
    "duration": 20,
    "start_time": "2024-03-28T21:26:43.476Z"
   },
   {
    "duration": 15,
    "start_time": "2024-03-28T23:06:33.390Z"
   },
   {
    "duration": 17,
    "start_time": "2024-03-28T23:07:05.283Z"
   },
   {
    "duration": 128,
    "start_time": "2024-03-28T23:07:58.485Z"
   },
   {
    "duration": 18,
    "start_time": "2024-03-28T23:15:02.899Z"
   },
   {
    "duration": 134,
    "start_time": "2024-03-28T23:15:20.159Z"
   },
   {
    "duration": 18,
    "start_time": "2024-03-28T23:15:24.801Z"
   },
   {
    "duration": 243,
    "start_time": "2024-03-28T23:15:57.572Z"
   },
   {
    "duration": 918,
    "start_time": "2024-03-28T23:16:07.362Z"
   },
   {
    "duration": 13,
    "start_time": "2024-03-28T23:16:19.639Z"
   },
   {
    "duration": 848,
    "start_time": "2024-03-28T23:16:33.558Z"
   },
   {
    "duration": 120,
    "start_time": "2024-03-28T23:16:54.978Z"
   },
   {
    "duration": 144,
    "start_time": "2024-03-28T23:18:30.113Z"
   },
   {
    "duration": 13,
    "start_time": "2024-03-28T23:19:30.526Z"
   },
   {
    "duration": 10,
    "start_time": "2024-03-28T23:20:46.453Z"
   },
   {
    "duration": 7,
    "start_time": "2024-03-28T23:20:57.483Z"
   },
   {
    "duration": 9,
    "start_time": "2024-03-28T23:21:11.405Z"
   },
   {
    "duration": 10,
    "start_time": "2024-03-28T23:21:16.822Z"
   },
   {
    "duration": 11,
    "start_time": "2024-03-28T23:25:49.369Z"
   },
   {
    "duration": 7,
    "start_time": "2024-03-28T23:25:50.497Z"
   },
   {
    "duration": 13,
    "start_time": "2024-03-28T23:26:27.737Z"
   },
   {
    "duration": 12,
    "start_time": "2024-03-28T23:26:29.427Z"
   },
   {
    "duration": 9,
    "start_time": "2024-03-28T23:28:43.563Z"
   },
   {
    "duration": 8,
    "start_time": "2024-03-28T23:28:44.005Z"
   },
   {
    "duration": 9,
    "start_time": "2024-03-28T23:28:56.029Z"
   },
   {
    "duration": 6,
    "start_time": "2024-03-28T23:28:56.640Z"
   },
   {
    "duration": 13,
    "start_time": "2024-03-28T23:29:03.573Z"
   },
   {
    "duration": 7,
    "start_time": "2024-03-28T23:29:04.719Z"
   },
   {
    "duration": 13,
    "start_time": "2024-03-28T23:29:25.216Z"
   },
   {
    "duration": 6,
    "start_time": "2024-03-28T23:29:25.618Z"
   },
   {
    "duration": 15,
    "start_time": "2024-03-28T23:31:19.647Z"
   },
   {
    "duration": 14,
    "start_time": "2024-03-28T23:31:32.659Z"
   },
   {
    "duration": 6,
    "start_time": "2024-03-28T23:32:28.993Z"
   },
   {
    "duration": 4,
    "start_time": "2024-03-28T23:33:08.535Z"
   },
   {
    "duration": 5,
    "start_time": "2024-03-28T23:33:09.435Z"
   },
   {
    "duration": 1047,
    "start_time": "2024-03-28T23:33:15.138Z"
   },
   {
    "duration": 53,
    "start_time": "2024-03-28T23:33:16.186Z"
   },
   {
    "duration": 18,
    "start_time": "2024-03-28T23:33:16.240Z"
   },
   {
    "duration": 12,
    "start_time": "2024-03-28T23:33:16.260Z"
   },
   {
    "duration": 24,
    "start_time": "2024-03-28T23:33:16.274Z"
   },
   {
    "duration": 3,
    "start_time": "2024-03-28T23:33:16.299Z"
   },
   {
    "duration": 31,
    "start_time": "2024-03-28T23:33:16.303Z"
   },
   {
    "duration": 10,
    "start_time": "2024-03-28T23:33:16.335Z"
   },
   {
    "duration": 4,
    "start_time": "2024-03-28T23:33:16.347Z"
   },
   {
    "duration": 11,
    "start_time": "2024-03-28T23:33:16.354Z"
   },
   {
    "duration": 9,
    "start_time": "2024-03-28T23:33:16.367Z"
   },
   {
    "duration": 15,
    "start_time": "2024-03-28T23:33:16.377Z"
   },
   {
    "duration": 9,
    "start_time": "2024-03-28T23:33:16.393Z"
   },
   {
    "duration": 9,
    "start_time": "2024-03-28T23:33:16.403Z"
   },
   {
    "duration": 5,
    "start_time": "2024-03-28T23:33:16.413Z"
   },
   {
    "duration": 33,
    "start_time": "2024-03-28T23:33:16.419Z"
   },
   {
    "duration": 41,
    "start_time": "2024-03-28T23:33:16.453Z"
   },
   {
    "duration": 51,
    "start_time": "2024-03-28T23:33:16.495Z"
   },
   {
    "duration": 5,
    "start_time": "2024-03-28T23:33:16.547Z"
   },
   {
    "duration": 118,
    "start_time": "2024-03-28T23:33:16.553Z"
   },
   {
    "duration": 0,
    "start_time": "2024-03-28T23:33:16.672Z"
   },
   {
    "duration": 0,
    "start_time": "2024-03-28T23:33:16.673Z"
   },
   {
    "duration": 0,
    "start_time": "2024-03-28T23:33:16.674Z"
   },
   {
    "duration": 0,
    "start_time": "2024-03-28T23:33:16.675Z"
   },
   {
    "duration": 0,
    "start_time": "2024-03-28T23:33:16.676Z"
   },
   {
    "duration": 0,
    "start_time": "2024-03-28T23:33:16.677Z"
   },
   {
    "duration": 0,
    "start_time": "2024-03-28T23:33:16.678Z"
   },
   {
    "duration": 0,
    "start_time": "2024-03-28T23:33:16.679Z"
   },
   {
    "duration": 0,
    "start_time": "2024-03-28T23:33:16.680Z"
   },
   {
    "duration": 0,
    "start_time": "2024-03-28T23:33:16.681Z"
   },
   {
    "duration": 0,
    "start_time": "2024-03-28T23:33:16.682Z"
   },
   {
    "duration": 0,
    "start_time": "2024-03-28T23:33:16.683Z"
   },
   {
    "duration": 0,
    "start_time": "2024-03-28T23:33:16.684Z"
   },
   {
    "duration": 0,
    "start_time": "2024-03-28T23:33:16.685Z"
   },
   {
    "duration": 6,
    "start_time": "2024-03-28T23:34:08.072Z"
   },
   {
    "duration": 5,
    "start_time": "2024-03-28T23:34:08.821Z"
   },
   {
    "duration": 6,
    "start_time": "2024-03-28T23:34:11.791Z"
   },
   {
    "duration": 5,
    "start_time": "2024-03-28T23:34:12.357Z"
   },
   {
    "duration": 5,
    "start_time": "2024-03-28T23:34:19.164Z"
   },
   {
    "duration": 4,
    "start_time": "2024-03-28T23:34:19.458Z"
   },
   {
    "duration": 1085,
    "start_time": "2024-03-28T23:34:26.822Z"
   },
   {
    "duration": 52,
    "start_time": "2024-03-28T23:34:27.909Z"
   },
   {
    "duration": 17,
    "start_time": "2024-03-28T23:34:27.962Z"
   },
   {
    "duration": 12,
    "start_time": "2024-03-28T23:34:27.980Z"
   },
   {
    "duration": 22,
    "start_time": "2024-03-28T23:34:27.994Z"
   },
   {
    "duration": 3,
    "start_time": "2024-03-28T23:34:28.018Z"
   },
   {
    "duration": 23,
    "start_time": "2024-03-28T23:34:28.044Z"
   },
   {
    "duration": 8,
    "start_time": "2024-03-28T23:34:28.069Z"
   },
   {
    "duration": 5,
    "start_time": "2024-03-28T23:34:28.078Z"
   },
   {
    "duration": 5,
    "start_time": "2024-03-28T23:34:28.084Z"
   },
   {
    "duration": 9,
    "start_time": "2024-03-28T23:34:28.090Z"
   },
   {
    "duration": 13,
    "start_time": "2024-03-28T23:34:28.100Z"
   },
   {
    "duration": 8,
    "start_time": "2024-03-28T23:34:28.114Z"
   },
   {
    "duration": 7,
    "start_time": "2024-03-28T23:34:28.146Z"
   },
   {
    "duration": 6,
    "start_time": "2024-03-28T23:34:28.154Z"
   },
   {
    "duration": 8,
    "start_time": "2024-03-28T23:34:28.161Z"
   },
   {
    "duration": 37,
    "start_time": "2024-03-28T23:34:28.170Z"
   },
   {
    "duration": 66,
    "start_time": "2024-03-28T23:34:28.208Z"
   },
   {
    "duration": 4,
    "start_time": "2024-03-28T23:34:28.275Z"
   },
   {
    "duration": 5,
    "start_time": "2024-03-28T23:34:28.280Z"
   },
   {
    "duration": 12,
    "start_time": "2024-03-28T23:34:28.286Z"
   },
   {
    "duration": 1255,
    "start_time": "2024-03-28T23:34:28.299Z"
   },
   {
    "duration": 8,
    "start_time": "2024-03-28T23:34:29.555Z"
   },
   {
    "duration": 17,
    "start_time": "2024-03-28T23:34:29.564Z"
   },
   {
    "duration": 4,
    "start_time": "2024-03-28T23:34:29.582Z"
   },
   {
    "duration": 6,
    "start_time": "2024-03-28T23:34:29.587Z"
   },
   {
    "duration": 8,
    "start_time": "2024-03-28T23:34:29.594Z"
   },
   {
    "duration": 13,
    "start_time": "2024-03-28T23:34:29.604Z"
   },
   {
    "duration": 42,
    "start_time": "2024-03-28T23:34:29.618Z"
   },
   {
    "duration": 13,
    "start_time": "2024-03-28T23:34:29.661Z"
   },
   {
    "duration": 15,
    "start_time": "2024-03-28T23:34:29.675Z"
   },
   {
    "duration": 261,
    "start_time": "2024-03-28T23:34:29.691Z"
   },
   {
    "duration": 12,
    "start_time": "2024-03-28T23:34:29.953Z"
   },
   {
    "duration": 15,
    "start_time": "2024-03-28T23:34:29.966Z"
   },
   {
    "duration": 4,
    "start_time": "2024-03-28T23:34:45.124Z"
   },
   {
    "duration": 5,
    "start_time": "2024-03-28T23:34:45.562Z"
   },
   {
    "duration": 1066,
    "start_time": "2024-03-28T23:34:49.619Z"
   },
   {
    "duration": 51,
    "start_time": "2024-03-28T23:34:50.687Z"
   },
   {
    "duration": 17,
    "start_time": "2024-03-28T23:34:50.740Z"
   },
   {
    "duration": 14,
    "start_time": "2024-03-28T23:34:50.759Z"
   },
   {
    "duration": 44,
    "start_time": "2024-03-28T23:34:50.775Z"
   },
   {
    "duration": 2,
    "start_time": "2024-03-28T23:34:50.821Z"
   },
   {
    "duration": 21,
    "start_time": "2024-03-28T23:34:50.825Z"
   },
   {
    "duration": 15,
    "start_time": "2024-03-28T23:34:50.847Z"
   },
   {
    "duration": 10,
    "start_time": "2024-03-28T23:34:50.864Z"
   },
   {
    "duration": 7,
    "start_time": "2024-03-28T23:34:50.875Z"
   },
   {
    "duration": 9,
    "start_time": "2024-03-28T23:34:50.883Z"
   },
   {
    "duration": 18,
    "start_time": "2024-03-28T23:34:50.893Z"
   },
   {
    "duration": 14,
    "start_time": "2024-03-28T23:34:50.912Z"
   },
   {
    "duration": 15,
    "start_time": "2024-03-28T23:34:50.930Z"
   },
   {
    "duration": 8,
    "start_time": "2024-03-28T23:34:50.946Z"
   },
   {
    "duration": 23,
    "start_time": "2024-03-28T23:34:50.955Z"
   },
   {
    "duration": 42,
    "start_time": "2024-03-28T23:34:50.980Z"
   },
   {
    "duration": 38,
    "start_time": "2024-03-28T23:34:51.023Z"
   },
   {
    "duration": 4,
    "start_time": "2024-03-28T23:34:51.063Z"
   },
   {
    "duration": 94,
    "start_time": "2024-03-28T23:34:51.068Z"
   },
   {
    "duration": 0,
    "start_time": "2024-03-28T23:34:51.164Z"
   },
   {
    "duration": 0,
    "start_time": "2024-03-28T23:34:51.165Z"
   },
   {
    "duration": 0,
    "start_time": "2024-03-28T23:34:51.166Z"
   },
   {
    "duration": 0,
    "start_time": "2024-03-28T23:34:51.167Z"
   },
   {
    "duration": 0,
    "start_time": "2024-03-28T23:34:51.168Z"
   },
   {
    "duration": 0,
    "start_time": "2024-03-28T23:34:51.169Z"
   },
   {
    "duration": 0,
    "start_time": "2024-03-28T23:34:51.170Z"
   },
   {
    "duration": 0,
    "start_time": "2024-03-28T23:34:51.171Z"
   },
   {
    "duration": 0,
    "start_time": "2024-03-28T23:34:51.172Z"
   },
   {
    "duration": 0,
    "start_time": "2024-03-28T23:34:51.173Z"
   },
   {
    "duration": 0,
    "start_time": "2024-03-28T23:34:51.174Z"
   },
   {
    "duration": 0,
    "start_time": "2024-03-28T23:34:51.175Z"
   },
   {
    "duration": 0,
    "start_time": "2024-03-28T23:34:51.176Z"
   },
   {
    "duration": 0,
    "start_time": "2024-03-28T23:34:51.177Z"
   },
   {
    "duration": 5,
    "start_time": "2024-03-28T23:35:02.370Z"
   },
   {
    "duration": 996,
    "start_time": "2024-03-28T23:35:06.494Z"
   },
   {
    "duration": 51,
    "start_time": "2024-03-28T23:35:07.492Z"
   },
   {
    "duration": 17,
    "start_time": "2024-03-28T23:35:07.545Z"
   },
   {
    "duration": 11,
    "start_time": "2024-03-28T23:35:07.564Z"
   },
   {
    "duration": 20,
    "start_time": "2024-03-28T23:35:07.577Z"
   },
   {
    "duration": 3,
    "start_time": "2024-03-28T23:35:07.598Z"
   },
   {
    "duration": 12,
    "start_time": "2024-03-28T23:35:07.602Z"
   },
   {
    "duration": 30,
    "start_time": "2024-03-28T23:35:07.615Z"
   },
   {
    "duration": 6,
    "start_time": "2024-03-28T23:35:07.647Z"
   },
   {
    "duration": 13,
    "start_time": "2024-03-28T23:35:07.655Z"
   },
   {
    "duration": 8,
    "start_time": "2024-03-28T23:35:07.670Z"
   },
   {
    "duration": 17,
    "start_time": "2024-03-28T23:35:07.680Z"
   },
   {
    "duration": 10,
    "start_time": "2024-03-28T23:35:07.698Z"
   },
   {
    "duration": 8,
    "start_time": "2024-03-28T23:35:07.709Z"
   },
   {
    "duration": 27,
    "start_time": "2024-03-28T23:35:07.718Z"
   },
   {
    "duration": 8,
    "start_time": "2024-03-28T23:35:07.746Z"
   },
   {
    "duration": 40,
    "start_time": "2024-03-28T23:35:07.755Z"
   },
   {
    "duration": 55,
    "start_time": "2024-03-28T23:35:07.797Z"
   },
   {
    "duration": 4,
    "start_time": "2024-03-28T23:35:07.853Z"
   },
   {
    "duration": 8,
    "start_time": "2024-03-28T23:35:07.858Z"
   },
   {
    "duration": 43,
    "start_time": "2024-03-28T23:35:07.867Z"
   },
   {
    "duration": 926,
    "start_time": "2024-03-28T23:35:07.912Z"
   },
   {
    "duration": 11,
    "start_time": "2024-03-28T23:35:08.839Z"
   },
   {
    "duration": 13,
    "start_time": "2024-03-28T23:35:08.852Z"
   },
   {
    "duration": 5,
    "start_time": "2024-03-28T23:35:08.866Z"
   },
   {
    "duration": 5,
    "start_time": "2024-03-28T23:35:08.872Z"
   },
   {
    "duration": 5,
    "start_time": "2024-03-28T23:35:08.878Z"
   },
   {
    "duration": 13,
    "start_time": "2024-03-28T23:35:08.886Z"
   },
   {
    "duration": 46,
    "start_time": "2024-03-28T23:35:08.900Z"
   },
   {
    "duration": 4,
    "start_time": "2024-03-28T23:35:08.947Z"
   },
   {
    "duration": 23,
    "start_time": "2024-03-28T23:35:08.952Z"
   },
   {
    "duration": 154,
    "start_time": "2024-03-28T23:35:08.976Z"
   },
   {
    "duration": 15,
    "start_time": "2024-03-28T23:35:09.132Z"
   },
   {
    "duration": 12,
    "start_time": "2024-03-28T23:35:09.149Z"
   },
   {
    "duration": 4,
    "start_time": "2024-03-28T23:36:35.360Z"
   },
   {
    "duration": 5,
    "start_time": "2024-03-28T23:36:36.060Z"
   },
   {
    "duration": 994,
    "start_time": "2024-03-28T23:36:40.377Z"
   },
   {
    "duration": 53,
    "start_time": "2024-03-28T23:36:41.373Z"
   },
   {
    "duration": 17,
    "start_time": "2024-03-28T23:36:41.427Z"
   },
   {
    "duration": 19,
    "start_time": "2024-03-28T23:36:41.446Z"
   },
   {
    "duration": 53,
    "start_time": "2024-03-28T23:36:41.467Z"
   },
   {
    "duration": 2,
    "start_time": "2024-03-28T23:36:41.522Z"
   },
   {
    "duration": 19,
    "start_time": "2024-03-28T23:36:41.525Z"
   },
   {
    "duration": 106,
    "start_time": "2024-03-28T23:36:41.545Z"
   },
   {
    "duration": 0,
    "start_time": "2024-03-28T23:36:41.653Z"
   },
   {
    "duration": 0,
    "start_time": "2024-03-28T23:36:41.654Z"
   },
   {
    "duration": 0,
    "start_time": "2024-03-28T23:36:41.655Z"
   },
   {
    "duration": 0,
    "start_time": "2024-03-28T23:36:41.656Z"
   },
   {
    "duration": 0,
    "start_time": "2024-03-28T23:36:41.657Z"
   },
   {
    "duration": 0,
    "start_time": "2024-03-28T23:36:41.658Z"
   },
   {
    "duration": 0,
    "start_time": "2024-03-28T23:36:41.659Z"
   },
   {
    "duration": 0,
    "start_time": "2024-03-28T23:36:41.660Z"
   },
   {
    "duration": 0,
    "start_time": "2024-03-28T23:36:41.661Z"
   },
   {
    "duration": 0,
    "start_time": "2024-03-28T23:36:41.662Z"
   },
   {
    "duration": 0,
    "start_time": "2024-03-28T23:36:41.663Z"
   },
   {
    "duration": 0,
    "start_time": "2024-03-28T23:36:41.663Z"
   },
   {
    "duration": 0,
    "start_time": "2024-03-28T23:36:41.664Z"
   },
   {
    "duration": 0,
    "start_time": "2024-03-28T23:36:41.665Z"
   },
   {
    "duration": 0,
    "start_time": "2024-03-28T23:36:41.666Z"
   },
   {
    "duration": 0,
    "start_time": "2024-03-28T23:36:41.667Z"
   },
   {
    "duration": 0,
    "start_time": "2024-03-28T23:36:41.668Z"
   },
   {
    "duration": 0,
    "start_time": "2024-03-28T23:36:41.668Z"
   },
   {
    "duration": 0,
    "start_time": "2024-03-28T23:36:41.669Z"
   },
   {
    "duration": 0,
    "start_time": "2024-03-28T23:36:41.670Z"
   },
   {
    "duration": 0,
    "start_time": "2024-03-28T23:36:41.671Z"
   },
   {
    "duration": 0,
    "start_time": "2024-03-28T23:36:41.671Z"
   },
   {
    "duration": 0,
    "start_time": "2024-03-28T23:36:41.672Z"
   },
   {
    "duration": 0,
    "start_time": "2024-03-28T23:36:41.673Z"
   },
   {
    "duration": 0,
    "start_time": "2024-03-28T23:36:41.674Z"
   },
   {
    "duration": 0,
    "start_time": "2024-03-28T23:36:41.674Z"
   },
   {
    "duration": 54,
    "start_time": "2024-03-28T23:37:19.231Z"
   },
   {
    "duration": 9,
    "start_time": "2024-03-28T23:37:24.304Z"
   },
   {
    "duration": 5,
    "start_time": "2024-03-28T23:37:51.188Z"
   },
   {
    "duration": 5,
    "start_time": "2024-03-28T23:37:51.825Z"
   },
   {
    "duration": 4,
    "start_time": "2024-03-28T23:39:35.531Z"
   },
   {
    "duration": 6,
    "start_time": "2024-03-28T23:39:37.220Z"
   },
   {
    "duration": 995,
    "start_time": "2024-03-28T23:40:35.865Z"
   },
   {
    "duration": 52,
    "start_time": "2024-03-28T23:40:36.862Z"
   },
   {
    "duration": 16,
    "start_time": "2024-03-28T23:40:36.915Z"
   },
   {
    "duration": 21,
    "start_time": "2024-03-28T23:40:36.933Z"
   },
   {
    "duration": 20,
    "start_time": "2024-03-28T23:40:36.955Z"
   },
   {
    "duration": 3,
    "start_time": "2024-03-28T23:40:36.976Z"
   },
   {
    "duration": 43,
    "start_time": "2024-03-28T23:40:36.980Z"
   },
   {
    "duration": 7,
    "start_time": "2024-03-28T23:40:37.025Z"
   },
   {
    "duration": 14,
    "start_time": "2024-03-28T23:40:37.033Z"
   },
   {
    "duration": 15,
    "start_time": "2024-03-28T23:40:37.049Z"
   },
   {
    "duration": 19,
    "start_time": "2024-03-28T23:40:37.065Z"
   },
   {
    "duration": 13,
    "start_time": "2024-03-28T23:40:37.086Z"
   },
   {
    "duration": 18,
    "start_time": "2024-03-28T23:40:37.100Z"
   },
   {
    "duration": 31,
    "start_time": "2024-03-28T23:40:37.119Z"
   },
   {
    "duration": 14,
    "start_time": "2024-03-28T23:40:37.151Z"
   },
   {
    "duration": 30,
    "start_time": "2024-03-28T23:40:37.167Z"
   },
   {
    "duration": 64,
    "start_time": "2024-03-28T23:40:37.199Z"
   },
   {
    "duration": 42,
    "start_time": "2024-03-28T23:40:37.265Z"
   },
   {
    "duration": 4,
    "start_time": "2024-03-28T23:40:37.308Z"
   },
   {
    "duration": 41,
    "start_time": "2024-03-28T23:40:37.313Z"
   },
   {
    "duration": 11,
    "start_time": "2024-03-28T23:40:37.356Z"
   },
   {
    "duration": 922,
    "start_time": "2024-03-28T23:40:37.370Z"
   },
   {
    "duration": 9,
    "start_time": "2024-03-28T23:40:38.293Z"
   },
   {
    "duration": 13,
    "start_time": "2024-03-28T23:40:38.304Z"
   },
   {
    "duration": 26,
    "start_time": "2024-03-28T23:40:38.319Z"
   },
   {
    "duration": 17,
    "start_time": "2024-03-28T23:40:38.346Z"
   },
   {
    "duration": 5,
    "start_time": "2024-03-28T23:40:38.364Z"
   },
   {
    "duration": 12,
    "start_time": "2024-03-28T23:40:38.372Z"
   },
   {
    "duration": 18,
    "start_time": "2024-03-28T23:40:38.386Z"
   },
   {
    "duration": 5,
    "start_time": "2024-03-28T23:40:38.405Z"
   },
   {
    "duration": 36,
    "start_time": "2024-03-28T23:40:38.411Z"
   },
   {
    "duration": 167,
    "start_time": "2024-03-28T23:40:38.448Z"
   },
   {
    "duration": 12,
    "start_time": "2024-03-28T23:40:38.616Z"
   },
   {
    "duration": 23,
    "start_time": "2024-03-28T23:40:38.630Z"
   },
   {
    "duration": 4,
    "start_time": "2024-03-28T23:42:08.346Z"
   },
   {
    "duration": 818,
    "start_time": "2024-03-28T23:42:09.436Z"
   },
   {
    "duration": 636,
    "start_time": "2024-03-28T23:42:20.614Z"
   },
   {
    "duration": 975,
    "start_time": "2024-03-28T23:42:27.300Z"
   },
   {
    "duration": 51,
    "start_time": "2024-03-28T23:42:28.277Z"
   },
   {
    "duration": 16,
    "start_time": "2024-03-28T23:42:28.330Z"
   },
   {
    "duration": 13,
    "start_time": "2024-03-28T23:42:28.347Z"
   },
   {
    "duration": 45,
    "start_time": "2024-03-28T23:42:28.361Z"
   },
   {
    "duration": 2,
    "start_time": "2024-03-28T23:42:28.408Z"
   },
   {
    "duration": 25,
    "start_time": "2024-03-28T23:42:28.412Z"
   },
   {
    "duration": 97,
    "start_time": "2024-03-28T23:42:28.439Z"
   },
   {
    "duration": 0,
    "start_time": "2024-03-28T23:42:28.539Z"
   },
   {
    "duration": 0,
    "start_time": "2024-03-28T23:42:28.540Z"
   },
   {
    "duration": 0,
    "start_time": "2024-03-28T23:42:28.541Z"
   },
   {
    "duration": 0,
    "start_time": "2024-03-28T23:42:28.542Z"
   },
   {
    "duration": 0,
    "start_time": "2024-03-28T23:42:28.543Z"
   },
   {
    "duration": 0,
    "start_time": "2024-03-28T23:42:28.543Z"
   },
   {
    "duration": 0,
    "start_time": "2024-03-28T23:42:28.544Z"
   },
   {
    "duration": 0,
    "start_time": "2024-03-28T23:42:28.545Z"
   },
   {
    "duration": 0,
    "start_time": "2024-03-28T23:42:28.547Z"
   },
   {
    "duration": 0,
    "start_time": "2024-03-28T23:42:28.548Z"
   },
   {
    "duration": 0,
    "start_time": "2024-03-28T23:42:28.548Z"
   },
   {
    "duration": 0,
    "start_time": "2024-03-28T23:42:28.549Z"
   },
   {
    "duration": 0,
    "start_time": "2024-03-28T23:42:28.550Z"
   },
   {
    "duration": 0,
    "start_time": "2024-03-28T23:42:28.551Z"
   },
   {
    "duration": 0,
    "start_time": "2024-03-28T23:42:28.552Z"
   },
   {
    "duration": 0,
    "start_time": "2024-03-28T23:42:28.553Z"
   },
   {
    "duration": 0,
    "start_time": "2024-03-28T23:42:28.553Z"
   },
   {
    "duration": 0,
    "start_time": "2024-03-28T23:42:28.554Z"
   },
   {
    "duration": 0,
    "start_time": "2024-03-28T23:42:28.555Z"
   },
   {
    "duration": 0,
    "start_time": "2024-03-28T23:42:28.557Z"
   },
   {
    "duration": 0,
    "start_time": "2024-03-28T23:42:28.558Z"
   },
   {
    "duration": 0,
    "start_time": "2024-03-28T23:42:28.559Z"
   },
   {
    "duration": 0,
    "start_time": "2024-03-28T23:42:28.559Z"
   },
   {
    "duration": 0,
    "start_time": "2024-03-28T23:42:28.560Z"
   },
   {
    "duration": 0,
    "start_time": "2024-03-28T23:42:28.561Z"
   },
   {
    "duration": 0,
    "start_time": "2024-03-28T23:42:28.562Z"
   },
   {
    "duration": 62,
    "start_time": "2024-03-28T23:43:13.987Z"
   },
   {
    "duration": 9,
    "start_time": "2024-03-28T23:43:18.738Z"
   },
   {
    "duration": 16,
    "start_time": "2024-03-28T23:43:31.386Z"
   },
   {
    "duration": 8,
    "start_time": "2024-03-28T23:44:29.813Z"
   },
   {
    "duration": 9,
    "start_time": "2024-03-28T23:44:39.723Z"
   },
   {
    "duration": 8,
    "start_time": "2024-03-28T23:46:03.718Z"
   },
   {
    "duration": 12,
    "start_time": "2024-03-28T23:46:15.576Z"
   },
   {
    "duration": 2,
    "start_time": "2024-03-28T23:46:41.033Z"
   },
   {
    "duration": 102,
    "start_time": "2024-03-28T23:46:57.953Z"
   },
   {
    "duration": 67,
    "start_time": "2024-03-28T23:48:46.917Z"
   },
   {
    "duration": 5,
    "start_time": "2024-03-28T23:48:50.086Z"
   },
   {
    "duration": 52,
    "start_time": "2024-03-28T23:48:50.606Z"
   },
   {
    "duration": 1060,
    "start_time": "2024-03-28T23:49:44.218Z"
   },
   {
    "duration": 52,
    "start_time": "2024-03-28T23:49:45.279Z"
   },
   {
    "duration": 16,
    "start_time": "2024-03-28T23:49:45.333Z"
   },
   {
    "duration": 39,
    "start_time": "2024-03-28T23:49:45.351Z"
   },
   {
    "duration": 43,
    "start_time": "2024-03-28T23:49:45.391Z"
   },
   {
    "duration": 3,
    "start_time": "2024-03-28T23:49:45.435Z"
   },
   {
    "duration": 39,
    "start_time": "2024-03-28T23:49:45.439Z"
   },
   {
    "duration": 18,
    "start_time": "2024-03-28T23:49:45.479Z"
   },
   {
    "duration": 31,
    "start_time": "2024-03-28T23:49:45.498Z"
   },
   {
    "duration": 26,
    "start_time": "2024-03-28T23:49:45.531Z"
   },
   {
    "duration": 33,
    "start_time": "2024-03-28T23:49:45.558Z"
   },
   {
    "duration": 37,
    "start_time": "2024-03-28T23:49:45.592Z"
   },
   {
    "duration": 94,
    "start_time": "2024-03-28T23:49:45.630Z"
   },
   {
    "duration": 0,
    "start_time": "2024-03-28T23:49:45.726Z"
   },
   {
    "duration": 0,
    "start_time": "2024-03-28T23:49:45.727Z"
   },
   {
    "duration": 0,
    "start_time": "2024-03-28T23:49:45.728Z"
   },
   {
    "duration": 0,
    "start_time": "2024-03-28T23:49:45.729Z"
   },
   {
    "duration": 0,
    "start_time": "2024-03-28T23:49:45.730Z"
   },
   {
    "duration": 0,
    "start_time": "2024-03-28T23:49:45.731Z"
   },
   {
    "duration": 0,
    "start_time": "2024-03-28T23:49:45.732Z"
   },
   {
    "duration": 0,
    "start_time": "2024-03-28T23:49:45.745Z"
   },
   {
    "duration": 1,
    "start_time": "2024-03-28T23:49:45.745Z"
   },
   {
    "duration": 0,
    "start_time": "2024-03-28T23:49:45.747Z"
   },
   {
    "duration": 0,
    "start_time": "2024-03-28T23:49:45.748Z"
   },
   {
    "duration": 0,
    "start_time": "2024-03-28T23:49:45.749Z"
   },
   {
    "duration": 0,
    "start_time": "2024-03-28T23:49:45.750Z"
   },
   {
    "duration": 0,
    "start_time": "2024-03-28T23:49:45.751Z"
   },
   {
    "duration": 0,
    "start_time": "2024-03-28T23:49:45.752Z"
   },
   {
    "duration": 0,
    "start_time": "2024-03-28T23:49:45.753Z"
   },
   {
    "duration": 0,
    "start_time": "2024-03-28T23:49:45.754Z"
   },
   {
    "duration": 0,
    "start_time": "2024-03-28T23:49:45.754Z"
   },
   {
    "duration": 0,
    "start_time": "2024-03-28T23:49:45.755Z"
   },
   {
    "duration": 0,
    "start_time": "2024-03-28T23:49:45.756Z"
   },
   {
    "duration": 0,
    "start_time": "2024-03-28T23:49:45.758Z"
   },
   {
    "duration": 53,
    "start_time": "2024-03-28T23:50:46.858Z"
   },
   {
    "duration": 20,
    "start_time": "2024-03-28T23:50:50.069Z"
   },
   {
    "duration": 17,
    "start_time": "2024-03-28T23:51:10.502Z"
   },
   {
    "duration": 18,
    "start_time": "2024-03-28T23:51:20.491Z"
   },
   {
    "duration": 18,
    "start_time": "2024-03-28T23:51:35.756Z"
   },
   {
    "duration": 19,
    "start_time": "2024-03-28T23:51:43.628Z"
   },
   {
    "duration": 19,
    "start_time": "2024-03-28T23:51:51.105Z"
   },
   {
    "duration": 12,
    "start_time": "2024-03-28T23:53:18.869Z"
   },
   {
    "duration": 998,
    "start_time": "2024-03-28T23:53:25.377Z"
   },
   {
    "duration": 52,
    "start_time": "2024-03-28T23:53:26.377Z"
   },
   {
    "duration": 16,
    "start_time": "2024-03-28T23:53:26.430Z"
   },
   {
    "duration": 19,
    "start_time": "2024-03-28T23:53:26.448Z"
   },
   {
    "duration": 27,
    "start_time": "2024-03-28T23:53:26.468Z"
   },
   {
    "duration": 3,
    "start_time": "2024-03-28T23:53:26.496Z"
   },
   {
    "duration": 18,
    "start_time": "2024-03-28T23:53:26.500Z"
   },
   {
    "duration": 6,
    "start_time": "2024-03-28T23:53:26.519Z"
   },
   {
    "duration": 53,
    "start_time": "2024-03-28T23:53:26.527Z"
   },
   {
    "duration": 0,
    "start_time": "2024-03-28T23:53:26.582Z"
   },
   {
    "duration": 0,
    "start_time": "2024-03-28T23:53:26.584Z"
   },
   {
    "duration": 0,
    "start_time": "2024-03-28T23:53:26.585Z"
   },
   {
    "duration": 0,
    "start_time": "2024-03-28T23:53:26.586Z"
   },
   {
    "duration": 0,
    "start_time": "2024-03-28T23:53:26.588Z"
   },
   {
    "duration": 0,
    "start_time": "2024-03-28T23:53:26.589Z"
   },
   {
    "duration": 0,
    "start_time": "2024-03-28T23:53:26.590Z"
   },
   {
    "duration": 0,
    "start_time": "2024-03-28T23:53:26.591Z"
   },
   {
    "duration": 0,
    "start_time": "2024-03-28T23:53:26.593Z"
   },
   {
    "duration": 0,
    "start_time": "2024-03-28T23:53:26.594Z"
   },
   {
    "duration": 0,
    "start_time": "2024-03-28T23:53:26.595Z"
   },
   {
    "duration": 0,
    "start_time": "2024-03-28T23:53:26.596Z"
   },
   {
    "duration": 0,
    "start_time": "2024-03-28T23:53:26.598Z"
   },
   {
    "duration": 0,
    "start_time": "2024-03-28T23:53:26.599Z"
   },
   {
    "duration": 0,
    "start_time": "2024-03-28T23:53:26.600Z"
   },
   {
    "duration": 0,
    "start_time": "2024-03-28T23:53:26.601Z"
   },
   {
    "duration": 0,
    "start_time": "2024-03-28T23:53:26.602Z"
   },
   {
    "duration": 0,
    "start_time": "2024-03-28T23:53:26.604Z"
   },
   {
    "duration": 0,
    "start_time": "2024-03-28T23:53:26.605Z"
   },
   {
    "duration": 0,
    "start_time": "2024-03-28T23:53:26.606Z"
   },
   {
    "duration": 0,
    "start_time": "2024-03-28T23:53:26.607Z"
   },
   {
    "duration": 0,
    "start_time": "2024-03-28T23:53:26.608Z"
   },
   {
    "duration": 0,
    "start_time": "2024-03-28T23:53:26.610Z"
   },
   {
    "duration": 0,
    "start_time": "2024-03-28T23:53:26.611Z"
   },
   {
    "duration": 0,
    "start_time": "2024-03-28T23:53:26.612Z"
   },
   {
    "duration": 0,
    "start_time": "2024-03-28T23:53:26.613Z"
   },
   {
    "duration": 0,
    "start_time": "2024-03-28T23:53:26.614Z"
   },
   {
    "duration": 0,
    "start_time": "2024-03-28T23:53:26.616Z"
   },
   {
    "duration": 0,
    "start_time": "2024-03-28T23:53:26.617Z"
   },
   {
    "duration": 89,
    "start_time": "2024-03-28T23:53:42.576Z"
   },
   {
    "duration": 11,
    "start_time": "2024-03-28T23:56:05.333Z"
   },
   {
    "duration": 3,
    "start_time": "2024-03-28T23:57:35.905Z"
   },
   {
    "duration": 4,
    "start_time": "2024-03-28T23:57:37.576Z"
   },
   {
    "duration": 7,
    "start_time": "2024-03-28T23:57:39.209Z"
   },
   {
    "duration": 12,
    "start_time": "2024-03-28T23:57:39.572Z"
   },
   {
    "duration": 20,
    "start_time": "2024-03-28T23:58:09.522Z"
   },
   {
    "duration": 11,
    "start_time": "2024-03-28T23:58:20.524Z"
   },
   {
    "duration": 11,
    "start_time": "2024-03-28T23:58:23.704Z"
   },
   {
    "duration": 11,
    "start_time": "2024-03-28T23:58:34.439Z"
   },
   {
    "duration": 8,
    "start_time": "2024-03-29T00:00:43.927Z"
   },
   {
    "duration": 7,
    "start_time": "2024-03-29T00:00:48.221Z"
   },
   {
    "duration": 3,
    "start_time": "2024-03-29T00:00:49.204Z"
   },
   {
    "duration": 12,
    "start_time": "2024-03-29T00:00:49.801Z"
   },
   {
    "duration": 6,
    "start_time": "2024-03-29T00:01:15.198Z"
   },
   {
    "duration": 5,
    "start_time": "2024-03-29T00:01:16.029Z"
   },
   {
    "duration": 1059,
    "start_time": "2024-03-29T00:01:20.120Z"
   },
   {
    "duration": 52,
    "start_time": "2024-03-29T00:01:21.180Z"
   },
   {
    "duration": 17,
    "start_time": "2024-03-29T00:01:21.233Z"
   },
   {
    "duration": 12,
    "start_time": "2024-03-29T00:01:21.251Z"
   },
   {
    "duration": 37,
    "start_time": "2024-03-29T00:01:21.265Z"
   },
   {
    "duration": 3,
    "start_time": "2024-03-29T00:01:21.303Z"
   },
   {
    "duration": 14,
    "start_time": "2024-03-29T00:01:21.307Z"
   },
   {
    "duration": 47,
    "start_time": "2024-03-29T00:01:21.322Z"
   },
   {
    "duration": 13,
    "start_time": "2024-03-29T00:01:21.370Z"
   },
   {
    "duration": 6,
    "start_time": "2024-03-29T00:01:21.384Z"
   },
   {
    "duration": 14,
    "start_time": "2024-03-29T00:01:21.391Z"
   },
   {
    "duration": 8,
    "start_time": "2024-03-29T00:01:21.406Z"
   },
   {
    "duration": 7,
    "start_time": "2024-03-29T00:01:21.415Z"
   },
   {
    "duration": 4,
    "start_time": "2024-03-29T00:01:21.424Z"
   },
   {
    "duration": 7,
    "start_time": "2024-03-29T00:01:21.430Z"
   },
   {
    "duration": 49,
    "start_time": "2024-03-29T00:01:21.438Z"
   },
   {
    "duration": 41,
    "start_time": "2024-03-29T00:01:21.489Z"
   },
   {
    "duration": 14,
    "start_time": "2024-03-29T00:01:21.531Z"
   },
   {
    "duration": 7,
    "start_time": "2024-03-29T00:01:21.547Z"
   },
   {
    "duration": 5,
    "start_time": "2024-03-29T00:01:21.555Z"
   },
   {
    "duration": 1055,
    "start_time": "2024-03-29T00:01:21.561Z"
   },
   {
    "duration": 8,
    "start_time": "2024-03-29T00:01:22.618Z"
   },
   {
    "duration": 26,
    "start_time": "2024-03-29T00:01:22.628Z"
   },
   {
    "duration": 6,
    "start_time": "2024-03-29T00:01:22.656Z"
   },
   {
    "duration": 15,
    "start_time": "2024-03-29T00:01:22.663Z"
   },
   {
    "duration": 15,
    "start_time": "2024-03-29T00:01:22.679Z"
   },
   {
    "duration": 21,
    "start_time": "2024-03-29T00:01:22.695Z"
   },
   {
    "duration": 16,
    "start_time": "2024-03-29T00:01:22.717Z"
   },
   {
    "duration": 14,
    "start_time": "2024-03-29T00:01:22.735Z"
   },
   {
    "duration": 4,
    "start_time": "2024-03-29T00:01:22.750Z"
   },
   {
    "duration": 17,
    "start_time": "2024-03-29T00:01:22.755Z"
   },
   {
    "duration": 159,
    "start_time": "2024-03-29T00:01:22.773Z"
   },
   {
    "duration": 15,
    "start_time": "2024-03-29T00:01:22.934Z"
   },
   {
    "duration": 12,
    "start_time": "2024-03-29T00:01:22.950Z"
   },
   {
    "duration": 83,
    "start_time": "2024-03-29T00:01:34.994Z"
   },
   {
    "duration": 141,
    "start_time": "2024-03-29T00:01:38.528Z"
   },
   {
    "duration": 117,
    "start_time": "2024-03-29T00:03:58.555Z"
   },
   {
    "duration": 138,
    "start_time": "2024-03-29T00:04:02.767Z"
   },
   {
    "duration": 1145,
    "start_time": "2024-03-29T00:04:37.647Z"
   },
   {
    "duration": 18,
    "start_time": "2024-03-29T00:04:55.056Z"
   },
   {
    "duration": 116,
    "start_time": "2024-03-29T00:05:00.257Z"
   },
   {
    "duration": 65,
    "start_time": "2024-03-29T00:05:49.757Z"
   },
   {
    "duration": 126,
    "start_time": "2024-03-29T00:05:56.169Z"
   },
   {
    "duration": 127,
    "start_time": "2024-03-29T00:06:38.085Z"
   },
   {
    "duration": 128,
    "start_time": "2024-03-29T00:07:07.873Z"
   },
   {
    "duration": 134,
    "start_time": "2024-03-29T00:07:14.355Z"
   },
   {
    "duration": 146,
    "start_time": "2024-03-29T00:07:45.460Z"
   },
   {
    "duration": 193,
    "start_time": "2024-03-29T00:07:59.475Z"
   },
   {
    "duration": 165,
    "start_time": "2024-03-29T00:08:16.795Z"
   },
   {
    "duration": 147,
    "start_time": "2024-03-29T00:08:22.127Z"
   },
   {
    "duration": 127,
    "start_time": "2024-03-29T00:09:53.256Z"
   },
   {
    "duration": 140,
    "start_time": "2024-03-29T00:09:53.418Z"
   },
   {
    "duration": 9,
    "start_time": "2024-03-29T00:11:52.332Z"
   },
   {
    "duration": 13,
    "start_time": "2024-03-29T00:12:01.531Z"
   },
   {
    "duration": 8,
    "start_time": "2024-03-29T00:15:36.276Z"
   },
   {
    "duration": 8,
    "start_time": "2024-03-29T00:16:15.171Z"
   },
   {
    "duration": 8,
    "start_time": "2024-03-29T00:16:33.818Z"
   },
   {
    "duration": 8,
    "start_time": "2024-03-29T00:16:57.842Z"
   },
   {
    "duration": 25,
    "start_time": "2024-03-29T00:17:52.612Z"
   },
   {
    "duration": 1153,
    "start_time": "2024-03-29T00:18:58.001Z"
   },
   {
    "duration": 901,
    "start_time": "2024-03-29T00:19:09.204Z"
   },
   {
    "duration": 8,
    "start_time": "2024-03-29T00:19:19.596Z"
   },
   {
    "duration": 74,
    "start_time": "2024-03-29T00:19:26.363Z"
   },
   {
    "duration": 8,
    "start_time": "2024-03-29T00:19:32.859Z"
   },
   {
    "duration": 420,
    "start_time": "2024-03-29T00:19:38.787Z"
   },
   {
    "duration": 11,
    "start_time": "2024-03-29T00:19:54.140Z"
   },
   {
    "duration": 954,
    "start_time": "2024-03-29T00:20:06.478Z"
   },
   {
    "duration": 8,
    "start_time": "2024-03-29T00:20:14.699Z"
   },
   {
    "duration": 1042,
    "start_time": "2024-03-29T00:20:20.156Z"
   },
   {
    "duration": 1070,
    "start_time": "2024-03-29T00:20:25.880Z"
   },
   {
    "duration": 134,
    "start_time": "2024-03-29T00:21:13.784Z"
   },
   {
    "duration": 132,
    "start_time": "2024-03-29T00:21:22.752Z"
   },
   {
    "duration": 1024,
    "start_time": "2024-03-29T00:21:38.266Z"
   },
   {
    "duration": 54,
    "start_time": "2024-03-29T00:21:39.292Z"
   },
   {
    "duration": 16,
    "start_time": "2024-03-29T00:21:39.347Z"
   },
   {
    "duration": 12,
    "start_time": "2024-03-29T00:21:39.365Z"
   },
   {
    "duration": 21,
    "start_time": "2024-03-29T00:21:39.378Z"
   },
   {
    "duration": 3,
    "start_time": "2024-03-29T00:21:39.400Z"
   },
   {
    "duration": 17,
    "start_time": "2024-03-29T00:21:39.404Z"
   },
   {
    "duration": 29,
    "start_time": "2024-03-29T00:21:39.423Z"
   },
   {
    "duration": 6,
    "start_time": "2024-03-29T00:21:39.454Z"
   },
   {
    "duration": 8,
    "start_time": "2024-03-29T00:21:39.463Z"
   },
   {
    "duration": 18,
    "start_time": "2024-03-29T00:21:39.472Z"
   },
   {
    "duration": 16,
    "start_time": "2024-03-29T00:21:39.491Z"
   },
   {
    "duration": 19,
    "start_time": "2024-03-29T00:21:39.509Z"
   },
   {
    "duration": 6,
    "start_time": "2024-03-29T00:21:39.530Z"
   },
   {
    "duration": 11,
    "start_time": "2024-03-29T00:21:39.537Z"
   },
   {
    "duration": 37,
    "start_time": "2024-03-29T00:21:39.549Z"
   },
   {
    "duration": 41,
    "start_time": "2024-03-29T00:21:39.588Z"
   },
   {
    "duration": 16,
    "start_time": "2024-03-29T00:21:39.630Z"
   },
   {
    "duration": 4,
    "start_time": "2024-03-29T00:21:39.648Z"
   },
   {
    "duration": 4,
    "start_time": "2024-03-29T00:21:39.654Z"
   },
   {
    "duration": 1052,
    "start_time": "2024-03-29T00:21:39.659Z"
   },
   {
    "duration": 8,
    "start_time": "2024-03-29T00:21:40.713Z"
   },
   {
    "duration": 25,
    "start_time": "2024-03-29T00:21:40.722Z"
   },
   {
    "duration": 6,
    "start_time": "2024-03-29T00:21:40.749Z"
   },
   {
    "duration": 8,
    "start_time": "2024-03-29T00:21:40.756Z"
   },
   {
    "duration": 6,
    "start_time": "2024-03-29T00:21:40.765Z"
   },
   {
    "duration": 12,
    "start_time": "2024-03-29T00:21:40.772Z"
   },
   {
    "duration": 17,
    "start_time": "2024-03-29T00:21:40.787Z"
   },
   {
    "duration": 12,
    "start_time": "2024-03-29T00:21:40.805Z"
   },
   {
    "duration": 4,
    "start_time": "2024-03-29T00:21:40.845Z"
   },
   {
    "duration": 13,
    "start_time": "2024-03-29T00:21:40.850Z"
   },
   {
    "duration": 168,
    "start_time": "2024-03-29T00:21:40.864Z"
   },
   {
    "duration": 16,
    "start_time": "2024-03-29T00:21:41.033Z"
   },
   {
    "duration": 145,
    "start_time": "2024-03-29T00:21:41.050Z"
   },
   {
    "duration": 155,
    "start_time": "2024-03-29T00:21:41.196Z"
   },
   {
    "duration": 135,
    "start_time": "2024-03-29T00:21:41.352Z"
   },
   {
    "duration": 150,
    "start_time": "2024-03-29T00:21:41.488Z"
   },
   {
    "duration": 70,
    "start_time": "2024-03-29T00:21:41.639Z"
   },
   {
    "duration": 98,
    "start_time": "2024-03-29T00:25:49.142Z"
   },
   {
    "duration": 148,
    "start_time": "2024-03-29T00:26:04.604Z"
   },
   {
    "duration": 152,
    "start_time": "2024-03-29T00:26:30.193Z"
   },
   {
    "duration": 138,
    "start_time": "2024-03-29T00:27:01.970Z"
   },
   {
    "duration": 7,
    "start_time": "2024-03-29T00:27:37.643Z"
   },
   {
    "duration": 8,
    "start_time": "2024-03-29T00:28:46.705Z"
   },
   {
    "duration": 12,
    "start_time": "2024-03-29T00:29:02.886Z"
   },
   {
    "duration": 16,
    "start_time": "2024-03-29T00:29:13.221Z"
   },
   {
    "duration": 107,
    "start_time": "2024-03-29T00:29:38.010Z"
   },
   {
    "duration": 166,
    "start_time": "2024-03-29T00:30:32.200Z"
   },
   {
    "duration": 8,
    "start_time": "2024-03-29T00:30:36.014Z"
   },
   {
    "duration": 13,
    "start_time": "2024-03-29T00:31:08.513Z"
   },
   {
    "duration": 14,
    "start_time": "2024-03-29T00:31:13.270Z"
   },
   {
    "duration": 13,
    "start_time": "2024-03-29T00:31:27.237Z"
   },
   {
    "duration": 19,
    "start_time": "2024-03-29T00:31:56.011Z"
   },
   {
    "duration": 15,
    "start_time": "2024-03-29T00:32:45.433Z"
   },
   {
    "duration": 13,
    "start_time": "2024-03-29T00:33:10.115Z"
   },
   {
    "duration": 8,
    "start_time": "2024-03-29T00:33:13.037Z"
   },
   {
    "duration": 13,
    "start_time": "2024-03-29T00:33:16.216Z"
   },
   {
    "duration": 17,
    "start_time": "2024-03-29T00:33:44.809Z"
   },
   {
    "duration": 31,
    "start_time": "2024-03-29T00:34:26.907Z"
   },
   {
    "duration": 15,
    "start_time": "2024-03-29T00:34:33.404Z"
   },
   {
    "duration": 24,
    "start_time": "2024-03-29T00:35:08.482Z"
   },
   {
    "duration": 128,
    "start_time": "2024-03-29T00:35:22.823Z"
   },
   {
    "duration": 612,
    "start_time": "2024-03-29T00:36:15.082Z"
   },
   {
    "duration": 629,
    "start_time": "2024-03-29T00:36:57.728Z"
   },
   {
    "duration": 625,
    "start_time": "2024-03-29T00:38:17.414Z"
   },
   {
    "duration": 761,
    "start_time": "2024-03-29T00:38:53.336Z"
   },
   {
    "duration": 642,
    "start_time": "2024-03-29T00:39:06.005Z"
   },
   {
    "duration": 8,
    "start_time": "2024-03-29T00:39:21.650Z"
   },
   {
    "duration": 7,
    "start_time": "2024-03-29T00:39:30.222Z"
   },
   {
    "duration": 48,
    "start_time": "2024-03-29T13:07:28.998Z"
   },
   {
    "duration": 1265,
    "start_time": "2024-03-29T13:07:37.392Z"
   },
   {
    "duration": 189,
    "start_time": "2024-03-29T13:07:38.659Z"
   },
   {
    "duration": 19,
    "start_time": "2024-03-29T13:07:38.850Z"
   },
   {
    "duration": 15,
    "start_time": "2024-03-29T13:07:38.871Z"
   },
   {
    "duration": 36,
    "start_time": "2024-03-29T13:07:38.888Z"
   },
   {
    "duration": 10,
    "start_time": "2024-03-29T13:07:38.926Z"
   },
   {
    "duration": 22,
    "start_time": "2024-03-29T13:07:38.937Z"
   },
   {
    "duration": 38,
    "start_time": "2024-03-29T13:07:38.960Z"
   },
   {
    "duration": 14,
    "start_time": "2024-03-29T13:07:39.000Z"
   },
   {
    "duration": 15,
    "start_time": "2024-03-29T13:07:39.017Z"
   },
   {
    "duration": 26,
    "start_time": "2024-03-29T13:07:39.033Z"
   },
   {
    "duration": 29,
    "start_time": "2024-03-29T13:07:39.061Z"
   },
   {
    "duration": 23,
    "start_time": "2024-03-29T13:07:39.092Z"
   },
   {
    "duration": 6,
    "start_time": "2024-03-29T13:07:39.117Z"
   },
   {
    "duration": 16,
    "start_time": "2024-03-29T13:07:39.125Z"
   },
   {
    "duration": 67,
    "start_time": "2024-03-29T13:07:39.143Z"
   },
   {
    "duration": 48,
    "start_time": "2024-03-29T13:07:39.211Z"
   },
   {
    "duration": 4,
    "start_time": "2024-03-29T13:07:39.261Z"
   },
   {
    "duration": 11,
    "start_time": "2024-03-29T13:07:39.267Z"
   },
   {
    "duration": 6,
    "start_time": "2024-03-29T13:07:39.279Z"
   },
   {
    "duration": 1180,
    "start_time": "2024-03-29T13:07:39.294Z"
   },
   {
    "duration": 10,
    "start_time": "2024-03-29T13:07:40.475Z"
   },
   {
    "duration": 54,
    "start_time": "2024-03-29T13:07:40.494Z"
   },
   {
    "duration": 7,
    "start_time": "2024-03-29T13:07:40.550Z"
   },
   {
    "duration": 36,
    "start_time": "2024-03-29T13:07:40.559Z"
   },
   {
    "duration": 17,
    "start_time": "2024-03-29T13:07:40.596Z"
   },
   {
    "duration": 36,
    "start_time": "2024-03-29T13:07:40.614Z"
   },
   {
    "duration": 34,
    "start_time": "2024-03-29T13:07:40.653Z"
   },
   {
    "duration": 19,
    "start_time": "2024-03-29T13:07:40.689Z"
   },
   {
    "duration": 4,
    "start_time": "2024-03-29T13:07:40.710Z"
   },
   {
    "duration": 17,
    "start_time": "2024-03-29T13:07:40.716Z"
   },
   {
    "duration": 206,
    "start_time": "2024-03-29T13:07:40.734Z"
   },
   {
    "duration": 15,
    "start_time": "2024-03-29T13:07:40.941Z"
   },
   {
    "duration": 823,
    "start_time": "2024-03-29T13:07:40.958Z"
   },
   {
    "duration": 20,
    "start_time": "2024-03-29T13:07:41.783Z"
   },
   {
    "duration": 15,
    "start_time": "2024-03-29T13:07:46.443Z"
   },
   {
    "duration": 97,
    "start_time": "2024-03-29T13:08:11.920Z"
   },
   {
    "duration": 14,
    "start_time": "2024-03-29T13:08:24.503Z"
   },
   {
    "duration": 13,
    "start_time": "2024-03-29T13:08:30.101Z"
   },
   {
    "duration": 21,
    "start_time": "2024-03-29T13:08:44.201Z"
   },
   {
    "duration": 23,
    "start_time": "2024-03-29T13:09:05.444Z"
   },
   {
    "duration": 15,
    "start_time": "2024-03-29T13:09:14.428Z"
   },
   {
    "duration": 14,
    "start_time": "2024-03-29T13:09:29.035Z"
   },
   {
    "duration": 15,
    "start_time": "2024-03-29T13:09:36.867Z"
   },
   {
    "duration": 13,
    "start_time": "2024-03-29T13:09:41.863Z"
   },
   {
    "duration": 78,
    "start_time": "2024-03-29T13:10:08.466Z"
   },
   {
    "duration": 20,
    "start_time": "2024-03-29T13:10:14.193Z"
   },
   {
    "duration": 22,
    "start_time": "2024-03-29T13:10:20.070Z"
   },
   {
    "duration": 23,
    "start_time": "2024-03-29T13:12:37.974Z"
   },
   {
    "duration": 26,
    "start_time": "2024-03-29T13:13:11.356Z"
   },
   {
    "duration": 27,
    "start_time": "2024-03-29T13:13:41.010Z"
   },
   {
    "duration": 21,
    "start_time": "2024-03-29T13:13:48.676Z"
   },
   {
    "duration": 15,
    "start_time": "2024-03-29T13:15:14.734Z"
   },
   {
    "duration": 22,
    "start_time": "2024-03-29T13:15:20.378Z"
   },
   {
    "duration": 22,
    "start_time": "2024-03-29T13:15:42.741Z"
   },
   {
    "duration": 18,
    "start_time": "2024-03-29T13:16:00.757Z"
   },
   {
    "duration": 21,
    "start_time": "2024-03-29T13:16:21.533Z"
   },
   {
    "duration": 1288,
    "start_time": "2024-03-29T13:16:25.756Z"
   },
   {
    "duration": 134,
    "start_time": "2024-03-29T13:16:34.286Z"
   },
   {
    "duration": 286,
    "start_time": "2024-03-29T13:17:43.828Z"
   },
   {
    "duration": 214,
    "start_time": "2024-03-29T13:17:48.182Z"
   },
   {
    "duration": 182,
    "start_time": "2024-03-29T13:17:53.375Z"
   },
   {
    "duration": 250,
    "start_time": "2024-03-29T13:18:19.972Z"
   },
   {
    "duration": 22,
    "start_time": "2024-03-29T13:18:24.652Z"
   },
   {
    "duration": 20,
    "start_time": "2024-03-29T13:18:32.631Z"
   },
   {
    "duration": 22,
    "start_time": "2024-03-29T13:19:04.173Z"
   },
   {
    "duration": 29,
    "start_time": "2024-03-29T13:19:16.818Z"
   },
   {
    "duration": 23,
    "start_time": "2024-03-29T13:19:25.175Z"
   },
   {
    "duration": 24,
    "start_time": "2024-03-29T13:19:29.898Z"
   },
   {
    "duration": 22,
    "start_time": "2024-03-29T13:19:44.576Z"
   },
   {
    "duration": 128,
    "start_time": "2024-03-29T13:19:52.220Z"
   },
   {
    "duration": 24,
    "start_time": "2024-03-29T13:23:29.264Z"
   },
   {
    "duration": 21,
    "start_time": "2024-03-29T13:23:38.582Z"
   },
   {
    "duration": 21,
    "start_time": "2024-03-29T13:24:35.752Z"
   },
   {
    "duration": 22,
    "start_time": "2024-03-29T13:24:54.965Z"
   },
   {
    "duration": 29,
    "start_time": "2024-03-29T13:25:05.034Z"
   },
   {
    "duration": 28,
    "start_time": "2024-03-29T13:25:10.775Z"
   },
   {
    "duration": 23,
    "start_time": "2024-03-29T13:25:24.810Z"
   },
   {
    "duration": 21,
    "start_time": "2024-03-29T13:25:27.597Z"
   },
   {
    "duration": 25,
    "start_time": "2024-03-29T13:25:35.614Z"
   },
   {
    "duration": 25,
    "start_time": "2024-03-29T13:25:47.270Z"
   },
   {
    "duration": 22,
    "start_time": "2024-03-29T13:25:52.614Z"
   },
   {
    "duration": 29,
    "start_time": "2024-03-29T13:27:15.871Z"
   },
   {
    "duration": 28,
    "start_time": "2024-03-29T13:27:41.418Z"
   },
   {
    "duration": 25,
    "start_time": "2024-03-29T13:28:00.353Z"
   },
   {
    "duration": 25,
    "start_time": "2024-03-29T13:28:03.534Z"
   },
   {
    "duration": 66,
    "start_time": "2024-03-29T13:28:23.118Z"
   },
   {
    "duration": 1347,
    "start_time": "2024-03-29T13:29:10.683Z"
   },
   {
    "duration": 21,
    "start_time": "2024-03-29T13:29:45.526Z"
   },
   {
    "duration": 22,
    "start_time": "2024-03-29T13:29:54.014Z"
   },
   {
    "duration": 7,
    "start_time": "2024-03-29T13:30:10.647Z"
   },
   {
    "duration": 24,
    "start_time": "2024-03-29T13:30:30.782Z"
   },
   {
    "duration": 20,
    "start_time": "2024-03-29T13:30:40.127Z"
   },
   {
    "duration": 19,
    "start_time": "2024-03-29T13:31:22.316Z"
   },
   {
    "duration": 6,
    "start_time": "2024-03-29T13:31:28.189Z"
   },
   {
    "duration": 18,
    "start_time": "2024-03-29T13:31:38.779Z"
   },
   {
    "duration": 7,
    "start_time": "2024-03-29T13:31:39.973Z"
   },
   {
    "duration": 85,
    "start_time": "2024-03-29T13:31:46.500Z"
   },
   {
    "duration": 28,
    "start_time": "2024-03-29T13:31:49.563Z"
   },
   {
    "duration": 19,
    "start_time": "2024-03-29T13:32:00.518Z"
   },
   {
    "duration": 7,
    "start_time": "2024-03-29T13:32:01.683Z"
   },
   {
    "duration": 18,
    "start_time": "2024-03-29T13:32:07.939Z"
   },
   {
    "duration": 6,
    "start_time": "2024-03-29T13:32:09.140Z"
   },
   {
    "duration": 21,
    "start_time": "2024-03-29T13:32:29.247Z"
   },
   {
    "duration": 7,
    "start_time": "2024-03-29T13:32:29.982Z"
   },
   {
    "duration": 129,
    "start_time": "2024-03-29T13:32:53.319Z"
   },
   {
    "duration": 200,
    "start_time": "2024-03-29T13:34:22.857Z"
   },
   {
    "duration": 154,
    "start_time": "2024-03-29T13:34:28.328Z"
   },
   {
    "duration": 139,
    "start_time": "2024-03-29T13:34:34.314Z"
   },
   {
    "duration": 153,
    "start_time": "2024-03-29T13:35:19.392Z"
   },
   {
    "duration": 148,
    "start_time": "2024-03-29T13:35:23.478Z"
   },
   {
    "duration": 130,
    "start_time": "2024-03-29T13:35:29.019Z"
   },
   {
    "duration": 186,
    "start_time": "2024-03-29T13:35:36.938Z"
   },
   {
    "duration": 159,
    "start_time": "2024-03-29T13:35:40.587Z"
   },
   {
    "duration": 234,
    "start_time": "2024-03-29T13:35:43.903Z"
   },
   {
    "duration": 159,
    "start_time": "2024-03-29T13:35:48.075Z"
   },
   {
    "duration": 201,
    "start_time": "2024-03-29T13:35:58.884Z"
   },
   {
    "duration": 177,
    "start_time": "2024-03-29T13:36:05.829Z"
   },
   {
    "duration": 162,
    "start_time": "2024-03-29T13:36:12.478Z"
   },
   {
    "duration": 153,
    "start_time": "2024-03-29T13:36:19.149Z"
   },
   {
    "duration": 7,
    "start_time": "2024-03-29T13:43:43.406Z"
   },
   {
    "duration": 6,
    "start_time": "2024-03-29T13:43:50.355Z"
   },
   {
    "duration": 6,
    "start_time": "2024-03-29T13:43:55.900Z"
   },
   {
    "duration": 8,
    "start_time": "2024-03-29T13:43:59.574Z"
   },
   {
    "duration": 22,
    "start_time": "2024-03-29T13:44:49.970Z"
   },
   {
    "duration": 7,
    "start_time": "2024-03-29T13:45:05.671Z"
   },
   {
    "duration": 158,
    "start_time": "2024-03-29T13:45:06.836Z"
   },
   {
    "duration": 7,
    "start_time": "2024-03-29T13:45:14.311Z"
   },
   {
    "duration": 6,
    "start_time": "2024-03-29T13:45:28.405Z"
   },
   {
    "duration": 8,
    "start_time": "2024-03-29T13:45:34.137Z"
   },
   {
    "duration": 152,
    "start_time": "2024-03-29T13:48:37.731Z"
   },
   {
    "duration": 79,
    "start_time": "2024-03-29T13:49:11.633Z"
   },
   {
    "duration": 7,
    "start_time": "2024-03-29T13:49:59.622Z"
   },
   {
    "duration": 216,
    "start_time": "2024-03-29T13:50:27.293Z"
   },
   {
    "duration": 146,
    "start_time": "2024-03-29T13:50:31.975Z"
   },
   {
    "duration": 163,
    "start_time": "2024-03-29T13:50:37.679Z"
   },
   {
    "duration": 157,
    "start_time": "2024-03-29T13:50:45.016Z"
   },
   {
    "duration": 251,
    "start_time": "2024-03-29T13:51:00.324Z"
   },
   {
    "duration": 148,
    "start_time": "2024-03-29T13:51:04.568Z"
   },
   {
    "duration": 156,
    "start_time": "2024-03-29T14:00:55.596Z"
   },
   {
    "duration": 158,
    "start_time": "2024-03-29T14:01:01.041Z"
   },
   {
    "duration": 163,
    "start_time": "2024-03-29T14:01:05.142Z"
   },
   {
    "duration": 155,
    "start_time": "2024-03-29T14:01:31.361Z"
   },
   {
    "duration": 149,
    "start_time": "2024-03-29T14:01:48.003Z"
   },
   {
    "duration": 159,
    "start_time": "2024-03-29T14:01:56.547Z"
   },
   {
    "duration": 6,
    "start_time": "2024-03-29T14:02:07.021Z"
   },
   {
    "duration": 7,
    "start_time": "2024-03-29T14:02:14.149Z"
   },
   {
    "duration": 6,
    "start_time": "2024-03-29T14:02:19.298Z"
   },
   {
    "duration": 178,
    "start_time": "2024-03-29T14:23:39.423Z"
   },
   {
    "duration": 162,
    "start_time": "2024-03-29T14:23:46.772Z"
   },
   {
    "duration": 1189,
    "start_time": "2024-03-29T14:23:53.671Z"
   },
   {
    "duration": 56,
    "start_time": "2024-03-29T14:23:54.862Z"
   },
   {
    "duration": 23,
    "start_time": "2024-03-29T14:23:54.923Z"
   },
   {
    "duration": 15,
    "start_time": "2024-03-29T14:23:54.951Z"
   },
   {
    "duration": 58,
    "start_time": "2024-03-29T14:23:54.969Z"
   },
   {
    "duration": 4,
    "start_time": "2024-03-29T14:23:55.029Z"
   },
   {
    "duration": 26,
    "start_time": "2024-03-29T14:23:55.035Z"
   },
   {
    "duration": 41,
    "start_time": "2024-03-29T14:23:55.063Z"
   },
   {
    "duration": 17,
    "start_time": "2024-03-29T14:23:55.106Z"
   },
   {
    "duration": 18,
    "start_time": "2024-03-29T14:23:55.125Z"
   },
   {
    "duration": 32,
    "start_time": "2024-03-29T14:23:55.144Z"
   },
   {
    "duration": 17,
    "start_time": "2024-03-29T14:23:55.178Z"
   },
   {
    "duration": 10,
    "start_time": "2024-03-29T14:23:55.198Z"
   },
   {
    "duration": 6,
    "start_time": "2024-03-29T14:23:55.210Z"
   },
   {
    "duration": 24,
    "start_time": "2024-03-29T14:23:55.217Z"
   },
   {
    "duration": 64,
    "start_time": "2024-03-29T14:23:55.242Z"
   },
   {
    "duration": 48,
    "start_time": "2024-03-29T14:23:55.308Z"
   },
   {
    "duration": 5,
    "start_time": "2024-03-29T14:23:55.358Z"
   },
   {
    "duration": 32,
    "start_time": "2024-03-29T14:23:55.364Z"
   },
   {
    "duration": 41,
    "start_time": "2024-03-29T14:23:55.398Z"
   },
   {
    "duration": 1245,
    "start_time": "2024-03-29T14:23:55.441Z"
   },
   {
    "duration": 9,
    "start_time": "2024-03-29T14:23:56.688Z"
   },
   {
    "duration": 31,
    "start_time": "2024-03-29T14:23:56.699Z"
   },
   {
    "duration": 6,
    "start_time": "2024-03-29T14:23:56.731Z"
   },
   {
    "duration": 16,
    "start_time": "2024-03-29T14:23:56.738Z"
   },
   {
    "duration": 11,
    "start_time": "2024-03-29T14:23:56.756Z"
   },
   {
    "duration": 20,
    "start_time": "2024-03-29T14:23:56.768Z"
   },
   {
    "duration": 23,
    "start_time": "2024-03-29T14:23:56.789Z"
   },
   {
    "duration": 14,
    "start_time": "2024-03-29T14:23:56.813Z"
   },
   {
    "duration": 4,
    "start_time": "2024-03-29T14:23:56.828Z"
   },
   {
    "duration": 57,
    "start_time": "2024-03-29T14:23:56.834Z"
   },
   {
    "duration": 211,
    "start_time": "2024-03-29T14:23:56.892Z"
   },
   {
    "duration": 14,
    "start_time": "2024-03-29T14:23:57.105Z"
   },
   {
    "duration": 765,
    "start_time": "2024-03-29T14:23:57.121Z"
   },
   {
    "duration": 23,
    "start_time": "2024-03-29T14:23:57.893Z"
   },
   {
    "duration": 108,
    "start_time": "2024-03-29T14:23:57.918Z"
   },
   {
    "duration": 187,
    "start_time": "2024-03-29T14:23:58.028Z"
   },
   {
    "duration": 79,
    "start_time": "2024-03-29T14:23:58.217Z"
   },
   {
    "duration": 83,
    "start_time": "2024-03-29T14:25:35.347Z"
   },
   {
    "duration": 7,
    "start_time": "2024-03-29T14:26:01.364Z"
   },
   {
    "duration": 80,
    "start_time": "2024-03-29T14:27:36.364Z"
   },
   {
    "duration": 7,
    "start_time": "2024-03-29T14:27:39.880Z"
   },
   {
    "duration": 100,
    "start_time": "2024-03-29T20:36:15.657Z"
   },
   {
    "duration": 6,
    "start_time": "2024-03-29T20:37:03.865Z"
   },
   {
    "duration": 20,
    "start_time": "2024-03-29T20:37:09.243Z"
   },
   {
    "duration": 4,
    "start_time": "2024-03-29T20:37:26.385Z"
   },
   {
    "duration": 106,
    "start_time": "2024-03-29T20:37:31.947Z"
   },
   {
    "duration": 18,
    "start_time": "2024-03-29T20:37:36.380Z"
   },
   {
    "duration": 28,
    "start_time": "2024-03-29T20:38:16.102Z"
   },
   {
    "duration": 1026,
    "start_time": "2024-03-29T20:38:23.838Z"
   },
   {
    "duration": 60,
    "start_time": "2024-03-29T20:38:24.866Z"
   },
   {
    "duration": 18,
    "start_time": "2024-03-29T20:38:24.927Z"
   },
   {
    "duration": 43,
    "start_time": "2024-03-29T20:38:24.947Z"
   },
   {
    "duration": 36,
    "start_time": "2024-03-29T20:38:24.993Z"
   },
   {
    "duration": 27,
    "start_time": "2024-03-29T20:38:25.030Z"
   },
   {
    "duration": 37,
    "start_time": "2024-03-29T20:38:25.059Z"
   },
   {
    "duration": 10,
    "start_time": "2024-03-29T20:38:25.098Z"
   },
   {
    "duration": 36,
    "start_time": "2024-03-29T20:38:25.110Z"
   },
   {
    "duration": 25,
    "start_time": "2024-03-29T20:38:25.147Z"
   },
   {
    "duration": 23,
    "start_time": "2024-03-29T20:38:25.173Z"
   },
   {
    "duration": 13,
    "start_time": "2024-03-29T20:38:25.199Z"
   },
   {
    "duration": 8,
    "start_time": "2024-03-29T20:38:25.214Z"
   },
   {
    "duration": 23,
    "start_time": "2024-03-29T20:38:25.226Z"
   },
   {
    "duration": 16,
    "start_time": "2024-03-29T20:38:25.250Z"
   },
   {
    "duration": 46,
    "start_time": "2024-03-29T20:38:25.268Z"
   },
   {
    "duration": 50,
    "start_time": "2024-03-29T20:38:25.315Z"
   },
   {
    "duration": 4,
    "start_time": "2024-03-29T20:38:25.366Z"
   },
   {
    "duration": 9,
    "start_time": "2024-03-29T20:38:25.372Z"
   },
   {
    "duration": 7,
    "start_time": "2024-03-29T20:38:25.393Z"
   },
   {
    "duration": 1158,
    "start_time": "2024-03-29T20:38:25.402Z"
   },
   {
    "duration": 8,
    "start_time": "2024-03-29T20:38:26.561Z"
   },
   {
    "duration": 23,
    "start_time": "2024-03-29T20:38:26.571Z"
   },
   {
    "duration": 8,
    "start_time": "2024-03-29T20:38:26.595Z"
   },
   {
    "duration": 20,
    "start_time": "2024-03-29T20:38:26.605Z"
   },
   {
    "duration": 60,
    "start_time": "2024-03-29T20:38:26.627Z"
   },
   {
    "duration": 19,
    "start_time": "2024-03-29T20:38:26.688Z"
   },
   {
    "duration": 18,
    "start_time": "2024-03-29T20:38:26.709Z"
   },
   {
    "duration": 12,
    "start_time": "2024-03-29T20:38:26.729Z"
   },
   {
    "duration": 33,
    "start_time": "2024-03-29T20:38:26.742Z"
   },
   {
    "duration": 29,
    "start_time": "2024-03-29T20:38:26.777Z"
   },
   {
    "duration": 209,
    "start_time": "2024-03-29T20:38:26.808Z"
   },
   {
    "duration": 13,
    "start_time": "2024-03-29T20:38:27.018Z"
   },
   {
    "duration": 746,
    "start_time": "2024-03-29T20:38:27.032Z"
   },
   {
    "duration": 22,
    "start_time": "2024-03-29T20:38:27.779Z"
   },
   {
    "duration": 6,
    "start_time": "2024-03-29T20:38:27.803Z"
   },
   {
    "duration": 176,
    "start_time": "2024-03-29T20:38:27.811Z"
   },
   {
    "duration": 12,
    "start_time": "2024-03-29T20:38:27.988Z"
   },
   {
    "duration": 9,
    "start_time": "2024-03-29T20:38:28.002Z"
   },
   {
    "duration": 25,
    "start_time": "2024-03-29T20:38:28.013Z"
   },
   {
    "duration": 5,
    "start_time": "2024-03-29T20:40:36.047Z"
   },
   {
    "duration": 4,
    "start_time": "2024-03-29T20:40:43.246Z"
   },
   {
    "duration": 7,
    "start_time": "2024-03-29T20:41:02.461Z"
   },
   {
    "duration": 116,
    "start_time": "2024-03-29T20:41:10.257Z"
   },
   {
    "duration": 7,
    "start_time": "2024-03-29T20:41:19.066Z"
   },
   {
    "duration": 221,
    "start_time": "2024-03-29T20:41:21.340Z"
   },
   {
    "duration": 9,
    "start_time": "2024-03-29T20:41:28.232Z"
   },
   {
    "duration": 241,
    "start_time": "2024-03-29T20:46:05.474Z"
   },
   {
    "duration": 18,
    "start_time": "2024-03-29T20:46:58.496Z"
   },
   {
    "duration": 302,
    "start_time": "2024-03-29T20:47:02.739Z"
   },
   {
    "duration": 104,
    "start_time": "2024-03-29T20:47:13.938Z"
   },
   {
    "duration": 21,
    "start_time": "2024-03-29T20:47:21.757Z"
   },
   {
    "duration": 238,
    "start_time": "2024-03-29T20:47:27.129Z"
   },
   {
    "duration": 3202,
    "start_time": "2024-03-29T20:49:05.845Z"
   },
   {
    "duration": 191,
    "start_time": "2024-03-29T20:49:23.251Z"
   },
   {
    "duration": 256,
    "start_time": "2024-03-29T20:49:35.290Z"
   },
   {
    "duration": 280,
    "start_time": "2024-03-29T20:49:48.971Z"
   },
   {
    "duration": 260,
    "start_time": "2024-03-29T20:50:05.314Z"
   },
   {
    "duration": 229,
    "start_time": "2024-03-29T20:50:35.679Z"
   },
   {
    "duration": 388,
    "start_time": "2024-03-29T20:50:51.429Z"
   },
   {
    "duration": 279,
    "start_time": "2024-03-29T20:51:01.264Z"
   },
   {
    "duration": 280,
    "start_time": "2024-03-29T20:52:21.177Z"
   },
   {
    "duration": 21,
    "start_time": "2024-03-29T20:53:22.200Z"
   },
   {
    "duration": 21,
    "start_time": "2024-03-29T20:54:08.707Z"
   },
   {
    "duration": 6,
    "start_time": "2024-03-29T20:54:23.679Z"
   },
   {
    "duration": 36,
    "start_time": "2024-03-29T20:54:44.988Z"
   },
   {
    "duration": 8,
    "start_time": "2024-03-29T20:54:56.665Z"
   },
   {
    "duration": 23,
    "start_time": "2024-03-29T20:55:26.846Z"
   },
   {
    "duration": 33,
    "start_time": "2024-03-29T20:55:34.924Z"
   },
   {
    "duration": 25,
    "start_time": "2024-03-29T20:55:41.521Z"
   },
   {
    "duration": 22,
    "start_time": "2024-03-29T20:55:44.346Z"
   },
   {
    "duration": 4,
    "start_time": "2024-03-29T20:58:05.950Z"
   },
   {
    "duration": 4,
    "start_time": "2024-03-29T20:58:12.042Z"
   },
   {
    "duration": 1073,
    "start_time": "2024-03-29T20:58:30.323Z"
   },
   {
    "duration": 61,
    "start_time": "2024-03-29T20:58:31.398Z"
   },
   {
    "duration": 19,
    "start_time": "2024-03-29T20:58:31.460Z"
   },
   {
    "duration": 78,
    "start_time": "2024-03-29T20:58:31.481Z"
   },
   {
    "duration": 81,
    "start_time": "2024-03-29T20:58:31.562Z"
   },
   {
    "duration": 29,
    "start_time": "2024-03-29T20:58:31.644Z"
   },
   {
    "duration": 55,
    "start_time": "2024-03-29T20:58:31.674Z"
   },
   {
    "duration": 40,
    "start_time": "2024-03-29T20:58:31.730Z"
   },
   {
    "duration": 29,
    "start_time": "2024-03-29T20:58:31.771Z"
   },
   {
    "duration": 44,
    "start_time": "2024-03-29T20:58:31.802Z"
   },
   {
    "duration": 31,
    "start_time": "2024-03-29T20:58:31.848Z"
   },
   {
    "duration": 43,
    "start_time": "2024-03-29T20:58:31.881Z"
   },
   {
    "duration": 65,
    "start_time": "2024-03-29T20:58:31.926Z"
   },
   {
    "duration": 97,
    "start_time": "2024-03-29T20:58:31.994Z"
   },
   {
    "duration": 21,
    "start_time": "2024-03-29T20:58:32.093Z"
   },
   {
    "duration": 50,
    "start_time": "2024-03-29T20:58:32.115Z"
   },
   {
    "duration": 46,
    "start_time": "2024-03-29T20:58:32.167Z"
   },
   {
    "duration": 5,
    "start_time": "2024-03-29T20:58:32.214Z"
   },
   {
    "duration": 34,
    "start_time": "2024-03-29T20:58:32.220Z"
   },
   {
    "duration": 23,
    "start_time": "2024-03-29T20:58:32.256Z"
   },
   {
    "duration": 1112,
    "start_time": "2024-03-29T20:58:32.281Z"
   },
   {
    "duration": 8,
    "start_time": "2024-03-29T20:58:33.395Z"
   },
   {
    "duration": 34,
    "start_time": "2024-03-29T20:58:33.405Z"
   },
   {
    "duration": 22,
    "start_time": "2024-03-29T20:58:33.441Z"
   },
   {
    "duration": 33,
    "start_time": "2024-03-29T20:58:33.464Z"
   },
   {
    "duration": 34,
    "start_time": "2024-03-29T20:58:33.498Z"
   },
   {
    "duration": 50,
    "start_time": "2024-03-29T20:58:33.534Z"
   },
   {
    "duration": 30,
    "start_time": "2024-03-29T20:58:33.585Z"
   },
   {
    "duration": 19,
    "start_time": "2024-03-29T20:58:33.616Z"
   },
   {
    "duration": 16,
    "start_time": "2024-03-29T20:58:33.637Z"
   },
   {
    "duration": 34,
    "start_time": "2024-03-29T20:58:33.654Z"
   },
   {
    "duration": 198,
    "start_time": "2024-03-29T20:58:33.690Z"
   },
   {
    "duration": 21,
    "start_time": "2024-03-29T20:58:33.897Z"
   },
   {
    "duration": 720,
    "start_time": "2024-03-29T20:58:33.919Z"
   },
   {
    "duration": 21,
    "start_time": "2024-03-29T20:58:34.641Z"
   },
   {
    "duration": 5,
    "start_time": "2024-03-29T20:58:34.663Z"
   },
   {
    "duration": 166,
    "start_time": "2024-03-29T20:58:34.670Z"
   },
   {
    "duration": 6,
    "start_time": "2024-03-29T20:58:34.838Z"
   },
   {
    "duration": 10,
    "start_time": "2024-03-29T20:58:34.845Z"
   },
   {
    "duration": 36,
    "start_time": "2024-03-29T20:58:34.856Z"
   },
   {
    "duration": 19,
    "start_time": "2024-03-29T20:58:34.895Z"
   },
   {
    "duration": 15,
    "start_time": "2024-03-29T20:58:34.918Z"
   },
   {
    "duration": 6,
    "start_time": "2024-03-29T20:58:53.222Z"
   },
   {
    "duration": 15,
    "start_time": "2024-03-29T20:59:09.186Z"
   },
   {
    "duration": 8,
    "start_time": "2024-03-29T20:59:10.745Z"
   },
   {
    "duration": 1092,
    "start_time": "2024-03-29T20:59:17.075Z"
   },
   {
    "duration": 53,
    "start_time": "2024-03-29T20:59:18.169Z"
   },
   {
    "duration": 18,
    "start_time": "2024-03-29T20:59:18.223Z"
   },
   {
    "duration": 13,
    "start_time": "2024-03-29T20:59:18.243Z"
   },
   {
    "duration": 48,
    "start_time": "2024-03-29T20:59:18.259Z"
   },
   {
    "duration": 3,
    "start_time": "2024-03-29T20:59:18.308Z"
   },
   {
    "duration": 14,
    "start_time": "2024-03-29T20:59:18.313Z"
   },
   {
    "duration": 25,
    "start_time": "2024-03-29T20:59:18.329Z"
   },
   {
    "duration": 7,
    "start_time": "2024-03-29T20:59:18.356Z"
   },
   {
    "duration": 49,
    "start_time": "2024-03-29T20:59:18.365Z"
   },
   {
    "duration": 34,
    "start_time": "2024-03-29T20:59:18.415Z"
   },
   {
    "duration": 15,
    "start_time": "2024-03-29T20:59:18.450Z"
   },
   {
    "duration": 21,
    "start_time": "2024-03-29T20:59:18.467Z"
   },
   {
    "duration": 10,
    "start_time": "2024-03-29T20:59:18.491Z"
   },
   {
    "duration": 26,
    "start_time": "2024-03-29T20:59:18.502Z"
   },
   {
    "duration": 56,
    "start_time": "2024-03-29T20:59:18.529Z"
   },
   {
    "duration": 47,
    "start_time": "2024-03-29T20:59:18.587Z"
   },
   {
    "duration": 5,
    "start_time": "2024-03-29T20:59:18.635Z"
   },
   {
    "duration": 9,
    "start_time": "2024-03-29T20:59:18.642Z"
   },
   {
    "duration": 44,
    "start_time": "2024-03-29T20:59:18.652Z"
   },
   {
    "duration": 1102,
    "start_time": "2024-03-29T20:59:18.697Z"
   },
   {
    "duration": 8,
    "start_time": "2024-03-29T20:59:19.801Z"
   },
   {
    "duration": 33,
    "start_time": "2024-03-29T20:59:19.810Z"
   },
   {
    "duration": 24,
    "start_time": "2024-03-29T20:59:19.844Z"
   },
   {
    "duration": 30,
    "start_time": "2024-03-29T20:59:19.870Z"
   },
   {
    "duration": 35,
    "start_time": "2024-03-29T20:59:19.901Z"
   },
   {
    "duration": 59,
    "start_time": "2024-03-29T20:59:19.937Z"
   },
   {
    "duration": 28,
    "start_time": "2024-03-29T20:59:19.997Z"
   },
   {
    "duration": 34,
    "start_time": "2024-03-29T20:59:20.027Z"
   },
   {
    "duration": 37,
    "start_time": "2024-03-29T20:59:20.062Z"
   },
   {
    "duration": 45,
    "start_time": "2024-03-29T20:59:20.100Z"
   },
   {
    "duration": 221,
    "start_time": "2024-03-29T20:59:20.146Z"
   },
   {
    "duration": 13,
    "start_time": "2024-03-29T20:59:20.369Z"
   },
   {
    "duration": 733,
    "start_time": "2024-03-29T20:59:20.383Z"
   },
   {
    "duration": 21,
    "start_time": "2024-03-29T20:59:21.118Z"
   },
   {
    "duration": 15,
    "start_time": "2024-03-29T20:59:21.140Z"
   },
   {
    "duration": 176,
    "start_time": "2024-03-29T20:59:21.157Z"
   },
   {
    "duration": 6,
    "start_time": "2024-03-29T20:59:21.335Z"
   },
   {
    "duration": 12,
    "start_time": "2024-03-29T20:59:21.343Z"
   },
   {
    "duration": 47,
    "start_time": "2024-03-29T20:59:21.356Z"
   },
   {
    "duration": 50,
    "start_time": "2024-03-29T20:59:21.406Z"
   },
   {
    "duration": 41,
    "start_time": "2024-03-29T20:59:21.457Z"
   },
   {
    "duration": 4,
    "start_time": "2024-03-29T20:59:44.312Z"
   },
   {
    "duration": 8,
    "start_time": "2024-03-29T21:00:02.083Z"
   },
   {
    "duration": 91,
    "start_time": "2024-03-29T21:00:31.808Z"
   },
   {
    "duration": 12,
    "start_time": "2024-03-29T21:00:36.199Z"
   },
   {
    "duration": 88,
    "start_time": "2024-03-29T21:02:52.408Z"
   },
   {
    "duration": 127,
    "start_time": "2024-03-29T21:02:57.933Z"
   },
   {
    "duration": 3,
    "start_time": "2024-03-29T21:03:06.596Z"
   },
   {
    "duration": 4,
    "start_time": "2024-03-29T21:03:09.547Z"
   },
   {
    "duration": 450,
    "start_time": "2024-03-29T21:05:04.731Z"
   },
   {
    "duration": 101,
    "start_time": "2024-03-29T21:05:12.762Z"
   },
   {
    "duration": 289,
    "start_time": "2024-03-29T21:05:22.716Z"
   },
   {
    "duration": 1044,
    "start_time": "2024-03-29T21:05:39.398Z"
   },
   {
    "duration": 52,
    "start_time": "2024-03-29T21:05:40.444Z"
   },
   {
    "duration": 17,
    "start_time": "2024-03-29T21:05:40.497Z"
   },
   {
    "duration": 17,
    "start_time": "2024-03-29T21:05:40.516Z"
   },
   {
    "duration": 19,
    "start_time": "2024-03-29T21:05:40.534Z"
   },
   {
    "duration": 2,
    "start_time": "2024-03-29T21:05:40.555Z"
   },
   {
    "duration": 13,
    "start_time": "2024-03-29T21:05:40.559Z"
   },
   {
    "duration": 22,
    "start_time": "2024-03-29T21:05:40.573Z"
   },
   {
    "duration": 5,
    "start_time": "2024-03-29T21:05:40.597Z"
   },
   {
    "duration": 18,
    "start_time": "2024-03-29T21:05:40.604Z"
   },
   {
    "duration": 20,
    "start_time": "2024-03-29T21:05:40.624Z"
   },
   {
    "duration": 30,
    "start_time": "2024-03-29T21:05:40.645Z"
   },
   {
    "duration": 10,
    "start_time": "2024-03-29T21:05:40.676Z"
   },
   {
    "duration": 19,
    "start_time": "2024-03-29T21:05:40.687Z"
   },
   {
    "duration": 20,
    "start_time": "2024-03-29T21:05:40.708Z"
   },
   {
    "duration": 41,
    "start_time": "2024-03-29T21:05:40.729Z"
   },
   {
    "duration": 44,
    "start_time": "2024-03-29T21:05:40.771Z"
   },
   {
    "duration": 5,
    "start_time": "2024-03-29T21:05:40.816Z"
   },
   {
    "duration": 24,
    "start_time": "2024-03-29T21:05:40.822Z"
   },
   {
    "duration": 10,
    "start_time": "2024-03-29T21:05:40.847Z"
   },
   {
    "duration": 1138,
    "start_time": "2024-03-29T21:05:40.859Z"
   },
   {
    "duration": 8,
    "start_time": "2024-03-29T21:05:41.999Z"
   },
   {
    "duration": 38,
    "start_time": "2024-03-29T21:05:42.009Z"
   },
   {
    "duration": 5,
    "start_time": "2024-03-29T21:05:42.048Z"
   },
   {
    "duration": 6,
    "start_time": "2024-03-29T21:05:42.055Z"
   },
   {
    "duration": 29,
    "start_time": "2024-03-29T21:05:42.062Z"
   },
   {
    "duration": 11,
    "start_time": "2024-03-29T21:05:42.093Z"
   },
   {
    "duration": 18,
    "start_time": "2024-03-29T21:05:42.107Z"
   },
   {
    "duration": 41,
    "start_time": "2024-03-29T21:05:42.126Z"
   },
   {
    "duration": 27,
    "start_time": "2024-03-29T21:05:42.169Z"
   },
   {
    "duration": 34,
    "start_time": "2024-03-29T21:05:42.198Z"
   },
   {
    "duration": 194,
    "start_time": "2024-03-29T21:05:42.233Z"
   },
   {
    "duration": 14,
    "start_time": "2024-03-29T21:05:42.428Z"
   },
   {
    "duration": 704,
    "start_time": "2024-03-29T21:05:42.443Z"
   },
   {
    "duration": 21,
    "start_time": "2024-03-29T21:05:43.149Z"
   },
   {
    "duration": 5,
    "start_time": "2024-03-29T21:05:43.171Z"
   },
   {
    "duration": 154,
    "start_time": "2024-03-29T21:05:43.177Z"
   },
   {
    "duration": 6,
    "start_time": "2024-03-29T21:05:43.333Z"
   },
   {
    "duration": 25,
    "start_time": "2024-03-29T21:05:43.340Z"
   },
   {
    "duration": 48,
    "start_time": "2024-03-29T21:05:43.366Z"
   },
   {
    "duration": 8,
    "start_time": "2024-03-29T21:05:43.415Z"
   },
   {
    "duration": 239,
    "start_time": "2024-03-29T21:05:43.424Z"
   },
   {
    "duration": 95,
    "start_time": "2024-03-29T21:06:18.701Z"
   },
   {
    "duration": 236,
    "start_time": "2024-03-29T21:06:32.105Z"
   },
   {
    "duration": 98,
    "start_time": "2024-03-29T21:07:21.511Z"
   },
   {
    "duration": 281,
    "start_time": "2024-03-29T21:07:26.208Z"
   },
   {
    "duration": 248,
    "start_time": "2024-03-29T21:07:32.274Z"
   },
   {
    "duration": 7,
    "start_time": "2024-03-29T21:10:42.597Z"
   },
   {
    "duration": 6,
    "start_time": "2024-03-29T21:10:56.161Z"
   },
   {
    "duration": 11,
    "start_time": "2024-03-29T21:12:06.439Z"
   },
   {
    "duration": 12,
    "start_time": "2024-03-29T21:12:13.727Z"
   },
   {
    "duration": 4,
    "start_time": "2024-03-29T21:12:28.260Z"
   },
   {
    "duration": 78,
    "start_time": "2024-03-29T21:12:32.940Z"
   },
   {
    "duration": 6,
    "start_time": "2024-03-29T21:13:01.181Z"
   },
   {
    "duration": 6,
    "start_time": "2024-03-29T21:13:16.198Z"
   },
   {
    "duration": 4,
    "start_time": "2024-03-29T21:14:40.050Z"
   },
   {
    "duration": 296,
    "start_time": "2024-03-29T21:15:18.890Z"
   },
   {
    "duration": 80,
    "start_time": "2024-03-29T21:15:32.439Z"
   },
   {
    "duration": 281,
    "start_time": "2024-03-29T21:15:38.807Z"
   },
   {
    "duration": 299,
    "start_time": "2024-03-29T21:16:19.035Z"
   },
   {
    "duration": 6,
    "start_time": "2024-03-29T21:17:24.236Z"
   },
   {
    "duration": 6,
    "start_time": "2024-03-29T21:17:28.024Z"
   },
   {
    "duration": 1061,
    "start_time": "2024-03-29T21:17:42.192Z"
   },
   {
    "duration": 52,
    "start_time": "2024-03-29T21:17:43.255Z"
   },
   {
    "duration": 17,
    "start_time": "2024-03-29T21:17:43.308Z"
   },
   {
    "duration": 16,
    "start_time": "2024-03-29T21:17:43.326Z"
   },
   {
    "duration": 20,
    "start_time": "2024-03-29T21:17:43.343Z"
   },
   {
    "duration": 2,
    "start_time": "2024-03-29T21:17:43.365Z"
   },
   {
    "duration": 31,
    "start_time": "2024-03-29T21:17:43.368Z"
   },
   {
    "duration": 8,
    "start_time": "2024-03-29T21:17:43.400Z"
   },
   {
    "duration": 6,
    "start_time": "2024-03-29T21:17:43.410Z"
   },
   {
    "duration": 8,
    "start_time": "2024-03-29T21:17:43.418Z"
   },
   {
    "duration": 16,
    "start_time": "2024-03-29T21:17:43.428Z"
   },
   {
    "duration": 9,
    "start_time": "2024-03-29T21:17:43.446Z"
   },
   {
    "duration": 9,
    "start_time": "2024-03-29T21:17:43.456Z"
   },
   {
    "duration": 6,
    "start_time": "2024-03-29T21:17:43.493Z"
   },
   {
    "duration": 10,
    "start_time": "2024-03-29T21:17:43.500Z"
   },
   {
    "duration": 46,
    "start_time": "2024-03-29T21:17:43.512Z"
   },
   {
    "duration": 51,
    "start_time": "2024-03-29T21:17:43.559Z"
   },
   {
    "duration": 5,
    "start_time": "2024-03-29T21:17:43.611Z"
   },
   {
    "duration": 13,
    "start_time": "2024-03-29T21:17:43.617Z"
   },
   {
    "duration": 20,
    "start_time": "2024-03-29T21:17:43.631Z"
   },
   {
    "duration": 1065,
    "start_time": "2024-03-29T21:17:43.652Z"
   },
   {
    "duration": 9,
    "start_time": "2024-03-29T21:17:44.718Z"
   },
   {
    "duration": 13,
    "start_time": "2024-03-29T21:17:44.728Z"
   },
   {
    "duration": 5,
    "start_time": "2024-03-29T21:17:44.742Z"
   },
   {
    "duration": 5,
    "start_time": "2024-03-29T21:17:44.748Z"
   },
   {
    "duration": 4,
    "start_time": "2024-03-29T21:17:44.754Z"
   },
   {
    "duration": 37,
    "start_time": "2024-03-29T21:17:44.759Z"
   },
   {
    "duration": 23,
    "start_time": "2024-03-29T21:17:44.798Z"
   },
   {
    "duration": 11,
    "start_time": "2024-03-29T21:17:44.822Z"
   },
   {
    "duration": 3,
    "start_time": "2024-03-29T21:17:44.835Z"
   },
   {
    "duration": 14,
    "start_time": "2024-03-29T21:17:44.839Z"
   },
   {
    "duration": 204,
    "start_time": "2024-03-29T21:17:44.855Z"
   },
   {
    "duration": 14,
    "start_time": "2024-03-29T21:17:45.060Z"
   },
   {
    "duration": 711,
    "start_time": "2024-03-29T21:17:45.075Z"
   },
   {
    "duration": 26,
    "start_time": "2024-03-29T21:17:45.787Z"
   },
   {
    "duration": 19,
    "start_time": "2024-03-29T21:17:45.815Z"
   },
   {
    "duration": 161,
    "start_time": "2024-03-29T21:17:45.835Z"
   },
   {
    "duration": 6,
    "start_time": "2024-03-29T21:17:45.997Z"
   },
   {
    "duration": 17,
    "start_time": "2024-03-29T21:17:46.004Z"
   },
   {
    "duration": 14,
    "start_time": "2024-03-29T21:17:46.023Z"
   },
   {
    "duration": 19,
    "start_time": "2024-03-29T21:17:46.040Z"
   },
   {
    "duration": 43,
    "start_time": "2024-03-29T21:17:46.060Z"
   },
   {
    "duration": 23,
    "start_time": "2024-03-29T21:17:46.105Z"
   },
   {
    "duration": 297,
    "start_time": "2024-03-29T21:17:46.130Z"
   },
   {
    "duration": 7,
    "start_time": "2024-03-29T21:17:50.975Z"
   },
   {
    "duration": 6,
    "start_time": "2024-03-29T21:18:02.489Z"
   },
   {
    "duration": 3,
    "start_time": "2024-03-29T21:18:04.736Z"
   },
   {
    "duration": 4,
    "start_time": "2024-03-29T21:18:08.578Z"
   },
   {
    "duration": 313,
    "start_time": "2024-03-29T21:18:08.917Z"
   },
   {
    "duration": 18,
    "start_time": "2024-03-29T21:28:25.222Z"
   },
   {
    "duration": 303,
    "start_time": "2024-03-29T21:28:48.731Z"
   },
   {
    "duration": 103,
    "start_time": "2024-03-29T21:29:28.637Z"
   },
   {
    "duration": 258,
    "start_time": "2024-03-29T21:29:36.217Z"
   },
   {
    "duration": 1072,
    "start_time": "2024-03-29T21:30:53.261Z"
   },
   {
    "duration": 52,
    "start_time": "2024-03-29T21:30:54.334Z"
   },
   {
    "duration": 18,
    "start_time": "2024-03-29T21:30:54.387Z"
   },
   {
    "duration": 19,
    "start_time": "2024-03-29T21:30:54.407Z"
   },
   {
    "duration": 22,
    "start_time": "2024-03-29T21:30:54.427Z"
   },
   {
    "duration": 3,
    "start_time": "2024-03-29T21:30:54.450Z"
   },
   {
    "duration": 36,
    "start_time": "2024-03-29T21:30:54.455Z"
   },
   {
    "duration": 36,
    "start_time": "2024-03-29T21:30:54.492Z"
   },
   {
    "duration": 29,
    "start_time": "2024-03-29T21:30:54.529Z"
   },
   {
    "duration": 17,
    "start_time": "2024-03-29T21:30:54.561Z"
   },
   {
    "duration": 26,
    "start_time": "2024-03-29T21:30:54.579Z"
   },
   {
    "duration": 25,
    "start_time": "2024-03-29T21:30:54.606Z"
   },
   {
    "duration": 11,
    "start_time": "2024-03-29T21:30:54.633Z"
   },
   {
    "duration": 9,
    "start_time": "2024-03-29T21:30:54.645Z"
   },
   {
    "duration": 31,
    "start_time": "2024-03-29T21:30:54.655Z"
   },
   {
    "duration": 61,
    "start_time": "2024-03-29T21:30:54.687Z"
   },
   {
    "duration": 42,
    "start_time": "2024-03-29T21:30:54.749Z"
   },
   {
    "duration": 33,
    "start_time": "2024-03-29T21:30:54.793Z"
   },
   {
    "duration": 48,
    "start_time": "2024-03-29T21:30:54.828Z"
   },
   {
    "duration": 11,
    "start_time": "2024-03-29T21:30:54.877Z"
   },
   {
    "duration": 1077,
    "start_time": "2024-03-29T21:30:54.889Z"
   },
   {
    "duration": 11,
    "start_time": "2024-03-29T21:30:55.967Z"
   },
   {
    "duration": 21,
    "start_time": "2024-03-29T21:30:55.979Z"
   },
   {
    "duration": 6,
    "start_time": "2024-03-29T21:30:56.001Z"
   },
   {
    "duration": 12,
    "start_time": "2024-03-29T21:30:56.009Z"
   },
   {
    "duration": 17,
    "start_time": "2024-03-29T21:30:56.022Z"
   },
   {
    "duration": 18,
    "start_time": "2024-03-29T21:30:56.040Z"
   },
   {
    "duration": 37,
    "start_time": "2024-03-29T21:30:56.062Z"
   },
   {
    "duration": 14,
    "start_time": "2024-03-29T21:30:56.101Z"
   },
   {
    "duration": 15,
    "start_time": "2024-03-29T21:30:56.116Z"
   },
   {
    "duration": 39,
    "start_time": "2024-03-29T21:30:56.132Z"
   },
   {
    "duration": 172,
    "start_time": "2024-03-29T21:30:56.173Z"
   },
   {
    "duration": 14,
    "start_time": "2024-03-29T21:30:56.346Z"
   },
   {
    "duration": 675,
    "start_time": "2024-03-29T21:30:56.362Z"
   },
   {
    "duration": 21,
    "start_time": "2024-03-29T21:30:57.039Z"
   },
   {
    "duration": 6,
    "start_time": "2024-03-29T21:30:57.061Z"
   },
   {
    "duration": 177,
    "start_time": "2024-03-29T21:30:57.068Z"
   },
   {
    "duration": 6,
    "start_time": "2024-03-29T21:30:57.246Z"
   },
   {
    "duration": 16,
    "start_time": "2024-03-29T21:30:57.253Z"
   },
   {
    "duration": 49,
    "start_time": "2024-03-29T21:30:57.270Z"
   },
   {
    "duration": 14,
    "start_time": "2024-03-29T21:30:57.321Z"
   },
   {
    "duration": 264,
    "start_time": "2024-03-29T21:30:57.337Z"
   },
   {
    "duration": 23,
    "start_time": "2024-03-29T21:33:15.850Z"
   },
   {
    "duration": 20,
    "start_time": "2024-03-29T21:33:44.555Z"
   },
   {
    "duration": 16,
    "start_time": "2024-03-29T21:34:45.004Z"
   },
   {
    "duration": 78,
    "start_time": "2024-03-29T21:36:48.573Z"
   },
   {
    "duration": 18,
    "start_time": "2024-03-29T21:36:53.066Z"
   },
   {
    "duration": 80,
    "start_time": "2024-03-29T21:42:28.355Z"
   },
   {
    "duration": 22,
    "start_time": "2024-03-29T21:43:25.339Z"
   },
   {
    "duration": 14,
    "start_time": "2024-03-29T21:43:38.425Z"
   },
   {
    "duration": 5,
    "start_time": "2024-03-29T21:44:40.498Z"
   },
   {
    "duration": 1401,
    "start_time": "2024-03-29T21:45:24.551Z"
   },
   {
    "duration": 13,
    "start_time": "2024-03-29T21:45:35.628Z"
   },
   {
    "duration": 14,
    "start_time": "2024-03-29T21:45:51.052Z"
   },
   {
    "duration": 6,
    "start_time": "2024-03-29T21:46:01.602Z"
   },
   {
    "duration": 13,
    "start_time": "2024-03-29T21:46:09.095Z"
   },
   {
    "duration": 22,
    "start_time": "2024-03-29T21:49:31.875Z"
   },
   {
    "duration": 12,
    "start_time": "2024-03-29T21:50:03.718Z"
   },
   {
    "duration": 1395,
    "start_time": "2024-03-29T21:55:15.489Z"
   },
   {
    "duration": 3,
    "start_time": "2024-03-29T21:55:31.060Z"
   },
   {
    "duration": 12,
    "start_time": "2024-03-29T21:55:34.386Z"
   },
   {
    "duration": 8,
    "start_time": "2024-03-29T21:55:49.228Z"
   },
   {
    "duration": 1017,
    "start_time": "2024-03-29T21:56:11.137Z"
   },
   {
    "duration": 65,
    "start_time": "2024-03-29T21:56:12.156Z"
   },
   {
    "duration": 18,
    "start_time": "2024-03-29T21:56:12.225Z"
   },
   {
    "duration": 22,
    "start_time": "2024-03-29T21:56:12.245Z"
   },
   {
    "duration": 33,
    "start_time": "2024-03-29T21:56:12.268Z"
   },
   {
    "duration": 3,
    "start_time": "2024-03-29T21:56:12.303Z"
   },
   {
    "duration": 17,
    "start_time": "2024-03-29T21:56:12.308Z"
   },
   {
    "duration": 18,
    "start_time": "2024-03-29T21:56:12.327Z"
   },
   {
    "duration": 21,
    "start_time": "2024-03-29T21:56:12.348Z"
   },
   {
    "duration": 14,
    "start_time": "2024-03-29T21:56:12.370Z"
   },
   {
    "duration": 20,
    "start_time": "2024-03-29T21:56:12.386Z"
   },
   {
    "duration": 19,
    "start_time": "2024-03-29T21:56:12.408Z"
   },
   {
    "duration": 19,
    "start_time": "2024-03-29T21:56:12.429Z"
   },
   {
    "duration": 6,
    "start_time": "2024-03-29T21:56:12.449Z"
   },
   {
    "duration": 12,
    "start_time": "2024-03-29T21:56:12.456Z"
   },
   {
    "duration": 46,
    "start_time": "2024-03-29T21:56:12.469Z"
   },
   {
    "duration": 46,
    "start_time": "2024-03-29T21:56:12.516Z"
   },
   {
    "duration": 5,
    "start_time": "2024-03-29T21:56:12.563Z"
   },
   {
    "duration": 9,
    "start_time": "2024-03-29T21:56:12.569Z"
   },
   {
    "duration": 16,
    "start_time": "2024-03-29T21:56:12.579Z"
   },
   {
    "duration": 1118,
    "start_time": "2024-03-29T21:56:12.596Z"
   },
   {
    "duration": 8,
    "start_time": "2024-03-29T21:56:13.716Z"
   },
   {
    "duration": 25,
    "start_time": "2024-03-29T21:56:13.726Z"
   },
   {
    "duration": 6,
    "start_time": "2024-03-29T21:56:13.753Z"
   },
   {
    "duration": 7,
    "start_time": "2024-03-29T21:56:13.760Z"
   },
   {
    "duration": 26,
    "start_time": "2024-03-29T21:56:13.769Z"
   },
   {
    "duration": 13,
    "start_time": "2024-03-29T21:56:13.799Z"
   },
   {
    "duration": 18,
    "start_time": "2024-03-29T21:56:13.814Z"
   },
   {
    "duration": 13,
    "start_time": "2024-03-29T21:56:13.834Z"
   },
   {
    "duration": 3,
    "start_time": "2024-03-29T21:56:13.849Z"
   },
   {
    "duration": 47,
    "start_time": "2024-03-29T21:56:13.854Z"
   },
   {
    "duration": 181,
    "start_time": "2024-03-29T21:56:13.903Z"
   },
   {
    "duration": 19,
    "start_time": "2024-03-29T21:56:14.086Z"
   },
   {
    "duration": 709,
    "start_time": "2024-03-29T21:56:14.106Z"
   },
   {
    "duration": 23,
    "start_time": "2024-03-29T21:56:14.817Z"
   },
   {
    "duration": 7,
    "start_time": "2024-03-29T21:56:14.841Z"
   },
   {
    "duration": 185,
    "start_time": "2024-03-29T21:56:14.849Z"
   },
   {
    "duration": 6,
    "start_time": "2024-03-29T21:56:15.036Z"
   },
   {
    "duration": 46,
    "start_time": "2024-03-29T21:56:15.043Z"
   },
   {
    "duration": 40,
    "start_time": "2024-03-29T21:56:15.090Z"
   },
   {
    "duration": 22,
    "start_time": "2024-03-29T21:56:15.131Z"
   },
   {
    "duration": 300,
    "start_time": "2024-03-29T21:56:15.155Z"
   },
   {
    "duration": 8,
    "start_time": "2024-03-29T21:56:15.457Z"
   },
   {
    "duration": 94,
    "start_time": "2024-03-29T21:56:15.466Z"
   },
   {
    "duration": 20,
    "start_time": "2024-03-29T21:56:15.561Z"
   },
   {
    "duration": 8,
    "start_time": "2024-03-29T21:56:22.280Z"
   },
   {
    "duration": 1109,
    "start_time": "2024-03-29T21:56:41.312Z"
   },
   {
    "duration": 54,
    "start_time": "2024-03-29T21:56:42.422Z"
   },
   {
    "duration": 18,
    "start_time": "2024-03-29T21:56:42.478Z"
   },
   {
    "duration": 13,
    "start_time": "2024-03-29T21:56:42.497Z"
   },
   {
    "duration": 20,
    "start_time": "2024-03-29T21:56:42.512Z"
   },
   {
    "duration": 3,
    "start_time": "2024-03-29T21:56:42.533Z"
   },
   {
    "duration": 24,
    "start_time": "2024-03-29T21:56:42.537Z"
   },
   {
    "duration": 9,
    "start_time": "2024-03-29T21:56:42.563Z"
   },
   {
    "duration": 6,
    "start_time": "2024-03-29T21:56:42.573Z"
   },
   {
    "duration": 18,
    "start_time": "2024-03-29T21:56:42.581Z"
   },
   {
    "duration": 16,
    "start_time": "2024-03-29T21:56:42.600Z"
   },
   {
    "duration": 8,
    "start_time": "2024-03-29T21:56:42.618Z"
   },
   {
    "duration": 12,
    "start_time": "2024-03-29T21:56:42.627Z"
   },
   {
    "duration": 5,
    "start_time": "2024-03-29T21:56:42.642Z"
   },
   {
    "duration": 12,
    "start_time": "2024-03-29T21:56:42.649Z"
   },
   {
    "duration": 57,
    "start_time": "2024-03-29T21:56:42.662Z"
   },
   {
    "duration": 45,
    "start_time": "2024-03-29T21:56:42.721Z"
   },
   {
    "duration": 5,
    "start_time": "2024-03-29T21:56:42.768Z"
   },
   {
    "duration": 20,
    "start_time": "2024-03-29T21:56:42.774Z"
   },
   {
    "duration": 21,
    "start_time": "2024-03-29T21:56:42.795Z"
   },
   {
    "duration": 1133,
    "start_time": "2024-03-29T21:56:42.817Z"
   },
   {
    "duration": 9,
    "start_time": "2024-03-29T21:56:43.952Z"
   },
   {
    "duration": 21,
    "start_time": "2024-03-29T21:56:43.962Z"
   },
   {
    "duration": 12,
    "start_time": "2024-03-29T21:56:43.984Z"
   },
   {
    "duration": 5,
    "start_time": "2024-03-29T21:56:43.998Z"
   },
   {
    "duration": 6,
    "start_time": "2024-03-29T21:56:44.005Z"
   },
   {
    "duration": 13,
    "start_time": "2024-03-29T21:56:44.012Z"
   },
   {
    "duration": 18,
    "start_time": "2024-03-29T21:56:44.026Z"
   },
   {
    "duration": 11,
    "start_time": "2024-03-29T21:56:44.046Z"
   },
   {
    "duration": 37,
    "start_time": "2024-03-29T21:56:44.059Z"
   },
   {
    "duration": 46,
    "start_time": "2024-03-29T21:56:44.097Z"
   },
   {
    "duration": 173,
    "start_time": "2024-03-29T21:56:44.145Z"
   },
   {
    "duration": 14,
    "start_time": "2024-03-29T21:56:44.319Z"
   },
   {
    "duration": 767,
    "start_time": "2024-03-29T21:56:44.335Z"
   },
   {
    "duration": 21,
    "start_time": "2024-03-29T21:56:45.103Z"
   },
   {
    "duration": 57,
    "start_time": "2024-03-29T21:56:45.126Z"
   },
   {
    "duration": 211,
    "start_time": "2024-03-29T21:56:45.185Z"
   },
   {
    "duration": 7,
    "start_time": "2024-03-29T21:56:45.397Z"
   },
   {
    "duration": 32,
    "start_time": "2024-03-29T21:56:45.406Z"
   },
   {
    "duration": 55,
    "start_time": "2024-03-29T21:56:45.440Z"
   },
   {
    "duration": 72,
    "start_time": "2024-03-29T21:56:45.499Z"
   },
   {
    "duration": 318,
    "start_time": "2024-03-29T21:56:45.573Z"
   },
   {
    "duration": 6,
    "start_time": "2024-03-29T21:56:45.894Z"
   },
   {
    "duration": 18,
    "start_time": "2024-03-29T21:56:45.901Z"
   },
   {
    "duration": 7,
    "start_time": "2024-03-29T21:58:58.943Z"
   },
   {
    "duration": 11,
    "start_time": "2024-03-29T21:58:59.156Z"
   },
   {
    "duration": 104,
    "start_time": "2024-03-29T22:02:21.686Z"
   },
   {
    "duration": 1398,
    "start_time": "2024-03-29T22:02:29.883Z"
   },
   {
    "duration": 654,
    "start_time": "2024-03-29T22:02:41.924Z"
   },
   {
    "duration": 13,
    "start_time": "2024-03-29T22:02:46.133Z"
   },
   {
    "duration": 14,
    "start_time": "2024-03-29T22:02:56.161Z"
   },
   {
    "duration": 6,
    "start_time": "2024-03-29T22:03:00.111Z"
   },
   {
    "duration": 129,
    "start_time": "2024-03-29T22:05:19.545Z"
   },
   {
    "duration": 130,
    "start_time": "2024-03-29T22:06:09.507Z"
   },
   {
    "duration": 191,
    "start_time": "2024-03-29T22:06:17.954Z"
   },
   {
    "duration": 136,
    "start_time": "2024-03-29T22:06:41.637Z"
   },
   {
    "duration": 131,
    "start_time": "2024-03-29T22:07:06.071Z"
   },
   {
    "duration": 127,
    "start_time": "2024-03-29T22:07:09.263Z"
   },
   {
    "duration": 6,
    "start_time": "2024-03-29T22:18:38.629Z"
   },
   {
    "duration": 12,
    "start_time": "2024-03-29T22:18:49.139Z"
   },
   {
    "duration": 143,
    "start_time": "2024-03-29T22:22:30.108Z"
   },
   {
    "duration": 115,
    "start_time": "2024-03-29T22:22:52.829Z"
   },
   {
    "duration": 6,
    "start_time": "2024-03-29T22:27:24.327Z"
   },
   {
    "duration": 11,
    "start_time": "2024-03-29T22:27:35.747Z"
   },
   {
    "duration": 6,
    "start_time": "2024-03-29T22:27:43.721Z"
   },
   {
    "duration": 18,
    "start_time": "2024-03-29T22:27:43.908Z"
   },
   {
    "duration": 6,
    "start_time": "2024-03-29T22:28:31.757Z"
   },
   {
    "duration": 10,
    "start_time": "2024-03-29T22:28:32.025Z"
   },
   {
    "duration": 76,
    "start_time": "2024-03-29T22:28:35.583Z"
   },
   {
    "duration": 5,
    "start_time": "2024-03-29T22:36:38.631Z"
   },
   {
    "duration": 1077,
    "start_time": "2024-03-29T22:36:44.170Z"
   },
   {
    "duration": 57,
    "start_time": "2024-03-29T22:36:45.249Z"
   },
   {
    "duration": 17,
    "start_time": "2024-03-29T22:36:45.307Z"
   },
   {
    "duration": 217,
    "start_time": "2024-03-29T22:36:45.326Z"
   },
   {
    "duration": 85,
    "start_time": "2024-03-29T22:36:45.545Z"
   },
   {
    "duration": 35,
    "start_time": "2024-03-29T22:36:45.632Z"
   },
   {
    "duration": 42,
    "start_time": "2024-03-29T22:36:45.669Z"
   },
   {
    "duration": 29,
    "start_time": "2024-03-29T22:36:45.713Z"
   },
   {
    "duration": 14,
    "start_time": "2024-03-29T22:36:45.743Z"
   },
   {
    "duration": 28,
    "start_time": "2024-03-29T22:36:45.759Z"
   },
   {
    "duration": 35,
    "start_time": "2024-03-29T22:36:45.789Z"
   },
   {
    "duration": 28,
    "start_time": "2024-03-29T22:36:45.826Z"
   },
   {
    "duration": 18,
    "start_time": "2024-03-29T22:36:45.856Z"
   },
   {
    "duration": 6,
    "start_time": "2024-03-29T22:36:45.878Z"
   },
   {
    "duration": 44,
    "start_time": "2024-03-29T22:36:45.885Z"
   },
   {
    "duration": 67,
    "start_time": "2024-03-29T22:36:45.931Z"
   },
   {
    "duration": 53,
    "start_time": "2024-03-29T22:36:46.000Z"
   },
   {
    "duration": 5,
    "start_time": "2024-03-29T22:36:46.055Z"
   },
   {
    "duration": 14,
    "start_time": "2024-03-29T22:36:46.062Z"
   },
   {
    "duration": 19,
    "start_time": "2024-03-29T22:36:46.077Z"
   },
   {
    "duration": 1071,
    "start_time": "2024-03-29T22:36:46.098Z"
   },
   {
    "duration": 8,
    "start_time": "2024-03-29T22:36:47.171Z"
   },
   {
    "duration": 31,
    "start_time": "2024-03-29T22:36:47.181Z"
   },
   {
    "duration": 6,
    "start_time": "2024-03-29T22:36:47.213Z"
   },
   {
    "duration": 10,
    "start_time": "2024-03-29T22:36:47.221Z"
   },
   {
    "duration": 21,
    "start_time": "2024-03-29T22:36:47.232Z"
   },
   {
    "duration": 33,
    "start_time": "2024-03-29T22:36:47.255Z"
   },
   {
    "duration": 38,
    "start_time": "2024-03-29T22:36:47.290Z"
   },
   {
    "duration": 11,
    "start_time": "2024-03-29T22:36:47.329Z"
   },
   {
    "duration": 14,
    "start_time": "2024-03-29T22:36:47.342Z"
   },
   {
    "duration": 16,
    "start_time": "2024-03-29T22:36:47.358Z"
   },
   {
    "duration": 208,
    "start_time": "2024-03-29T22:36:47.375Z"
   },
   {
    "duration": 5,
    "start_time": "2024-03-29T22:36:47.584Z"
   },
   {
    "duration": 64,
    "start_time": "2024-03-29T22:36:47.593Z"
   },
   {
    "duration": 656,
    "start_time": "2024-03-29T22:36:47.659Z"
   },
   {
    "duration": 21,
    "start_time": "2024-03-29T22:36:48.317Z"
   },
   {
    "duration": 16,
    "start_time": "2024-03-29T22:36:48.339Z"
   },
   {
    "duration": 149,
    "start_time": "2024-03-29T22:36:48.357Z"
   },
   {
    "duration": 6,
    "start_time": "2024-03-29T22:36:48.508Z"
   },
   {
    "duration": 7,
    "start_time": "2024-03-29T22:36:48.516Z"
   },
   {
    "duration": 23,
    "start_time": "2024-03-29T22:36:48.527Z"
   },
   {
    "duration": 27,
    "start_time": "2024-03-29T22:36:48.551Z"
   },
   {
    "duration": 276,
    "start_time": "2024-03-29T22:36:48.579Z"
   },
   {
    "duration": 7,
    "start_time": "2024-03-29T22:36:48.856Z"
   },
   {
    "duration": 17,
    "start_time": "2024-03-29T22:36:48.864Z"
   },
   {
    "duration": 159,
    "start_time": "2024-03-29T22:36:48.882Z"
   },
   {
    "duration": 125,
    "start_time": "2024-03-29T22:36:49.042Z"
   },
   {
    "duration": 6,
    "start_time": "2024-03-29T22:36:49.168Z"
   },
   {
    "duration": 32,
    "start_time": "2024-03-29T22:36:49.176Z"
   },
   {
    "duration": 190,
    "start_time": "2024-03-29T22:36:49.210Z"
   },
   {
    "duration": 130,
    "start_time": "2024-03-29T22:36:49.402Z"
   },
   {
    "duration": 5,
    "start_time": "2024-03-29T22:36:49.534Z"
   },
   {
    "duration": 36,
    "start_time": "2024-03-29T22:36:49.541Z"
   },
   {
    "duration": 134,
    "start_time": "2024-03-29T22:37:50.259Z"
   },
   {
    "duration": 126,
    "start_time": "2024-03-29T22:37:55.681Z"
   },
   {
    "duration": 127,
    "start_time": "2024-03-29T22:38:01.099Z"
   },
   {
    "duration": 7,
    "start_time": "2024-03-29T22:40:05.095Z"
   },
   {
    "duration": 6,
    "start_time": "2024-03-29T22:40:13.260Z"
   },
   {
    "duration": 1064,
    "start_time": "2024-03-29T22:40:22.585Z"
   },
   {
    "duration": 53,
    "start_time": "2024-03-29T22:40:23.650Z"
   },
   {
    "duration": 17,
    "start_time": "2024-03-29T22:40:23.705Z"
   },
   {
    "duration": 19,
    "start_time": "2024-03-29T22:40:23.724Z"
   },
   {
    "duration": 25,
    "start_time": "2024-03-29T22:40:23.745Z"
   },
   {
    "duration": 3,
    "start_time": "2024-03-29T22:40:23.771Z"
   },
   {
    "duration": 19,
    "start_time": "2024-03-29T22:40:23.775Z"
   },
   {
    "duration": 17,
    "start_time": "2024-03-29T22:40:23.796Z"
   },
   {
    "duration": 6,
    "start_time": "2024-03-29T22:40:23.814Z"
   },
   {
    "duration": 9,
    "start_time": "2024-03-29T22:40:23.821Z"
   },
   {
    "duration": 31,
    "start_time": "2024-03-29T22:40:23.831Z"
   },
   {
    "duration": 11,
    "start_time": "2024-03-29T22:40:23.863Z"
   },
   {
    "duration": 14,
    "start_time": "2024-03-29T22:40:23.876Z"
   },
   {
    "duration": 9,
    "start_time": "2024-03-29T22:40:23.895Z"
   },
   {
    "duration": 13,
    "start_time": "2024-03-29T22:40:23.906Z"
   },
   {
    "duration": 41,
    "start_time": "2024-03-29T22:40:23.921Z"
   },
   {
    "duration": 47,
    "start_time": "2024-03-29T22:40:23.963Z"
   },
   {
    "duration": 5,
    "start_time": "2024-03-29T22:40:24.011Z"
   },
   {
    "duration": 14,
    "start_time": "2024-03-29T22:40:24.018Z"
   },
   {
    "duration": 78,
    "start_time": "2024-03-29T22:40:24.034Z"
   },
   {
    "duration": 1110,
    "start_time": "2024-03-29T22:40:24.113Z"
   },
   {
    "duration": 8,
    "start_time": "2024-03-29T22:40:25.225Z"
   },
   {
    "duration": 69,
    "start_time": "2024-03-29T22:40:25.234Z"
   },
   {
    "duration": 20,
    "start_time": "2024-03-29T22:40:25.305Z"
   },
   {
    "duration": 115,
    "start_time": "2024-03-29T22:40:25.327Z"
   },
   {
    "duration": 134,
    "start_time": "2024-03-29T22:40:25.443Z"
   },
   {
    "duration": 48,
    "start_time": "2024-03-29T22:40:25.578Z"
   },
   {
    "duration": 60,
    "start_time": "2024-03-29T22:40:25.628Z"
   },
   {
    "duration": 12,
    "start_time": "2024-03-29T22:40:25.689Z"
   },
   {
    "duration": 11,
    "start_time": "2024-03-29T22:40:25.703Z"
   },
   {
    "duration": 63,
    "start_time": "2024-03-29T22:40:25.715Z"
   },
   {
    "duration": 280,
    "start_time": "2024-03-29T22:40:25.780Z"
   },
   {
    "duration": 5,
    "start_time": "2024-03-29T22:40:26.061Z"
   },
   {
    "duration": 23,
    "start_time": "2024-03-29T22:40:26.067Z"
   },
   {
    "duration": 676,
    "start_time": "2024-03-29T22:40:26.092Z"
   },
   {
    "duration": 26,
    "start_time": "2024-03-29T22:40:26.770Z"
   },
   {
    "duration": 6,
    "start_time": "2024-03-29T22:40:26.798Z"
   },
   {
    "duration": 144,
    "start_time": "2024-03-29T22:40:26.805Z"
   },
   {
    "duration": 6,
    "start_time": "2024-03-29T22:40:26.951Z"
   },
   {
    "duration": 12,
    "start_time": "2024-03-29T22:40:26.958Z"
   },
   {
    "duration": 31,
    "start_time": "2024-03-29T22:40:26.974Z"
   },
   {
    "duration": 38,
    "start_time": "2024-03-29T22:40:27.006Z"
   },
   {
    "duration": 313,
    "start_time": "2024-03-29T22:40:27.046Z"
   },
   {
    "duration": 7,
    "start_time": "2024-03-29T22:40:27.361Z"
   },
   {
    "duration": 24,
    "start_time": "2024-03-29T22:40:27.370Z"
   },
   {
    "duration": 183,
    "start_time": "2024-03-29T22:40:27.396Z"
   },
   {
    "duration": 162,
    "start_time": "2024-03-29T22:40:27.580Z"
   },
   {
    "duration": 7,
    "start_time": "2024-03-29T22:40:27.744Z"
   },
   {
    "duration": 34,
    "start_time": "2024-03-29T22:40:27.752Z"
   },
   {
    "duration": 239,
    "start_time": "2024-03-29T22:40:27.788Z"
   },
   {
    "duration": 129,
    "start_time": "2024-03-29T22:40:28.029Z"
   },
   {
    "duration": 7,
    "start_time": "2024-03-29T22:40:28.160Z"
   },
   {
    "duration": 27,
    "start_time": "2024-03-29T22:40:28.168Z"
   },
   {
    "duration": 131,
    "start_time": "2024-03-29T22:40:59.901Z"
   },
   {
    "duration": 89,
    "start_time": "2024-03-29T22:41:11.640Z"
   },
   {
    "duration": 6,
    "start_time": "2024-03-29T22:41:15.962Z"
   },
   {
    "duration": 5,
    "start_time": "2024-03-29T22:41:21.662Z"
   },
   {
    "duration": 7,
    "start_time": "2024-03-29T22:42:20.921Z"
   },
   {
    "duration": 136,
    "start_time": "2024-03-29T22:42:22.471Z"
   },
   {
    "duration": 141,
    "start_time": "2024-03-29T22:42:28.068Z"
   },
   {
    "duration": 158,
    "start_time": "2024-03-29T22:42:31.438Z"
   },
   {
    "duration": 132,
    "start_time": "2024-03-29T22:42:37.077Z"
   },
   {
    "duration": 137,
    "start_time": "2024-03-29T22:42:41.658Z"
   },
   {
    "duration": 132,
    "start_time": "2024-03-29T22:42:46.980Z"
   },
   {
    "duration": 6,
    "start_time": "2024-03-29T22:43:07.408Z"
   },
   {
    "duration": 6,
    "start_time": "2024-03-29T22:43:11.956Z"
   },
   {
    "duration": 10,
    "start_time": "2024-03-29T22:43:16.627Z"
   },
   {
    "duration": 6,
    "start_time": "2024-03-29T22:43:19.418Z"
   },
   {
    "duration": 5,
    "start_time": "2024-03-29T22:43:24.755Z"
   },
   {
    "duration": 148,
    "start_time": "2024-03-29T22:44:09.346Z"
   },
   {
    "duration": 91,
    "start_time": "2024-03-29T22:46:19.645Z"
   },
   {
    "duration": 74,
    "start_time": "2024-03-29T22:46:27.134Z"
   },
   {
    "duration": 79,
    "start_time": "2024-03-29T22:46:31.161Z"
   },
   {
    "duration": 10,
    "start_time": "2024-03-29T22:46:34.122Z"
   },
   {
    "duration": 129,
    "start_time": "2024-03-29T22:46:42.001Z"
   },
   {
    "duration": 7,
    "start_time": "2024-03-29T22:47:12.590Z"
   },
   {
    "duration": 6,
    "start_time": "2024-03-29T22:48:44.088Z"
   },
   {
    "duration": 15,
    "start_time": "2024-03-29T22:48:44.394Z"
   },
   {
    "duration": 7,
    "start_time": "2024-03-29T22:48:45.563Z"
   },
   {
    "duration": 301,
    "start_time": "2024-03-29T22:48:47.977Z"
   },
   {
    "duration": 1012,
    "start_time": "2024-03-29T22:49:00.049Z"
   },
   {
    "duration": 53,
    "start_time": "2024-03-29T22:49:01.063Z"
   },
   {
    "duration": 17,
    "start_time": "2024-03-29T22:49:01.118Z"
   },
   {
    "duration": 58,
    "start_time": "2024-03-29T22:49:01.136Z"
   },
   {
    "duration": 89,
    "start_time": "2024-03-29T22:49:01.197Z"
   },
   {
    "duration": 58,
    "start_time": "2024-03-29T22:49:01.288Z"
   },
   {
    "duration": 80,
    "start_time": "2024-03-29T22:49:01.348Z"
   },
   {
    "duration": 44,
    "start_time": "2024-03-29T22:49:01.430Z"
   },
   {
    "duration": 65,
    "start_time": "2024-03-29T22:49:01.476Z"
   },
   {
    "duration": 64,
    "start_time": "2024-03-29T22:49:01.543Z"
   },
   {
    "duration": 84,
    "start_time": "2024-03-29T22:49:01.608Z"
   },
   {
    "duration": 93,
    "start_time": "2024-03-29T22:49:01.694Z"
   },
   {
    "duration": 101,
    "start_time": "2024-03-29T22:49:01.788Z"
   },
   {
    "duration": 49,
    "start_time": "2024-03-29T22:49:01.892Z"
   },
   {
    "duration": 89,
    "start_time": "2024-03-29T22:49:01.943Z"
   },
   {
    "duration": 80,
    "start_time": "2024-03-29T22:49:02.034Z"
   },
   {
    "duration": 44,
    "start_time": "2024-03-29T22:49:02.115Z"
   },
   {
    "duration": 5,
    "start_time": "2024-03-29T22:49:02.161Z"
   },
   {
    "duration": 93,
    "start_time": "2024-03-29T22:49:02.167Z"
   },
   {
    "duration": 71,
    "start_time": "2024-03-29T22:49:02.261Z"
   },
   {
    "duration": 1149,
    "start_time": "2024-03-29T22:49:02.334Z"
   },
   {
    "duration": 11,
    "start_time": "2024-03-29T22:49:03.484Z"
   },
   {
    "duration": 89,
    "start_time": "2024-03-29T22:49:03.496Z"
   },
   {
    "duration": 51,
    "start_time": "2024-03-29T22:49:03.587Z"
   },
   {
    "duration": 44,
    "start_time": "2024-03-29T22:49:03.640Z"
   },
   {
    "duration": 34,
    "start_time": "2024-03-29T22:49:03.685Z"
   },
   {
    "duration": 52,
    "start_time": "2024-03-29T22:49:03.720Z"
   },
   {
    "duration": 49,
    "start_time": "2024-03-29T22:49:03.774Z"
   },
   {
    "duration": 66,
    "start_time": "2024-03-29T22:49:03.825Z"
   },
   {
    "duration": 39,
    "start_time": "2024-03-29T22:49:03.894Z"
   },
   {
    "duration": 52,
    "start_time": "2024-03-29T22:49:03.935Z"
   },
   {
    "duration": 211,
    "start_time": "2024-03-29T22:49:03.989Z"
   },
   {
    "duration": 5,
    "start_time": "2024-03-29T22:49:04.202Z"
   },
   {
    "duration": 36,
    "start_time": "2024-03-29T22:49:04.209Z"
   },
   {
    "duration": 759,
    "start_time": "2024-03-29T22:49:04.247Z"
   },
   {
    "duration": 26,
    "start_time": "2024-03-29T22:49:05.008Z"
   },
   {
    "duration": 11,
    "start_time": "2024-03-29T22:49:05.036Z"
   },
   {
    "duration": 180,
    "start_time": "2024-03-29T22:49:05.049Z"
   },
   {
    "duration": 8,
    "start_time": "2024-03-29T22:49:05.230Z"
   },
   {
    "duration": 85,
    "start_time": "2024-03-29T22:49:05.240Z"
   },
   {
    "duration": 0,
    "start_time": "2024-03-29T22:49:05.326Z"
   },
   {
    "duration": 0,
    "start_time": "2024-03-29T22:49:05.327Z"
   },
   {
    "duration": 0,
    "start_time": "2024-03-29T22:49:05.329Z"
   },
   {
    "duration": 0,
    "start_time": "2024-03-29T22:49:05.330Z"
   },
   {
    "duration": 0,
    "start_time": "2024-03-29T22:49:05.331Z"
   },
   {
    "duration": 0,
    "start_time": "2024-03-29T22:49:05.332Z"
   },
   {
    "duration": 0,
    "start_time": "2024-03-29T22:49:05.333Z"
   },
   {
    "duration": 0,
    "start_time": "2024-03-29T22:49:05.334Z"
   },
   {
    "duration": 0,
    "start_time": "2024-03-29T22:49:05.335Z"
   },
   {
    "duration": 0,
    "start_time": "2024-03-29T22:49:05.336Z"
   },
   {
    "duration": 0,
    "start_time": "2024-03-29T22:49:05.337Z"
   },
   {
    "duration": 0,
    "start_time": "2024-03-29T22:49:05.338Z"
   },
   {
    "duration": 0,
    "start_time": "2024-03-29T22:49:05.339Z"
   },
   {
    "duration": 0,
    "start_time": "2024-03-29T22:49:05.340Z"
   },
   {
    "duration": 5,
    "start_time": "2024-03-29T22:49:16.657Z"
   },
   {
    "duration": 14,
    "start_time": "2024-03-29T22:49:16.844Z"
   },
   {
    "duration": 7,
    "start_time": "2024-03-29T22:49:17.196Z"
   },
   {
    "duration": 256,
    "start_time": "2024-03-29T22:49:17.377Z"
   },
   {
    "duration": 6,
    "start_time": "2024-03-29T22:49:17.919Z"
   },
   {
    "duration": 12,
    "start_time": "2024-03-29T22:49:18.109Z"
   },
   {
    "duration": 131,
    "start_time": "2024-03-29T22:49:18.282Z"
   },
   {
    "duration": 129,
    "start_time": "2024-03-29T22:49:18.460Z"
   },
   {
    "duration": 5,
    "start_time": "2024-03-29T22:49:19.068Z"
   },
   {
    "duration": 11,
    "start_time": "2024-03-29T22:49:19.281Z"
   },
   {
    "duration": 225,
    "start_time": "2024-03-29T22:49:19.533Z"
   },
   {
    "duration": 133,
    "start_time": "2024-03-29T22:49:19.795Z"
   },
   {
    "duration": 6,
    "start_time": "2024-03-29T22:49:20.418Z"
   },
   {
    "duration": 12,
    "start_time": "2024-03-29T22:49:20.600Z"
   },
   {
    "duration": 130,
    "start_time": "2024-03-29T22:53:02.544Z"
   },
   {
    "duration": 97,
    "start_time": "2024-03-29T22:53:36.829Z"
   },
   {
    "duration": 16,
    "start_time": "2024-03-29T22:54:00.835Z"
   },
   {
    "duration": 1266,
    "start_time": "2024-03-29T22:54:08.652Z"
   },
   {
    "duration": 136,
    "start_time": "2024-03-29T22:54:26.279Z"
   },
   {
    "duration": 3,
    "start_time": "2024-03-29T22:58:15.747Z"
   },
   {
    "duration": 2,
    "start_time": "2024-03-29T22:58:46.729Z"
   },
   {
    "duration": 9,
    "start_time": "2024-03-29T23:31:31.966Z"
   },
   {
    "duration": 1000,
    "start_time": "2024-03-29T23:31:48.550Z"
   },
   {
    "duration": 52,
    "start_time": "2024-03-29T23:31:49.551Z"
   },
   {
    "duration": 19,
    "start_time": "2024-03-29T23:31:49.605Z"
   },
   {
    "duration": 14,
    "start_time": "2024-03-29T23:31:49.625Z"
   },
   {
    "duration": 61,
    "start_time": "2024-03-29T23:31:49.640Z"
   },
   {
    "duration": 3,
    "start_time": "2024-03-29T23:31:49.702Z"
   },
   {
    "duration": 24,
    "start_time": "2024-03-29T23:31:49.707Z"
   },
   {
    "duration": 13,
    "start_time": "2024-03-29T23:31:49.733Z"
   },
   {
    "duration": 14,
    "start_time": "2024-03-29T23:31:49.747Z"
   },
   {
    "duration": 14,
    "start_time": "2024-03-29T23:31:49.763Z"
   },
   {
    "duration": 22,
    "start_time": "2024-03-29T23:31:49.779Z"
   },
   {
    "duration": 13,
    "start_time": "2024-03-29T23:31:49.802Z"
   },
   {
    "duration": 9,
    "start_time": "2024-03-29T23:31:49.816Z"
   },
   {
    "duration": 6,
    "start_time": "2024-03-29T23:31:49.827Z"
   },
   {
    "duration": 37,
    "start_time": "2024-03-29T23:31:49.834Z"
   },
   {
    "duration": 83,
    "start_time": "2024-03-29T23:31:49.872Z"
   },
   {
    "duration": 43,
    "start_time": "2024-03-29T23:31:49.957Z"
   },
   {
    "duration": 4,
    "start_time": "2024-03-29T23:31:50.002Z"
   },
   {
    "duration": 21,
    "start_time": "2024-03-29T23:31:50.008Z"
   },
   {
    "duration": 15,
    "start_time": "2024-03-29T23:31:50.030Z"
   },
   {
    "duration": 1086,
    "start_time": "2024-03-29T23:31:50.047Z"
   },
   {
    "duration": 13,
    "start_time": "2024-03-29T23:31:51.134Z"
   },
   {
    "duration": 31,
    "start_time": "2024-03-29T23:31:51.149Z"
   },
   {
    "duration": 29,
    "start_time": "2024-03-29T23:31:51.181Z"
   },
   {
    "duration": 50,
    "start_time": "2024-03-29T23:31:51.212Z"
   },
   {
    "duration": 44,
    "start_time": "2024-03-29T23:31:51.264Z"
   },
   {
    "duration": 32,
    "start_time": "2024-03-29T23:31:51.310Z"
   },
   {
    "duration": 39,
    "start_time": "2024-03-29T23:31:51.346Z"
   },
   {
    "duration": 27,
    "start_time": "2024-03-29T23:31:51.387Z"
   },
   {
    "duration": 31,
    "start_time": "2024-03-29T23:31:51.415Z"
   },
   {
    "duration": 41,
    "start_time": "2024-03-29T23:31:51.448Z"
   },
   {
    "duration": 203,
    "start_time": "2024-03-29T23:31:51.491Z"
   },
   {
    "duration": 5,
    "start_time": "2024-03-29T23:31:51.695Z"
   },
   {
    "duration": 60,
    "start_time": "2024-03-29T23:31:51.702Z"
   },
   {
    "duration": 765,
    "start_time": "2024-03-29T23:31:51.763Z"
   },
   {
    "duration": 23,
    "start_time": "2024-03-29T23:31:52.529Z"
   },
   {
    "duration": 30,
    "start_time": "2024-03-29T23:31:52.554Z"
   },
   {
    "duration": 181,
    "start_time": "2024-03-29T23:31:52.586Z"
   },
   {
    "duration": 8,
    "start_time": "2024-03-29T23:31:52.768Z"
   },
   {
    "duration": 45,
    "start_time": "2024-03-29T23:31:52.777Z"
   },
   {
    "duration": 37,
    "start_time": "2024-03-29T23:31:52.824Z"
   },
   {
    "duration": 153,
    "start_time": "2024-03-29T23:31:52.863Z"
   },
   {
    "duration": 268,
    "start_time": "2024-03-29T23:31:53.018Z"
   },
   {
    "duration": 12,
    "start_time": "2024-03-29T23:31:53.288Z"
   },
   {
    "duration": 282,
    "start_time": "2024-03-29T23:31:53.302Z"
   },
   {
    "duration": 9,
    "start_time": "2024-03-29T23:31:53.585Z"
   },
   {
    "duration": 35,
    "start_time": "2024-03-29T23:31:53.595Z"
   },
   {
    "duration": 199,
    "start_time": "2024-03-29T23:31:53.632Z"
   },
   {
    "duration": 143,
    "start_time": "2024-03-29T23:31:53.832Z"
   },
   {
    "duration": 6,
    "start_time": "2024-03-29T23:31:53.976Z"
   },
   {
    "duration": 29,
    "start_time": "2024-03-29T23:31:53.983Z"
   },
   {
    "duration": 149,
    "start_time": "2024-03-29T23:31:54.014Z"
   },
   {
    "duration": 132,
    "start_time": "2024-03-29T23:31:54.164Z"
   },
   {
    "duration": 6,
    "start_time": "2024-03-29T23:31:54.297Z"
   },
   {
    "duration": 35,
    "start_time": "2024-03-29T23:31:54.304Z"
   },
   {
    "duration": 95,
    "start_time": "2024-03-29T23:33:03.299Z"
   },
   {
    "duration": 337,
    "start_time": "2024-03-29T23:33:08.056Z"
   },
   {
    "duration": 142,
    "start_time": "2024-03-29T23:33:14.804Z"
   },
   {
    "duration": 125,
    "start_time": "2024-03-29T23:34:51.685Z"
   },
   {
    "duration": 3,
    "start_time": "2024-03-29T23:34:57.158Z"
   },
   {
    "duration": 4,
    "start_time": "2024-03-29T23:35:00.784Z"
   },
   {
    "duration": 2,
    "start_time": "2024-03-29T23:35:06.595Z"
   },
   {
    "duration": 4,
    "start_time": "2024-03-29T23:35:08.367Z"
   },
   {
    "duration": 12,
    "start_time": "2024-03-29T23:35:43.049Z"
   },
   {
    "duration": 103,
    "start_time": "2024-03-29T23:36:25.028Z"
   },
   {
    "duration": 124,
    "start_time": "2024-03-29T23:36:43.907Z"
   },
   {
    "duration": 129,
    "start_time": "2024-03-29T23:37:41.732Z"
   },
   {
    "duration": 136,
    "start_time": "2024-03-29T23:37:54.690Z"
   },
   {
    "duration": 3,
    "start_time": "2024-03-29T23:39:14.566Z"
   },
   {
    "duration": 4,
    "start_time": "2024-03-29T23:39:20.122Z"
   },
   {
    "duration": 84,
    "start_time": "2024-03-29T23:43:30.116Z"
   },
   {
    "duration": 80,
    "start_time": "2024-03-29T23:43:42.635Z"
   },
   {
    "duration": 81,
    "start_time": "2024-03-29T23:43:50.426Z"
   },
   {
    "duration": 82,
    "start_time": "2024-03-29T23:43:54.303Z"
   },
   {
    "duration": 82,
    "start_time": "2024-03-29T23:43:56.860Z"
   },
   {
    "duration": 10,
    "start_time": "2024-03-29T23:44:07.167Z"
   },
   {
    "duration": 18,
    "start_time": "2024-03-29T23:44:16.455Z"
   },
   {
    "duration": 137,
    "start_time": "2024-03-29T23:44:27.033Z"
   },
   {
    "duration": 645,
    "start_time": "2024-03-29T23:45:01.068Z"
   },
   {
    "duration": 1325,
    "start_time": "2024-03-29T23:45:56.179Z"
   },
   {
    "duration": 1339,
    "start_time": "2024-03-29T23:46:05.746Z"
   },
   {
    "duration": 11,
    "start_time": "2024-03-29T23:47:32.875Z"
   },
   {
    "duration": 108,
    "start_time": "2024-03-29T23:47:47.012Z"
   },
   {
    "duration": 110,
    "start_time": "2024-03-29T23:48:20.676Z"
   },
   {
    "duration": 101,
    "start_time": "2024-03-29T23:49:26.965Z"
   },
   {
    "duration": 135,
    "start_time": "2024-03-29T23:49:46.731Z"
   },
   {
    "duration": 5,
    "start_time": "2024-03-29T23:52:26.396Z"
   },
   {
    "duration": 12,
    "start_time": "2024-03-29T23:52:48.429Z"
   },
   {
    "duration": 15,
    "start_time": "2024-03-29T23:53:02.468Z"
   },
   {
    "duration": 1297,
    "start_time": "2024-03-29T23:54:48.133Z"
   },
   {
    "duration": 138,
    "start_time": "2024-03-29T23:55:02.978Z"
   },
   {
    "duration": 20,
    "start_time": "2024-03-29T23:55:33.019Z"
   },
   {
    "duration": 85,
    "start_time": "2024-03-29T23:55:38.778Z"
   },
   {
    "duration": 21,
    "start_time": "2024-03-29T23:55:41.108Z"
   },
   {
    "duration": 120,
    "start_time": "2024-03-29T23:55:53.619Z"
   },
   {
    "duration": 22,
    "start_time": "2024-03-29T23:56:01.735Z"
   },
   {
    "duration": 113,
    "start_time": "2024-03-29T23:56:06.649Z"
   },
   {
    "duration": 81,
    "start_time": "2024-03-29T23:58:49.451Z"
   },
   {
    "duration": 9,
    "start_time": "2024-03-29T23:58:54.480Z"
   },
   {
    "duration": 110,
    "start_time": "2024-03-29T23:59:05.238Z"
   },
   {
    "duration": 120,
    "start_time": "2024-03-30T00:00:32.733Z"
   },
   {
    "duration": 119,
    "start_time": "2024-03-30T00:00:44.749Z"
   },
   {
    "duration": 16,
    "start_time": "2024-03-30T00:00:49.335Z"
   },
   {
    "duration": 13,
    "start_time": "2024-03-30T00:00:58.868Z"
   },
   {
    "duration": 3,
    "start_time": "2024-03-30T00:01:32.698Z"
   },
   {
    "duration": 13,
    "start_time": "2024-03-30T00:01:39.769Z"
   },
   {
    "duration": 7,
    "start_time": "2024-03-30T00:02:01.679Z"
   },
   {
    "duration": 23,
    "start_time": "2024-03-30T00:02:04.375Z"
   },
   {
    "duration": 14,
    "start_time": "2024-03-30T00:02:20.506Z"
   },
   {
    "duration": 115,
    "start_time": "2024-03-30T00:02:24.858Z"
   },
   {
    "duration": 8,
    "start_time": "2024-03-30T00:03:19.348Z"
   },
   {
    "duration": 18,
    "start_time": "2024-03-30T00:03:22.572Z"
   },
   {
    "duration": 10,
    "start_time": "2024-03-30T00:03:37.402Z"
   },
   {
    "duration": 114,
    "start_time": "2024-03-30T00:04:05.558Z"
   },
   {
    "duration": 251,
    "start_time": "2024-03-30T00:04:42.546Z"
   },
   {
    "duration": 17,
    "start_time": "2024-03-30T00:05:11.643Z"
   },
   {
    "duration": 104,
    "start_time": "2024-03-30T00:06:08.801Z"
   },
   {
    "duration": 241,
    "start_time": "2024-03-30T00:06:14.264Z"
   },
   {
    "duration": 153,
    "start_time": "2024-03-30T00:06:18.935Z"
   },
   {
    "duration": 128,
    "start_time": "2024-03-30T00:06:38.806Z"
   },
   {
    "duration": 22,
    "start_time": "2024-03-30T00:06:44.302Z"
   },
   {
    "duration": 17,
    "start_time": "2024-03-30T00:08:37.390Z"
   },
   {
    "duration": 12,
    "start_time": "2024-03-30T00:09:02.887Z"
   },
   {
    "duration": 896,
    "start_time": "2024-03-30T00:09:31.939Z"
   },
   {
    "duration": 865,
    "start_time": "2024-03-30T00:10:51.045Z"
   },
   {
    "duration": 9,
    "start_time": "2024-03-30T00:11:50.775Z"
   },
   {
    "duration": 12,
    "start_time": "2024-03-30T00:11:54.494Z"
   },
   {
    "duration": 11,
    "start_time": "2024-03-30T00:12:08.463Z"
   },
   {
    "duration": 37,
    "start_time": "2024-03-30T00:12:12.568Z"
   },
   {
    "duration": 922,
    "start_time": "2024-03-30T00:12:21.594Z"
   },
   {
    "duration": 1019,
    "start_time": "2024-03-30T00:12:29.043Z"
   },
   {
    "duration": 1135,
    "start_time": "2024-03-30T00:13:12.839Z"
   },
   {
    "duration": 1059,
    "start_time": "2024-03-30T00:13:20.559Z"
   },
   {
    "duration": 1191,
    "start_time": "2024-03-30T00:13:30.144Z"
   },
   {
    "duration": 1100,
    "start_time": "2024-03-30T00:13:42.495Z"
   },
   {
    "duration": 1136,
    "start_time": "2024-03-30T00:14:01.434Z"
   },
   {
    "duration": 1238,
    "start_time": "2024-03-30T00:16:09.317Z"
   },
   {
    "duration": 90,
    "start_time": "2024-03-30T00:16:27.692Z"
   },
   {
    "duration": 303,
    "start_time": "2024-03-30T00:16:33.143Z"
   },
   {
    "duration": 311,
    "start_time": "2024-03-30T00:16:38.310Z"
   },
   {
    "duration": 262,
    "start_time": "2024-03-30T00:16:49.021Z"
   },
   {
    "duration": 1107,
    "start_time": "2024-03-30T00:17:24.717Z"
   },
   {
    "duration": 1135,
    "start_time": "2024-03-30T00:17:38.866Z"
   },
   {
    "duration": 1933,
    "start_time": "2024-03-30T00:17:51.100Z"
   },
   {
    "duration": 840,
    "start_time": "2024-03-30T00:18:10.605Z"
   },
   {
    "duration": 1285,
    "start_time": "2024-03-30T00:18:15.732Z"
   },
   {
    "duration": 102,
    "start_time": "2024-03-30T00:20:07.962Z"
   },
   {
    "duration": 889,
    "start_time": "2024-03-30T00:20:11.223Z"
   },
   {
    "duration": 1111,
    "start_time": "2024-03-30T00:20:22.191Z"
   },
   {
    "duration": 12,
    "start_time": "2024-03-30T00:25:15.032Z"
   },
   {
    "duration": 12,
    "start_time": "2024-03-30T00:25:25.146Z"
   },
   {
    "duration": 2220,
    "start_time": "2024-03-30T00:25:35.976Z"
   },
   {
    "duration": 1335,
    "start_time": "2024-03-30T00:26:00.367Z"
   },
   {
    "duration": 1454,
    "start_time": "2024-03-30T00:27:26.336Z"
   },
   {
    "duration": 1562,
    "start_time": "2024-03-30T00:27:39.637Z"
   },
   {
    "duration": 1451,
    "start_time": "2024-03-30T00:27:56.528Z"
   },
   {
    "duration": 21,
    "start_time": "2024-03-30T00:28:12.824Z"
   },
   {
    "duration": 18,
    "start_time": "2024-03-30T00:28:40.660Z"
   },
   {
    "duration": 120,
    "start_time": "2024-03-30T00:29:34.845Z"
   },
   {
    "duration": 1481,
    "start_time": "2024-03-30T00:29:43.164Z"
   },
   {
    "duration": 1532,
    "start_time": "2024-03-30T00:29:53.487Z"
   },
   {
    "duration": 1431,
    "start_time": "2024-03-30T00:30:07.693Z"
   },
   {
    "duration": 12,
    "start_time": "2024-03-30T00:30:15.584Z"
   },
   {
    "duration": 1476,
    "start_time": "2024-03-30T00:30:31.623Z"
   },
   {
    "duration": 1364,
    "start_time": "2024-03-30T00:30:37.346Z"
   },
   {
    "duration": 1437,
    "start_time": "2024-03-30T00:30:51.630Z"
   },
   {
    "duration": 213,
    "start_time": "2024-03-30T00:32:04.102Z"
   },
   {
    "duration": 9,
    "start_time": "2024-03-30T00:32:42.830Z"
   },
   {
    "duration": 10,
    "start_time": "2024-03-30T00:32:49.707Z"
   },
   {
    "duration": 1152,
    "start_time": "2024-03-30T00:32:52.663Z"
   },
   {
    "duration": 1067,
    "start_time": "2024-03-30T00:35:22.988Z"
   },
   {
    "duration": 50,
    "start_time": "2024-03-30T00:35:24.057Z"
   },
   {
    "duration": 16,
    "start_time": "2024-03-30T00:35:24.108Z"
   },
   {
    "duration": 24,
    "start_time": "2024-03-30T00:35:24.126Z"
   },
   {
    "duration": 47,
    "start_time": "2024-03-30T00:35:24.151Z"
   },
   {
    "duration": 6,
    "start_time": "2024-03-30T00:35:24.199Z"
   },
   {
    "duration": 45,
    "start_time": "2024-03-30T00:35:24.207Z"
   },
   {
    "duration": 9,
    "start_time": "2024-03-30T00:35:24.253Z"
   },
   {
    "duration": 6,
    "start_time": "2024-03-30T00:35:24.263Z"
   },
   {
    "duration": 7,
    "start_time": "2024-03-30T00:35:24.271Z"
   },
   {
    "duration": 23,
    "start_time": "2024-03-30T00:35:24.279Z"
   },
   {
    "duration": 8,
    "start_time": "2024-03-30T00:35:24.303Z"
   },
   {
    "duration": 21,
    "start_time": "2024-03-30T00:35:24.312Z"
   },
   {
    "duration": 15,
    "start_time": "2024-03-30T00:35:24.334Z"
   },
   {
    "duration": 19,
    "start_time": "2024-03-30T00:35:24.350Z"
   },
   {
    "duration": 72,
    "start_time": "2024-03-30T00:35:24.370Z"
   },
   {
    "duration": 46,
    "start_time": "2024-03-30T00:35:24.444Z"
   },
   {
    "duration": 4,
    "start_time": "2024-03-30T00:35:24.492Z"
   },
   {
    "duration": 10,
    "start_time": "2024-03-30T00:35:24.497Z"
   },
   {
    "duration": 7,
    "start_time": "2024-03-30T00:35:24.508Z"
   },
   {
    "duration": 1120,
    "start_time": "2024-03-30T00:35:24.516Z"
   },
   {
    "duration": 8,
    "start_time": "2024-03-30T00:35:25.638Z"
   },
   {
    "duration": 42,
    "start_time": "2024-03-30T00:35:25.647Z"
   },
   {
    "duration": 42,
    "start_time": "2024-03-30T00:35:25.690Z"
   },
   {
    "duration": 24,
    "start_time": "2024-03-30T00:35:25.733Z"
   },
   {
    "duration": 16,
    "start_time": "2024-03-30T00:35:25.758Z"
   },
   {
    "duration": 28,
    "start_time": "2024-03-30T00:35:25.775Z"
   },
   {
    "duration": 29,
    "start_time": "2024-03-30T00:35:25.806Z"
   },
   {
    "duration": 25,
    "start_time": "2024-03-30T00:35:25.836Z"
   },
   {
    "duration": 20,
    "start_time": "2024-03-30T00:35:25.862Z"
   },
   {
    "duration": 18,
    "start_time": "2024-03-30T00:35:25.883Z"
   },
   {
    "duration": 167,
    "start_time": "2024-03-30T00:35:25.902Z"
   },
   {
    "duration": 5,
    "start_time": "2024-03-30T00:35:26.071Z"
   },
   {
    "duration": 27,
    "start_time": "2024-03-30T00:35:26.077Z"
   },
   {
    "duration": 664,
    "start_time": "2024-03-30T00:35:26.105Z"
   },
   {
    "duration": 28,
    "start_time": "2024-03-30T00:35:26.770Z"
   },
   {
    "duration": 24,
    "start_time": "2024-03-30T00:35:26.799Z"
   },
   {
    "duration": 134,
    "start_time": "2024-03-30T00:35:26.824Z"
   },
   {
    "duration": 6,
    "start_time": "2024-03-30T00:35:26.960Z"
   },
   {
    "duration": 18,
    "start_time": "2024-03-30T00:35:26.967Z"
   },
   {
    "duration": 15,
    "start_time": "2024-03-30T00:35:26.986Z"
   },
   {
    "duration": 1148,
    "start_time": "2024-03-30T00:35:27.002Z"
   },
   {
    "duration": 7,
    "start_time": "2024-03-30T00:35:28.151Z"
   },
   {
    "duration": 252,
    "start_time": "2024-03-30T00:35:28.159Z"
   },
   {
    "duration": 6,
    "start_time": "2024-03-30T00:35:28.413Z"
   },
   {
    "duration": 15,
    "start_time": "2024-03-30T00:35:28.420Z"
   },
   {
    "duration": 145,
    "start_time": "2024-03-30T00:35:28.436Z"
   },
   {
    "duration": 127,
    "start_time": "2024-03-30T00:35:28.582Z"
   },
   {
    "duration": 6,
    "start_time": "2024-03-30T00:35:28.711Z"
   },
   {
    "duration": 26,
    "start_time": "2024-03-30T00:35:28.719Z"
   },
   {
    "duration": 164,
    "start_time": "2024-03-30T00:35:28.746Z"
   },
   {
    "duration": 154,
    "start_time": "2024-03-30T00:35:28.912Z"
   },
   {
    "duration": 5,
    "start_time": "2024-03-30T00:35:29.068Z"
   },
   {
    "duration": 27,
    "start_time": "2024-03-30T00:35:29.075Z"
   },
   {
    "duration": 1136,
    "start_time": "2024-03-30T00:35:58.089Z"
   },
   {
    "duration": 982,
    "start_time": "2024-03-30T00:36:10.250Z"
   },
   {
    "duration": 50,
    "start_time": "2024-03-30T00:36:11.234Z"
   },
   {
    "duration": 16,
    "start_time": "2024-03-30T00:36:11.285Z"
   },
   {
    "duration": 13,
    "start_time": "2024-03-30T00:36:11.303Z"
   },
   {
    "duration": 26,
    "start_time": "2024-03-30T00:36:11.318Z"
   },
   {
    "duration": 2,
    "start_time": "2024-03-30T00:36:11.345Z"
   },
   {
    "duration": 22,
    "start_time": "2024-03-30T00:36:11.348Z"
   },
   {
    "duration": 10,
    "start_time": "2024-03-30T00:36:11.371Z"
   },
   {
    "duration": 4,
    "start_time": "2024-03-30T00:36:11.382Z"
   },
   {
    "duration": 13,
    "start_time": "2024-03-30T00:36:11.387Z"
   },
   {
    "duration": 14,
    "start_time": "2024-03-30T00:36:11.402Z"
   },
   {
    "duration": 12,
    "start_time": "2024-03-30T00:36:11.417Z"
   },
   {
    "duration": 22,
    "start_time": "2024-03-30T00:36:11.430Z"
   },
   {
    "duration": 6,
    "start_time": "2024-03-30T00:36:11.455Z"
   },
   {
    "duration": 17,
    "start_time": "2024-03-30T00:36:11.462Z"
   },
   {
    "duration": 48,
    "start_time": "2024-03-30T00:36:11.481Z"
   },
   {
    "duration": 41,
    "start_time": "2024-03-30T00:36:11.530Z"
   },
   {
    "duration": 4,
    "start_time": "2024-03-30T00:36:11.573Z"
   },
   {
    "duration": 16,
    "start_time": "2024-03-30T00:36:11.578Z"
   },
   {
    "duration": 4,
    "start_time": "2024-03-30T00:36:11.596Z"
   },
   {
    "duration": 1074,
    "start_time": "2024-03-30T00:36:11.601Z"
   },
   {
    "duration": 8,
    "start_time": "2024-03-30T00:36:12.676Z"
   },
   {
    "duration": 69,
    "start_time": "2024-03-30T00:36:12.685Z"
   },
   {
    "duration": 17,
    "start_time": "2024-03-30T00:36:12.755Z"
   },
   {
    "duration": 5,
    "start_time": "2024-03-30T00:36:12.773Z"
   },
   {
    "duration": 15,
    "start_time": "2024-03-30T00:36:12.779Z"
   },
   {
    "duration": 21,
    "start_time": "2024-03-30T00:36:12.795Z"
   },
   {
    "duration": 28,
    "start_time": "2024-03-30T00:36:12.817Z"
   },
   {
    "duration": 10,
    "start_time": "2024-03-30T00:36:12.846Z"
   },
   {
    "duration": 14,
    "start_time": "2024-03-30T00:36:12.857Z"
   },
   {
    "duration": 26,
    "start_time": "2024-03-30T00:36:12.872Z"
   },
   {
    "duration": 172,
    "start_time": "2024-03-30T00:36:12.900Z"
   },
   {
    "duration": 4,
    "start_time": "2024-03-30T00:36:13.074Z"
   },
   {
    "duration": 27,
    "start_time": "2024-03-30T00:36:13.079Z"
   },
   {
    "duration": 659,
    "start_time": "2024-03-30T00:36:13.108Z"
   },
   {
    "duration": 28,
    "start_time": "2024-03-30T00:36:13.769Z"
   },
   {
    "duration": 13,
    "start_time": "2024-03-30T00:36:13.798Z"
   },
   {
    "duration": 139,
    "start_time": "2024-03-30T00:36:13.812Z"
   },
   {
    "duration": 6,
    "start_time": "2024-03-30T00:36:13.952Z"
   },
   {
    "duration": 16,
    "start_time": "2024-03-30T00:36:13.959Z"
   },
   {
    "duration": 18,
    "start_time": "2024-03-30T00:36:13.979Z"
   },
   {
    "duration": 1120,
    "start_time": "2024-03-30T00:36:13.998Z"
   },
   {
    "duration": 7,
    "start_time": "2024-03-30T00:36:15.119Z"
   },
   {
    "duration": 334,
    "start_time": "2024-03-30T00:36:15.128Z"
   },
   {
    "duration": 6,
    "start_time": "2024-03-30T00:36:15.463Z"
   },
   {
    "duration": 71,
    "start_time": "2024-03-30T00:36:15.471Z"
   },
   {
    "duration": 175,
    "start_time": "2024-03-30T00:36:15.543Z"
   },
   {
    "duration": 122,
    "start_time": "2024-03-30T00:36:15.719Z"
   },
   {
    "duration": 5,
    "start_time": "2024-03-30T00:36:15.842Z"
   },
   {
    "duration": 29,
    "start_time": "2024-03-30T00:36:15.849Z"
   },
   {
    "duration": 144,
    "start_time": "2024-03-30T00:36:15.879Z"
   },
   {
    "duration": 141,
    "start_time": "2024-03-30T00:36:16.025Z"
   },
   {
    "duration": 6,
    "start_time": "2024-03-30T00:36:16.167Z"
   },
   {
    "duration": 27,
    "start_time": "2024-03-30T00:36:16.174Z"
   },
   {
    "duration": 1206,
    "start_time": "2024-03-30T00:36:32.134Z"
   },
   {
    "duration": 1064,
    "start_time": "2024-03-30T00:36:38.939Z"
   },
   {
    "duration": 1040,
    "start_time": "2024-03-30T00:37:03.592Z"
   },
   {
    "duration": 1141,
    "start_time": "2024-03-30T00:37:08.463Z"
   },
   {
    "duration": 1057,
    "start_time": "2024-03-30T00:37:12.582Z"
   },
   {
    "duration": 1096,
    "start_time": "2024-03-30T00:37:19.094Z"
   },
   {
    "duration": 2,
    "start_time": "2024-03-30T00:38:37.249Z"
   },
   {
    "duration": 91,
    "start_time": "2024-03-30T00:40:55.831Z"
   },
   {
    "duration": 13,
    "start_time": "2024-03-30T00:40:59.224Z"
   },
   {
    "duration": 6,
    "start_time": "2024-03-30T00:41:04.179Z"
   },
   {
    "duration": 104,
    "start_time": "2024-03-30T00:41:18.596Z"
   },
   {
    "duration": 99,
    "start_time": "2024-03-30T00:41:38.621Z"
   },
   {
    "duration": 155,
    "start_time": "2024-03-30T00:41:43.317Z"
   },
   {
    "duration": 9,
    "start_time": "2024-03-30T00:42:27.195Z"
   },
   {
    "duration": 11,
    "start_time": "2024-03-30T00:42:31.178Z"
   },
   {
    "duration": 12,
    "start_time": "2024-03-30T00:42:35.567Z"
   },
   {
    "duration": 8,
    "start_time": "2024-03-30T00:42:44.608Z"
   },
   {
    "duration": 13,
    "start_time": "2024-03-30T00:42:49.086Z"
   },
   {
    "duration": 147,
    "start_time": "2024-03-30T00:42:56.992Z"
   },
   {
    "duration": 155,
    "start_time": "2024-03-30T00:43:12.140Z"
   },
   {
    "duration": 165,
    "start_time": "2024-03-30T00:43:18.881Z"
   },
   {
    "duration": 168,
    "start_time": "2024-03-30T00:44:30.354Z"
   },
   {
    "duration": 156,
    "start_time": "2024-03-30T00:45:04.127Z"
   },
   {
    "duration": 258,
    "start_time": "2024-03-30T00:45:11.109Z"
   },
   {
    "duration": 5,
    "start_time": "2024-03-30T00:46:21.646Z"
   },
   {
    "duration": 7,
    "start_time": "2024-03-30T00:46:29.012Z"
   },
   {
    "duration": 100,
    "start_time": "2024-03-30T00:46:48.221Z"
   },
   {
    "duration": 183,
    "start_time": "2024-03-30T00:47:06.572Z"
   },
   {
    "duration": 167,
    "start_time": "2024-03-30T00:47:34.064Z"
   },
   {
    "duration": 156,
    "start_time": "2024-03-30T00:52:35.814Z"
   },
   {
    "duration": 7,
    "start_time": "2024-03-30T01:23:26.690Z"
   },
   {
    "duration": 4,
    "start_time": "2024-03-30T01:23:54.367Z"
   },
   {
    "duration": 163,
    "start_time": "2024-03-30T01:24:35.427Z"
   },
   {
    "duration": 10,
    "start_time": "2024-03-30T01:25:45.745Z"
   },
   {
    "duration": 109,
    "start_time": "2024-03-30T01:25:50.691Z"
   },
   {
    "duration": 125,
    "start_time": "2024-03-30T01:26:02.773Z"
   },
   {
    "duration": 127,
    "start_time": "2024-03-30T01:26:10.192Z"
   },
   {
    "duration": 115,
    "start_time": "2024-03-30T01:26:15.212Z"
   },
   {
    "duration": 107,
    "start_time": "2024-03-30T01:26:19.898Z"
   },
   {
    "duration": 116,
    "start_time": "2024-03-30T01:26:25.653Z"
   },
   {
    "duration": 120,
    "start_time": "2024-03-30T01:26:30.995Z"
   },
   {
    "duration": 222,
    "start_time": "2024-03-30T01:26:35.439Z"
   },
   {
    "duration": 144,
    "start_time": "2024-03-30T01:26:38.557Z"
   },
   {
    "duration": 142,
    "start_time": "2024-03-30T01:26:46.872Z"
   },
   {
    "duration": 145,
    "start_time": "2024-03-30T01:27:01.218Z"
   },
   {
    "duration": 176,
    "start_time": "2024-03-30T01:27:19.362Z"
   },
   {
    "duration": 173,
    "start_time": "2024-03-30T01:27:53.637Z"
   },
   {
    "duration": 175,
    "start_time": "2024-03-30T01:28:11.118Z"
   },
   {
    "duration": 162,
    "start_time": "2024-03-30T01:28:17.055Z"
   },
   {
    "duration": 175,
    "start_time": "2024-03-30T01:32:39.392Z"
   },
   {
    "duration": 79,
    "start_time": "2024-03-30T01:36:57.355Z"
   },
   {
    "duration": 85,
    "start_time": "2024-03-30T01:37:10.065Z"
   },
   {
    "duration": 1095,
    "start_time": "2024-03-30T01:37:16.164Z"
   },
   {
    "duration": 52,
    "start_time": "2024-03-30T01:37:17.261Z"
   },
   {
    "duration": 17,
    "start_time": "2024-03-30T01:37:17.315Z"
   },
   {
    "duration": 13,
    "start_time": "2024-03-30T01:37:17.333Z"
   },
   {
    "duration": 21,
    "start_time": "2024-03-30T01:37:17.347Z"
   },
   {
    "duration": 2,
    "start_time": "2024-03-30T01:37:17.369Z"
   },
   {
    "duration": 30,
    "start_time": "2024-03-30T01:37:17.372Z"
   },
   {
    "duration": 9,
    "start_time": "2024-03-30T01:37:17.404Z"
   },
   {
    "duration": 9,
    "start_time": "2024-03-30T01:37:17.415Z"
   },
   {
    "duration": 8,
    "start_time": "2024-03-30T01:37:17.426Z"
   },
   {
    "duration": 18,
    "start_time": "2024-03-30T01:37:17.435Z"
   },
   {
    "duration": 9,
    "start_time": "2024-03-30T01:37:17.454Z"
   },
   {
    "duration": 33,
    "start_time": "2024-03-30T01:37:17.464Z"
   },
   {
    "duration": 4,
    "start_time": "2024-03-30T01:37:17.499Z"
   },
   {
    "duration": 23,
    "start_time": "2024-03-30T01:37:17.504Z"
   },
   {
    "duration": 40,
    "start_time": "2024-03-30T01:37:17.528Z"
   },
   {
    "duration": 47,
    "start_time": "2024-03-30T01:37:17.569Z"
   },
   {
    "duration": 4,
    "start_time": "2024-03-30T01:37:17.618Z"
   },
   {
    "duration": 6,
    "start_time": "2024-03-30T01:37:17.623Z"
   },
   {
    "duration": 20,
    "start_time": "2024-03-30T01:37:17.630Z"
   },
   {
    "duration": 1056,
    "start_time": "2024-03-30T01:37:17.651Z"
   },
   {
    "duration": 8,
    "start_time": "2024-03-30T01:37:18.708Z"
   },
   {
    "duration": 28,
    "start_time": "2024-03-30T01:37:18.717Z"
   },
   {
    "duration": 10,
    "start_time": "2024-03-30T01:37:18.747Z"
   },
   {
    "duration": 4,
    "start_time": "2024-03-30T01:37:18.759Z"
   },
   {
    "duration": 14,
    "start_time": "2024-03-30T01:37:18.764Z"
   },
   {
    "duration": 21,
    "start_time": "2024-03-30T01:37:18.779Z"
   },
   {
    "duration": 31,
    "start_time": "2024-03-30T01:37:18.804Z"
   },
   {
    "duration": 27,
    "start_time": "2024-03-30T01:37:18.836Z"
   },
   {
    "duration": 23,
    "start_time": "2024-03-30T01:37:18.864Z"
   },
   {
    "duration": 22,
    "start_time": "2024-03-30T01:37:18.889Z"
   },
   {
    "duration": 199,
    "start_time": "2024-03-30T01:37:18.912Z"
   },
   {
    "duration": 5,
    "start_time": "2024-03-30T01:37:19.112Z"
   },
   {
    "duration": 23,
    "start_time": "2024-03-30T01:37:19.118Z"
   },
   {
    "duration": 702,
    "start_time": "2024-03-30T01:37:19.142Z"
   },
   {
    "duration": 20,
    "start_time": "2024-03-30T01:37:19.845Z"
   },
   {
    "duration": 7,
    "start_time": "2024-03-30T01:37:19.866Z"
   },
   {
    "duration": 156,
    "start_time": "2024-03-30T01:37:19.874Z"
   },
   {
    "duration": 7,
    "start_time": "2024-03-30T01:37:20.031Z"
   },
   {
    "duration": 9,
    "start_time": "2024-03-30T01:37:20.039Z"
   },
   {
    "duration": 30,
    "start_time": "2024-03-30T01:37:20.050Z"
   },
   {
    "duration": 1181,
    "start_time": "2024-03-30T01:37:20.081Z"
   },
   {
    "duration": 7,
    "start_time": "2024-03-30T01:37:21.264Z"
   },
   {
    "duration": 263,
    "start_time": "2024-03-30T01:37:21.272Z"
   },
   {
    "duration": 6,
    "start_time": "2024-03-30T01:37:21.537Z"
   },
   {
    "duration": 19,
    "start_time": "2024-03-30T01:37:21.544Z"
   },
   {
    "duration": 134,
    "start_time": "2024-03-30T01:37:21.565Z"
   },
   {
    "duration": 138,
    "start_time": "2024-03-30T01:37:21.700Z"
   },
   {
    "duration": 6,
    "start_time": "2024-03-30T01:37:21.839Z"
   },
   {
    "duration": 49,
    "start_time": "2024-03-30T01:37:21.846Z"
   },
   {
    "duration": 154,
    "start_time": "2024-03-30T01:37:21.897Z"
   },
   {
    "duration": 142,
    "start_time": "2024-03-30T01:37:22.053Z"
   },
   {
    "duration": 6,
    "start_time": "2024-03-30T01:37:22.197Z"
   },
   {
    "duration": 46,
    "start_time": "2024-03-30T01:37:22.204Z"
   },
   {
    "duration": 164,
    "start_time": "2024-03-30T01:37:22.252Z"
   },
   {
    "duration": 160,
    "start_time": "2024-03-30T01:37:22.417Z"
   },
   {
    "duration": 80,
    "start_time": "2024-03-30T01:37:22.579Z"
   },
   {
    "duration": 0,
    "start_time": "2024-03-30T01:37:22.661Z"
   },
   {
    "duration": 89,
    "start_time": "2024-03-30T01:37:37.496Z"
   },
   {
    "duration": 74,
    "start_time": "2024-03-30T01:37:42.457Z"
   },
   {
    "duration": 12,
    "start_time": "2024-03-30T01:37:47.411Z"
   },
   {
    "duration": 14,
    "start_time": "2024-03-30T01:37:55.717Z"
   },
   {
    "duration": 83,
    "start_time": "2024-03-30T01:38:13.919Z"
   },
   {
    "duration": 89,
    "start_time": "2024-03-30T01:38:17.132Z"
   },
   {
    "duration": 1102,
    "start_time": "2024-03-30T01:38:24.505Z"
   },
   {
    "duration": 53,
    "start_time": "2024-03-30T01:38:25.608Z"
   },
   {
    "duration": 17,
    "start_time": "2024-03-30T01:38:25.662Z"
   },
   {
    "duration": 68,
    "start_time": "2024-03-30T01:38:25.680Z"
   },
   {
    "duration": 59,
    "start_time": "2024-03-30T01:38:25.750Z"
   },
   {
    "duration": 3,
    "start_time": "2024-03-30T01:38:25.810Z"
   },
   {
    "duration": 54,
    "start_time": "2024-03-30T01:38:25.815Z"
   },
   {
    "duration": 26,
    "start_time": "2024-03-30T01:38:25.871Z"
   },
   {
    "duration": 29,
    "start_time": "2024-03-30T01:38:25.898Z"
   },
   {
    "duration": 45,
    "start_time": "2024-03-30T01:38:25.929Z"
   },
   {
    "duration": 38,
    "start_time": "2024-03-30T01:38:25.976Z"
   },
   {
    "duration": 29,
    "start_time": "2024-03-30T01:38:26.016Z"
   },
   {
    "duration": 36,
    "start_time": "2024-03-30T01:38:26.047Z"
   },
   {
    "duration": 26,
    "start_time": "2024-03-30T01:38:26.086Z"
   },
   {
    "duration": 43,
    "start_time": "2024-03-30T01:38:26.114Z"
   },
   {
    "duration": 61,
    "start_time": "2024-03-30T01:38:26.159Z"
   },
   {
    "duration": 42,
    "start_time": "2024-03-30T01:38:26.222Z"
   },
   {
    "duration": 11,
    "start_time": "2024-03-30T01:38:26.265Z"
   },
   {
    "duration": 60,
    "start_time": "2024-03-30T01:38:26.277Z"
   },
   {
    "duration": 52,
    "start_time": "2024-03-30T01:38:26.339Z"
   },
   {
    "duration": 1104,
    "start_time": "2024-03-30T01:38:26.393Z"
   },
   {
    "duration": 10,
    "start_time": "2024-03-30T01:38:27.499Z"
   },
   {
    "duration": 93,
    "start_time": "2024-03-30T01:38:27.511Z"
   },
   {
    "duration": 19,
    "start_time": "2024-03-30T01:38:27.605Z"
   },
   {
    "duration": 8,
    "start_time": "2024-03-30T01:38:27.625Z"
   },
   {
    "duration": 26,
    "start_time": "2024-03-30T01:38:27.635Z"
   },
   {
    "duration": 51,
    "start_time": "2024-03-30T01:38:27.663Z"
   },
   {
    "duration": 44,
    "start_time": "2024-03-30T01:38:27.716Z"
   },
   {
    "duration": 12,
    "start_time": "2024-03-30T01:38:27.762Z"
   },
   {
    "duration": 4,
    "start_time": "2024-03-30T01:38:27.776Z"
   },
   {
    "duration": 34,
    "start_time": "2024-03-30T01:38:27.781Z"
   },
   {
    "duration": 160,
    "start_time": "2024-03-30T01:38:27.816Z"
   },
   {
    "duration": 4,
    "start_time": "2024-03-30T01:38:27.977Z"
   },
   {
    "duration": 21,
    "start_time": "2024-03-30T01:38:27.982Z"
   },
   {
    "duration": 699,
    "start_time": "2024-03-30T01:38:28.004Z"
   },
   {
    "duration": 22,
    "start_time": "2024-03-30T01:38:28.705Z"
   },
   {
    "duration": 20,
    "start_time": "2024-03-30T01:38:28.728Z"
   },
   {
    "duration": 140,
    "start_time": "2024-03-30T01:38:28.750Z"
   },
   {
    "duration": 8,
    "start_time": "2024-03-30T01:38:28.891Z"
   },
   {
    "duration": 26,
    "start_time": "2024-03-30T01:38:28.900Z"
   },
   {
    "duration": 49,
    "start_time": "2024-03-30T01:38:28.931Z"
   },
   {
    "duration": 1180,
    "start_time": "2024-03-30T01:38:28.982Z"
   },
   {
    "duration": 8,
    "start_time": "2024-03-30T01:38:30.163Z"
   },
   {
    "duration": 371,
    "start_time": "2024-03-30T01:38:30.173Z"
   },
   {
    "duration": 6,
    "start_time": "2024-03-30T01:38:30.545Z"
   },
   {
    "duration": 54,
    "start_time": "2024-03-30T01:38:30.552Z"
   },
   {
    "duration": 178,
    "start_time": "2024-03-30T01:38:30.607Z"
   },
   {
    "duration": 127,
    "start_time": "2024-03-30T01:38:30.787Z"
   },
   {
    "duration": 6,
    "start_time": "2024-03-30T01:38:30.915Z"
   },
   {
    "duration": 76,
    "start_time": "2024-03-30T01:38:30.922Z"
   },
   {
    "duration": 200,
    "start_time": "2024-03-30T01:38:30.999Z"
   },
   {
    "duration": 150,
    "start_time": "2024-03-30T01:38:31.200Z"
   },
   {
    "duration": 6,
    "start_time": "2024-03-30T01:38:31.351Z"
   },
   {
    "duration": 58,
    "start_time": "2024-03-30T01:38:31.358Z"
   },
   {
    "duration": 192,
    "start_time": "2024-03-30T01:38:31.417Z"
   },
   {
    "duration": 163,
    "start_time": "2024-03-30T01:38:31.610Z"
   },
   {
    "duration": 83,
    "start_time": "2024-03-30T01:38:31.774Z"
   },
   {
    "duration": 0,
    "start_time": "2024-03-30T01:38:31.858Z"
   },
   {
    "duration": 14,
    "start_time": "2024-03-30T01:38:37.619Z"
   },
   {
    "duration": 19,
    "start_time": "2024-03-30T01:38:42.848Z"
   },
   {
    "duration": 103,
    "start_time": "2024-03-30T01:39:31.334Z"
   },
   {
    "duration": 1072,
    "start_time": "2024-03-30T01:39:36.147Z"
   },
   {
    "duration": 52,
    "start_time": "2024-03-30T01:39:37.221Z"
   },
   {
    "duration": 16,
    "start_time": "2024-03-30T01:39:37.274Z"
   },
   {
    "duration": 33,
    "start_time": "2024-03-30T01:39:37.292Z"
   },
   {
    "duration": 42,
    "start_time": "2024-03-30T01:39:37.327Z"
   },
   {
    "duration": 3,
    "start_time": "2024-03-30T01:39:37.371Z"
   },
   {
    "duration": 69,
    "start_time": "2024-03-30T01:39:37.375Z"
   },
   {
    "duration": 80,
    "start_time": "2024-03-30T01:39:37.447Z"
   },
   {
    "duration": 15,
    "start_time": "2024-03-30T01:39:37.529Z"
   },
   {
    "duration": 41,
    "start_time": "2024-03-30T01:39:37.546Z"
   },
   {
    "duration": 30,
    "start_time": "2024-03-30T01:39:37.589Z"
   },
   {
    "duration": 25,
    "start_time": "2024-03-30T01:39:37.620Z"
   },
   {
    "duration": 32,
    "start_time": "2024-03-30T01:39:37.646Z"
   },
   {
    "duration": 39,
    "start_time": "2024-03-30T01:39:37.681Z"
   },
   {
    "duration": 56,
    "start_time": "2024-03-30T01:39:37.721Z"
   },
   {
    "duration": 81,
    "start_time": "2024-03-30T01:39:37.779Z"
   },
   {
    "duration": 44,
    "start_time": "2024-03-30T01:39:37.862Z"
   },
   {
    "duration": 4,
    "start_time": "2024-03-30T01:39:37.908Z"
   },
   {
    "duration": 48,
    "start_time": "2024-03-30T01:39:37.914Z"
   },
   {
    "duration": 28,
    "start_time": "2024-03-30T01:39:37.963Z"
   },
   {
    "duration": 1160,
    "start_time": "2024-03-30T01:39:37.994Z"
   },
   {
    "duration": 9,
    "start_time": "2024-03-30T01:39:39.157Z"
   },
   {
    "duration": 46,
    "start_time": "2024-03-30T01:39:39.168Z"
   },
   {
    "duration": 8,
    "start_time": "2024-03-30T01:39:39.215Z"
   },
   {
    "duration": 42,
    "start_time": "2024-03-30T01:39:39.225Z"
   },
   {
    "duration": 4,
    "start_time": "2024-03-30T01:39:39.268Z"
   },
   {
    "duration": 42,
    "start_time": "2024-03-30T01:39:39.274Z"
   },
   {
    "duration": 51,
    "start_time": "2024-03-30T01:39:39.317Z"
   },
   {
    "duration": 12,
    "start_time": "2024-03-30T01:39:39.369Z"
   },
   {
    "duration": 26,
    "start_time": "2024-03-30T01:39:39.383Z"
   },
   {
    "duration": 33,
    "start_time": "2024-03-30T01:39:39.411Z"
   },
   {
    "duration": 180,
    "start_time": "2024-03-30T01:39:39.446Z"
   },
   {
    "duration": 4,
    "start_time": "2024-03-30T01:39:39.627Z"
   },
   {
    "duration": 28,
    "start_time": "2024-03-30T01:39:39.633Z"
   },
   {
    "duration": 720,
    "start_time": "2024-03-30T01:39:39.663Z"
   },
   {
    "duration": 28,
    "start_time": "2024-03-30T01:39:40.385Z"
   },
   {
    "duration": 16,
    "start_time": "2024-03-30T01:39:40.415Z"
   },
   {
    "duration": 141,
    "start_time": "2024-03-30T01:39:40.432Z"
   },
   {
    "duration": 7,
    "start_time": "2024-03-30T01:39:40.575Z"
   },
   {
    "duration": 28,
    "start_time": "2024-03-30T01:39:40.594Z"
   },
   {
    "duration": 21,
    "start_time": "2024-03-30T01:39:40.627Z"
   },
   {
    "duration": 1160,
    "start_time": "2024-03-30T01:39:40.650Z"
   },
   {
    "duration": 7,
    "start_time": "2024-03-30T01:39:41.811Z"
   },
   {
    "duration": 249,
    "start_time": "2024-03-30T01:39:41.819Z"
   },
   {
    "duration": 6,
    "start_time": "2024-03-30T01:39:42.069Z"
   },
   {
    "duration": 139,
    "start_time": "2024-03-30T01:39:42.077Z"
   },
   {
    "duration": 135,
    "start_time": "2024-03-30T01:39:42.218Z"
   },
   {
    "duration": 132,
    "start_time": "2024-03-30T01:39:42.355Z"
   },
   {
    "duration": 7,
    "start_time": "2024-03-30T01:39:42.489Z"
   },
   {
    "duration": 12,
    "start_time": "2024-03-30T01:39:42.498Z"
   },
   {
    "duration": 183,
    "start_time": "2024-03-30T01:39:42.512Z"
   },
   {
    "duration": 154,
    "start_time": "2024-03-30T01:39:42.697Z"
   },
   {
    "duration": 6,
    "start_time": "2024-03-30T01:39:42.853Z"
   },
   {
    "duration": 13,
    "start_time": "2024-03-30T01:39:42.860Z"
   },
   {
    "duration": 189,
    "start_time": "2024-03-30T01:39:42.875Z"
   },
   {
    "duration": 185,
    "start_time": "2024-03-30T01:39:43.065Z"
   },
   {
    "duration": 83,
    "start_time": "2024-03-30T01:39:43.251Z"
   },
   {
    "duration": 0,
    "start_time": "2024-03-30T01:39:43.336Z"
   },
   {
    "duration": 128,
    "start_time": "2024-03-30T01:39:48.383Z"
   },
   {
    "duration": 10,
    "start_time": "2024-03-30T01:39:56.577Z"
   },
   {
    "duration": 13,
    "start_time": "2024-03-30T01:40:02.905Z"
   },
   {
    "duration": 1063,
    "start_time": "2024-03-30T01:41:24.169Z"
   },
   {
    "duration": 52,
    "start_time": "2024-03-30T01:41:25.234Z"
   },
   {
    "duration": 16,
    "start_time": "2024-03-30T01:41:25.288Z"
   },
   {
    "duration": 38,
    "start_time": "2024-03-30T01:41:25.306Z"
   },
   {
    "duration": 25,
    "start_time": "2024-03-30T01:41:25.346Z"
   },
   {
    "duration": 2,
    "start_time": "2024-03-30T01:41:25.373Z"
   },
   {
    "duration": 32,
    "start_time": "2024-03-30T01:41:25.377Z"
   },
   {
    "duration": 27,
    "start_time": "2024-03-30T01:41:25.410Z"
   },
   {
    "duration": 6,
    "start_time": "2024-03-30T01:41:25.438Z"
   },
   {
    "duration": 11,
    "start_time": "2024-03-30T01:41:25.446Z"
   },
   {
    "duration": 28,
    "start_time": "2024-03-30T01:41:25.458Z"
   },
   {
    "duration": 15,
    "start_time": "2024-03-30T01:41:25.489Z"
   },
   {
    "duration": 23,
    "start_time": "2024-03-30T01:41:25.505Z"
   },
   {
    "duration": 10,
    "start_time": "2024-03-30T01:41:25.530Z"
   },
   {
    "duration": 18,
    "start_time": "2024-03-30T01:41:25.542Z"
   },
   {
    "duration": 57,
    "start_time": "2024-03-30T01:41:25.562Z"
   },
   {
    "duration": 44,
    "start_time": "2024-03-30T01:41:25.621Z"
   },
   {
    "duration": 6,
    "start_time": "2024-03-30T01:41:25.666Z"
   },
   {
    "duration": 25,
    "start_time": "2024-03-30T01:41:25.674Z"
   },
   {
    "duration": 31,
    "start_time": "2024-03-30T01:41:25.700Z"
   },
   {
    "duration": 1055,
    "start_time": "2024-03-30T01:41:25.733Z"
   },
   {
    "duration": 10,
    "start_time": "2024-03-30T01:41:26.790Z"
   },
   {
    "duration": 45,
    "start_time": "2024-03-30T01:41:26.801Z"
   },
   {
    "duration": 6,
    "start_time": "2024-03-30T01:41:26.848Z"
   },
   {
    "duration": 5,
    "start_time": "2024-03-30T01:41:26.855Z"
   },
   {
    "duration": 5,
    "start_time": "2024-03-30T01:41:26.862Z"
   },
   {
    "duration": 12,
    "start_time": "2024-03-30T01:41:26.868Z"
   },
   {
    "duration": 23,
    "start_time": "2024-03-30T01:41:26.883Z"
   },
   {
    "duration": 13,
    "start_time": "2024-03-30T01:41:26.907Z"
   },
   {
    "duration": 4,
    "start_time": "2024-03-30T01:41:26.922Z"
   },
   {
    "duration": 28,
    "start_time": "2024-03-30T01:41:26.927Z"
   },
   {
    "duration": 193,
    "start_time": "2024-03-30T01:41:26.956Z"
   },
   {
    "duration": 4,
    "start_time": "2024-03-30T01:41:27.150Z"
   },
   {
    "duration": 14,
    "start_time": "2024-03-30T01:41:27.155Z"
   },
   {
    "duration": 696,
    "start_time": "2024-03-30T01:41:27.170Z"
   },
   {
    "duration": 28,
    "start_time": "2024-03-30T01:41:27.867Z"
   },
   {
    "duration": 7,
    "start_time": "2024-03-30T01:41:27.896Z"
   },
   {
    "duration": 141,
    "start_time": "2024-03-30T01:41:27.905Z"
   },
   {
    "duration": 6,
    "start_time": "2024-03-30T01:41:28.048Z"
   },
   {
    "duration": 22,
    "start_time": "2024-03-30T01:41:28.055Z"
   },
   {
    "duration": 15,
    "start_time": "2024-03-30T01:41:28.079Z"
   },
   {
    "duration": 1174,
    "start_time": "2024-03-30T01:41:28.096Z"
   },
   {
    "duration": 7,
    "start_time": "2024-03-30T01:41:29.271Z"
   },
   {
    "duration": 275,
    "start_time": "2024-03-30T01:41:29.280Z"
   },
   {
    "duration": 5,
    "start_time": "2024-03-30T01:41:29.557Z"
   },
   {
    "duration": 15,
    "start_time": "2024-03-30T01:41:29.564Z"
   },
   {
    "duration": 143,
    "start_time": "2024-03-30T01:41:29.580Z"
   },
   {
    "duration": 121,
    "start_time": "2024-03-30T01:41:29.724Z"
   },
   {
    "duration": 6,
    "start_time": "2024-03-30T01:41:29.846Z"
   },
   {
    "duration": 21,
    "start_time": "2024-03-30T01:41:29.853Z"
   },
   {
    "duration": 144,
    "start_time": "2024-03-30T01:41:29.876Z"
   },
   {
    "duration": 137,
    "start_time": "2024-03-30T01:41:30.022Z"
   },
   {
    "duration": 6,
    "start_time": "2024-03-30T01:41:30.160Z"
   },
   {
    "duration": 69,
    "start_time": "2024-03-30T01:41:30.167Z"
   },
   {
    "duration": 213,
    "start_time": "2024-03-30T01:41:30.238Z"
   },
   {
    "duration": 159,
    "start_time": "2024-03-30T01:41:30.453Z"
   },
   {
    "duration": 22,
    "start_time": "2024-03-30T01:41:30.613Z"
   },
   {
    "duration": 255,
    "start_time": "2024-03-30T01:41:30.636Z"
   },
   {
    "duration": 106,
    "start_time": "2024-03-30T01:42:02.391Z"
   },
   {
    "duration": 19,
    "start_time": "2024-03-30T01:42:10.366Z"
   },
   {
    "duration": 131,
    "start_time": "2024-03-30T01:42:15.258Z"
   },
   {
    "duration": 30866,
    "start_time": "2024-03-30T01:42:41.164Z"
   },
   {
    "duration": 1022,
    "start_time": "2024-03-30T01:44:57.509Z"
   },
   {
    "duration": 52,
    "start_time": "2024-03-30T01:44:58.533Z"
   },
   {
    "duration": 18,
    "start_time": "2024-03-30T01:44:58.586Z"
   },
   {
    "duration": 13,
    "start_time": "2024-03-30T01:44:58.606Z"
   },
   {
    "duration": 34,
    "start_time": "2024-03-30T01:44:58.620Z"
   },
   {
    "duration": 3,
    "start_time": "2024-03-30T01:44:58.656Z"
   },
   {
    "duration": 21,
    "start_time": "2024-03-30T01:44:58.661Z"
   },
   {
    "duration": 9,
    "start_time": "2024-03-30T01:44:58.683Z"
   },
   {
    "duration": 6,
    "start_time": "2024-03-30T01:44:58.694Z"
   },
   {
    "duration": 8,
    "start_time": "2024-03-30T01:44:58.702Z"
   },
   {
    "duration": 23,
    "start_time": "2024-03-30T01:44:58.711Z"
   },
   {
    "duration": 12,
    "start_time": "2024-03-30T01:44:58.736Z"
   },
   {
    "duration": 12,
    "start_time": "2024-03-30T01:44:58.749Z"
   },
   {
    "duration": 5,
    "start_time": "2024-03-30T01:44:58.765Z"
   },
   {
    "duration": 24,
    "start_time": "2024-03-30T01:44:58.771Z"
   },
   {
    "duration": 39,
    "start_time": "2024-03-30T01:44:58.796Z"
   },
   {
    "duration": 57,
    "start_time": "2024-03-30T01:44:58.837Z"
   },
   {
    "duration": 4,
    "start_time": "2024-03-30T01:44:58.896Z"
   },
   {
    "duration": 10,
    "start_time": "2024-03-30T01:44:58.902Z"
   },
   {
    "duration": 7,
    "start_time": "2024-03-30T01:44:58.914Z"
   },
   {
    "duration": 1076,
    "start_time": "2024-03-30T01:44:58.923Z"
   },
   {
    "duration": 14,
    "start_time": "2024-03-30T01:45:00.001Z"
   },
   {
    "duration": 41,
    "start_time": "2024-03-30T01:45:00.016Z"
   },
   {
    "duration": 25,
    "start_time": "2024-03-30T01:45:00.058Z"
   },
   {
    "duration": 55,
    "start_time": "2024-03-30T01:45:00.084Z"
   },
   {
    "duration": 39,
    "start_time": "2024-03-30T01:45:00.140Z"
   },
   {
    "duration": 92,
    "start_time": "2024-03-30T01:45:00.181Z"
   },
   {
    "duration": 82,
    "start_time": "2024-03-30T01:45:00.276Z"
   },
   {
    "duration": 114,
    "start_time": "2024-03-30T01:45:00.360Z"
   },
   {
    "duration": 38,
    "start_time": "2024-03-30T01:45:00.475Z"
   },
   {
    "duration": 75,
    "start_time": "2024-03-30T01:45:00.514Z"
   },
   {
    "duration": 208,
    "start_time": "2024-03-30T01:45:00.590Z"
   },
   {
    "duration": 4,
    "start_time": "2024-03-30T01:45:00.800Z"
   },
   {
    "duration": 66,
    "start_time": "2024-03-30T01:45:00.806Z"
   },
   {
    "duration": 739,
    "start_time": "2024-03-30T01:45:00.874Z"
   },
   {
    "duration": 22,
    "start_time": "2024-03-30T01:45:01.614Z"
   },
   {
    "duration": 34,
    "start_time": "2024-03-30T01:45:01.637Z"
   },
   {
    "duration": 183,
    "start_time": "2024-03-30T01:45:01.673Z"
   },
   {
    "duration": 7,
    "start_time": "2024-03-30T01:45:01.858Z"
   },
   {
    "duration": 348,
    "start_time": "2024-03-30T01:45:01.867Z"
   },
   {
    "duration": 143,
    "start_time": "2024-03-30T01:45:02.216Z"
   },
   {
    "duration": 1289,
    "start_time": "2024-03-30T01:45:02.361Z"
   },
   {
    "duration": 9,
    "start_time": "2024-03-30T01:45:03.652Z"
   },
   {
    "duration": 289,
    "start_time": "2024-03-30T01:45:03.663Z"
   },
   {
    "duration": 6,
    "start_time": "2024-03-30T01:45:03.954Z"
   },
   {
    "duration": 82,
    "start_time": "2024-03-30T01:45:03.961Z"
   },
   {
    "duration": 133,
    "start_time": "2024-03-30T01:45:04.045Z"
   },
   {
    "duration": 184,
    "start_time": "2024-03-30T01:45:04.179Z"
   },
   {
    "duration": 5,
    "start_time": "2024-03-30T01:45:04.365Z"
   },
   {
    "duration": 77,
    "start_time": "2024-03-30T01:45:04.371Z"
   },
   {
    "duration": 139,
    "start_time": "2024-03-30T01:45:04.450Z"
   },
   {
    "duration": 128,
    "start_time": "2024-03-30T01:45:04.590Z"
   },
   {
    "duration": 5,
    "start_time": "2024-03-30T01:45:04.720Z"
   },
   {
    "duration": 36,
    "start_time": "2024-03-30T01:45:04.727Z"
   },
   {
    "duration": 158,
    "start_time": "2024-03-30T01:45:04.765Z"
   },
   {
    "duration": 183,
    "start_time": "2024-03-30T01:45:04.925Z"
   },
   {
    "duration": 81,
    "start_time": "2024-03-30T01:45:05.109Z"
   },
   {
    "duration": 0,
    "start_time": "2024-03-30T01:45:05.191Z"
   },
   {
    "duration": 131,
    "start_time": "2024-03-30T01:45:17.656Z"
   },
   {
    "duration": 133,
    "start_time": "2024-03-30T01:45:35.839Z"
   },
   {
    "duration": 201,
    "start_time": "2024-03-30T01:49:32.780Z"
   },
   {
    "duration": 113,
    "start_time": "2024-03-30T01:49:54.889Z"
   },
   {
    "duration": 90,
    "start_time": "2024-03-30T01:50:21.561Z"
   },
   {
    "duration": 1025,
    "start_time": "2024-03-30T01:50:46.031Z"
   },
   {
    "duration": 51,
    "start_time": "2024-03-30T01:50:47.058Z"
   },
   {
    "duration": 16,
    "start_time": "2024-03-30T01:50:47.111Z"
   },
   {
    "duration": 13,
    "start_time": "2024-03-30T01:50:47.129Z"
   },
   {
    "duration": 24,
    "start_time": "2024-03-30T01:50:47.143Z"
   },
   {
    "duration": 3,
    "start_time": "2024-03-30T01:50:47.169Z"
   },
   {
    "duration": 26,
    "start_time": "2024-03-30T01:50:47.173Z"
   },
   {
    "duration": 9,
    "start_time": "2024-03-30T01:50:47.200Z"
   },
   {
    "duration": 5,
    "start_time": "2024-03-30T01:50:47.210Z"
   },
   {
    "duration": 9,
    "start_time": "2024-03-30T01:50:47.218Z"
   },
   {
    "duration": 18,
    "start_time": "2024-03-30T01:50:47.229Z"
   },
   {
    "duration": 10,
    "start_time": "2024-03-30T01:50:47.249Z"
   },
   {
    "duration": 34,
    "start_time": "2024-03-30T01:50:47.260Z"
   },
   {
    "duration": 6,
    "start_time": "2024-03-30T01:50:47.295Z"
   },
   {
    "duration": 16,
    "start_time": "2024-03-30T01:50:47.302Z"
   },
   {
    "duration": 45,
    "start_time": "2024-03-30T01:50:47.319Z"
   },
   {
    "duration": 52,
    "start_time": "2024-03-30T01:50:47.366Z"
   },
   {
    "duration": 6,
    "start_time": "2024-03-30T01:50:47.419Z"
   },
   {
    "duration": 10,
    "start_time": "2024-03-30T01:50:47.426Z"
   },
   {
    "duration": 22,
    "start_time": "2024-03-30T01:50:47.437Z"
   },
   {
    "duration": 1055,
    "start_time": "2024-03-30T01:50:47.461Z"
   },
   {
    "duration": 8,
    "start_time": "2024-03-30T01:50:48.517Z"
   },
   {
    "duration": 16,
    "start_time": "2024-03-30T01:50:48.527Z"
   },
   {
    "duration": 18,
    "start_time": "2024-03-30T01:50:48.544Z"
   },
   {
    "duration": 19,
    "start_time": "2024-03-30T01:50:48.563Z"
   },
   {
    "duration": 8,
    "start_time": "2024-03-30T01:50:48.583Z"
   },
   {
    "duration": 18,
    "start_time": "2024-03-30T01:50:48.592Z"
   },
   {
    "duration": 17,
    "start_time": "2024-03-30T01:50:48.613Z"
   },
   {
    "duration": 11,
    "start_time": "2024-03-30T01:50:48.631Z"
   },
   {
    "duration": 13,
    "start_time": "2024-03-30T01:50:48.643Z"
   },
   {
    "duration": 13,
    "start_time": "2024-03-30T01:50:48.657Z"
   },
   {
    "duration": 172,
    "start_time": "2024-03-30T01:50:48.671Z"
   },
   {
    "duration": 4,
    "start_time": "2024-03-30T01:50:48.845Z"
   },
   {
    "duration": 36,
    "start_time": "2024-03-30T01:50:48.850Z"
   },
   {
    "duration": 679,
    "start_time": "2024-03-30T01:50:48.888Z"
   },
   {
    "duration": 30,
    "start_time": "2024-03-30T01:50:49.568Z"
   },
   {
    "duration": 8,
    "start_time": "2024-03-30T01:50:49.600Z"
   },
   {
    "duration": 133,
    "start_time": "2024-03-30T01:50:49.609Z"
   },
   {
    "duration": 7,
    "start_time": "2024-03-30T01:50:49.744Z"
   },
   {
    "duration": 7,
    "start_time": "2024-03-30T01:50:49.753Z"
   },
   {
    "duration": 33,
    "start_time": "2024-03-30T01:50:49.761Z"
   },
   {
    "duration": 1163,
    "start_time": "2024-03-30T01:50:49.795Z"
   },
   {
    "duration": 9,
    "start_time": "2024-03-30T01:50:50.960Z"
   },
   {
    "duration": 306,
    "start_time": "2024-03-30T01:50:50.970Z"
   },
   {
    "duration": 7,
    "start_time": "2024-03-30T01:50:51.278Z"
   },
   {
    "duration": 12,
    "start_time": "2024-03-30T01:50:51.294Z"
   },
   {
    "duration": 160,
    "start_time": "2024-03-30T01:50:51.308Z"
   },
   {
    "duration": 143,
    "start_time": "2024-03-30T01:50:51.470Z"
   },
   {
    "duration": 7,
    "start_time": "2024-03-30T01:50:51.615Z"
   },
   {
    "duration": 14,
    "start_time": "2024-03-30T01:50:51.623Z"
   },
   {
    "duration": 168,
    "start_time": "2024-03-30T01:50:51.639Z"
   },
   {
    "duration": 168,
    "start_time": "2024-03-30T01:50:51.809Z"
   },
   {
    "duration": 6,
    "start_time": "2024-03-30T01:50:51.979Z"
   },
   {
    "duration": 35,
    "start_time": "2024-03-30T01:50:51.987Z"
   },
   {
    "duration": 187,
    "start_time": "2024-03-30T01:50:52.024Z"
   },
   {
    "duration": 171,
    "start_time": "2024-03-30T01:50:52.212Z"
   },
   {
    "duration": 86,
    "start_time": "2024-03-30T01:50:52.384Z"
   },
   {
    "duration": 0,
    "start_time": "2024-03-30T01:50:52.471Z"
   },
   {
    "duration": 114,
    "start_time": "2024-03-30T01:51:10.995Z"
   },
   {
    "duration": 128,
    "start_time": "2024-03-30T01:51:17.950Z"
   },
   {
    "duration": 1078,
    "start_time": "2024-03-30T01:51:25.140Z"
   },
   {
    "duration": 52,
    "start_time": "2024-03-30T01:51:26.220Z"
   },
   {
    "duration": 17,
    "start_time": "2024-03-30T01:51:26.273Z"
   },
   {
    "duration": 56,
    "start_time": "2024-03-30T01:51:26.292Z"
   },
   {
    "duration": 41,
    "start_time": "2024-03-30T01:51:26.350Z"
   },
   {
    "duration": 4,
    "start_time": "2024-03-30T01:51:26.393Z"
   },
   {
    "duration": 46,
    "start_time": "2024-03-30T01:51:26.398Z"
   },
   {
    "duration": 25,
    "start_time": "2024-03-30T01:51:26.445Z"
   },
   {
    "duration": 25,
    "start_time": "2024-03-30T01:51:26.471Z"
   },
   {
    "duration": 49,
    "start_time": "2024-03-30T01:51:26.497Z"
   },
   {
    "duration": 41,
    "start_time": "2024-03-30T01:51:26.548Z"
   },
   {
    "duration": 43,
    "start_time": "2024-03-30T01:51:26.591Z"
   },
   {
    "duration": 50,
    "start_time": "2024-03-30T01:51:26.635Z"
   },
   {
    "duration": 37,
    "start_time": "2024-03-30T01:51:26.689Z"
   },
   {
    "duration": 44,
    "start_time": "2024-03-30T01:51:26.728Z"
   },
   {
    "duration": 69,
    "start_time": "2024-03-30T01:51:26.773Z"
   },
   {
    "duration": 50,
    "start_time": "2024-03-30T01:51:26.843Z"
   },
   {
    "duration": 5,
    "start_time": "2024-03-30T01:51:26.895Z"
   },
   {
    "duration": 64,
    "start_time": "2024-03-30T01:51:26.901Z"
   },
   {
    "duration": 64,
    "start_time": "2024-03-30T01:51:26.966Z"
   },
   {
    "duration": 1083,
    "start_time": "2024-03-30T01:51:27.032Z"
   },
   {
    "duration": 8,
    "start_time": "2024-03-30T01:51:28.116Z"
   },
   {
    "duration": 32,
    "start_time": "2024-03-30T01:51:28.126Z"
   },
   {
    "duration": 8,
    "start_time": "2024-03-30T01:51:28.159Z"
   },
   {
    "duration": 5,
    "start_time": "2024-03-30T01:51:28.168Z"
   },
   {
    "duration": 16,
    "start_time": "2024-03-30T01:51:28.174Z"
   },
   {
    "duration": 13,
    "start_time": "2024-03-30T01:51:28.192Z"
   },
   {
    "duration": 26,
    "start_time": "2024-03-30T01:51:28.206Z"
   },
   {
    "duration": 18,
    "start_time": "2024-03-30T01:51:28.233Z"
   },
   {
    "duration": 4,
    "start_time": "2024-03-30T01:51:28.253Z"
   },
   {
    "duration": 25,
    "start_time": "2024-03-30T01:51:28.258Z"
   },
   {
    "duration": 207,
    "start_time": "2024-03-30T01:51:28.284Z"
   },
   {
    "duration": 5,
    "start_time": "2024-03-30T01:51:28.492Z"
   },
   {
    "duration": 18,
    "start_time": "2024-03-30T01:51:28.498Z"
   },
   {
    "duration": 760,
    "start_time": "2024-03-30T01:51:28.518Z"
   },
   {
    "duration": 33,
    "start_time": "2024-03-30T01:51:29.280Z"
   },
   {
    "duration": 7,
    "start_time": "2024-03-30T01:51:29.315Z"
   },
   {
    "duration": 167,
    "start_time": "2024-03-30T01:51:29.323Z"
   },
   {
    "duration": 7,
    "start_time": "2024-03-30T01:51:29.492Z"
   },
   {
    "duration": 17,
    "start_time": "2024-03-30T01:51:29.501Z"
   },
   {
    "duration": 24,
    "start_time": "2024-03-30T01:51:29.522Z"
   },
   {
    "duration": 1167,
    "start_time": "2024-03-30T01:51:29.547Z"
   },
   {
    "duration": 8,
    "start_time": "2024-03-30T01:51:30.716Z"
   },
   {
    "duration": 304,
    "start_time": "2024-03-30T01:51:30.725Z"
   },
   {
    "duration": 6,
    "start_time": "2024-03-30T01:51:31.031Z"
   },
   {
    "duration": 58,
    "start_time": "2024-03-30T01:51:31.039Z"
   },
   {
    "duration": 179,
    "start_time": "2024-03-30T01:51:31.098Z"
   },
   {
    "duration": 135,
    "start_time": "2024-03-30T01:51:31.279Z"
   },
   {
    "duration": 7,
    "start_time": "2024-03-30T01:51:31.416Z"
   },
   {
    "duration": 72,
    "start_time": "2024-03-30T01:51:31.425Z"
   },
   {
    "duration": 281,
    "start_time": "2024-03-30T01:51:31.498Z"
   },
   {
    "duration": 149,
    "start_time": "2024-03-30T01:51:31.781Z"
   },
   {
    "duration": 8,
    "start_time": "2024-03-30T01:51:31.932Z"
   },
   {
    "duration": 57,
    "start_time": "2024-03-30T01:51:31.941Z"
   },
   {
    "duration": 191,
    "start_time": "2024-03-30T01:51:32.000Z"
   },
   {
    "duration": 166,
    "start_time": "2024-03-30T01:51:32.193Z"
   },
   {
    "duration": 126,
    "start_time": "2024-03-30T01:51:32.361Z"
   },
   {
    "duration": 88,
    "start_time": "2024-03-30T01:51:32.493Z"
   },
   {
    "duration": 146,
    "start_time": "2024-03-30T01:52:33.319Z"
   },
   {
    "duration": 123,
    "start_time": "2024-03-30T01:52:45.866Z"
   },
   {
    "duration": 248,
    "start_time": "2024-03-30T01:52:53.093Z"
   },
   {
    "duration": 51,
    "start_time": "2024-03-30T11:37:40.596Z"
   },
   {
    "duration": 1497,
    "start_time": "2024-03-30T11:37:56.010Z"
   },
   {
    "duration": 108,
    "start_time": "2024-03-30T11:37:57.509Z"
   },
   {
    "duration": 18,
    "start_time": "2024-03-30T11:37:57.619Z"
   },
   {
    "duration": 15,
    "start_time": "2024-03-30T11:37:57.638Z"
   },
   {
    "duration": 3,
    "start_time": "2024-03-30T11:37:57.654Z"
   },
   {
    "duration": 15,
    "start_time": "2024-03-30T11:37:57.658Z"
   },
   {
    "duration": 8,
    "start_time": "2024-03-30T11:37:57.675Z"
   },
   {
    "duration": 5,
    "start_time": "2024-03-30T11:37:57.684Z"
   },
   {
    "duration": 8,
    "start_time": "2024-03-30T11:37:57.690Z"
   },
   {
    "duration": 16,
    "start_time": "2024-03-30T11:37:57.700Z"
   },
   {
    "duration": 8,
    "start_time": "2024-03-30T11:37:57.717Z"
   },
   {
    "duration": 40,
    "start_time": "2024-03-30T11:37:57.727Z"
   },
   {
    "duration": 6,
    "start_time": "2024-03-30T11:37:57.768Z"
   },
   {
    "duration": 8,
    "start_time": "2024-03-30T11:37:57.776Z"
   },
   {
    "duration": 136,
    "start_time": "2024-03-30T11:37:57.785Z"
   },
   {
    "duration": 0,
    "start_time": "2024-03-30T11:37:57.923Z"
   },
   {
    "duration": 0,
    "start_time": "2024-03-30T11:37:57.925Z"
   },
   {
    "duration": 0,
    "start_time": "2024-03-30T11:37:57.926Z"
   },
   {
    "duration": 0,
    "start_time": "2024-03-30T11:37:57.927Z"
   },
   {
    "duration": 0,
    "start_time": "2024-03-30T11:37:57.928Z"
   },
   {
    "duration": 0,
    "start_time": "2024-03-30T11:37:57.929Z"
   },
   {
    "duration": 1,
    "start_time": "2024-03-30T11:37:57.930Z"
   },
   {
    "duration": 0,
    "start_time": "2024-03-30T11:37:57.931Z"
   },
   {
    "duration": 0,
    "start_time": "2024-03-30T11:37:57.932Z"
   },
   {
    "duration": 0,
    "start_time": "2024-03-30T11:37:57.933Z"
   },
   {
    "duration": 0,
    "start_time": "2024-03-30T11:37:57.934Z"
   },
   {
    "duration": 0,
    "start_time": "2024-03-30T11:37:57.935Z"
   },
   {
    "duration": 0,
    "start_time": "2024-03-30T11:37:57.936Z"
   },
   {
    "duration": 0,
    "start_time": "2024-03-30T11:37:57.965Z"
   },
   {
    "duration": 0,
    "start_time": "2024-03-30T11:37:57.967Z"
   },
   {
    "duration": 0,
    "start_time": "2024-03-30T11:37:57.968Z"
   },
   {
    "duration": 0,
    "start_time": "2024-03-30T11:37:57.969Z"
   },
   {
    "duration": 0,
    "start_time": "2024-03-30T11:37:57.971Z"
   },
   {
    "duration": 0,
    "start_time": "2024-03-30T11:37:57.972Z"
   },
   {
    "duration": 0,
    "start_time": "2024-03-30T11:37:57.973Z"
   },
   {
    "duration": 0,
    "start_time": "2024-03-30T11:37:57.974Z"
   },
   {
    "duration": 0,
    "start_time": "2024-03-30T11:37:57.976Z"
   },
   {
    "duration": 0,
    "start_time": "2024-03-30T11:37:57.977Z"
   },
   {
    "duration": 0,
    "start_time": "2024-03-30T11:37:57.978Z"
   },
   {
    "duration": 0,
    "start_time": "2024-03-30T11:37:57.979Z"
   },
   {
    "duration": 0,
    "start_time": "2024-03-30T11:37:57.980Z"
   },
   {
    "duration": 0,
    "start_time": "2024-03-30T11:37:57.981Z"
   },
   {
    "duration": 0,
    "start_time": "2024-03-30T11:37:57.982Z"
   },
   {
    "duration": 0,
    "start_time": "2024-03-30T11:37:57.983Z"
   },
   {
    "duration": 0,
    "start_time": "2024-03-30T11:37:57.984Z"
   },
   {
    "duration": 0,
    "start_time": "2024-03-30T11:37:57.985Z"
   },
   {
    "duration": 0,
    "start_time": "2024-03-30T11:37:57.986Z"
   },
   {
    "duration": 0,
    "start_time": "2024-03-30T11:37:57.987Z"
   },
   {
    "duration": 0,
    "start_time": "2024-03-30T11:37:57.988Z"
   },
   {
    "duration": 0,
    "start_time": "2024-03-30T11:37:57.989Z"
   },
   {
    "duration": 0,
    "start_time": "2024-03-30T11:37:57.990Z"
   },
   {
    "duration": 0,
    "start_time": "2024-03-30T11:37:57.991Z"
   },
   {
    "duration": 0,
    "start_time": "2024-03-30T11:37:57.992Z"
   },
   {
    "duration": 0,
    "start_time": "2024-03-30T11:37:57.994Z"
   },
   {
    "duration": 0,
    "start_time": "2024-03-30T11:37:57.995Z"
   },
   {
    "duration": 0,
    "start_time": "2024-03-30T11:37:57.996Z"
   },
   {
    "duration": 0,
    "start_time": "2024-03-30T11:37:57.997Z"
   },
   {
    "duration": 8,
    "start_time": "2024-03-30T11:38:53.091Z"
   },
   {
    "duration": 1052,
    "start_time": "2024-03-30T11:38:56.961Z"
   },
   {
    "duration": 56,
    "start_time": "2024-03-30T11:38:58.015Z"
   },
   {
    "duration": 18,
    "start_time": "2024-03-30T11:38:58.073Z"
   },
   {
    "duration": 19,
    "start_time": "2024-03-30T11:38:58.094Z"
   },
   {
    "duration": 3,
    "start_time": "2024-03-30T11:38:58.115Z"
   },
   {
    "duration": 17,
    "start_time": "2024-03-30T11:38:58.120Z"
   },
   {
    "duration": 10,
    "start_time": "2024-03-30T11:38:58.166Z"
   },
   {
    "duration": 6,
    "start_time": "2024-03-30T11:38:58.178Z"
   },
   {
    "duration": 7,
    "start_time": "2024-03-30T11:38:58.186Z"
   },
   {
    "duration": 14,
    "start_time": "2024-03-30T11:38:58.196Z"
   },
   {
    "duration": 8,
    "start_time": "2024-03-30T11:38:58.212Z"
   },
   {
    "duration": 8,
    "start_time": "2024-03-30T11:38:58.222Z"
   },
   {
    "duration": 37,
    "start_time": "2024-03-30T11:38:58.232Z"
   },
   {
    "duration": 9,
    "start_time": "2024-03-30T11:38:58.271Z"
   },
   {
    "duration": 47,
    "start_time": "2024-03-30T11:38:58.281Z"
   },
   {
    "duration": 66,
    "start_time": "2024-03-30T11:38:58.329Z"
   },
   {
    "duration": 5,
    "start_time": "2024-03-30T11:38:58.396Z"
   },
   {
    "duration": 12,
    "start_time": "2024-03-30T11:38:58.402Z"
   },
   {
    "duration": 5,
    "start_time": "2024-03-30T11:38:58.415Z"
   },
   {
    "duration": 1148,
    "start_time": "2024-03-30T11:38:58.421Z"
   },
   {
    "duration": 8,
    "start_time": "2024-03-30T11:38:59.571Z"
   },
   {
    "duration": 18,
    "start_time": "2024-03-30T11:38:59.581Z"
   },
   {
    "duration": 7,
    "start_time": "2024-03-30T11:38:59.601Z"
   },
   {
    "duration": 21,
    "start_time": "2024-03-30T11:38:59.610Z"
   },
   {
    "duration": 6,
    "start_time": "2024-03-30T11:38:59.633Z"
   },
   {
    "duration": 35,
    "start_time": "2024-03-30T11:38:59.641Z"
   },
   {
    "duration": 27,
    "start_time": "2024-03-30T11:38:59.677Z"
   },
   {
    "duration": 12,
    "start_time": "2024-03-30T11:38:59.708Z"
   },
   {
    "duration": 4,
    "start_time": "2024-03-30T11:38:59.722Z"
   },
   {
    "duration": 43,
    "start_time": "2024-03-30T11:38:59.727Z"
   },
   {
    "duration": 183,
    "start_time": "2024-03-30T11:38:59.771Z"
   },
   {
    "duration": 9,
    "start_time": "2024-03-30T11:38:59.956Z"
   },
   {
    "duration": 14,
    "start_time": "2024-03-30T11:38:59.967Z"
   },
   {
    "duration": 749,
    "start_time": "2024-03-30T11:38:59.983Z"
   },
   {
    "duration": 34,
    "start_time": "2024-03-30T11:39:00.734Z"
   },
   {
    "duration": 46,
    "start_time": "2024-03-30T11:39:00.770Z"
   },
   {
    "duration": 268,
    "start_time": "2024-03-30T11:39:00.817Z"
   },
   {
    "duration": 8,
    "start_time": "2024-03-30T11:39:01.086Z"
   },
   {
    "duration": 64,
    "start_time": "2024-03-30T11:39:01.095Z"
   },
   {
    "duration": 43,
    "start_time": "2024-03-30T11:39:01.161Z"
   },
   {
    "duration": 1293,
    "start_time": "2024-03-30T11:39:01.206Z"
   },
   {
    "duration": 9,
    "start_time": "2024-03-30T11:39:02.501Z"
   },
   {
    "duration": 280,
    "start_time": "2024-03-30T11:39:02.511Z"
   },
   {
    "duration": 7,
    "start_time": "2024-03-30T11:39:02.792Z"
   },
   {
    "duration": 15,
    "start_time": "2024-03-30T11:39:02.800Z"
   },
   {
    "duration": 153,
    "start_time": "2024-03-30T11:39:02.816Z"
   },
   {
    "duration": 143,
    "start_time": "2024-03-30T11:39:02.970Z"
   },
   {
    "duration": 6,
    "start_time": "2024-03-30T11:39:03.114Z"
   },
   {
    "duration": 12,
    "start_time": "2024-03-30T11:39:03.122Z"
   },
   {
    "duration": 174,
    "start_time": "2024-03-30T11:39:03.135Z"
   },
   {
    "duration": 138,
    "start_time": "2024-03-30T11:39:03.311Z"
   },
   {
    "duration": 14,
    "start_time": "2024-03-30T11:39:03.451Z"
   },
   {
    "duration": 10,
    "start_time": "2024-03-30T11:39:03.467Z"
   },
   {
    "duration": 180,
    "start_time": "2024-03-30T11:39:03.479Z"
   },
   {
    "duration": 177,
    "start_time": "2024-03-30T11:39:03.660Z"
   },
   {
    "duration": 155,
    "start_time": "2024-03-30T11:39:03.839Z"
   },
   {
    "duration": 140,
    "start_time": "2024-03-30T11:39:03.996Z"
   },
   {
    "duration": 8,
    "start_time": "2024-03-30T11:40:19.026Z"
   },
   {
    "duration": 4,
    "start_time": "2024-03-30T11:40:48.136Z"
   },
   {
    "duration": 64,
    "start_time": "2024-03-30T11:45:21.977Z"
   },
   {
    "duration": 7,
    "start_time": "2024-03-30T11:45:22.405Z"
   },
   {
    "duration": 10,
    "start_time": "2024-03-30T11:45:25.529Z"
   },
   {
    "duration": 7,
    "start_time": "2024-03-30T11:45:25.813Z"
   },
   {
    "duration": 1173,
    "start_time": "2024-03-30T11:45:40.028Z"
   },
   {
    "duration": 55,
    "start_time": "2024-03-30T11:45:41.203Z"
   },
   {
    "duration": 19,
    "start_time": "2024-03-30T11:45:41.937Z"
   },
   {
    "duration": 22,
    "start_time": "2024-03-30T11:45:42.456Z"
   },
   {
    "duration": 4,
    "start_time": "2024-03-30T11:45:43.248Z"
   },
   {
    "duration": 19,
    "start_time": "2024-03-30T11:45:43.547Z"
   },
   {
    "duration": 10,
    "start_time": "2024-03-30T11:45:44.026Z"
   },
   {
    "duration": 7,
    "start_time": "2024-03-30T11:45:44.351Z"
   },
   {
    "duration": 12,
    "start_time": "2024-03-30T11:45:45.317Z"
   },
   {
    "duration": 18,
    "start_time": "2024-03-30T11:45:45.535Z"
   },
   {
    "duration": 10,
    "start_time": "2024-03-30T11:45:46.292Z"
   },
   {
    "duration": 9,
    "start_time": "2024-03-30T11:45:46.623Z"
   },
   {
    "duration": 7,
    "start_time": "2024-03-30T11:45:53.115Z"
   },
   {
    "duration": 9,
    "start_time": "2024-03-30T11:45:53.312Z"
   },
   {
    "duration": 59,
    "start_time": "2024-03-30T11:45:53.692Z"
   },
   {
    "duration": 45,
    "start_time": "2024-03-30T11:45:55.601Z"
   },
   {
    "duration": 5,
    "start_time": "2024-03-30T11:45:56.114Z"
   },
   {
    "duration": 9,
    "start_time": "2024-03-30T11:45:57.011Z"
   },
   {
    "duration": 6,
    "start_time": "2024-03-30T11:46:11.651Z"
   },
   {
    "duration": 1120,
    "start_time": "2024-03-30T11:46:16.681Z"
   },
   {
    "duration": 8,
    "start_time": "2024-03-30T11:46:17.803Z"
   },
   {
    "duration": 15,
    "start_time": "2024-03-30T11:46:20.179Z"
   },
   {
    "duration": 6,
    "start_time": "2024-03-30T11:46:20.691Z"
   },
   {
    "duration": 5,
    "start_time": "2024-03-30T11:46:21.251Z"
   },
   {
    "duration": 5,
    "start_time": "2024-03-30T11:46:21.791Z"
   },
   {
    "duration": 15,
    "start_time": "2024-03-30T11:46:22.430Z"
   },
   {
    "duration": 29,
    "start_time": "2024-03-30T11:46:24.058Z"
   },
   {
    "duration": 13,
    "start_time": "2024-03-30T11:46:25.009Z"
   },
   {
    "duration": 6,
    "start_time": "2024-03-30T11:46:28.424Z"
   },
   {
    "duration": 15,
    "start_time": "2024-03-30T11:46:29.465Z"
   },
   {
    "duration": 198,
    "start_time": "2024-03-30T11:46:36.640Z"
   },
   {
    "duration": 758,
    "start_time": "2024-03-30T11:47:26.900Z"
   },
   {
    "duration": 4,
    "start_time": "2024-03-30T11:47:29.957Z"
   },
   {
    "duration": 5,
    "start_time": "2024-03-30T11:47:44.368Z"
   },
   {
    "duration": 5,
    "start_time": "2024-03-30T11:48:38.428Z"
   },
   {
    "duration": 54,
    "start_time": "2024-03-30T11:49:17.566Z"
   },
   {
    "duration": 5,
    "start_time": "2024-03-30T11:49:20.208Z"
   },
   {
    "duration": 14,
    "start_time": "2024-03-30T11:49:22.698Z"
   },
   {
    "duration": 740,
    "start_time": "2024-03-30T11:49:25.236Z"
   },
   {
    "duration": 1063,
    "start_time": "2024-03-30T11:49:57.556Z"
   },
   {
    "duration": 55,
    "start_time": "2024-03-30T11:49:58.621Z"
   },
   {
    "duration": 20,
    "start_time": "2024-03-30T11:49:58.678Z"
   },
   {
    "duration": 20,
    "start_time": "2024-03-30T11:49:58.700Z"
   },
   {
    "duration": 3,
    "start_time": "2024-03-30T11:49:58.722Z"
   },
   {
    "duration": 15,
    "start_time": "2024-03-30T11:49:58.726Z"
   },
   {
    "duration": 8,
    "start_time": "2024-03-30T11:49:58.766Z"
   },
   {
    "duration": 5,
    "start_time": "2024-03-30T11:49:58.775Z"
   },
   {
    "duration": 11,
    "start_time": "2024-03-30T11:49:58.782Z"
   },
   {
    "duration": 14,
    "start_time": "2024-03-30T11:49:58.795Z"
   },
   {
    "duration": 12,
    "start_time": "2024-03-30T11:49:58.810Z"
   },
   {
    "duration": 8,
    "start_time": "2024-03-30T11:49:58.824Z"
   },
   {
    "duration": 31,
    "start_time": "2024-03-30T11:49:58.834Z"
   },
   {
    "duration": 8,
    "start_time": "2024-03-30T11:49:58.867Z"
   },
   {
    "duration": 41,
    "start_time": "2024-03-30T11:49:58.876Z"
   },
   {
    "duration": 61,
    "start_time": "2024-03-30T11:49:58.918Z"
   },
   {
    "duration": 5,
    "start_time": "2024-03-30T11:49:58.980Z"
   },
   {
    "duration": 6,
    "start_time": "2024-03-30T11:49:58.986Z"
   },
   {
    "duration": 6,
    "start_time": "2024-03-30T11:49:58.993Z"
   },
   {
    "duration": 1147,
    "start_time": "2024-03-30T11:49:59.001Z"
   },
   {
    "duration": 18,
    "start_time": "2024-03-30T11:50:00.150Z"
   },
   {
    "duration": 26,
    "start_time": "2024-03-30T11:50:00.169Z"
   },
   {
    "duration": 26,
    "start_time": "2024-03-30T11:50:00.197Z"
   },
   {
    "duration": 26,
    "start_time": "2024-03-30T11:50:00.225Z"
   },
   {
    "duration": 35,
    "start_time": "2024-03-30T11:50:00.253Z"
   },
   {
    "duration": 51,
    "start_time": "2024-03-30T11:50:00.289Z"
   },
   {
    "duration": 43,
    "start_time": "2024-03-30T11:50:00.342Z"
   },
   {
    "duration": 12,
    "start_time": "2024-03-30T11:50:00.388Z"
   },
   {
    "duration": 40,
    "start_time": "2024-03-30T11:50:00.401Z"
   },
   {
    "duration": 42,
    "start_time": "2024-03-30T11:50:00.442Z"
   },
   {
    "duration": 244,
    "start_time": "2024-03-30T11:50:00.485Z"
   },
   {
    "duration": 5,
    "start_time": "2024-03-30T11:50:00.730Z"
   },
   {
    "duration": 91,
    "start_time": "2024-03-30T11:50:00.737Z"
   },
   {
    "duration": 128,
    "start_time": "2024-03-30T11:50:00.830Z"
   },
   {
    "duration": 730,
    "start_time": "2024-03-30T11:50:00.959Z"
   },
   {
    "duration": 21,
    "start_time": "2024-03-30T11:50:01.691Z"
   },
   {
    "duration": 38,
    "start_time": "2024-03-30T11:50:01.713Z"
   },
   {
    "duration": 200,
    "start_time": "2024-03-30T11:50:01.752Z"
   },
   {
    "duration": 48,
    "start_time": "2024-03-30T11:50:01.953Z"
   },
   {
    "duration": 32,
    "start_time": "2024-03-30T11:50:02.003Z"
   },
   {
    "duration": 33,
    "start_time": "2024-03-30T11:50:02.036Z"
   },
   {
    "duration": 1232,
    "start_time": "2024-03-30T11:50:02.071Z"
   },
   {
    "duration": 8,
    "start_time": "2024-03-30T11:50:03.304Z"
   },
   {
    "duration": 265,
    "start_time": "2024-03-30T11:50:03.314Z"
   },
   {
    "duration": 7,
    "start_time": "2024-03-30T11:50:03.581Z"
   },
   {
    "duration": 11,
    "start_time": "2024-03-30T11:50:03.589Z"
   },
   {
    "duration": 147,
    "start_time": "2024-03-30T11:50:03.602Z"
   },
   {
    "duration": 139,
    "start_time": "2024-03-30T11:50:03.751Z"
   },
   {
    "duration": 6,
    "start_time": "2024-03-30T11:50:03.892Z"
   },
   {
    "duration": 18,
    "start_time": "2024-03-30T11:50:03.899Z"
   },
   {
    "duration": 173,
    "start_time": "2024-03-30T11:50:03.919Z"
   },
   {
    "duration": 144,
    "start_time": "2024-03-30T11:50:04.094Z"
   },
   {
    "duration": 5,
    "start_time": "2024-03-30T11:50:04.240Z"
   },
   {
    "duration": 31,
    "start_time": "2024-03-30T11:50:04.247Z"
   },
   {
    "duration": 190,
    "start_time": "2024-03-30T11:50:04.279Z"
   },
   {
    "duration": 174,
    "start_time": "2024-03-30T11:50:04.470Z"
   },
   {
    "duration": 146,
    "start_time": "2024-03-30T11:50:04.645Z"
   },
   {
    "duration": 126,
    "start_time": "2024-03-30T11:50:04.792Z"
   },
   {
    "duration": 95,
    "start_time": "2024-03-30T12:08:35.652Z"
   },
   {
    "duration": 9,
    "start_time": "2024-03-30T12:08:39.634Z"
   },
   {
    "duration": 56,
    "start_time": "2024-03-30T12:12:17.284Z"
   },
   {
    "duration": 16,
    "start_time": "2024-03-30T12:15:41.710Z"
   },
   {
    "duration": 15,
    "start_time": "2024-03-30T12:16:01.357Z"
   },
   {
    "duration": 7,
    "start_time": "2024-03-30T12:16:18.312Z"
   },
   {
    "duration": 7,
    "start_time": "2024-03-30T12:16:31.745Z"
   },
   {
    "duration": 1055,
    "start_time": "2024-03-30T12:16:43.285Z"
   },
   {
    "duration": 55,
    "start_time": "2024-03-30T12:16:44.342Z"
   },
   {
    "duration": 19,
    "start_time": "2024-03-30T12:16:44.398Z"
   },
   {
    "duration": 14,
    "start_time": "2024-03-30T12:16:44.419Z"
   },
   {
    "duration": 3,
    "start_time": "2024-03-30T12:16:44.435Z"
   },
   {
    "duration": 35,
    "start_time": "2024-03-30T12:16:44.440Z"
   },
   {
    "duration": 7,
    "start_time": "2024-03-30T12:16:44.476Z"
   },
   {
    "duration": 5,
    "start_time": "2024-03-30T12:16:44.485Z"
   },
   {
    "duration": 7,
    "start_time": "2024-03-30T12:16:44.491Z"
   },
   {
    "duration": 35,
    "start_time": "2024-03-30T12:16:44.501Z"
   },
   {
    "duration": 9,
    "start_time": "2024-03-30T12:16:44.538Z"
   },
   {
    "duration": 25,
    "start_time": "2024-03-30T12:16:44.549Z"
   },
   {
    "duration": 7,
    "start_time": "2024-03-30T12:16:44.576Z"
   },
   {
    "duration": 10,
    "start_time": "2024-03-30T12:16:44.585Z"
   },
   {
    "duration": 45,
    "start_time": "2024-03-30T12:16:44.596Z"
   },
   {
    "duration": 65,
    "start_time": "2024-03-30T12:16:44.642Z"
   },
   {
    "duration": 4,
    "start_time": "2024-03-30T12:16:44.709Z"
   },
   {
    "duration": 6,
    "start_time": "2024-03-30T12:16:44.715Z"
   },
   {
    "duration": 5,
    "start_time": "2024-03-30T12:16:44.723Z"
   },
   {
    "duration": 1220,
    "start_time": "2024-03-30T12:16:44.729Z"
   },
   {
    "duration": 15,
    "start_time": "2024-03-30T12:16:45.951Z"
   },
   {
    "duration": 15,
    "start_time": "2024-03-30T12:16:45.968Z"
   },
   {
    "duration": 5,
    "start_time": "2024-03-30T12:16:45.985Z"
   },
   {
    "duration": 4,
    "start_time": "2024-03-30T12:16:45.992Z"
   },
   {
    "duration": 5,
    "start_time": "2024-03-30T12:16:45.998Z"
   },
   {
    "duration": 14,
    "start_time": "2024-03-30T12:16:46.004Z"
   },
   {
    "duration": 60,
    "start_time": "2024-03-30T12:16:46.020Z"
   },
   {
    "duration": 13,
    "start_time": "2024-03-30T12:16:46.083Z"
   },
   {
    "duration": 7,
    "start_time": "2024-03-30T12:16:46.098Z"
   },
   {
    "duration": 19,
    "start_time": "2024-03-30T12:16:46.107Z"
   },
   {
    "duration": 199,
    "start_time": "2024-03-30T12:16:46.127Z"
   },
   {
    "duration": 4,
    "start_time": "2024-03-30T12:16:46.327Z"
   },
   {
    "duration": 35,
    "start_time": "2024-03-30T12:16:46.333Z"
   },
   {
    "duration": 18,
    "start_time": "2024-03-30T12:16:46.369Z"
   },
   {
    "duration": 707,
    "start_time": "2024-03-30T12:16:46.388Z"
   },
   {
    "duration": 22,
    "start_time": "2024-03-30T12:16:47.096Z"
   },
   {
    "duration": 8,
    "start_time": "2024-03-30T12:16:47.120Z"
   },
   {
    "duration": 176,
    "start_time": "2024-03-30T12:16:47.129Z"
   },
   {
    "duration": 8,
    "start_time": "2024-03-30T12:16:47.306Z"
   },
   {
    "duration": 7,
    "start_time": "2024-03-30T12:16:47.315Z"
   },
   {
    "duration": 17,
    "start_time": "2024-03-30T12:16:47.323Z"
   },
   {
    "duration": 1193,
    "start_time": "2024-03-30T12:16:47.342Z"
   },
   {
    "duration": 8,
    "start_time": "2024-03-30T12:16:48.537Z"
   },
   {
    "duration": 256,
    "start_time": "2024-03-30T12:16:48.546Z"
   },
   {
    "duration": 7,
    "start_time": "2024-03-30T12:16:48.803Z"
   },
   {
    "duration": 12,
    "start_time": "2024-03-30T12:16:48.811Z"
   },
   {
    "duration": 154,
    "start_time": "2024-03-30T12:16:48.825Z"
   },
   {
    "duration": 152,
    "start_time": "2024-03-30T12:16:48.981Z"
   },
   {
    "duration": 6,
    "start_time": "2024-03-30T12:16:49.135Z"
   },
   {
    "duration": 12,
    "start_time": "2024-03-30T12:16:49.142Z"
   },
   {
    "duration": 164,
    "start_time": "2024-03-30T12:16:49.165Z"
   },
   {
    "duration": 146,
    "start_time": "2024-03-30T12:16:49.331Z"
   },
   {
    "duration": 6,
    "start_time": "2024-03-30T12:16:49.478Z"
   },
   {
    "duration": 13,
    "start_time": "2024-03-30T12:16:49.486Z"
   },
   {
    "duration": 197,
    "start_time": "2024-03-30T12:16:49.500Z"
   },
   {
    "duration": 169,
    "start_time": "2024-03-30T12:16:49.698Z"
   },
   {
    "duration": 129,
    "start_time": "2024-03-30T12:16:49.869Z"
   },
   {
    "duration": 124,
    "start_time": "2024-03-30T12:16:50.000Z"
   },
   {
    "duration": 7,
    "start_time": "2024-03-30T12:16:50.125Z"
   },
   {
    "duration": 16,
    "start_time": "2024-03-30T12:16:50.133Z"
   },
   {
    "duration": 12,
    "start_time": "2024-03-30T12:16:57.729Z"
   },
   {
    "duration": 17,
    "start_time": "2024-03-30T12:17:45.813Z"
   },
   {
    "duration": 126,
    "start_time": "2024-03-30T12:18:30.824Z"
   },
   {
    "duration": 211,
    "start_time": "2024-03-30T12:18:50.366Z"
   },
   {
    "duration": 144,
    "start_time": "2024-03-30T12:22:50.369Z"
   },
   {
    "duration": 24,
    "start_time": "2024-03-30T12:26:41.163Z"
   },
   {
    "duration": 129,
    "start_time": "2024-03-30T12:27:59.144Z"
   },
   {
    "duration": 133,
    "start_time": "2024-03-30T12:28:16.013Z"
   },
   {
    "duration": 140,
    "start_time": "2024-03-30T12:40:01.070Z"
   },
   {
    "duration": 60,
    "start_time": "2024-03-30T20:47:48.259Z"
   },
   {
    "duration": 1122,
    "start_time": "2024-03-30T20:47:56.191Z"
   },
   {
    "duration": 114,
    "start_time": "2024-03-30T20:47:57.315Z"
   },
   {
    "duration": 15,
    "start_time": "2024-03-30T20:47:57.430Z"
   },
   {
    "duration": 11,
    "start_time": "2024-03-30T20:47:57.446Z"
   },
   {
    "duration": 3,
    "start_time": "2024-03-30T20:47:57.458Z"
   },
   {
    "duration": 11,
    "start_time": "2024-03-30T20:47:57.462Z"
   },
   {
    "duration": 12,
    "start_time": "2024-03-30T20:47:57.474Z"
   },
   {
    "duration": 4,
    "start_time": "2024-03-30T20:47:57.488Z"
   },
   {
    "duration": 10,
    "start_time": "2024-03-30T20:47:57.493Z"
   },
   {
    "duration": 9,
    "start_time": "2024-03-30T20:47:57.504Z"
   },
   {
    "duration": 7,
    "start_time": "2024-03-30T20:47:57.514Z"
   },
   {
    "duration": 7,
    "start_time": "2024-03-30T20:47:57.522Z"
   },
   {
    "duration": 4,
    "start_time": "2024-03-30T20:47:57.530Z"
   },
   {
    "duration": 12,
    "start_time": "2024-03-30T20:47:57.536Z"
   },
   {
    "duration": 30,
    "start_time": "2024-03-30T20:47:57.549Z"
   },
   {
    "duration": 52,
    "start_time": "2024-03-30T20:47:57.580Z"
   },
   {
    "duration": 4,
    "start_time": "2024-03-30T20:47:57.633Z"
   },
   {
    "duration": 6,
    "start_time": "2024-03-30T20:47:57.638Z"
   },
   {
    "duration": 4,
    "start_time": "2024-03-30T20:47:57.645Z"
   },
   {
    "duration": 1049,
    "start_time": "2024-03-30T20:47:57.650Z"
   },
   {
    "duration": 6,
    "start_time": "2024-03-30T20:47:58.702Z"
   },
   {
    "duration": 11,
    "start_time": "2024-03-30T20:47:58.709Z"
   },
   {
    "duration": 4,
    "start_time": "2024-03-30T20:47:58.721Z"
   },
   {
    "duration": 6,
    "start_time": "2024-03-30T20:47:58.726Z"
   },
   {
    "duration": 3,
    "start_time": "2024-03-30T20:47:58.733Z"
   },
   {
    "duration": 12,
    "start_time": "2024-03-30T20:47:58.737Z"
   },
   {
    "duration": 15,
    "start_time": "2024-03-30T20:47:58.750Z"
   },
   {
    "duration": 39,
    "start_time": "2024-03-30T20:47:58.766Z"
   },
   {
    "duration": 4,
    "start_time": "2024-03-30T20:47:58.806Z"
   },
   {
    "duration": 11,
    "start_time": "2024-03-30T20:47:58.811Z"
   },
   {
    "duration": 161,
    "start_time": "2024-03-30T20:47:58.823Z"
   },
   {
    "duration": 4,
    "start_time": "2024-03-30T20:47:58.986Z"
   },
   {
    "duration": 12,
    "start_time": "2024-03-30T20:47:58.991Z"
   },
   {
    "duration": 11,
    "start_time": "2024-03-30T20:47:59.004Z"
   },
   {
    "duration": 600,
    "start_time": "2024-03-30T20:47:59.016Z"
   },
   {
    "duration": 18,
    "start_time": "2024-03-30T20:47:59.617Z"
   },
   {
    "duration": 5,
    "start_time": "2024-03-30T20:47:59.637Z"
   },
   {
    "duration": 141,
    "start_time": "2024-03-30T20:47:59.644Z"
   },
   {
    "duration": 7,
    "start_time": "2024-03-30T20:47:59.786Z"
   },
   {
    "duration": 9,
    "start_time": "2024-03-30T20:47:59.794Z"
   },
   {
    "duration": 11,
    "start_time": "2024-03-30T20:47:59.806Z"
   },
   {
    "duration": 1006,
    "start_time": "2024-03-30T20:47:59.818Z"
   },
   {
    "duration": 6,
    "start_time": "2024-03-30T20:48:00.826Z"
   },
   {
    "duration": 248,
    "start_time": "2024-03-30T20:48:00.833Z"
   },
   {
    "duration": 6,
    "start_time": "2024-03-30T20:48:01.082Z"
   },
   {
    "duration": 55,
    "start_time": "2024-03-30T20:48:01.090Z"
   },
   {
    "duration": 158,
    "start_time": "2024-03-30T20:48:01.147Z"
   },
   {
    "duration": 130,
    "start_time": "2024-03-30T20:48:01.307Z"
   },
   {
    "duration": 6,
    "start_time": "2024-03-30T20:48:01.438Z"
   },
   {
    "duration": 47,
    "start_time": "2024-03-30T20:48:01.445Z"
   },
   {
    "duration": 175,
    "start_time": "2024-03-30T20:48:01.494Z"
   },
   {
    "duration": 116,
    "start_time": "2024-03-30T20:48:01.670Z"
   },
   {
    "duration": 5,
    "start_time": "2024-03-30T20:48:01.787Z"
   },
   {
    "duration": 15,
    "start_time": "2024-03-30T20:48:01.793Z"
   },
   {
    "duration": 149,
    "start_time": "2024-03-30T20:48:01.809Z"
   },
   {
    "duration": 148,
    "start_time": "2024-03-30T20:48:01.959Z"
   },
   {
    "duration": 112,
    "start_time": "2024-03-30T20:48:02.108Z"
   },
   {
    "duration": 113,
    "start_time": "2024-03-30T20:48:02.221Z"
   },
   {
    "duration": 11,
    "start_time": "2024-03-30T20:48:02.336Z"
   },
   {
    "duration": 114,
    "start_time": "2024-03-30T20:48:02.349Z"
   },
   {
    "duration": 191,
    "start_time": "2024-03-30T20:48:02.464Z"
   },
   {
    "duration": 12,
    "start_time": "2024-03-30T20:48:02.657Z"
   },
   {
    "duration": 131,
    "start_time": "2024-03-30T20:48:02.670Z"
   },
   {
    "duration": 115,
    "start_time": "2024-03-30T20:48:02.803Z"
   },
   {
    "duration": 108,
    "start_time": "2024-03-30T20:48:02.920Z"
   },
   {
    "duration": 105,
    "start_time": "2024-03-30T20:48:32.740Z"
   },
   {
    "duration": 107,
    "start_time": "2024-03-30T20:49:44.742Z"
   },
   {
    "duration": 109,
    "start_time": "2024-03-30T20:50:02.785Z"
   },
   {
    "duration": 128,
    "start_time": "2024-03-30T20:50:37.206Z"
   },
   {
    "duration": 102,
    "start_time": "2024-03-30T20:50:48.266Z"
   },
   {
    "duration": 124,
    "start_time": "2024-03-30T20:51:00.384Z"
   },
   {
    "duration": 116,
    "start_time": "2024-03-30T20:51:09.499Z"
   },
   {
    "duration": 108,
    "start_time": "2024-03-30T20:51:20.072Z"
   },
   {
    "duration": 177,
    "start_time": "2024-03-30T20:51:31.927Z"
   },
   {
    "duration": 123,
    "start_time": "2024-03-30T20:51:50.662Z"
   },
   {
    "duration": 124,
    "start_time": "2024-03-30T20:52:06.220Z"
   },
   {
    "duration": 118,
    "start_time": "2024-03-30T20:52:14.992Z"
   },
   {
    "duration": 110,
    "start_time": "2024-03-30T20:52:30.696Z"
   },
   {
    "duration": 120,
    "start_time": "2024-03-30T20:52:39.254Z"
   },
   {
    "duration": 103,
    "start_time": "2024-03-30T20:52:48.612Z"
   },
   {
    "duration": 124,
    "start_time": "2024-03-30T20:52:55.393Z"
   },
   {
    "duration": 107,
    "start_time": "2024-03-30T20:53:16.825Z"
   },
   {
    "duration": 110,
    "start_time": "2024-03-30T20:53:21.486Z"
   },
   {
    "duration": 79,
    "start_time": "2024-03-30T20:54:45.789Z"
   },
   {
    "duration": 93,
    "start_time": "2024-03-30T20:54:58.089Z"
   },
   {
    "duration": 126,
    "start_time": "2024-03-30T20:55:59.758Z"
   },
   {
    "duration": 3,
    "start_time": "2024-03-30T20:59:26.637Z"
   },
   {
    "duration": 1,
    "start_time": "2024-03-30T20:59:53.232Z"
   },
   {
    "duration": 2,
    "start_time": "2024-03-30T20:59:57.358Z"
   },
   {
    "duration": 101,
    "start_time": "2024-03-30T21:00:30.906Z"
   },
   {
    "duration": 74,
    "start_time": "2024-03-30T21:00:48.467Z"
   },
   {
    "duration": 4,
    "start_time": "2024-03-30T21:03:06.307Z"
   },
   {
    "duration": 3,
    "start_time": "2024-03-30T21:09:04.246Z"
   },
   {
    "duration": 77,
    "start_time": "2024-03-30T21:09:18.055Z"
   },
   {
    "duration": 76,
    "start_time": "2024-03-30T21:09:31.505Z"
   },
   {
    "duration": 75,
    "start_time": "2024-03-30T21:13:12.649Z"
   },
   {
    "duration": 75,
    "start_time": "2024-03-30T21:13:14.414Z"
   },
   {
    "duration": 2,
    "start_time": "2024-03-30T21:13:52.515Z"
   },
   {
    "duration": 3,
    "start_time": "2024-03-30T22:20:04.815Z"
   },
   {
    "duration": 6,
    "start_time": "2024-03-30T22:20:11.442Z"
   },
   {
    "duration": 881,
    "start_time": "2024-03-30T22:23:23.321Z"
   },
   {
    "duration": 5,
    "start_time": "2024-03-30T22:23:38.752Z"
   },
   {
    "duration": 5,
    "start_time": "2024-03-30T22:23:51.157Z"
   },
   {
    "duration": 5,
    "start_time": "2024-03-30T22:24:06.990Z"
   },
   {
    "duration": 5,
    "start_time": "2024-03-30T22:24:21.578Z"
   },
   {
    "duration": 6,
    "start_time": "2024-03-30T22:25:04.673Z"
   },
   {
    "duration": 6,
    "start_time": "2024-03-30T22:25:14.376Z"
   },
   {
    "duration": 5,
    "start_time": "2024-03-30T22:25:18.086Z"
   },
   {
    "duration": 6,
    "start_time": "2024-03-30T22:25:23.874Z"
   },
   {
    "duration": 10,
    "start_time": "2024-03-30T22:25:32.349Z"
   },
   {
    "duration": 57,
    "start_time": "2024-03-30T22:25:36.532Z"
   },
   {
    "duration": 7,
    "start_time": "2024-03-30T22:25:40.053Z"
   },
   {
    "duration": 6,
    "start_time": "2024-03-30T22:25:43.891Z"
   },
   {
    "duration": 7,
    "start_time": "2024-03-30T22:25:53.697Z"
   },
   {
    "duration": 7,
    "start_time": "2024-03-30T22:25:59.366Z"
   },
   {
    "duration": 7,
    "start_time": "2024-03-30T22:26:26.073Z"
   },
   {
    "duration": 49,
    "start_time": "2024-03-30T22:26:44.319Z"
   },
   {
    "duration": 81,
    "start_time": "2024-03-30T22:26:54.880Z"
   },
   {
    "duration": 61,
    "start_time": "2024-03-30T22:27:01.169Z"
   },
   {
    "duration": 5,
    "start_time": "2024-03-30T22:27:09.989Z"
   },
   {
    "duration": 6,
    "start_time": "2024-03-30T22:28:12.484Z"
   },
   {
    "duration": 9,
    "start_time": "2024-03-30T22:28:54.262Z"
   },
   {
    "duration": 8,
    "start_time": "2024-03-30T22:29:08.566Z"
   },
   {
    "duration": 10,
    "start_time": "2024-03-30T22:29:18.957Z"
   },
   {
    "duration": 3,
    "start_time": "2024-03-30T22:30:46.138Z"
   },
   {
    "duration": 5,
    "start_time": "2024-03-30T22:30:49.347Z"
   },
   {
    "duration": 971,
    "start_time": "2024-03-30T22:31:00.915Z"
   },
   {
    "duration": 50,
    "start_time": "2024-03-30T22:31:01.887Z"
   },
   {
    "duration": 15,
    "start_time": "2024-03-30T22:31:01.939Z"
   },
   {
    "duration": 14,
    "start_time": "2024-03-30T22:31:01.956Z"
   },
   {
    "duration": 8,
    "start_time": "2024-03-30T22:31:01.971Z"
   },
   {
    "duration": 14,
    "start_time": "2024-03-30T22:31:01.980Z"
   },
   {
    "duration": 15,
    "start_time": "2024-03-30T22:31:01.995Z"
   },
   {
    "duration": 5,
    "start_time": "2024-03-30T22:31:02.011Z"
   },
   {
    "duration": 13,
    "start_time": "2024-03-30T22:31:02.017Z"
   },
   {
    "duration": 18,
    "start_time": "2024-03-30T22:31:02.032Z"
   },
   {
    "duration": 6,
    "start_time": "2024-03-30T22:31:02.051Z"
   },
   {
    "duration": 17,
    "start_time": "2024-03-30T22:31:02.058Z"
   },
   {
    "duration": 5,
    "start_time": "2024-03-30T22:31:02.076Z"
   },
   {
    "duration": 6,
    "start_time": "2024-03-30T22:31:02.082Z"
   },
   {
    "duration": 32,
    "start_time": "2024-03-30T22:31:02.089Z"
   },
   {
    "duration": 34,
    "start_time": "2024-03-30T22:31:02.122Z"
   },
   {
    "duration": 5,
    "start_time": "2024-03-30T22:31:02.157Z"
   },
   {
    "duration": 12,
    "start_time": "2024-03-30T22:31:02.163Z"
   },
   {
    "duration": 19,
    "start_time": "2024-03-30T22:31:02.176Z"
   },
   {
    "duration": 1045,
    "start_time": "2024-03-30T22:31:02.197Z"
   },
   {
    "duration": 8,
    "start_time": "2024-03-30T22:31:03.243Z"
   },
   {
    "duration": 13,
    "start_time": "2024-03-30T22:31:03.252Z"
   },
   {
    "duration": 6,
    "start_time": "2024-03-30T22:31:03.266Z"
   },
   {
    "duration": 4,
    "start_time": "2024-03-30T22:31:03.273Z"
   },
   {
    "duration": 4,
    "start_time": "2024-03-30T22:31:03.302Z"
   },
   {
    "duration": 10,
    "start_time": "2024-03-30T22:31:03.307Z"
   },
   {
    "duration": 15,
    "start_time": "2024-03-30T22:31:03.319Z"
   },
   {
    "duration": 9,
    "start_time": "2024-03-30T22:31:03.338Z"
   },
   {
    "duration": 4,
    "start_time": "2024-03-30T22:31:03.349Z"
   },
   {
    "duration": 17,
    "start_time": "2024-03-30T22:31:03.354Z"
   },
   {
    "duration": 177,
    "start_time": "2024-03-30T22:31:03.372Z"
   },
   {
    "duration": 4,
    "start_time": "2024-03-30T22:31:03.551Z"
   },
   {
    "duration": 12,
    "start_time": "2024-03-30T22:31:03.556Z"
   },
   {
    "duration": 10,
    "start_time": "2024-03-30T22:31:03.569Z"
   },
   {
    "duration": 623,
    "start_time": "2024-03-30T22:31:03.580Z"
   },
   {
    "duration": 20,
    "start_time": "2024-03-30T22:31:04.205Z"
   },
   {
    "duration": 6,
    "start_time": "2024-03-30T22:31:04.226Z"
   },
   {
    "duration": 134,
    "start_time": "2024-03-30T22:31:04.233Z"
   },
   {
    "duration": 7,
    "start_time": "2024-03-30T22:31:04.368Z"
   },
   {
    "duration": 4,
    "start_time": "2024-03-30T22:31:04.376Z"
   },
   {
    "duration": 25,
    "start_time": "2024-03-30T22:31:04.382Z"
   },
   {
    "duration": 948,
    "start_time": "2024-03-30T22:31:04.408Z"
   },
   {
    "duration": 7,
    "start_time": "2024-03-30T22:31:05.357Z"
   },
   {
    "duration": 221,
    "start_time": "2024-03-30T22:31:05.365Z"
   },
   {
    "duration": 5,
    "start_time": "2024-03-30T22:31:05.587Z"
   },
   {
    "duration": 20,
    "start_time": "2024-03-30T22:31:05.593Z"
   },
   {
    "duration": 110,
    "start_time": "2024-03-30T22:31:05.614Z"
   },
   {
    "duration": 112,
    "start_time": "2024-03-30T22:31:05.726Z"
   },
   {
    "duration": 5,
    "start_time": "2024-03-30T22:31:05.839Z"
   },
   {
    "duration": 17,
    "start_time": "2024-03-30T22:31:05.845Z"
   },
   {
    "duration": 139,
    "start_time": "2024-03-30T22:31:05.863Z"
   },
   {
    "duration": 118,
    "start_time": "2024-03-30T22:31:06.004Z"
   },
   {
    "duration": 5,
    "start_time": "2024-03-30T22:31:06.123Z"
   },
   {
    "duration": 10,
    "start_time": "2024-03-30T22:31:06.130Z"
   },
   {
    "duration": 151,
    "start_time": "2024-03-30T22:31:06.141Z"
   },
   {
    "duration": 151,
    "start_time": "2024-03-30T22:31:06.293Z"
   },
   {
    "duration": 121,
    "start_time": "2024-03-30T22:31:06.445Z"
   },
   {
    "duration": 115,
    "start_time": "2024-03-30T22:31:06.567Z"
   },
   {
    "duration": 19,
    "start_time": "2024-03-30T22:31:06.683Z"
   },
   {
    "duration": 137,
    "start_time": "2024-03-30T22:31:06.703Z"
   },
   {
    "duration": 200,
    "start_time": "2024-03-30T22:31:06.842Z"
   },
   {
    "duration": 12,
    "start_time": "2024-03-30T22:31:07.043Z"
   },
   {
    "duration": 114,
    "start_time": "2024-03-30T22:31:07.056Z"
   },
   {
    "duration": 124,
    "start_time": "2024-03-30T22:31:07.171Z"
   },
   {
    "duration": 79,
    "start_time": "2024-03-30T22:31:07.296Z"
   },
   {
    "duration": 83,
    "start_time": "2024-03-30T22:31:07.377Z"
   },
   {
    "duration": 91,
    "start_time": "2024-03-30T22:31:07.461Z"
   },
   {
    "duration": 6,
    "start_time": "2024-03-30T22:31:07.553Z"
   },
   {
    "duration": 76,
    "start_time": "2024-03-30T22:31:35.006Z"
   },
   {
    "duration": 55,
    "start_time": "2024-03-30T22:36:12.640Z"
   },
   {
    "duration": 4,
    "start_time": "2024-03-30T22:36:26.499Z"
   },
   {
    "duration": 4,
    "start_time": "2024-03-30T22:39:12.202Z"
   },
   {
    "duration": 3,
    "start_time": "2024-03-30T22:39:15.448Z"
   },
   {
    "duration": 2,
    "start_time": "2024-03-30T22:40:43.773Z"
   },
   {
    "duration": 4,
    "start_time": "2024-03-30T22:41:47.834Z"
   },
   {
    "duration": 6,
    "start_time": "2024-03-30T22:42:12.528Z"
   },
   {
    "duration": 4,
    "start_time": "2024-03-30T22:42:36.544Z"
   },
   {
    "duration": 5,
    "start_time": "2024-03-30T22:42:40.817Z"
   },
   {
    "duration": 6,
    "start_time": "2024-03-30T22:42:56.342Z"
   },
   {
    "duration": 1010,
    "start_time": "2024-03-30T22:43:04.508Z"
   },
   {
    "duration": 51,
    "start_time": "2024-03-30T22:43:05.520Z"
   },
   {
    "duration": 15,
    "start_time": "2024-03-30T22:43:05.572Z"
   },
   {
    "duration": 11,
    "start_time": "2024-03-30T22:43:05.588Z"
   },
   {
    "duration": 2,
    "start_time": "2024-03-30T22:43:05.601Z"
   },
   {
    "duration": 39,
    "start_time": "2024-03-30T22:43:05.604Z"
   },
   {
    "duration": 27,
    "start_time": "2024-03-30T22:43:05.644Z"
   },
   {
    "duration": 20,
    "start_time": "2024-03-30T22:43:05.672Z"
   },
   {
    "duration": 18,
    "start_time": "2024-03-30T22:43:05.693Z"
   },
   {
    "duration": 17,
    "start_time": "2024-03-30T22:43:05.712Z"
   },
   {
    "duration": 9,
    "start_time": "2024-03-30T22:43:05.730Z"
   },
   {
    "duration": 12,
    "start_time": "2024-03-30T22:43:05.740Z"
   },
   {
    "duration": 15,
    "start_time": "2024-03-30T22:43:05.753Z"
   },
   {
    "duration": 17,
    "start_time": "2024-03-30T22:43:05.771Z"
   },
   {
    "duration": 51,
    "start_time": "2024-03-30T22:43:05.790Z"
   },
   {
    "duration": 35,
    "start_time": "2024-03-30T22:43:05.842Z"
   },
   {
    "duration": 5,
    "start_time": "2024-03-30T22:43:05.878Z"
   },
   {
    "duration": 14,
    "start_time": "2024-03-30T22:43:05.884Z"
   },
   {
    "duration": 10,
    "start_time": "2024-03-30T22:43:05.900Z"
   },
   {
    "duration": 1042,
    "start_time": "2024-03-30T22:43:05.911Z"
   },
   {
    "duration": 7,
    "start_time": "2024-03-30T22:43:06.954Z"
   },
   {
    "duration": 25,
    "start_time": "2024-03-30T22:43:06.962Z"
   },
   {
    "duration": 5,
    "start_time": "2024-03-30T22:43:06.988Z"
   },
   {
    "duration": 7,
    "start_time": "2024-03-30T22:43:06.994Z"
   },
   {
    "duration": 4,
    "start_time": "2024-03-30T22:43:07.002Z"
   },
   {
    "duration": 14,
    "start_time": "2024-03-30T22:43:07.007Z"
   },
   {
    "duration": 16,
    "start_time": "2024-03-30T22:43:07.022Z"
   },
   {
    "duration": 9,
    "start_time": "2024-03-30T22:43:07.039Z"
   },
   {
    "duration": 14,
    "start_time": "2024-03-30T22:43:07.049Z"
   },
   {
    "duration": 12,
    "start_time": "2024-03-30T22:43:07.064Z"
   },
   {
    "duration": 168,
    "start_time": "2024-03-30T22:43:07.077Z"
   },
   {
    "duration": 4,
    "start_time": "2024-03-30T22:43:07.247Z"
   },
   {
    "duration": 8,
    "start_time": "2024-03-30T22:43:07.252Z"
   },
   {
    "duration": 21,
    "start_time": "2024-03-30T22:43:07.261Z"
   },
   {
    "duration": 603,
    "start_time": "2024-03-30T22:43:07.284Z"
   },
   {
    "duration": 25,
    "start_time": "2024-03-30T22:43:07.888Z"
   },
   {
    "duration": 7,
    "start_time": "2024-03-30T22:43:07.914Z"
   },
   {
    "duration": 133,
    "start_time": "2024-03-30T22:43:07.922Z"
   },
   {
    "duration": 8,
    "start_time": "2024-03-30T22:43:08.057Z"
   },
   {
    "duration": 5,
    "start_time": "2024-03-30T22:43:08.066Z"
   },
   {
    "duration": 27,
    "start_time": "2024-03-30T22:43:08.074Z"
   },
   {
    "duration": 970,
    "start_time": "2024-03-30T22:43:08.102Z"
   },
   {
    "duration": 7,
    "start_time": "2024-03-30T22:43:09.073Z"
   },
   {
    "duration": 248,
    "start_time": "2024-03-30T22:43:09.082Z"
   },
   {
    "duration": 6,
    "start_time": "2024-03-30T22:43:09.331Z"
   },
   {
    "duration": 17,
    "start_time": "2024-03-30T22:43:09.338Z"
   },
   {
    "duration": 127,
    "start_time": "2024-03-30T22:43:09.356Z"
   },
   {
    "duration": 119,
    "start_time": "2024-03-30T22:43:09.485Z"
   },
   {
    "duration": 5,
    "start_time": "2024-03-30T22:43:09.605Z"
   },
   {
    "duration": 12,
    "start_time": "2024-03-30T22:43:09.612Z"
   },
   {
    "duration": 138,
    "start_time": "2024-03-30T22:43:09.625Z"
   },
   {
    "duration": 137,
    "start_time": "2024-03-30T22:43:09.764Z"
   },
   {
    "duration": 5,
    "start_time": "2024-03-30T22:43:09.903Z"
   },
   {
    "duration": 10,
    "start_time": "2024-03-30T22:43:09.910Z"
   },
   {
    "duration": 174,
    "start_time": "2024-03-30T22:43:09.921Z"
   },
   {
    "duration": 154,
    "start_time": "2024-03-30T22:43:10.097Z"
   },
   {
    "duration": 134,
    "start_time": "2024-03-30T22:43:10.252Z"
   },
   {
    "duration": 124,
    "start_time": "2024-03-30T22:43:10.387Z"
   },
   {
    "duration": 14,
    "start_time": "2024-03-30T22:43:10.512Z"
   },
   {
    "duration": 129,
    "start_time": "2024-03-30T22:43:10.535Z"
   },
   {
    "duration": 191,
    "start_time": "2024-03-30T22:43:10.666Z"
   },
   {
    "duration": 12,
    "start_time": "2024-03-30T22:43:10.858Z"
   },
   {
    "duration": 111,
    "start_time": "2024-03-30T22:43:10.872Z"
   },
   {
    "duration": 122,
    "start_time": "2024-03-30T22:43:10.984Z"
   },
   {
    "duration": 78,
    "start_time": "2024-03-30T22:43:11.107Z"
   },
   {
    "duration": 86,
    "start_time": "2024-03-30T22:43:11.186Z"
   },
   {
    "duration": 88,
    "start_time": "2024-03-30T22:43:11.273Z"
   },
   {
    "duration": 95,
    "start_time": "2024-03-30T22:43:11.362Z"
   },
   {
    "duration": 0,
    "start_time": "2024-03-30T22:43:11.459Z"
   },
   {
    "duration": 0,
    "start_time": "2024-03-30T22:43:11.460Z"
   },
   {
    "duration": 0,
    "start_time": "2024-03-30T22:43:11.460Z"
   },
   {
    "duration": 989,
    "start_time": "2024-03-30T22:43:27.684Z"
   },
   {
    "duration": 51,
    "start_time": "2024-03-30T22:43:28.675Z"
   },
   {
    "duration": 15,
    "start_time": "2024-03-30T22:43:28.727Z"
   },
   {
    "duration": 14,
    "start_time": "2024-03-30T22:43:28.743Z"
   },
   {
    "duration": 4,
    "start_time": "2024-03-30T22:43:28.759Z"
   },
   {
    "duration": 14,
    "start_time": "2024-03-30T22:43:28.764Z"
   },
   {
    "duration": 22,
    "start_time": "2024-03-30T22:43:28.779Z"
   },
   {
    "duration": 5,
    "start_time": "2024-03-30T22:43:28.802Z"
   },
   {
    "duration": 12,
    "start_time": "2024-03-30T22:43:28.808Z"
   },
   {
    "duration": 13,
    "start_time": "2024-03-30T22:43:28.821Z"
   },
   {
    "duration": 6,
    "start_time": "2024-03-30T22:43:28.836Z"
   },
   {
    "duration": 7,
    "start_time": "2024-03-30T22:43:28.843Z"
   },
   {
    "duration": 10,
    "start_time": "2024-03-30T22:43:28.851Z"
   },
   {
    "duration": 16,
    "start_time": "2024-03-30T22:43:28.863Z"
   },
   {
    "duration": 40,
    "start_time": "2024-03-30T22:43:28.880Z"
   },
   {
    "duration": 33,
    "start_time": "2024-03-30T22:43:28.921Z"
   },
   {
    "duration": 4,
    "start_time": "2024-03-30T22:43:28.955Z"
   },
   {
    "duration": 16,
    "start_time": "2024-03-30T22:43:28.960Z"
   },
   {
    "duration": 14,
    "start_time": "2024-03-30T22:43:28.977Z"
   },
   {
    "duration": 1038,
    "start_time": "2024-03-30T22:43:28.992Z"
   },
   {
    "duration": 8,
    "start_time": "2024-03-30T22:43:30.031Z"
   },
   {
    "duration": 41,
    "start_time": "2024-03-30T22:43:30.040Z"
   },
   {
    "duration": 78,
    "start_time": "2024-03-30T22:43:30.083Z"
   },
   {
    "duration": 84,
    "start_time": "2024-03-30T22:43:30.162Z"
   },
   {
    "duration": 103,
    "start_time": "2024-03-30T22:43:30.247Z"
   },
   {
    "duration": 160,
    "start_time": "2024-03-30T22:43:30.351Z"
   },
   {
    "duration": 134,
    "start_time": "2024-03-30T22:43:30.512Z"
   },
   {
    "duration": 48,
    "start_time": "2024-03-30T22:43:30.647Z"
   },
   {
    "duration": 97,
    "start_time": "2024-03-30T22:43:30.696Z"
   },
   {
    "duration": 96,
    "start_time": "2024-03-30T22:43:30.794Z"
   },
   {
    "duration": 208,
    "start_time": "2024-03-30T22:43:30.892Z"
   },
   {
    "duration": 5,
    "start_time": "2024-03-30T22:43:31.101Z"
   },
   {
    "duration": 42,
    "start_time": "2024-03-30T22:43:31.107Z"
   },
   {
    "duration": 45,
    "start_time": "2024-03-30T22:43:31.150Z"
   },
   {
    "duration": 622,
    "start_time": "2024-03-30T22:43:31.196Z"
   },
   {
    "duration": 18,
    "start_time": "2024-03-30T22:43:31.820Z"
   },
   {
    "duration": 11,
    "start_time": "2024-03-30T22:43:31.840Z"
   },
   {
    "duration": 129,
    "start_time": "2024-03-30T22:43:31.853Z"
   },
   {
    "duration": 5,
    "start_time": "2024-03-30T22:43:31.983Z"
   },
   {
    "duration": 13,
    "start_time": "2024-03-30T22:43:31.990Z"
   },
   {
    "duration": 13,
    "start_time": "2024-03-30T22:43:32.006Z"
   },
   {
    "duration": 963,
    "start_time": "2024-03-30T22:43:32.021Z"
   },
   {
    "duration": 6,
    "start_time": "2024-03-30T22:43:32.985Z"
   },
   {
    "duration": 216,
    "start_time": "2024-03-30T22:43:32.992Z"
   },
   {
    "duration": 6,
    "start_time": "2024-03-30T22:43:33.209Z"
   },
   {
    "duration": 14,
    "start_time": "2024-03-30T22:43:33.216Z"
   },
   {
    "duration": 123,
    "start_time": "2024-03-30T22:43:33.232Z"
   },
   {
    "duration": 127,
    "start_time": "2024-03-30T22:43:33.356Z"
   },
   {
    "duration": 5,
    "start_time": "2024-03-30T22:43:33.484Z"
   },
   {
    "duration": 16,
    "start_time": "2024-03-30T22:43:33.491Z"
   },
   {
    "duration": 139,
    "start_time": "2024-03-30T22:43:33.508Z"
   },
   {
    "duration": 125,
    "start_time": "2024-03-30T22:43:33.648Z"
   },
   {
    "duration": 5,
    "start_time": "2024-03-30T22:43:33.774Z"
   },
   {
    "duration": 32,
    "start_time": "2024-03-30T22:43:33.781Z"
   },
   {
    "duration": 151,
    "start_time": "2024-03-30T22:43:33.815Z"
   },
   {
    "duration": 145,
    "start_time": "2024-03-30T22:43:33.967Z"
   },
   {
    "duration": 125,
    "start_time": "2024-03-30T22:43:34.113Z"
   },
   {
    "duration": 134,
    "start_time": "2024-03-30T22:43:34.239Z"
   },
   {
    "duration": 13,
    "start_time": "2024-03-30T22:43:34.374Z"
   },
   {
    "duration": 126,
    "start_time": "2024-03-30T22:43:34.388Z"
   },
   {
    "duration": 203,
    "start_time": "2024-03-30T22:43:34.516Z"
   },
   {
    "duration": 14,
    "start_time": "2024-03-30T22:43:34.721Z"
   },
   {
    "duration": 130,
    "start_time": "2024-03-30T22:43:34.737Z"
   },
   {
    "duration": 125,
    "start_time": "2024-03-30T22:43:34.868Z"
   },
   {
    "duration": 84,
    "start_time": "2024-03-30T22:43:34.994Z"
   },
   {
    "duration": 89,
    "start_time": "2024-03-30T22:43:35.079Z"
   },
   {
    "duration": 83,
    "start_time": "2024-03-30T22:43:35.169Z"
   },
   {
    "duration": 5,
    "start_time": "2024-03-30T22:43:35.253Z"
   },
   {
    "duration": 12,
    "start_time": "2024-03-30T22:43:35.259Z"
   },
   {
    "duration": 11,
    "start_time": "2024-03-30T22:43:35.272Z"
   },
   {
    "duration": 9,
    "start_time": "2024-03-30T22:43:35.284Z"
   },
   {
    "duration": 6,
    "start_time": "2024-03-30T22:45:41.409Z"
   },
   {
    "duration": 4,
    "start_time": "2024-03-30T22:45:41.585Z"
   },
   {
    "duration": 5,
    "start_time": "2024-03-30T22:46:50.659Z"
   },
   {
    "duration": 5,
    "start_time": "2024-03-30T22:47:04.690Z"
   },
   {
    "duration": 4,
    "start_time": "2024-03-30T22:47:10.240Z"
   },
   {
    "duration": 6,
    "start_time": "2024-03-30T22:47:10.786Z"
   },
   {
    "duration": 5,
    "start_time": "2024-03-30T22:47:11.130Z"
   },
   {
    "duration": 65,
    "start_time": "2024-03-30T22:47:11.526Z"
   },
   {
    "duration": 51,
    "start_time": "2024-03-30T22:48:12.699Z"
   },
   {
    "duration": 5,
    "start_time": "2024-03-30T22:52:24.594Z"
   },
   {
    "duration": 5,
    "start_time": "2024-03-30T22:52:53.389Z"
   },
   {
    "duration": 2,
    "start_time": "2024-03-30T23:01:11.794Z"
   },
   {
    "duration": 978,
    "start_time": "2024-03-30T23:45:27.079Z"
   },
   {
    "duration": 50,
    "start_time": "2024-03-30T23:45:28.058Z"
   },
   {
    "duration": 15,
    "start_time": "2024-03-30T23:45:28.109Z"
   },
   {
    "duration": 11,
    "start_time": "2024-03-30T23:45:28.126Z"
   },
   {
    "duration": 4,
    "start_time": "2024-03-30T23:45:28.138Z"
   },
   {
    "duration": 12,
    "start_time": "2024-03-30T23:45:28.143Z"
   },
   {
    "duration": 15,
    "start_time": "2024-03-30T23:45:28.156Z"
   },
   {
    "duration": 6,
    "start_time": "2024-03-30T23:45:28.173Z"
   },
   {
    "duration": 7,
    "start_time": "2024-03-30T23:45:28.202Z"
   },
   {
    "duration": 30,
    "start_time": "2024-03-30T23:45:28.210Z"
   },
   {
    "duration": 9,
    "start_time": "2024-03-30T23:45:28.242Z"
   },
   {
    "duration": 7,
    "start_time": "2024-03-30T23:45:28.252Z"
   },
   {
    "duration": 5,
    "start_time": "2024-03-30T23:45:28.260Z"
   },
   {
    "duration": 8,
    "start_time": "2024-03-30T23:45:28.267Z"
   },
   {
    "duration": 51,
    "start_time": "2024-03-30T23:45:28.277Z"
   },
   {
    "duration": 33,
    "start_time": "2024-03-30T23:45:28.329Z"
   },
   {
    "duration": 4,
    "start_time": "2024-03-30T23:45:28.363Z"
   },
   {
    "duration": 9,
    "start_time": "2024-03-30T23:45:28.368Z"
   },
   {
    "duration": 3,
    "start_time": "2024-03-30T23:45:28.379Z"
   },
   {
    "duration": 1043,
    "start_time": "2024-03-30T23:45:28.401Z"
   },
   {
    "duration": 7,
    "start_time": "2024-03-30T23:45:29.445Z"
   },
   {
    "duration": 13,
    "start_time": "2024-03-30T23:45:29.453Z"
   },
   {
    "duration": 5,
    "start_time": "2024-03-30T23:45:29.467Z"
   },
   {
    "duration": 4,
    "start_time": "2024-03-30T23:45:29.473Z"
   },
   {
    "duration": 24,
    "start_time": "2024-03-30T23:45:29.478Z"
   },
   {
    "duration": 15,
    "start_time": "2024-03-30T23:45:29.504Z"
   },
   {
    "duration": 22,
    "start_time": "2024-03-30T23:45:29.521Z"
   },
   {
    "duration": 10,
    "start_time": "2024-03-30T23:45:29.548Z"
   },
   {
    "duration": 3,
    "start_time": "2024-03-30T23:45:29.559Z"
   },
   {
    "duration": 42,
    "start_time": "2024-03-30T23:45:29.563Z"
   },
   {
    "duration": 150,
    "start_time": "2024-03-30T23:45:29.606Z"
   },
   {
    "duration": 4,
    "start_time": "2024-03-30T23:45:29.757Z"
   },
   {
    "duration": 10,
    "start_time": "2024-03-30T23:45:29.762Z"
   },
   {
    "duration": 11,
    "start_time": "2024-03-30T23:45:29.773Z"
   },
   {
    "duration": 681,
    "start_time": "2024-03-30T23:45:29.785Z"
   },
   {
    "duration": 18,
    "start_time": "2024-03-30T23:45:30.467Z"
   },
   {
    "duration": 45,
    "start_time": "2024-03-30T23:45:30.487Z"
   },
   {
    "duration": 162,
    "start_time": "2024-03-30T23:45:30.533Z"
   },
   {
    "duration": 9,
    "start_time": "2024-03-30T23:45:30.696Z"
   },
   {
    "duration": 95,
    "start_time": "2024-03-30T23:45:30.706Z"
   },
   {
    "duration": 89,
    "start_time": "2024-03-30T23:45:30.802Z"
   },
   {
    "duration": 1076,
    "start_time": "2024-03-30T23:45:30.892Z"
   },
   {
    "duration": 7,
    "start_time": "2024-03-30T23:45:31.969Z"
   },
   {
    "duration": 227,
    "start_time": "2024-03-30T23:45:31.977Z"
   },
   {
    "duration": 6,
    "start_time": "2024-03-30T23:45:32.205Z"
   },
   {
    "duration": 17,
    "start_time": "2024-03-30T23:45:32.212Z"
   },
   {
    "duration": 115,
    "start_time": "2024-03-30T23:45:32.230Z"
   },
   {
    "duration": 113,
    "start_time": "2024-03-30T23:45:32.346Z"
   },
   {
    "duration": 5,
    "start_time": "2024-03-30T23:45:32.460Z"
   },
   {
    "duration": 10,
    "start_time": "2024-03-30T23:45:32.466Z"
   },
   {
    "duration": 146,
    "start_time": "2024-03-30T23:45:32.477Z"
   },
   {
    "duration": 118,
    "start_time": "2024-03-30T23:45:32.625Z"
   },
   {
    "duration": 5,
    "start_time": "2024-03-30T23:45:32.745Z"
   },
   {
    "duration": 12,
    "start_time": "2024-03-30T23:45:32.752Z"
   },
   {
    "duration": 157,
    "start_time": "2024-03-30T23:45:32.765Z"
   },
   {
    "duration": 142,
    "start_time": "2024-03-30T23:45:32.924Z"
   },
   {
    "duration": 134,
    "start_time": "2024-03-30T23:45:33.067Z"
   },
   {
    "duration": 132,
    "start_time": "2024-03-30T23:45:33.203Z"
   },
   {
    "duration": 13,
    "start_time": "2024-03-30T23:45:33.336Z"
   },
   {
    "duration": 125,
    "start_time": "2024-03-30T23:45:33.350Z"
   },
   {
    "duration": 198,
    "start_time": "2024-03-30T23:45:33.476Z"
   },
   {
    "duration": 13,
    "start_time": "2024-03-30T23:45:33.677Z"
   },
   {
    "duration": 120,
    "start_time": "2024-03-30T23:45:33.691Z"
   },
   {
    "duration": 121,
    "start_time": "2024-03-30T23:45:33.813Z"
   },
   {
    "duration": 83,
    "start_time": "2024-03-30T23:45:33.936Z"
   },
   {
    "duration": 84,
    "start_time": "2024-03-30T23:45:34.021Z"
   },
   {
    "duration": 75,
    "start_time": "2024-03-30T23:45:34.107Z"
   },
   {
    "duration": 18,
    "start_time": "2024-03-30T23:45:34.184Z"
   },
   {
    "duration": 5,
    "start_time": "2024-03-30T23:45:34.203Z"
   },
   {
    "duration": 5,
    "start_time": "2024-03-30T23:45:34.209Z"
   },
   {
    "duration": 4,
    "start_time": "2024-03-30T23:45:34.216Z"
   },
   {
    "duration": 57,
    "start_time": "2024-03-30T23:52:21.076Z"
   },
   {
    "duration": 84,
    "start_time": "2024-03-30T23:59:27.115Z"
   },
   {
    "duration": 27,
    "start_time": "2024-03-30T23:59:31.227Z"
   },
   {
    "duration": 7,
    "start_time": "2024-03-31T00:00:03.775Z"
   },
   {
    "duration": 205,
    "start_time": "2024-03-31T00:00:38.100Z"
   },
   {
    "duration": 206,
    "start_time": "2024-03-31T00:01:14.193Z"
   },
   {
    "duration": 980,
    "start_time": "2024-03-31T00:23:20.993Z"
   },
   {
    "duration": 49,
    "start_time": "2024-03-31T00:23:21.975Z"
   },
   {
    "duration": 17,
    "start_time": "2024-03-31T00:23:22.026Z"
   },
   {
    "duration": 13,
    "start_time": "2024-03-31T00:23:22.045Z"
   },
   {
    "duration": 2,
    "start_time": "2024-03-31T00:23:22.059Z"
   },
   {
    "duration": 15,
    "start_time": "2024-03-31T00:23:22.063Z"
   },
   {
    "duration": 24,
    "start_time": "2024-03-31T00:23:22.079Z"
   },
   {
    "duration": 4,
    "start_time": "2024-03-31T00:23:22.104Z"
   },
   {
    "duration": 20,
    "start_time": "2024-03-31T00:23:22.109Z"
   },
   {
    "duration": 16,
    "start_time": "2024-03-31T00:23:22.131Z"
   },
   {
    "duration": 11,
    "start_time": "2024-03-31T00:23:22.148Z"
   },
   {
    "duration": 6,
    "start_time": "2024-03-31T00:23:22.160Z"
   },
   {
    "duration": 4,
    "start_time": "2024-03-31T00:23:22.167Z"
   },
   {
    "duration": 7,
    "start_time": "2024-03-31T00:23:22.172Z"
   },
   {
    "duration": 34,
    "start_time": "2024-03-31T00:23:22.180Z"
   },
   {
    "duration": 45,
    "start_time": "2024-03-31T00:23:22.215Z"
   },
   {
    "duration": 4,
    "start_time": "2024-03-31T00:23:22.261Z"
   },
   {
    "duration": 4,
    "start_time": "2024-03-31T00:23:22.267Z"
   },
   {
    "duration": 4,
    "start_time": "2024-03-31T00:23:22.272Z"
   },
   {
    "duration": 1038,
    "start_time": "2024-03-31T00:23:22.277Z"
   },
   {
    "duration": 7,
    "start_time": "2024-03-31T00:23:23.316Z"
   },
   {
    "duration": 14,
    "start_time": "2024-03-31T00:23:23.324Z"
   },
   {
    "duration": 5,
    "start_time": "2024-03-31T00:23:23.339Z"
   },
   {
    "duration": 4,
    "start_time": "2024-03-31T00:23:23.345Z"
   },
   {
    "duration": 4,
    "start_time": "2024-03-31T00:23:23.350Z"
   },
   {
    "duration": 13,
    "start_time": "2024-03-31T00:23:23.355Z"
   },
   {
    "duration": 43,
    "start_time": "2024-03-31T00:23:23.369Z"
   },
   {
    "duration": 10,
    "start_time": "2024-03-31T00:23:23.415Z"
   },
   {
    "duration": 3,
    "start_time": "2024-03-31T00:23:23.426Z"
   },
   {
    "duration": 13,
    "start_time": "2024-03-31T00:23:23.430Z"
   },
   {
    "duration": 161,
    "start_time": "2024-03-31T00:23:23.444Z"
   },
   {
    "duration": 3,
    "start_time": "2024-03-31T00:23:23.607Z"
   },
   {
    "duration": 7,
    "start_time": "2024-03-31T00:23:23.612Z"
   },
   {
    "duration": 11,
    "start_time": "2024-03-31T00:23:23.620Z"
   },
   {
    "duration": 620,
    "start_time": "2024-03-31T00:23:23.632Z"
   },
   {
    "duration": 18,
    "start_time": "2024-03-31T00:23:24.254Z"
   },
   {
    "duration": 7,
    "start_time": "2024-03-31T00:23:24.273Z"
   },
   {
    "duration": 128,
    "start_time": "2024-03-31T00:23:24.281Z"
   },
   {
    "duration": 6,
    "start_time": "2024-03-31T00:23:24.410Z"
   },
   {
    "duration": 4,
    "start_time": "2024-03-31T00:23:24.418Z"
   },
   {
    "duration": 14,
    "start_time": "2024-03-31T00:23:24.423Z"
   },
   {
    "duration": 998,
    "start_time": "2024-03-31T00:23:24.438Z"
   },
   {
    "duration": 208,
    "start_time": "2024-03-31T00:23:25.437Z"
   },
   {
    "duration": 5,
    "start_time": "2024-03-31T00:23:25.647Z"
   },
   {
    "duration": 15,
    "start_time": "2024-03-31T00:23:25.653Z"
   },
   {
    "duration": 120,
    "start_time": "2024-03-31T00:23:25.669Z"
   },
   {
    "duration": 113,
    "start_time": "2024-03-31T00:23:25.790Z"
   },
   {
    "duration": 5,
    "start_time": "2024-03-31T00:23:25.904Z"
   },
   {
    "duration": 10,
    "start_time": "2024-03-31T00:23:25.910Z"
   },
   {
    "duration": 139,
    "start_time": "2024-03-31T00:23:25.921Z"
   },
   {
    "duration": 125,
    "start_time": "2024-03-31T00:23:26.061Z"
   },
   {
    "duration": 5,
    "start_time": "2024-03-31T00:23:26.188Z"
   },
   {
    "duration": 14,
    "start_time": "2024-03-31T00:23:26.194Z"
   },
   {
    "duration": 158,
    "start_time": "2024-03-31T00:23:26.209Z"
   },
   {
    "duration": 148,
    "start_time": "2024-03-31T00:23:26.368Z"
   },
   {
    "duration": 125,
    "start_time": "2024-03-31T00:23:26.517Z"
   },
   {
    "duration": 122,
    "start_time": "2024-03-31T00:23:26.643Z"
   },
   {
    "duration": 13,
    "start_time": "2024-03-31T00:23:26.766Z"
   },
   {
    "duration": 117,
    "start_time": "2024-03-31T00:23:26.780Z"
   },
   {
    "duration": 196,
    "start_time": "2024-03-31T00:23:26.898Z"
   },
   {
    "duration": 12,
    "start_time": "2024-03-31T00:23:27.101Z"
   },
   {
    "duration": 111,
    "start_time": "2024-03-31T00:23:27.114Z"
   },
   {
    "duration": 114,
    "start_time": "2024-03-31T00:23:27.227Z"
   },
   {
    "duration": 89,
    "start_time": "2024-03-31T00:23:27.342Z"
   },
   {
    "duration": 114,
    "start_time": "2024-03-31T00:23:27.432Z"
   },
   {
    "duration": 84,
    "start_time": "2024-03-31T00:23:27.547Z"
   },
   {
    "duration": 5,
    "start_time": "2024-03-31T00:23:27.633Z"
   },
   {
    "duration": 7,
    "start_time": "2024-03-31T00:23:27.639Z"
   },
   {
    "duration": 6,
    "start_time": "2024-03-31T00:23:27.647Z"
   },
   {
    "duration": 6,
    "start_time": "2024-03-31T00:23:27.654Z"
   },
   {
    "duration": 4,
    "start_time": "2024-03-31T00:27:25.577Z"
   },
   {
    "duration": 102,
    "start_time": "2024-03-31T00:27:33.075Z"
   },
   {
    "duration": 18,
    "start_time": "2024-03-31T00:27:42.691Z"
   },
   {
    "duration": 25,
    "start_time": "2024-03-31T00:27:46.491Z"
   },
   {
    "duration": 583,
    "start_time": "2024-03-31T00:28:24.620Z"
   },
   {
    "duration": 611,
    "start_time": "2024-03-31T00:29:05.333Z"
   },
   {
    "duration": 586,
    "start_time": "2024-03-31T00:29:10.165Z"
   },
   {
    "duration": 563,
    "start_time": "2024-03-31T00:29:30.459Z"
   },
   {
    "duration": 578,
    "start_time": "2024-03-31T00:30:23.164Z"
   },
   {
    "duration": 662,
    "start_time": "2024-03-31T00:31:19.509Z"
   },
   {
    "duration": 569,
    "start_time": "2024-03-31T00:33:13.032Z"
   },
   {
    "duration": 572,
    "start_time": "2024-03-31T00:34:05.239Z"
   },
   {
    "duration": 935,
    "start_time": "2024-03-31T00:34:40.749Z"
   },
   {
    "duration": 49,
    "start_time": "2024-03-31T00:34:41.686Z"
   },
   {
    "duration": 15,
    "start_time": "2024-03-31T00:34:41.738Z"
   },
   {
    "duration": 10,
    "start_time": "2024-03-31T00:34:41.754Z"
   },
   {
    "duration": 3,
    "start_time": "2024-03-31T00:34:41.766Z"
   },
   {
    "duration": 12,
    "start_time": "2024-03-31T00:34:41.770Z"
   },
   {
    "duration": 7,
    "start_time": "2024-03-31T00:34:41.783Z"
   },
   {
    "duration": 13,
    "start_time": "2024-03-31T00:34:41.791Z"
   },
   {
    "duration": 8,
    "start_time": "2024-03-31T00:34:41.807Z"
   },
   {
    "duration": 10,
    "start_time": "2024-03-31T00:34:41.816Z"
   },
   {
    "duration": 6,
    "start_time": "2024-03-31T00:34:41.827Z"
   },
   {
    "duration": 8,
    "start_time": "2024-03-31T00:34:41.834Z"
   },
   {
    "duration": 5,
    "start_time": "2024-03-31T00:34:41.843Z"
   },
   {
    "duration": 7,
    "start_time": "2024-03-31T00:34:41.849Z"
   },
   {
    "duration": 61,
    "start_time": "2024-03-31T00:34:41.858Z"
   },
   {
    "duration": 35,
    "start_time": "2024-03-31T00:34:41.920Z"
   },
   {
    "duration": 4,
    "start_time": "2024-03-31T00:34:41.956Z"
   },
   {
    "duration": 6,
    "start_time": "2024-03-31T00:34:41.961Z"
   },
   {
    "duration": 5,
    "start_time": "2024-03-31T00:34:41.968Z"
   },
   {
    "duration": 1062,
    "start_time": "2024-03-31T00:34:41.975Z"
   },
   {
    "duration": 7,
    "start_time": "2024-03-31T00:34:43.038Z"
   },
   {
    "duration": 12,
    "start_time": "2024-03-31T00:34:43.046Z"
   },
   {
    "duration": 4,
    "start_time": "2024-03-31T00:34:43.059Z"
   },
   {
    "duration": 6,
    "start_time": "2024-03-31T00:34:43.064Z"
   },
   {
    "duration": 4,
    "start_time": "2024-03-31T00:34:43.072Z"
   },
   {
    "duration": 29,
    "start_time": "2024-03-31T00:34:43.077Z"
   },
   {
    "duration": 15,
    "start_time": "2024-03-31T00:34:43.109Z"
   },
   {
    "duration": 9,
    "start_time": "2024-03-31T00:34:43.125Z"
   },
   {
    "duration": 3,
    "start_time": "2024-03-31T00:34:43.136Z"
   },
   {
    "duration": 10,
    "start_time": "2024-03-31T00:34:43.141Z"
   },
   {
    "duration": 174,
    "start_time": "2024-03-31T00:34:43.152Z"
   },
   {
    "duration": 4,
    "start_time": "2024-03-31T00:34:43.327Z"
   },
   {
    "duration": 4,
    "start_time": "2024-03-31T00:34:43.332Z"
   },
   {
    "duration": 18,
    "start_time": "2024-03-31T00:34:43.337Z"
   },
   {
    "duration": 576,
    "start_time": "2024-03-31T00:34:43.356Z"
   },
   {
    "duration": 18,
    "start_time": "2024-03-31T00:34:43.933Z"
   },
   {
    "duration": 5,
    "start_time": "2024-03-31T00:34:43.952Z"
   },
   {
    "duration": 125,
    "start_time": "2024-03-31T00:34:43.958Z"
   },
   {
    "duration": 6,
    "start_time": "2024-03-31T00:34:44.084Z"
   },
   {
    "duration": 14,
    "start_time": "2024-03-31T00:34:44.091Z"
   },
   {
    "duration": 15,
    "start_time": "2024-03-31T00:34:44.106Z"
   },
   {
    "duration": 954,
    "start_time": "2024-03-31T00:34:44.122Z"
   },
   {
    "duration": 213,
    "start_time": "2024-03-31T00:34:45.078Z"
   },
   {
    "duration": 11,
    "start_time": "2024-03-31T00:34:45.293Z"
   },
   {
    "duration": 14,
    "start_time": "2024-03-31T00:34:45.305Z"
   },
   {
    "duration": 114,
    "start_time": "2024-03-31T00:34:45.320Z"
   },
   {
    "duration": 119,
    "start_time": "2024-03-31T00:34:45.435Z"
   },
   {
    "duration": 5,
    "start_time": "2024-03-31T00:34:45.556Z"
   },
   {
    "duration": 33,
    "start_time": "2024-03-31T00:34:45.563Z"
   },
   {
    "duration": 129,
    "start_time": "2024-03-31T00:34:45.598Z"
   },
   {
    "duration": 116,
    "start_time": "2024-03-31T00:34:45.729Z"
   },
   {
    "duration": 6,
    "start_time": "2024-03-31T00:34:45.846Z"
   },
   {
    "duration": 10,
    "start_time": "2024-03-31T00:34:45.853Z"
   },
   {
    "duration": 157,
    "start_time": "2024-03-31T00:34:45.864Z"
   },
   {
    "duration": 150,
    "start_time": "2024-03-31T00:34:46.023Z"
   },
   {
    "duration": 124,
    "start_time": "2024-03-31T00:34:46.174Z"
   },
   {
    "duration": 114,
    "start_time": "2024-03-31T00:34:46.299Z"
   },
   {
    "duration": 12,
    "start_time": "2024-03-31T00:34:46.415Z"
   },
   {
    "duration": 122,
    "start_time": "2024-03-31T00:34:46.428Z"
   },
   {
    "duration": 185,
    "start_time": "2024-03-31T00:34:46.551Z"
   },
   {
    "duration": 12,
    "start_time": "2024-03-31T00:34:46.737Z"
   },
   {
    "duration": 111,
    "start_time": "2024-03-31T00:34:46.751Z"
   },
   {
    "duration": 116,
    "start_time": "2024-03-31T00:34:46.864Z"
   },
   {
    "duration": 79,
    "start_time": "2024-03-31T00:34:46.981Z"
   },
   {
    "duration": 88,
    "start_time": "2024-03-31T00:34:47.061Z"
   },
   {
    "duration": 85,
    "start_time": "2024-03-31T00:34:47.151Z"
   },
   {
    "duration": 5,
    "start_time": "2024-03-31T00:34:47.237Z"
   },
   {
    "duration": 7,
    "start_time": "2024-03-31T00:34:47.244Z"
   },
   {
    "duration": 6,
    "start_time": "2024-03-31T00:34:47.252Z"
   },
   {
    "duration": 10,
    "start_time": "2024-03-31T00:34:47.260Z"
   },
   {
    "duration": 1017,
    "start_time": "2024-03-31T00:36:16.778Z"
   },
   {
    "duration": 50,
    "start_time": "2024-03-31T00:36:17.801Z"
   },
   {
    "duration": 15,
    "start_time": "2024-03-31T00:36:17.852Z"
   },
   {
    "duration": 21,
    "start_time": "2024-03-31T00:36:17.868Z"
   },
   {
    "duration": 14,
    "start_time": "2024-03-31T00:36:17.890Z"
   },
   {
    "duration": 12,
    "start_time": "2024-03-31T00:36:17.905Z"
   },
   {
    "duration": 7,
    "start_time": "2024-03-31T00:36:17.918Z"
   },
   {
    "duration": 8,
    "start_time": "2024-03-31T00:36:17.926Z"
   },
   {
    "duration": 15,
    "start_time": "2024-03-31T00:36:17.935Z"
   },
   {
    "duration": 13,
    "start_time": "2024-03-31T00:36:17.952Z"
   },
   {
    "duration": 9,
    "start_time": "2024-03-31T00:36:17.966Z"
   },
   {
    "duration": 7,
    "start_time": "2024-03-31T00:36:17.976Z"
   },
   {
    "duration": 21,
    "start_time": "2024-03-31T00:36:17.984Z"
   },
   {
    "duration": 15,
    "start_time": "2024-03-31T00:36:18.006Z"
   },
   {
    "duration": 35,
    "start_time": "2024-03-31T00:36:18.022Z"
   },
   {
    "duration": 34,
    "start_time": "2024-03-31T00:36:18.058Z"
   },
   {
    "duration": 3,
    "start_time": "2024-03-31T00:36:18.093Z"
   },
   {
    "duration": 15,
    "start_time": "2024-03-31T00:36:18.097Z"
   },
   {
    "duration": 4,
    "start_time": "2024-03-31T00:36:18.113Z"
   },
   {
    "duration": 1185,
    "start_time": "2024-03-31T00:36:18.118Z"
   },
   {
    "duration": 7,
    "start_time": "2024-03-31T00:36:19.304Z"
   },
   {
    "duration": 26,
    "start_time": "2024-03-31T00:36:19.313Z"
   },
   {
    "duration": 4,
    "start_time": "2024-03-31T00:36:19.341Z"
   },
   {
    "duration": 5,
    "start_time": "2024-03-31T00:36:19.347Z"
   },
   {
    "duration": 6,
    "start_time": "2024-03-31T00:36:19.353Z"
   },
   {
    "duration": 20,
    "start_time": "2024-03-31T00:36:19.361Z"
   },
   {
    "duration": 19,
    "start_time": "2024-03-31T00:36:19.383Z"
   },
   {
    "duration": 9,
    "start_time": "2024-03-31T00:36:19.405Z"
   },
   {
    "duration": 4,
    "start_time": "2024-03-31T00:36:19.415Z"
   },
   {
    "duration": 21,
    "start_time": "2024-03-31T00:36:19.420Z"
   },
   {
    "duration": 153,
    "start_time": "2024-03-31T00:36:19.442Z"
   },
   {
    "duration": 6,
    "start_time": "2024-03-31T00:36:19.596Z"
   },
   {
    "duration": 5,
    "start_time": "2024-03-31T00:36:19.603Z"
   },
   {
    "duration": 11,
    "start_time": "2024-03-31T00:36:19.609Z"
   },
   {
    "duration": 611,
    "start_time": "2024-03-31T00:36:19.621Z"
   },
   {
    "duration": 18,
    "start_time": "2024-03-31T00:36:20.233Z"
   },
   {
    "duration": 7,
    "start_time": "2024-03-31T00:36:20.252Z"
   },
   {
    "duration": 148,
    "start_time": "2024-03-31T00:36:20.260Z"
   },
   {
    "duration": 7,
    "start_time": "2024-03-31T00:36:20.410Z"
   },
   {
    "duration": 11,
    "start_time": "2024-03-31T00:36:20.418Z"
   },
   {
    "duration": 21,
    "start_time": "2024-03-31T00:36:20.430Z"
   },
   {
    "duration": 940,
    "start_time": "2024-03-31T00:36:20.452Z"
   },
   {
    "duration": 205,
    "start_time": "2024-03-31T00:36:21.393Z"
   },
   {
    "duration": 5,
    "start_time": "2024-03-31T00:36:21.601Z"
   },
   {
    "duration": 11,
    "start_time": "2024-03-31T00:36:21.607Z"
   },
   {
    "duration": 117,
    "start_time": "2024-03-31T00:36:21.619Z"
   },
   {
    "duration": 121,
    "start_time": "2024-03-31T00:36:21.738Z"
   },
   {
    "duration": 4,
    "start_time": "2024-03-31T00:36:21.860Z"
   },
   {
    "duration": 24,
    "start_time": "2024-03-31T00:36:21.865Z"
   },
   {
    "duration": 128,
    "start_time": "2024-03-31T00:36:21.891Z"
   },
   {
    "duration": 115,
    "start_time": "2024-03-31T00:36:22.021Z"
   },
   {
    "duration": 5,
    "start_time": "2024-03-31T00:36:22.137Z"
   },
   {
    "duration": 14,
    "start_time": "2024-03-31T00:36:22.144Z"
   },
   {
    "duration": 146,
    "start_time": "2024-03-31T00:36:22.159Z"
   },
   {
    "duration": 147,
    "start_time": "2024-03-31T00:36:22.306Z"
   },
   {
    "duration": 133,
    "start_time": "2024-03-31T00:36:22.454Z"
   },
   {
    "duration": 121,
    "start_time": "2024-03-31T00:36:22.588Z"
   },
   {
    "duration": 13,
    "start_time": "2024-03-31T00:36:22.710Z"
   },
   {
    "duration": 128,
    "start_time": "2024-03-31T00:36:22.724Z"
   },
   {
    "duration": 185,
    "start_time": "2024-03-31T00:36:22.854Z"
   },
   {
    "duration": 13,
    "start_time": "2024-03-31T00:36:23.040Z"
   },
   {
    "duration": 116,
    "start_time": "2024-03-31T00:36:23.055Z"
   },
   {
    "duration": 125,
    "start_time": "2024-03-31T00:36:23.173Z"
   },
   {
    "duration": 74,
    "start_time": "2024-03-31T00:36:23.301Z"
   },
   {
    "duration": 87,
    "start_time": "2024-03-31T00:36:23.377Z"
   },
   {
    "duration": 84,
    "start_time": "2024-03-31T00:36:23.466Z"
   },
   {
    "duration": 5,
    "start_time": "2024-03-31T00:36:23.552Z"
   },
   {
    "duration": 8,
    "start_time": "2024-03-31T00:36:23.559Z"
   },
   {
    "duration": 7,
    "start_time": "2024-03-31T00:36:23.568Z"
   },
   {
    "duration": 11,
    "start_time": "2024-03-31T00:36:23.576Z"
   },
   {
    "duration": 1389,
    "start_time": "2024-03-31T12:38:25.584Z"
   },
   {
    "duration": 216,
    "start_time": "2024-03-31T12:38:26.975Z"
   },
   {
    "duration": 22,
    "start_time": "2024-03-31T12:38:27.193Z"
   },
   {
    "duration": 21,
    "start_time": "2024-03-31T12:38:27.217Z"
   },
   {
    "duration": 3,
    "start_time": "2024-03-31T12:38:27.240Z"
   },
   {
    "duration": 44,
    "start_time": "2024-03-31T12:38:27.245Z"
   },
   {
    "duration": 17,
    "start_time": "2024-03-31T12:38:27.291Z"
   },
   {
    "duration": 7,
    "start_time": "2024-03-31T12:38:27.314Z"
   },
   {
    "duration": 18,
    "start_time": "2024-03-31T12:38:27.323Z"
   },
   {
    "duration": 23,
    "start_time": "2024-03-31T12:38:27.344Z"
   },
   {
    "duration": 17,
    "start_time": "2024-03-31T12:38:27.368Z"
   },
   {
    "duration": 22,
    "start_time": "2024-03-31T12:38:27.388Z"
   },
   {
    "duration": 14,
    "start_time": "2024-03-31T12:38:27.412Z"
   },
   {
    "duration": 14,
    "start_time": "2024-03-31T12:38:27.428Z"
   },
   {
    "duration": 60,
    "start_time": "2024-03-31T12:38:27.443Z"
   },
   {
    "duration": 45,
    "start_time": "2024-03-31T12:38:27.505Z"
   },
   {
    "duration": 4,
    "start_time": "2024-03-31T12:38:27.552Z"
   },
   {
    "duration": 18,
    "start_time": "2024-03-31T12:38:27.558Z"
   },
   {
    "duration": 10,
    "start_time": "2024-03-31T12:38:27.581Z"
   },
   {
    "duration": 1230,
    "start_time": "2024-03-31T12:38:27.593Z"
   },
   {
    "duration": 9,
    "start_time": "2024-03-31T12:38:28.824Z"
   },
   {
    "duration": 20,
    "start_time": "2024-03-31T12:38:28.834Z"
   },
   {
    "duration": 5,
    "start_time": "2024-03-31T12:38:28.856Z"
   },
   {
    "duration": 26,
    "start_time": "2024-03-31T12:38:28.862Z"
   },
   {
    "duration": 7,
    "start_time": "2024-03-31T12:38:28.890Z"
   },
   {
    "duration": 14,
    "start_time": "2024-03-31T12:38:28.901Z"
   },
   {
    "duration": 20,
    "start_time": "2024-03-31T12:38:28.916Z"
   },
   {
    "duration": 42,
    "start_time": "2024-03-31T12:38:28.940Z"
   },
   {
    "duration": 6,
    "start_time": "2024-03-31T12:38:28.984Z"
   },
   {
    "duration": 15,
    "start_time": "2024-03-31T12:38:28.992Z"
   },
   {
    "duration": 200,
    "start_time": "2024-03-31T12:38:29.009Z"
   },
   {
    "duration": 5,
    "start_time": "2024-03-31T12:38:29.211Z"
   },
   {
    "duration": 18,
    "start_time": "2024-03-31T12:38:29.218Z"
   },
   {
    "duration": 34,
    "start_time": "2024-03-31T12:38:29.238Z"
   },
   {
    "duration": 845,
    "start_time": "2024-03-31T12:38:29.273Z"
   },
   {
    "duration": 24,
    "start_time": "2024-03-31T12:38:30.119Z"
   },
   {
    "duration": 9,
    "start_time": "2024-03-31T12:38:30.145Z"
   },
   {
    "duration": 192,
    "start_time": "2024-03-31T12:38:30.155Z"
   },
   {
    "duration": 18,
    "start_time": "2024-03-31T12:38:30.349Z"
   },
   {
    "duration": 70,
    "start_time": "2024-03-31T12:38:30.368Z"
   },
   {
    "duration": 56,
    "start_time": "2024-03-31T12:38:30.439Z"
   },
   {
    "duration": 1429,
    "start_time": "2024-03-31T12:38:30.497Z"
   },
   {
    "duration": 297,
    "start_time": "2024-03-31T12:38:31.928Z"
   },
   {
    "duration": 8,
    "start_time": "2024-03-31T12:38:32.226Z"
   },
   {
    "duration": 53,
    "start_time": "2024-03-31T12:38:32.236Z"
   },
   {
    "duration": 187,
    "start_time": "2024-03-31T12:38:32.291Z"
   },
   {
    "duration": 159,
    "start_time": "2024-03-31T12:38:32.479Z"
   },
   {
    "duration": 6,
    "start_time": "2024-03-31T12:38:32.639Z"
   },
   {
    "duration": 32,
    "start_time": "2024-03-31T12:38:32.647Z"
   },
   {
    "duration": 192,
    "start_time": "2024-03-31T12:38:32.680Z"
   },
   {
    "duration": 159,
    "start_time": "2024-03-31T12:38:32.881Z"
   },
   {
    "duration": 6,
    "start_time": "2024-03-31T12:38:33.042Z"
   },
   {
    "duration": 27,
    "start_time": "2024-03-31T12:38:33.050Z"
   },
   {
    "duration": 195,
    "start_time": "2024-03-31T12:38:33.079Z"
   },
   {
    "duration": 194,
    "start_time": "2024-03-31T12:38:33.276Z"
   },
   {
    "duration": 169,
    "start_time": "2024-03-31T12:38:33.471Z"
   },
   {
    "duration": 162,
    "start_time": "2024-03-31T12:38:33.642Z"
   },
   {
    "duration": 15,
    "start_time": "2024-03-31T12:38:33.806Z"
   },
   {
    "duration": 166,
    "start_time": "2024-03-31T12:38:33.823Z"
   },
   {
    "duration": 341,
    "start_time": "2024-03-31T12:38:33.991Z"
   },
   {
    "duration": 24,
    "start_time": "2024-03-31T12:38:34.334Z"
   },
   {
    "duration": 168,
    "start_time": "2024-03-31T12:38:34.360Z"
   },
   {
    "duration": 176,
    "start_time": "2024-03-31T12:38:34.530Z"
   },
   {
    "duration": 128,
    "start_time": "2024-03-31T12:38:34.708Z"
   },
   {
    "duration": 114,
    "start_time": "2024-03-31T12:38:34.838Z"
   },
   {
    "duration": 138,
    "start_time": "2024-03-31T12:38:34.954Z"
   },
   {
    "duration": 15,
    "start_time": "2024-03-31T12:38:35.095Z"
   },
   {
    "duration": 28,
    "start_time": "2024-03-31T12:38:35.111Z"
   },
   {
    "duration": 11,
    "start_time": "2024-03-31T12:38:35.141Z"
   },
   {
    "duration": 6,
    "start_time": "2024-03-31T12:38:35.153Z"
   },
   {
    "duration": 70,
    "start_time": "2024-03-31T12:45:12.827Z"
   },
   {
    "duration": 81,
    "start_time": "2024-03-31T16:04:23.642Z"
   },
   {
    "duration": 43,
    "start_time": "2024-03-31T17:02:51.911Z"
   },
   {
    "duration": 1299,
    "start_time": "2024-03-31T17:02:57.423Z"
   },
   {
    "duration": 103,
    "start_time": "2024-03-31T17:02:58.725Z"
   },
   {
    "duration": 19,
    "start_time": "2024-03-31T17:02:58.829Z"
   },
   {
    "duration": 14,
    "start_time": "2024-03-31T17:02:58.850Z"
   },
   {
    "duration": 3,
    "start_time": "2024-03-31T17:02:58.866Z"
   },
   {
    "duration": 42,
    "start_time": "2024-03-31T17:02:58.870Z"
   },
   {
    "duration": 14,
    "start_time": "2024-03-31T17:02:58.913Z"
   },
   {
    "duration": 10,
    "start_time": "2024-03-31T17:02:58.929Z"
   },
   {
    "duration": 8,
    "start_time": "2024-03-31T17:02:58.940Z"
   },
   {
    "duration": 16,
    "start_time": "2024-03-31T17:02:58.949Z"
   },
   {
    "duration": 19,
    "start_time": "2024-03-31T17:02:58.967Z"
   },
   {
    "duration": 15,
    "start_time": "2024-03-31T17:02:58.987Z"
   },
   {
    "duration": 14,
    "start_time": "2024-03-31T17:02:59.003Z"
   },
   {
    "duration": 19,
    "start_time": "2024-03-31T17:02:59.020Z"
   },
   {
    "duration": 9,
    "start_time": "2024-03-31T17:02:59.041Z"
   },
   {
    "duration": 7,
    "start_time": "2024-03-31T17:02:59.051Z"
   },
   {
    "duration": 14,
    "start_time": "2024-03-31T17:02:59.059Z"
   },
   {
    "duration": 16,
    "start_time": "2024-03-31T17:02:59.074Z"
   },
   {
    "duration": 32,
    "start_time": "2024-03-31T17:02:59.091Z"
   },
   {
    "duration": 13,
    "start_time": "2024-03-31T17:02:59.124Z"
   },
   {
    "duration": 16,
    "start_time": "2024-03-31T17:02:59.138Z"
   },
   {
    "duration": 14,
    "start_time": "2024-03-31T17:02:59.155Z"
   },
   {
    "duration": 14,
    "start_time": "2024-03-31T17:02:59.171Z"
   },
   {
    "duration": 32,
    "start_time": "2024-03-31T17:02:59.187Z"
   },
   {
    "duration": 13,
    "start_time": "2024-03-31T17:02:59.220Z"
   },
   {
    "duration": 3,
    "start_time": "2024-03-31T17:02:59.235Z"
   },
   {
    "duration": 23,
    "start_time": "2024-03-31T17:02:59.240Z"
   },
   {
    "duration": 183,
    "start_time": "2024-03-31T17:02:59.265Z"
   },
   {
    "duration": 11,
    "start_time": "2024-03-31T17:02:59.450Z"
   },
   {
    "duration": 38,
    "start_time": "2024-03-31T17:02:59.462Z"
   },
   {
    "duration": 28,
    "start_time": "2024-03-31T17:02:59.502Z"
   },
   {
    "duration": 762,
    "start_time": "2024-03-31T17:02:59.531Z"
   },
   {
    "duration": 25,
    "start_time": "2024-03-31T17:03:00.295Z"
   },
   {
    "duration": 35,
    "start_time": "2024-03-31T17:03:00.322Z"
   },
   {
    "duration": 176,
    "start_time": "2024-03-31T17:03:00.359Z"
   },
   {
    "duration": 8,
    "start_time": "2024-03-31T17:03:00.536Z"
   },
   {
    "duration": 49,
    "start_time": "2024-03-31T17:03:00.546Z"
   },
   {
    "duration": 46,
    "start_time": "2024-03-31T17:03:00.596Z"
   },
   {
    "duration": 1371,
    "start_time": "2024-03-31T17:03:00.644Z"
   },
   {
    "duration": 298,
    "start_time": "2024-03-31T17:03:02.017Z"
   },
   {
    "duration": 9,
    "start_time": "2024-03-31T17:03:02.321Z"
   },
   {
    "duration": 37,
    "start_time": "2024-03-31T17:03:02.331Z"
   },
   {
    "duration": 160,
    "start_time": "2024-03-31T17:03:02.370Z"
   },
   {
    "duration": 149,
    "start_time": "2024-03-31T17:03:02.532Z"
   },
   {
    "duration": 6,
    "start_time": "2024-03-31T17:03:02.683Z"
   },
   {
    "duration": 40,
    "start_time": "2024-03-31T17:03:02.691Z"
   },
   {
    "duration": 165,
    "start_time": "2024-03-31T17:03:02.733Z"
   },
   {
    "duration": 150,
    "start_time": "2024-03-31T17:03:02.900Z"
   },
   {
    "duration": 6,
    "start_time": "2024-03-31T17:03:03.058Z"
   },
   {
    "duration": 39,
    "start_time": "2024-03-31T17:03:03.066Z"
   },
   {
    "duration": 222,
    "start_time": "2024-03-31T17:03:03.106Z"
   },
   {
    "duration": 188,
    "start_time": "2024-03-31T17:03:03.330Z"
   },
   {
    "duration": 149,
    "start_time": "2024-03-31T17:03:03.519Z"
   },
   {
    "duration": 144,
    "start_time": "2024-03-31T17:03:03.669Z"
   },
   {
    "duration": 16,
    "start_time": "2024-03-31T17:03:03.814Z"
   },
   {
    "duration": 155,
    "start_time": "2024-03-31T17:03:03.831Z"
   },
   {
    "duration": 260,
    "start_time": "2024-03-31T17:03:03.988Z"
   },
   {
    "duration": 21,
    "start_time": "2024-03-31T17:03:04.249Z"
   },
   {
    "duration": 132,
    "start_time": "2024-03-31T17:03:04.271Z"
   },
   {
    "duration": 160,
    "start_time": "2024-03-31T17:03:04.405Z"
   },
   {
    "duration": 117,
    "start_time": "2024-03-31T17:03:04.567Z"
   },
   {
    "duration": 113,
    "start_time": "2024-03-31T17:03:04.686Z"
   },
   {
    "duration": 127,
    "start_time": "2024-03-31T17:03:04.801Z"
   },
   {
    "duration": 7,
    "start_time": "2024-03-31T17:03:04.930Z"
   },
   {
    "duration": 21,
    "start_time": "2024-03-31T17:03:04.939Z"
   },
   {
    "duration": 11,
    "start_time": "2024-03-31T17:03:04.962Z"
   },
   {
    "duration": 16,
    "start_time": "2024-03-31T17:03:04.975Z"
   },
   {
    "duration": 60,
    "start_time": "2024-03-31T17:04:02.377Z"
   },
   {
    "duration": 6,
    "start_time": "2024-03-31T17:06:36.687Z"
   },
   {
    "duration": 5,
    "start_time": "2024-03-31T17:06:46.601Z"
   },
   {
    "duration": 1013,
    "start_time": "2024-03-31T17:07:33.698Z"
   },
   {
    "duration": 881,
    "start_time": "2024-03-31T17:07:39.743Z"
   },
   {
    "duration": 833,
    "start_time": "2024-03-31T17:08:04.236Z"
   },
   {
    "duration": 12,
    "start_time": "2024-03-31T17:08:08.737Z"
   },
   {
    "duration": 58,
    "start_time": "2024-03-31T17:08:42.183Z"
   },
   {
    "duration": 12,
    "start_time": "2024-03-31T17:14:16.456Z"
   },
   {
    "duration": 10,
    "start_time": "2024-03-31T17:15:28.059Z"
   },
   {
    "duration": 13,
    "start_time": "2024-03-31T17:15:36.662Z"
   },
   {
    "duration": 10,
    "start_time": "2024-03-31T17:15:42.727Z"
   },
   {
    "duration": 10,
    "start_time": "2024-03-31T17:15:42.906Z"
   },
   {
    "duration": 1192,
    "start_time": "2024-03-31T17:17:06.158Z"
   },
   {
    "duration": 55,
    "start_time": "2024-03-31T17:17:07.352Z"
   },
   {
    "duration": 19,
    "start_time": "2024-03-31T17:17:07.408Z"
   },
   {
    "duration": 14,
    "start_time": "2024-03-31T17:17:07.430Z"
   },
   {
    "duration": 5,
    "start_time": "2024-03-31T17:17:07.446Z"
   },
   {
    "duration": 22,
    "start_time": "2024-03-31T17:17:07.453Z"
   },
   {
    "duration": 14,
    "start_time": "2024-03-31T17:17:07.476Z"
   },
   {
    "duration": 6,
    "start_time": "2024-03-31T17:17:07.491Z"
   },
   {
    "duration": 10,
    "start_time": "2024-03-31T17:17:07.498Z"
   },
   {
    "duration": 14,
    "start_time": "2024-03-31T17:17:07.511Z"
   },
   {
    "duration": 12,
    "start_time": "2024-03-31T17:17:07.526Z"
   },
   {
    "duration": 25,
    "start_time": "2024-03-31T17:17:07.540Z"
   },
   {
    "duration": 6,
    "start_time": "2024-03-31T17:17:07.566Z"
   },
   {
    "duration": 8,
    "start_time": "2024-03-31T17:17:07.574Z"
   },
   {
    "duration": 5,
    "start_time": "2024-03-31T17:17:07.584Z"
   },
   {
    "duration": 30,
    "start_time": "2024-03-31T17:17:07.591Z"
   },
   {
    "duration": 11,
    "start_time": "2024-03-31T17:17:07.623Z"
   },
   {
    "duration": 24,
    "start_time": "2024-03-31T17:17:07.636Z"
   },
   {
    "duration": 15,
    "start_time": "2024-03-31T17:17:07.661Z"
   },
   {
    "duration": 10,
    "start_time": "2024-03-31T17:17:07.678Z"
   },
   {
    "duration": 17,
    "start_time": "2024-03-31T17:17:07.690Z"
   },
   {
    "duration": 9,
    "start_time": "2024-03-31T17:17:07.709Z"
   },
   {
    "duration": 6,
    "start_time": "2024-03-31T17:17:07.720Z"
   },
   {
    "duration": 104,
    "start_time": "2024-03-31T17:17:07.757Z"
   },
   {
    "duration": 0,
    "start_time": "2024-03-31T17:17:07.864Z"
   },
   {
    "duration": 0,
    "start_time": "2024-03-31T17:17:07.865Z"
   },
   {
    "duration": 0,
    "start_time": "2024-03-31T17:17:07.867Z"
   },
   {
    "duration": 0,
    "start_time": "2024-03-31T17:17:07.868Z"
   },
   {
    "duration": 0,
    "start_time": "2024-03-31T17:17:07.869Z"
   },
   {
    "duration": 0,
    "start_time": "2024-03-31T17:17:07.870Z"
   },
   {
    "duration": 0,
    "start_time": "2024-03-31T17:17:07.871Z"
   },
   {
    "duration": 0,
    "start_time": "2024-03-31T17:17:07.872Z"
   },
   {
    "duration": 0,
    "start_time": "2024-03-31T17:17:07.873Z"
   },
   {
    "duration": 0,
    "start_time": "2024-03-31T17:17:07.874Z"
   },
   {
    "duration": 0,
    "start_time": "2024-03-31T17:17:07.875Z"
   },
   {
    "duration": 0,
    "start_time": "2024-03-31T17:17:07.876Z"
   },
   {
    "duration": 0,
    "start_time": "2024-03-31T17:17:07.877Z"
   },
   {
    "duration": 0,
    "start_time": "2024-03-31T17:17:07.879Z"
   },
   {
    "duration": 0,
    "start_time": "2024-03-31T17:17:07.880Z"
   },
   {
    "duration": 0,
    "start_time": "2024-03-31T17:17:07.881Z"
   },
   {
    "duration": 1,
    "start_time": "2024-03-31T17:17:07.881Z"
   },
   {
    "duration": 0,
    "start_time": "2024-03-31T17:17:07.882Z"
   },
   {
    "duration": 0,
    "start_time": "2024-03-31T17:17:07.883Z"
   },
   {
    "duration": 0,
    "start_time": "2024-03-31T17:17:07.884Z"
   },
   {
    "duration": 0,
    "start_time": "2024-03-31T17:17:07.886Z"
   },
   {
    "duration": 0,
    "start_time": "2024-03-31T17:17:07.887Z"
   },
   {
    "duration": 0,
    "start_time": "2024-03-31T17:17:07.888Z"
   },
   {
    "duration": 0,
    "start_time": "2024-03-31T17:17:07.889Z"
   },
   {
    "duration": 0,
    "start_time": "2024-03-31T17:17:07.890Z"
   },
   {
    "duration": 0,
    "start_time": "2024-03-31T17:17:07.891Z"
   },
   {
    "duration": 0,
    "start_time": "2024-03-31T17:17:07.892Z"
   },
   {
    "duration": 0,
    "start_time": "2024-03-31T17:17:07.893Z"
   },
   {
    "duration": 0,
    "start_time": "2024-03-31T17:17:07.894Z"
   },
   {
    "duration": 0,
    "start_time": "2024-03-31T17:17:07.895Z"
   },
   {
    "duration": 0,
    "start_time": "2024-03-31T17:17:07.896Z"
   },
   {
    "duration": 0,
    "start_time": "2024-03-31T17:17:07.897Z"
   },
   {
    "duration": 0,
    "start_time": "2024-03-31T17:17:07.898Z"
   },
   {
    "duration": 0,
    "start_time": "2024-03-31T17:17:07.899Z"
   },
   {
    "duration": 0,
    "start_time": "2024-03-31T17:17:07.900Z"
   },
   {
    "duration": 0,
    "start_time": "2024-03-31T17:17:07.959Z"
   },
   {
    "duration": 0,
    "start_time": "2024-03-31T17:17:07.960Z"
   },
   {
    "duration": 0,
    "start_time": "2024-03-31T17:17:07.961Z"
   },
   {
    "duration": 0,
    "start_time": "2024-03-31T17:17:07.962Z"
   },
   {
    "duration": 0,
    "start_time": "2024-03-31T17:17:07.963Z"
   },
   {
    "duration": 0,
    "start_time": "2024-03-31T17:17:07.964Z"
   },
   {
    "duration": 0,
    "start_time": "2024-03-31T17:17:07.965Z"
   },
   {
    "duration": 0,
    "start_time": "2024-03-31T17:17:07.966Z"
   },
   {
    "duration": 0,
    "start_time": "2024-03-31T17:17:07.967Z"
   },
   {
    "duration": 0,
    "start_time": "2024-03-31T17:17:07.968Z"
   },
   {
    "duration": 0,
    "start_time": "2024-03-31T17:17:07.969Z"
   },
   {
    "duration": 4,
    "start_time": "2024-03-31T17:17:55.981Z"
   },
   {
    "duration": 1158,
    "start_time": "2024-03-31T17:18:03.972Z"
   },
   {
    "duration": 57,
    "start_time": "2024-03-31T17:18:05.132Z"
   },
   {
    "duration": 20,
    "start_time": "2024-03-31T17:18:05.191Z"
   },
   {
    "duration": 15,
    "start_time": "2024-03-31T17:18:05.213Z"
   },
   {
    "duration": 9,
    "start_time": "2024-03-31T17:18:05.230Z"
   },
   {
    "duration": 14,
    "start_time": "2024-03-31T17:18:05.259Z"
   },
   {
    "duration": 20,
    "start_time": "2024-03-31T17:18:05.275Z"
   },
   {
    "duration": 5,
    "start_time": "2024-03-31T17:18:05.296Z"
   },
   {
    "duration": 20,
    "start_time": "2024-03-31T17:18:05.302Z"
   },
   {
    "duration": 37,
    "start_time": "2024-03-31T17:18:05.324Z"
   },
   {
    "duration": 9,
    "start_time": "2024-03-31T17:18:05.362Z"
   },
   {
    "duration": 42,
    "start_time": "2024-03-31T17:18:05.373Z"
   },
   {
    "duration": 12,
    "start_time": "2024-03-31T17:18:05.416Z"
   },
   {
    "duration": 10,
    "start_time": "2024-03-31T17:18:05.430Z"
   },
   {
    "duration": 8,
    "start_time": "2024-03-31T17:18:05.441Z"
   },
   {
    "duration": 18,
    "start_time": "2024-03-31T17:18:05.451Z"
   },
   {
    "duration": 12,
    "start_time": "2024-03-31T17:18:05.470Z"
   },
   {
    "duration": 13,
    "start_time": "2024-03-31T17:18:05.483Z"
   },
   {
    "duration": 23,
    "start_time": "2024-03-31T17:18:05.497Z"
   },
   {
    "duration": 13,
    "start_time": "2024-03-31T17:18:05.521Z"
   },
   {
    "duration": 14,
    "start_time": "2024-03-31T17:18:05.535Z"
   },
   {
    "duration": 15,
    "start_time": "2024-03-31T17:18:05.551Z"
   },
   {
    "duration": 6,
    "start_time": "2024-03-31T17:18:05.567Z"
   },
   {
    "duration": 115,
    "start_time": "2024-03-31T17:18:05.575Z"
   },
   {
    "duration": 0,
    "start_time": "2024-03-31T17:18:05.693Z"
   },
   {
    "duration": 0,
    "start_time": "2024-03-31T17:18:05.694Z"
   },
   {
    "duration": 0,
    "start_time": "2024-03-31T17:18:05.695Z"
   },
   {
    "duration": 0,
    "start_time": "2024-03-31T17:18:05.696Z"
   },
   {
    "duration": 0,
    "start_time": "2024-03-31T17:18:05.697Z"
   },
   {
    "duration": 0,
    "start_time": "2024-03-31T17:18:05.699Z"
   },
   {
    "duration": 0,
    "start_time": "2024-03-31T17:18:05.700Z"
   },
   {
    "duration": 0,
    "start_time": "2024-03-31T17:18:05.701Z"
   },
   {
    "duration": 0,
    "start_time": "2024-03-31T17:18:05.703Z"
   },
   {
    "duration": 0,
    "start_time": "2024-03-31T17:18:05.704Z"
   },
   {
    "duration": 0,
    "start_time": "2024-03-31T17:18:05.705Z"
   },
   {
    "duration": 0,
    "start_time": "2024-03-31T17:18:05.706Z"
   },
   {
    "duration": 0,
    "start_time": "2024-03-31T17:18:05.707Z"
   },
   {
    "duration": 0,
    "start_time": "2024-03-31T17:18:05.709Z"
   },
   {
    "duration": 0,
    "start_time": "2024-03-31T17:18:05.710Z"
   },
   {
    "duration": 0,
    "start_time": "2024-03-31T17:18:05.711Z"
   },
   {
    "duration": 0,
    "start_time": "2024-03-31T17:18:05.712Z"
   },
   {
    "duration": 0,
    "start_time": "2024-03-31T17:18:05.713Z"
   },
   {
    "duration": 0,
    "start_time": "2024-03-31T17:18:05.714Z"
   },
   {
    "duration": 0,
    "start_time": "2024-03-31T17:18:05.715Z"
   },
   {
    "duration": 0,
    "start_time": "2024-03-31T17:18:05.716Z"
   },
   {
    "duration": 0,
    "start_time": "2024-03-31T17:18:05.717Z"
   },
   {
    "duration": 0,
    "start_time": "2024-03-31T17:18:05.758Z"
   },
   {
    "duration": 0,
    "start_time": "2024-03-31T17:18:05.760Z"
   },
   {
    "duration": 0,
    "start_time": "2024-03-31T17:18:05.761Z"
   },
   {
    "duration": 0,
    "start_time": "2024-03-31T17:18:05.762Z"
   },
   {
    "duration": 0,
    "start_time": "2024-03-31T17:18:05.763Z"
   },
   {
    "duration": 0,
    "start_time": "2024-03-31T17:18:05.765Z"
   },
   {
    "duration": 0,
    "start_time": "2024-03-31T17:18:05.766Z"
   },
   {
    "duration": 0,
    "start_time": "2024-03-31T17:18:05.767Z"
   },
   {
    "duration": 0,
    "start_time": "2024-03-31T17:18:05.769Z"
   },
   {
    "duration": 0,
    "start_time": "2024-03-31T17:18:05.769Z"
   },
   {
    "duration": 0,
    "start_time": "2024-03-31T17:18:05.771Z"
   },
   {
    "duration": 0,
    "start_time": "2024-03-31T17:18:05.772Z"
   },
   {
    "duration": 0,
    "start_time": "2024-03-31T17:18:05.773Z"
   },
   {
    "duration": 0,
    "start_time": "2024-03-31T17:18:05.774Z"
   },
   {
    "duration": 0,
    "start_time": "2024-03-31T17:18:05.775Z"
   },
   {
    "duration": 0,
    "start_time": "2024-03-31T17:18:05.775Z"
   },
   {
    "duration": 0,
    "start_time": "2024-03-31T17:18:05.777Z"
   },
   {
    "duration": 0,
    "start_time": "2024-03-31T17:18:05.778Z"
   },
   {
    "duration": 0,
    "start_time": "2024-03-31T17:18:05.779Z"
   },
   {
    "duration": 1,
    "start_time": "2024-03-31T17:18:05.779Z"
   },
   {
    "duration": 0,
    "start_time": "2024-03-31T17:18:05.780Z"
   },
   {
    "duration": 0,
    "start_time": "2024-03-31T17:18:05.782Z"
   },
   {
    "duration": 0,
    "start_time": "2024-03-31T17:18:05.782Z"
   },
   {
    "duration": 0,
    "start_time": "2024-03-31T17:18:05.783Z"
   },
   {
    "duration": 1151,
    "start_time": "2024-03-31T17:19:38.062Z"
   },
   {
    "duration": 53,
    "start_time": "2024-03-31T17:19:39.215Z"
   },
   {
    "duration": 18,
    "start_time": "2024-03-31T17:19:39.270Z"
   },
   {
    "duration": 15,
    "start_time": "2024-03-31T17:19:39.290Z"
   },
   {
    "duration": 3,
    "start_time": "2024-03-31T17:19:39.307Z"
   },
   {
    "duration": 13,
    "start_time": "2024-03-31T17:19:39.312Z"
   },
   {
    "duration": 18,
    "start_time": "2024-03-31T17:19:39.326Z"
   },
   {
    "duration": 18,
    "start_time": "2024-03-31T17:19:39.345Z"
   },
   {
    "duration": 13,
    "start_time": "2024-03-31T17:19:39.365Z"
   },
   {
    "duration": 18,
    "start_time": "2024-03-31T17:19:39.380Z"
   },
   {
    "duration": 10,
    "start_time": "2024-03-31T17:19:39.400Z"
   },
   {
    "duration": 20,
    "start_time": "2024-03-31T17:19:39.412Z"
   },
   {
    "duration": 8,
    "start_time": "2024-03-31T17:19:39.434Z"
   },
   {
    "duration": 9,
    "start_time": "2024-03-31T17:19:39.458Z"
   },
   {
    "duration": 5,
    "start_time": "2024-03-31T17:19:39.468Z"
   },
   {
    "duration": 12,
    "start_time": "2024-03-31T17:19:39.475Z"
   },
   {
    "duration": 6,
    "start_time": "2024-03-31T17:19:39.488Z"
   },
   {
    "duration": 13,
    "start_time": "2024-03-31T17:19:39.495Z"
   },
   {
    "duration": 14,
    "start_time": "2024-03-31T17:19:39.509Z"
   },
   {
    "duration": 34,
    "start_time": "2024-03-31T17:19:39.525Z"
   },
   {
    "duration": 10,
    "start_time": "2024-03-31T17:19:39.561Z"
   },
   {
    "duration": 14,
    "start_time": "2024-03-31T17:19:39.572Z"
   },
   {
    "duration": 33,
    "start_time": "2024-03-31T17:19:39.588Z"
   },
   {
    "duration": 5,
    "start_time": "2024-03-31T17:19:39.623Z"
   },
   {
    "duration": 6,
    "start_time": "2024-03-31T17:19:39.630Z"
   },
   {
    "duration": 25,
    "start_time": "2024-03-31T17:19:39.637Z"
   },
   {
    "duration": 21,
    "start_time": "2024-03-31T17:19:39.663Z"
   },
   {
    "duration": 12,
    "start_time": "2024-03-31T17:19:39.685Z"
   },
   {
    "duration": 4,
    "start_time": "2024-03-31T17:19:39.699Z"
   },
   {
    "duration": 16,
    "start_time": "2024-03-31T17:19:39.704Z"
   },
   {
    "duration": 198,
    "start_time": "2024-03-31T17:19:39.721Z"
   },
   {
    "duration": 5,
    "start_time": "2024-03-31T17:19:39.920Z"
   },
   {
    "duration": 4,
    "start_time": "2024-03-31T17:19:39.927Z"
   },
   {
    "duration": 30,
    "start_time": "2024-03-31T17:19:39.933Z"
   },
   {
    "duration": 755,
    "start_time": "2024-03-31T17:19:39.964Z"
   },
   {
    "duration": 22,
    "start_time": "2024-03-31T17:19:40.721Z"
   },
   {
    "duration": 20,
    "start_time": "2024-03-31T17:19:40.744Z"
   },
   {
    "duration": 154,
    "start_time": "2024-03-31T17:19:40.766Z"
   },
   {
    "duration": 8,
    "start_time": "2024-03-31T17:19:40.922Z"
   },
   {
    "duration": 17,
    "start_time": "2024-03-31T17:19:40.931Z"
   },
   {
    "duration": 16,
    "start_time": "2024-03-31T17:19:40.960Z"
   },
   {
    "duration": 1219,
    "start_time": "2024-03-31T17:19:40.977Z"
   },
   {
    "duration": 297,
    "start_time": "2024-03-31T17:19:42.198Z"
   },
   {
    "duration": 7,
    "start_time": "2024-03-31T17:19:42.496Z"
   },
   {
    "duration": 20,
    "start_time": "2024-03-31T17:19:42.504Z"
   },
   {
    "duration": 165,
    "start_time": "2024-03-31T17:19:42.526Z"
   },
   {
    "duration": 157,
    "start_time": "2024-03-31T17:19:42.693Z"
   },
   {
    "duration": 10,
    "start_time": "2024-03-31T17:19:42.851Z"
   },
   {
    "duration": 19,
    "start_time": "2024-03-31T17:19:42.863Z"
   },
   {
    "duration": 153,
    "start_time": "2024-03-31T17:19:42.884Z"
   },
   {
    "duration": 156,
    "start_time": "2024-03-31T17:19:43.039Z"
   },
   {
    "duration": 6,
    "start_time": "2024-03-31T17:19:43.197Z"
   },
   {
    "duration": 17,
    "start_time": "2024-03-31T17:19:43.204Z"
   },
   {
    "duration": 198,
    "start_time": "2024-03-31T17:19:43.222Z"
   },
   {
    "duration": 186,
    "start_time": "2024-03-31T17:19:43.421Z"
   },
   {
    "duration": 149,
    "start_time": "2024-03-31T17:19:43.608Z"
   },
   {
    "duration": 150,
    "start_time": "2024-03-31T17:19:43.759Z"
   },
   {
    "duration": 16,
    "start_time": "2024-03-31T17:19:43.911Z"
   },
   {
    "duration": 162,
    "start_time": "2024-03-31T17:19:43.929Z"
   },
   {
    "duration": 248,
    "start_time": "2024-03-31T17:19:44.093Z"
   },
   {
    "duration": 28,
    "start_time": "2024-03-31T17:19:44.342Z"
   },
   {
    "duration": 161,
    "start_time": "2024-03-31T17:19:44.372Z"
   },
   {
    "duration": 187,
    "start_time": "2024-03-31T17:19:44.535Z"
   },
   {
    "duration": 120,
    "start_time": "2024-03-31T17:19:44.724Z"
   },
   {
    "duration": 114,
    "start_time": "2024-03-31T17:19:44.845Z"
   },
   {
    "duration": 121,
    "start_time": "2024-03-31T17:19:44.960Z"
   },
   {
    "duration": 8,
    "start_time": "2024-03-31T17:19:45.083Z"
   },
   {
    "duration": 46,
    "start_time": "2024-03-31T17:19:45.093Z"
   },
   {
    "duration": 16,
    "start_time": "2024-03-31T17:19:45.142Z"
   },
   {
    "duration": 27,
    "start_time": "2024-03-31T17:19:45.160Z"
   },
   {
    "duration": 275,
    "start_time": "2024-03-31T17:25:30.674Z"
   },
   {
    "duration": 275,
    "start_time": "2024-03-31T17:25:50.387Z"
   },
   {
    "duration": 66,
    "start_time": "2024-03-31T17:38:01.490Z"
   },
   {
    "duration": 181,
    "start_time": "2024-03-31T17:43:12.991Z"
   },
   {
    "duration": 304,
    "start_time": "2024-03-31T17:43:44.014Z"
   },
   {
    "duration": 50,
    "start_time": "2024-03-31T17:47:33.770Z"
   },
   {
    "duration": 142,
    "start_time": "2024-03-31T17:48:24.442Z"
   },
   {
    "duration": 56,
    "start_time": "2024-03-31T17:58:26.474Z"
   },
   {
    "duration": 102,
    "start_time": "2024-03-31T17:58:38.990Z"
   },
   {
    "duration": 11,
    "start_time": "2024-03-31T17:58:53.115Z"
   },
   {
    "duration": 661,
    "start_time": "2024-03-31T17:58:56.575Z"
   },
   {
    "duration": 13,
    "start_time": "2024-03-31T17:59:17.523Z"
   },
   {
    "duration": 12,
    "start_time": "2024-03-31T17:59:23.272Z"
   },
   {
    "duration": 12,
    "start_time": "2024-03-31T18:00:11.423Z"
   },
   {
    "duration": 10,
    "start_time": "2024-03-31T18:00:31.347Z"
   },
   {
    "duration": 10,
    "start_time": "2024-03-31T18:00:37.135Z"
   },
   {
    "duration": 10,
    "start_time": "2024-03-31T18:01:48.779Z"
   },
   {
    "duration": 657,
    "start_time": "2024-03-31T18:03:24.799Z"
   },
   {
    "duration": 11,
    "start_time": "2024-03-31T18:03:32.344Z"
   },
   {
    "duration": 17,
    "start_time": "2024-03-31T18:04:05.708Z"
   },
   {
    "duration": 10,
    "start_time": "2024-03-31T18:04:10.026Z"
   },
   {
    "duration": 6,
    "start_time": "2024-03-31T18:04:15.902Z"
   },
   {
    "duration": 6,
    "start_time": "2024-03-31T18:04:19.363Z"
   },
   {
    "duration": 11,
    "start_time": "2024-03-31T18:04:20.680Z"
   },
   {
    "duration": 5,
    "start_time": "2024-03-31T18:04:20.896Z"
   },
   {
    "duration": 6,
    "start_time": "2024-03-31T18:06:40.673Z"
   },
   {
    "duration": 7,
    "start_time": "2024-03-31T18:09:45.775Z"
   },
   {
    "duration": 5,
    "start_time": "2024-03-31T18:09:46.796Z"
   },
   {
    "duration": 1087,
    "start_time": "2024-03-31T18:09:57.972Z"
   },
   {
    "duration": 56,
    "start_time": "2024-03-31T18:09:59.061Z"
   },
   {
    "duration": 19,
    "start_time": "2024-03-31T18:09:59.118Z"
   },
   {
    "duration": 17,
    "start_time": "2024-03-31T18:09:59.139Z"
   },
   {
    "duration": 3,
    "start_time": "2024-03-31T18:09:59.159Z"
   },
   {
    "duration": 19,
    "start_time": "2024-03-31T18:09:59.164Z"
   },
   {
    "duration": 10,
    "start_time": "2024-03-31T18:09:59.185Z"
   },
   {
    "duration": 5,
    "start_time": "2024-03-31T18:09:59.197Z"
   },
   {
    "duration": 10,
    "start_time": "2024-03-31T18:09:59.204Z"
   },
   {
    "duration": 24,
    "start_time": "2024-03-31T18:09:59.216Z"
   },
   {
    "duration": 21,
    "start_time": "2024-03-31T18:09:59.241Z"
   },
   {
    "duration": 23,
    "start_time": "2024-03-31T18:09:59.264Z"
   },
   {
    "duration": 18,
    "start_time": "2024-03-31T18:09:59.289Z"
   },
   {
    "duration": 24,
    "start_time": "2024-03-31T18:09:59.308Z"
   },
   {
    "duration": 20,
    "start_time": "2024-03-31T18:09:59.333Z"
   },
   {
    "duration": 9,
    "start_time": "2024-03-31T18:09:59.355Z"
   },
   {
    "duration": 38,
    "start_time": "2024-03-31T18:09:59.365Z"
   },
   {
    "duration": 25,
    "start_time": "2024-03-31T18:09:59.404Z"
   },
   {
    "duration": 21,
    "start_time": "2024-03-31T18:09:59.431Z"
   },
   {
    "duration": 12,
    "start_time": "2024-03-31T18:09:59.454Z"
   },
   {
    "duration": 7,
    "start_time": "2024-03-31T18:09:59.468Z"
   },
   {
    "duration": 11,
    "start_time": "2024-03-31T18:09:59.477Z"
   },
   {
    "duration": 6,
    "start_time": "2024-03-31T18:09:59.490Z"
   },
   {
    "duration": 4,
    "start_time": "2024-03-31T18:09:59.498Z"
   },
   {
    "duration": 9,
    "start_time": "2024-03-31T18:09:59.504Z"
   },
   {
    "duration": 26,
    "start_time": "2024-03-31T18:09:59.515Z"
   },
   {
    "duration": 26,
    "start_time": "2024-03-31T18:09:59.543Z"
   },
   {
    "duration": 12,
    "start_time": "2024-03-31T18:09:59.573Z"
   },
   {
    "duration": 4,
    "start_time": "2024-03-31T18:09:59.586Z"
   },
   {
    "duration": 17,
    "start_time": "2024-03-31T18:09:59.592Z"
   },
   {
    "duration": 198,
    "start_time": "2024-03-31T18:09:59.611Z"
   },
   {
    "duration": 5,
    "start_time": "2024-03-31T18:09:59.810Z"
   },
   {
    "duration": 5,
    "start_time": "2024-03-31T18:09:59.817Z"
   },
   {
    "duration": 36,
    "start_time": "2024-03-31T18:09:59.823Z"
   },
   {
    "duration": 732,
    "start_time": "2024-03-31T18:09:59.861Z"
   },
   {
    "duration": 23,
    "start_time": "2024-03-31T18:10:00.595Z"
   },
   {
    "duration": 37,
    "start_time": "2024-03-31T18:10:00.620Z"
   },
   {
    "duration": 236,
    "start_time": "2024-03-31T18:10:00.659Z"
   },
   {
    "duration": 51,
    "start_time": "2024-03-31T18:10:00.896Z"
   },
   {
    "duration": 199,
    "start_time": "2024-03-31T18:10:00.949Z"
   },
   {
    "duration": 77,
    "start_time": "2024-03-31T18:10:01.149Z"
   },
   {
    "duration": 1272,
    "start_time": "2024-03-31T18:10:01.228Z"
   },
   {
    "duration": 280,
    "start_time": "2024-03-31T18:10:02.502Z"
   },
   {
    "duration": 6,
    "start_time": "2024-03-31T18:10:02.784Z"
   },
   {
    "duration": 37,
    "start_time": "2024-03-31T18:10:02.792Z"
   },
   {
    "duration": 163,
    "start_time": "2024-03-31T18:10:02.831Z"
   },
   {
    "duration": 152,
    "start_time": "2024-03-31T18:10:02.996Z"
   },
   {
    "duration": 9,
    "start_time": "2024-03-31T18:10:03.149Z"
   },
   {
    "duration": 16,
    "start_time": "2024-03-31T18:10:03.160Z"
   },
   {
    "duration": 153,
    "start_time": "2024-03-31T18:10:03.177Z"
   },
   {
    "duration": 170,
    "start_time": "2024-03-31T18:10:03.332Z"
   },
   {
    "duration": 6,
    "start_time": "2024-03-31T18:10:03.504Z"
   },
   {
    "duration": 48,
    "start_time": "2024-03-31T18:10:03.511Z"
   },
   {
    "duration": 188,
    "start_time": "2024-03-31T18:10:03.561Z"
   },
   {
    "duration": 184,
    "start_time": "2024-03-31T18:10:03.751Z"
   },
   {
    "duration": 205,
    "start_time": "2024-03-31T18:10:03.936Z"
   },
   {
    "duration": 147,
    "start_time": "2024-03-31T18:10:04.143Z"
   },
   {
    "duration": 149,
    "start_time": "2024-03-31T18:10:04.291Z"
   },
   {
    "duration": 33,
    "start_time": "2024-03-31T18:10:04.441Z"
   },
   {
    "duration": 239,
    "start_time": "2024-03-31T18:10:04.476Z"
   },
   {
    "duration": 162,
    "start_time": "2024-03-31T18:10:04.716Z"
   },
   {
    "duration": 15,
    "start_time": "2024-03-31T18:10:04.880Z"
   },
   {
    "duration": 146,
    "start_time": "2024-03-31T18:10:04.897Z"
   },
   {
    "duration": 171,
    "start_time": "2024-03-31T18:10:05.044Z"
   },
   {
    "duration": 112,
    "start_time": "2024-03-31T18:10:05.217Z"
   },
   {
    "duration": 110,
    "start_time": "2024-03-31T18:10:05.331Z"
   },
   {
    "duration": 116,
    "start_time": "2024-03-31T18:10:05.443Z"
   },
   {
    "duration": 7,
    "start_time": "2024-03-31T18:10:05.560Z"
   },
   {
    "duration": 22,
    "start_time": "2024-03-31T18:10:05.569Z"
   },
   {
    "duration": 13,
    "start_time": "2024-03-31T18:10:05.593Z"
   },
   {
    "duration": 7,
    "start_time": "2024-03-31T18:10:05.608Z"
   },
   {
    "duration": 54,
    "start_time": "2024-03-31T18:10:05.616Z"
   },
   {
    "duration": 50,
    "start_time": "2024-03-31T18:18:21.871Z"
   },
   {
    "duration": 128,
    "start_time": "2024-03-31T18:23:23.086Z"
   },
   {
    "duration": 21,
    "start_time": "2024-03-31T18:23:38.319Z"
   },
   {
    "duration": 56,
    "start_time": "2024-03-31T18:24:09.641Z"
   },
   {
    "duration": 2,
    "start_time": "2024-03-31T18:24:13.862Z"
   },
   {
    "duration": 23,
    "start_time": "2024-03-31T18:25:16.220Z"
   },
   {
    "duration": 26,
    "start_time": "2024-03-31T18:25:23.846Z"
   },
   {
    "duration": 27,
    "start_time": "2024-03-31T18:25:37.316Z"
   },
   {
    "duration": 361,
    "start_time": "2024-03-31T18:26:14.604Z"
   },
   {
    "duration": 124,
    "start_time": "2024-03-31T18:26:28.497Z"
   },
   {
    "duration": 407,
    "start_time": "2024-03-31T18:26:37.167Z"
   },
   {
    "duration": 520,
    "start_time": "2024-03-31T18:27:51.380Z"
   },
   {
    "duration": 510,
    "start_time": "2024-03-31T18:28:01.498Z"
   },
   {
    "duration": 377,
    "start_time": "2024-03-31T18:28:16.571Z"
   },
   {
    "duration": 384,
    "start_time": "2024-03-31T18:28:20.559Z"
   },
   {
    "duration": 379,
    "start_time": "2024-03-31T18:28:45.820Z"
   },
   {
    "duration": 590,
    "start_time": "2024-03-31T18:28:54.623Z"
   },
   {
    "duration": 415,
    "start_time": "2024-03-31T18:29:01.067Z"
   },
   {
    "duration": 387,
    "start_time": "2024-03-31T18:29:45.344Z"
   },
   {
    "duration": 427,
    "start_time": "2024-03-31T18:30:31.666Z"
   },
   {
    "duration": 408,
    "start_time": "2024-03-31T18:30:40.654Z"
   },
   {
    "duration": 186,
    "start_time": "2024-03-31T18:31:17.278Z"
   },
   {
    "duration": 72,
    "start_time": "2024-03-31T18:31:33.733Z"
   },
   {
    "duration": 415,
    "start_time": "2024-03-31T18:31:36.664Z"
   },
   {
    "duration": 491,
    "start_time": "2024-03-31T18:31:42.737Z"
   },
   {
    "duration": 83,
    "start_time": "2024-03-31T18:32:25.271Z"
   },
   {
    "duration": 53,
    "start_time": "2024-03-31T18:37:33.342Z"
   },
   {
    "duration": 51,
    "start_time": "2024-03-31T18:53:28.965Z"
   },
   {
    "duration": 1140,
    "start_time": "2024-03-31T18:59:23.486Z"
   },
   {
    "duration": 56,
    "start_time": "2024-03-31T18:59:24.628Z"
   },
   {
    "duration": 19,
    "start_time": "2024-03-31T18:59:24.685Z"
   },
   {
    "duration": 14,
    "start_time": "2024-03-31T18:59:24.706Z"
   },
   {
    "duration": 3,
    "start_time": "2024-03-31T18:59:24.722Z"
   },
   {
    "duration": 34,
    "start_time": "2024-03-31T18:59:24.727Z"
   },
   {
    "duration": 8,
    "start_time": "2024-03-31T18:59:24.763Z"
   },
   {
    "duration": 5,
    "start_time": "2024-03-31T18:59:24.772Z"
   },
   {
    "duration": 8,
    "start_time": "2024-03-31T18:59:24.779Z"
   },
   {
    "duration": 13,
    "start_time": "2024-03-31T18:59:24.789Z"
   },
   {
    "duration": 9,
    "start_time": "2024-03-31T18:59:24.803Z"
   },
   {
    "duration": 51,
    "start_time": "2024-03-31T18:59:24.814Z"
   },
   {
    "duration": 6,
    "start_time": "2024-03-31T18:59:24.866Z"
   },
   {
    "duration": 9,
    "start_time": "2024-03-31T18:59:24.873Z"
   },
   {
    "duration": 8,
    "start_time": "2024-03-31T18:59:24.884Z"
   },
   {
    "duration": 7,
    "start_time": "2024-03-31T18:59:24.894Z"
   },
   {
    "duration": 15,
    "start_time": "2024-03-31T18:59:24.903Z"
   },
   {
    "duration": 11,
    "start_time": "2024-03-31T18:59:24.920Z"
   },
   {
    "duration": 21,
    "start_time": "2024-03-31T18:59:24.959Z"
   },
   {
    "duration": 12,
    "start_time": "2024-03-31T18:59:24.981Z"
   },
   {
    "duration": 8,
    "start_time": "2024-03-31T18:59:24.995Z"
   },
   {
    "duration": 9,
    "start_time": "2024-03-31T18:59:25.004Z"
   },
   {
    "duration": 8,
    "start_time": "2024-03-31T18:59:25.015Z"
   },
   {
    "duration": 35,
    "start_time": "2024-03-31T18:59:25.026Z"
   },
   {
    "duration": 5,
    "start_time": "2024-03-31T18:59:25.063Z"
   },
   {
    "duration": 12,
    "start_time": "2024-03-31T18:59:25.070Z"
   },
   {
    "duration": 20,
    "start_time": "2024-03-31T18:59:25.083Z"
   },
   {
    "duration": 20,
    "start_time": "2024-03-31T18:59:25.107Z"
   },
   {
    "duration": 32,
    "start_time": "2024-03-31T18:59:25.129Z"
   },
   {
    "duration": 23,
    "start_time": "2024-03-31T18:59:25.163Z"
   },
   {
    "duration": 172,
    "start_time": "2024-03-31T18:59:25.188Z"
   },
   {
    "duration": 6,
    "start_time": "2024-03-31T18:59:25.361Z"
   },
   {
    "duration": 4,
    "start_time": "2024-03-31T18:59:25.368Z"
   },
   {
    "duration": 13,
    "start_time": "2024-03-31T18:59:25.374Z"
   },
   {
    "duration": 730,
    "start_time": "2024-03-31T18:59:25.388Z"
   },
   {
    "duration": 23,
    "start_time": "2024-03-31T18:59:26.119Z"
   },
   {
    "duration": 21,
    "start_time": "2024-03-31T18:59:26.144Z"
   },
   {
    "duration": 159,
    "start_time": "2024-03-31T18:59:26.166Z"
   },
   {
    "duration": 8,
    "start_time": "2024-03-31T18:59:26.326Z"
   },
   {
    "duration": 19,
    "start_time": "2024-03-31T18:59:26.336Z"
   },
   {
    "duration": 27,
    "start_time": "2024-03-31T18:59:26.359Z"
   },
   {
    "duration": 473,
    "start_time": "2024-03-31T18:59:26.387Z"
   },
   {
    "duration": 372,
    "start_time": "2024-03-31T18:59:26.861Z"
   },
   {
    "duration": 6,
    "start_time": "2024-03-31T18:59:27.235Z"
   },
   {
    "duration": 22,
    "start_time": "2024-03-31T18:59:27.242Z"
   },
   {
    "duration": 148,
    "start_time": "2024-03-31T18:59:27.265Z"
   },
   {
    "duration": 154,
    "start_time": "2024-03-31T18:59:27.414Z"
   },
   {
    "duration": 6,
    "start_time": "2024-03-31T18:59:27.569Z"
   },
   {
    "duration": 33,
    "start_time": "2024-03-31T18:59:27.577Z"
   },
   {
    "duration": 150,
    "start_time": "2024-03-31T18:59:27.612Z"
   },
   {
    "duration": 147,
    "start_time": "2024-03-31T18:59:27.763Z"
   },
   {
    "duration": 6,
    "start_time": "2024-03-31T18:59:27.911Z"
   },
   {
    "duration": 12,
    "start_time": "2024-03-31T18:59:27.919Z"
   },
   {
    "duration": 193,
    "start_time": "2024-03-31T18:59:27.933Z"
   },
   {
    "duration": 182,
    "start_time": "2024-03-31T18:59:28.127Z"
   },
   {
    "duration": 185,
    "start_time": "2024-03-31T18:59:28.311Z"
   },
   {
    "duration": 143,
    "start_time": "2024-03-31T18:59:28.498Z"
   },
   {
    "duration": 143,
    "start_time": "2024-03-31T18:59:28.643Z"
   },
   {
    "duration": 17,
    "start_time": "2024-03-31T18:59:28.788Z"
   },
   {
    "duration": 153,
    "start_time": "2024-03-31T18:59:28.807Z"
   },
   {
    "duration": 158,
    "start_time": "2024-03-31T18:59:28.962Z"
   },
   {
    "duration": 16,
    "start_time": "2024-03-31T18:59:29.122Z"
   },
   {
    "duration": 217,
    "start_time": "2024-03-31T18:59:29.140Z"
   },
   {
    "duration": 140,
    "start_time": "2024-03-31T18:59:29.359Z"
   },
   {
    "duration": 106,
    "start_time": "2024-03-31T18:59:29.500Z"
   },
   {
    "duration": 102,
    "start_time": "2024-03-31T18:59:29.607Z"
   },
   {
    "duration": 111,
    "start_time": "2024-03-31T18:59:29.710Z"
   },
   {
    "duration": 6,
    "start_time": "2024-03-31T18:59:29.823Z"
   },
   {
    "duration": 7,
    "start_time": "2024-03-31T18:59:29.830Z"
   },
   {
    "duration": 23,
    "start_time": "2024-03-31T18:59:29.838Z"
   },
   {
    "duration": 6,
    "start_time": "2024-03-31T18:59:29.863Z"
   }
  ],
  "kernelspec": {
   "display_name": "Python 3 (ipykernel)",
   "language": "python",
   "name": "python3"
  },
  "language_info": {
   "codemirror_mode": {
    "name": "ipython",
    "version": 3
   },
   "file_extension": ".py",
   "mimetype": "text/x-python",
   "name": "python",
   "nbconvert_exporter": "python",
   "pygments_lexer": "ipython3",
   "version": "3.11.7"
  },
  "toc": {
   "base_numbering": 1,
   "nav_menu": {},
   "number_sections": true,
   "sideBar": true,
   "skip_h1_title": true,
   "title_cell": "Table of Contents",
   "title_sidebar": "Contents",
   "toc_cell": false,
   "toc_position": {},
   "toc_section_display": true,
   "toc_window_display": false
  }
 },
 "nbformat": 4,
 "nbformat_minor": 4
}
